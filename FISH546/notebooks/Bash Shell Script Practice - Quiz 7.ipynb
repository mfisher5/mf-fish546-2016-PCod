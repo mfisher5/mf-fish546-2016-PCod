{
 "cells": [
  {
   "cell_type": "markdown",
   "metadata": {},
   "source": [
    "## Shell script in Bash\n",
    "\n",
    "### 12/1/2016\n",
    "\n",
    "This is a shell script written in bash that can be used to count the number of sequences in gzipped fastq or fasta files (which would be raw RADseq data OR demultiplexed and filtered RADseq data from `process_radtags`). For my data analysis, I need to count the reads produced per individual after `process_radtags` so that I can use the individuals with the greatest read depths for `cstacks` catalog creation. \n",
    "\n",
    "This bash script must be run from the root directory; the path to the subdirectory with the fastq/fasta files is specified at the command line when prompted, as part of the script. \n",
    "\n",
    "\n",
    "Here is a link to the [Bash Script](https://github.com/mfisher5/mf-fish546-2016/blob/master/FISH546_BASHscript.sh)"
   ]
  },
  {
   "cell_type": "code",
   "execution_count": 1,
   "metadata": {
    "collapsed": false
   },
   "outputs": [
    {
     "data": {
      "text/plain": [
       "u'/mnt/hgfs/Pacific cod/DataAnalysis/mf-fish546-2016/notebooks'"
      ]
     },
     "execution_count": 1,
     "metadata": {},
     "output_type": "execute_result"
    }
   ],
   "source": [
    "pwd"
   ]
  },
  {
   "cell_type": "code",
   "execution_count": 2,
   "metadata": {
    "collapsed": false
   },
   "outputs": [
    {
     "name": "stdout",
     "output_type": "stream",
     "text": [
      "/mnt/hgfs/Pacific cod/DataAnalysis\n"
     ]
    }
   ],
   "source": [
    "cd ../../"
   ]
  },
  {
   "cell_type": "markdown",
   "metadata": {},
   "source": [
    "To give an idea of what the shell script looks like: "
   ]
  },
  {
   "cell_type": "code",
   "execution_count": 8,
   "metadata": {
    "collapsed": false,
    "scrolled": true
   },
   "outputs": [
    {
     "name": "stdout",
     "output_type": "stream",
     "text": [
      "#!/bin/bash\r",
      "\r\n",
      "\r",
      "\r\n",
      "##### This shell script will count the number of sequences in gzipped fastq OR fasta files (raw data + post process_radtags) #####\r",
      "\r\n",
      "## M. Fisher 12/1/2016 ##\r",
      "\r\n",
      "## Starting within the file directory `DataAnalysis` ##\r",
      "\r\n",
      "\r",
      "\r\n",
      "#Set Variables\r",
      "\r\n",
      "POST_DATE=$(date '+%Y-%m-%d') #find the date and save as POST_DATE\r",
      "\r\n",
      "OUTPUT_FILENAME=\"SequenceCounts.$POST_DATE.txt\" #create output file that contains the date\r",
      "\r\n",
      "\r",
      "\r\n",
      "\r",
      "\r\n",
      "#Ask for input from user\r",
      "\r\n",
      "echo \"Enter file directory. Note - must be subdirectory within current location ::\"\r",
      "\r\n",
      "read DIRECTORY \t\t#reads entry typed at command line as new variable \"DIRECTORY\"\r",
      "\r\n",
      "echo \"Is file type '.fa.gz' or '.fq.gz'?\"\r",
      "\r\n",
      "read FILE_TYPE \t\t#reads entry typed at command line as new variable \"FILE_TYPE\"\r",
      "\r\n",
      "echo \"--\"\r",
      "\r\n"
     ]
    }
   ],
   "source": [
    "!head -n 17 FISH546_BASHscript.sh"
   ]
  },
  {
   "cell_type": "code",
   "execution_count": null,
   "metadata": {
    "collapsed": true
   },
   "outputs": [],
   "source": [
    "#!/bin/bash\n",
    "\n",
    "##### This shell script will count the number of sequences in gzipped fastq OR fasta files (raw data + post process_radtags) #####\n",
    "## M. Fisher 12/1/2016 ##\n",
    "## Starting within the file directory `DataAnalysis` ##\n",
    "\n",
    "#Set Variables\n",
    "POST_DATE=$(date '+%Y-%m-%d') #find the date and save as POST_DATE\n",
    "OUTPUT_FILENAME=\"SequenceCounts.$POST_DATE.txt\" #create output file that contains the date\n",
    "\n",
    "\n",
    "#Ask for input from user\n",
    "echo \"Enter file directory. Note - must be subdirectory within current location ::\"\n",
    "read DIRECTORY \t\t#reads entry typed at command line as new variable \"DIRECTORY\"\n",
    "echo \"Is file type '.fa.gz' or '.fq.gz'?\"\n",
    "read FILE_TYPE \t\t#reads entry typed at command line as new variable \"FILE_TYPE\"\n",
    "echo \"--\"\n",
    "echo \"--\""
   ]
  },
  {
   "cell_type": "markdown",
   "metadata": {},
   "source": [
    "Now to run the shell script... \n",
    "\n",
    "**(1) On gzipped Fasta files**"
   ]
  },
  {
   "cell_type": "code",
   "execution_count": 13,
   "metadata": {
    "collapsed": false
   },
   "outputs": [],
   "source": [
    "!chmod +x FISH546_BASHscript.sh"
   ]
  },
  {
   "cell_type": "code",
   "execution_count": 17,
   "metadata": {
    "collapsed": false
   },
   "outputs": [
    {
     "name": "stdout",
     "output_type": "stream",
     "text": [
      "FISH546_BASHscript.sh: line 2: $'\\r': command not found\n",
      "FISH546_BASHscript.sh: line 6: $'\\r': command not found\n",
      "FISH546_BASHscript.sh: line 10: $'\\r': command not found\n",
      "FISH546_BASHscript.sh: line 11: $'\\r': command not found\n",
      "Enter file directory. Note - must be subdirectory within current location ::\n",
      "^C\n"
     ]
    }
   ],
   "source": [
    "!bash FISH546_BASHscript.sh"
   ]
  },
  {
   "cell_type": "markdown",
   "metadata": {
    "collapsed": true
   },
   "source": [
    "Unfortunately I cannot seem to run an interactive shell script from within jupyter. \n",
    "The script asks two questions -- \n",
    "\n",
    "`Enter file directory. Note - must be subdirectory within current location :: `\n",
    "\n",
    "`Is file type '.fa.gz' or '.fq.gz'?`\n",
    "\n",
    "Here is a screenshot of the output in terminal: "
   ]
  },
  {
   "cell_type": "markdown",
   "metadata": {},
   "source": [
    "![fasta](https://github.com/mfisher5/mf-fish546-2016/blob/master/Diagrams/BashScriptFASTA.png?raw=true)\n",
    "\n",
    "And a link to the original photo: \n",
    "\n",
    "[Fasta Terminal Output](https://github.com/mfisher5/mf-fish546-2016/blob/master/Diagrams/BashScriptFASTA.png)"
   ]
  },
  {
   "cell_type": "markdown",
   "metadata": {},
   "source": [
    "Once the program is done running through all of the files in that directory, I can also view the output in a text file that was saved in the specified folder. The name of the text file is printed out to the terminal. "
   ]
  },
  {
   "cell_type": "code",
   "execution_count": 2,
   "metadata": {
    "collapsed": false
   },
   "outputs": [
    {
     "name": "stdout",
     "output_type": "stream",
     "text": [
      "/mnt/hgfs/Pacific cod/DataAnalysis/samplesT142\n"
     ]
    }
   ],
   "source": [
    "cd ../../samplesT142"
   ]
  },
  {
   "cell_type": "code",
   "execution_count": 3,
   "metadata": {
    "collapsed": false
   },
   "outputs": [
    {
     "name": "stdout",
     "output_type": "stream",
     "text": [
      "./GE011215_01.1.fa.gz\r\n",
      "3807454\r\n",
      "./GE011215_07.1.fa.gz\r\n",
      "3631183\r\n",
      "./GE011215_08.1.fa.gz\r\n",
      "2076442\r\n",
      "./GE011215_09.1.fa.gz\r\n",
      "3758901\r\n",
      "./GE011215_10.1.fa.gz\r\n",
      "3440184\r\n"
     ]
    }
   ],
   "source": [
    "!head SequenceCounts.2016-12-01.txt"
   ]
  },
  {
   "cell_type": "markdown",
   "metadata": {},
   "source": [
    "**(2) On gzipped Fastq files**\n",
    "\n",
    "Note that the sequence counts output for fastq files are slightly different, because I am using code from Stephen Turner's github repo, [oneliners](https://github.com/stephenturner/oneliners/blob/40943e6cd4695f3c4d8a1b8d5e940b957e060c26/README.md#awk--sed-for-bioinformatics)\n",
    "\n",
    "The first number in the line under the file name is the total number of sequences. \n"
   ]
  },
  {
   "cell_type": "code",
   "execution_count": null,
   "metadata": {
    "collapsed": true
   },
   "outputs": [],
   "source": [
    "!bash FISH546_BASHscript.sh"
   ]
  },
  {
   "cell_type": "markdown",
   "metadata": {},
   "source": [
    "Screenshot of terminal"
   ]
  },
  {
   "cell_type": "markdown",
   "metadata": {},
   "source": [
    "![fastq](https://github.com/mfisher5/mf-fish546-2016/blob/master/Diagrams/BashScriptFASTQ.png?raw=true)\n",
    "\n",
    "And a link to the original picture: \n",
    "\n",
    "[Fastq terminal output](https://github.com/mfisher5/mf-fish546-2016/blob/master/Diagrams/BashScriptFASTQ.png)"
   ]
  },
  {
   "cell_type": "code",
   "execution_count": 3,
   "metadata": {
    "collapsed": false
   },
   "outputs": [
    {
     "name": "stdout",
     "output_type": "stream",
     "text": [
      "/mnt/hgfs/Pacific cod/DataAnalysis/L2samplesT142\n"
     ]
    }
   ],
   "source": [
    "cd ../L2samplesT142"
   ]
  },
  {
   "cell_type": "code",
   "execution_count": 4,
   "metadata": {
    "collapsed": false
   },
   "outputs": [
    {
     "name": "stdout",
     "output_type": "stream",
     "text": [
      "./BOR07_01.fq.gz\r\n",
      "  -nan   -nan\r\n",
      "./BOR07_03.fq.gz\r\n",
      "2968140 276502 9.31567 TGCAGGACTCATAGTGCTTGCTCACTTTAAGAAATACTAGAACACCACAGCCCCTCATTAGTACAGTGGTCAGTATCCATTGGCCATGCATGAAACCAGGAATGTGAAGATTCTTGGTTTAACTCAGTCCGAACGAAAAGAG 20471 0.689691\r\n",
      "./BOR07_09.fq.gz\r\n",
      "5769259 531199 9.2074 TGCAGGACTCATAGTGCTTGCTCACTTTAAGAAATACTAGAACACCACAGCCCCTCATTAGTACAGTGGTCAGTATCCATTGGCCATGCATGAAACCAGGAATGTGAAGATTCTTGGTTTAACTCAGTCCGAACGAAAAGAG 32744 0.56756\r\n",
      "./GE011215_18.fq.gz\r\n",
      "6852956 602505 8.7919 TGCAGGACTCATAGTGCTTGCTCACTTTAAGAAATACTAGAACACCACAGCCCCTCATTAGTACAGTGGTCAGTATCCATTGGCCATGCATGAAACCAGGAATGTGAAGATTCTTGGTTTAACTCAGTCCGAACGAAAAGAG 44328 0.646845\r\n",
      "./GE011215_19.fq.gz\r\n",
      "4019476 378982 9.42864 TGCAGGACTCATAGTGCTTGCTCACTTTAAGAAATACTAGAACACCACAGCCCCTCATTAGTACAGTGGTCAGTATCCATTGGCCATGCATGAAACCAGGAATGTGAAGATTCTTGGTTTAACTCAGTCCGAACGAAAAGAG 35823 0.891236\r\n"
     ]
    }
   ],
   "source": [
    "!head SequenceCounts.2016-12-01.txt"
   ]
  },
  {
   "cell_type": "markdown",
   "metadata": {},
   "source": [
    "*!!  Ignore the first file, BOR07_01.fq.gz. This is an empty file. *"
   ]
  },
  {
   "cell_type": "code",
   "execution_count": null,
   "metadata": {
    "collapsed": true
   },
   "outputs": [],
   "source": []
  }
 ],
 "metadata": {
  "anaconda-cloud": {},
  "kernelspec": {
   "display_name": "Python [default]",
   "language": "python",
   "name": "python2"
  },
  "language_info": {
   "codemirror_mode": {
    "name": "ipython",
    "version": 2
   },
   "file_extension": ".py",
   "mimetype": "text/x-python",
   "name": "python",
   "nbconvert_exporter": "python",
   "pygments_lexer": "ipython2",
   "version": "2.7.12"
  }
 },
 "nbformat": 4,
 "nbformat_minor": 1
}
