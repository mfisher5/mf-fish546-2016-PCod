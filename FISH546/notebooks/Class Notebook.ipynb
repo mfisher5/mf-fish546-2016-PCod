{
 "cells": [
  {
   "cell_type": "markdown",
   "metadata": {},
   "source": [
    "## 11.3.2016  miRNAs\n",
    "### Guest Lecture: Cristian \n",
    "\n",
    "70% of human genome transcribed\n",
    "\n",
    "(1) 1-2% into proteins\n",
    "\n",
    "(2) 98% non-coding RNA <----- what does it do? \n",
    "\n",
    "<br>\n",
    "Interesting metaphor - astronomy. proteins are the stars the \"darkness\" is the noncoding \n",
    "<br>\n",
    "<br>\n",
    "45% assembled contigs in salmon transcriptome can be annotated into known / putative / unnamed proteins\n",
    "\n",
    "55% remaining -- sequencing artifacts or key regulators\n",
    "\n",
    "miRNA - microRNA\n",
    "\n",
    "lncRNA - long non-coding RNA\n",
    "\n",
    "\n",
    "**lncRNA**\n",
    "\n",
    "similar to mRNA, but without an open reading frame\n",
    "\n",
    "may have promoters, enhancers\n",
    "\n",
    "last between 2 - 16 hours in the cell\n",
    "<br>\n",
    "<br>\n",
    "\n",
    "**microRNA**\n",
    "\n",
    "silences genes\n",
    "\n",
    "mutations in miRNA = disregulating = disease\n",
    "\n",
    "think of it as a primer that PREVENTS mRNA for certain proteins from being translated (by cutting or binding)\n",
    "\n",
    "some people looking at SNPs on microRNA to find genetic differentiation (?? individuals or populations ??)\n",
    "<br>\n",
    "<br>\n",
    "\n",
    "\n",
    "\n",
    "QUESTIONS: \n",
    "\n",
    "in salmon, does genome duplication affect workflow looking at ncRNAs?\n",
    "\n",
    "See last bullet miRNA"
   ]
  },
  {
   "cell_type": "markdown",
   "metadata": {
    "collapsed": true
   },
   "source": [
    "## 11.8.2016 DNA methylation\n",
    "\n",
    "invertebrates: similarity in parent-offspring methylation pairs\n",
    "\n",
    "methylation data visualization: [IGV](http://software.broadinstitute.org/software/igv/) (integrative genomics viewer)\n",
    "\n",
    "Differentially methylated loci tended to be in transposable elements rather than gene-encoding regions\n",
    "\n",
    "\n",
    "\"Transcriptional opportunities\" - \n",
    "- genes that do not have methylation are more likely to have sequence mutations\n",
    "- under a specific event, methylation can add or subtract which sequences are being transcribed\n",
    "- alternative transcripts through exon skipping: single change in DNA methylation can create a different gene product b/c of exon skipping (honeybees)\n",
    "\n",
    "in oysters: DECREASE in methylation during a stress event\n",
    "\n",
    "If methylation is TARGETED, it is arguably advantageous to be able to pass on that methylation pattern to the offspring. methylation is passed on through a different enzyme than DNA polymerase -- DNA Methyltransferase (not always copied when the genome is copied). In the mammalian system, most of the methylation changes in the parents get reset. \n",
    "\n",
    "Working with SQLShare: `Fasta2Slim` notebook (ESP. JOINING IN SQL SHARE)\n",
    "\n",
    "`pandas` package is like R in python\n",
    "\n",
    "Holly's research: \n",
    "Theory: Corals that have faced bleaching event / OA / high temperature once tend to respond better the second time. Is there a transgenerational methylation component that help plasticity in response? \n",
    "More environmentally sensitive species showed greater changes in growth and DNA methylation when exposed to OA. \n",
    "\n",
    "\n",
    "CpG observed / expected ratio: looking at the signitures of methylation to thymine. if something is consistently methylated over time, it will select for more TpG than CpG over time. Over time, this allows for a mutation in the genome sequence. ????\n",
    "\n",
    "Bisulfide treatment data"
   ]
  },
  {
   "cell_type": "markdown",
   "metadata": {
    "collapsed": true
   },
   "source": [
    "## Guest Lecture 11/10/2016\n",
    "### Mackenzie Gavery \n",
    "\n",
    "hatcheries --> epigenetic, heritable changes as a result of their environment? Including through methylation\n",
    "\n",
    "methylation is typically associated with gene silencing at the promoter sequences\n",
    "\n",
    "Epigenetics in Fish Research: better understanding functional genomic basis of phenotypes. \n",
    "- environmental sex determination (temp induced)\n",
    "- most studies require a draft genome\n",
    "- fin clips are not a biologically relevant tissue\n",
    "\n",
    "Measuring DNA methylation using high-throughput sequencing\n",
    "- RADseq: uses MSP enzyme b/c it tends to enrich for CG islands\n",
    "- MethylKit (r package with logistic regression)\n",
    "- MACAU (beta-binomial mixed model)\n",
    "- looking for CG in the sequence when treated with bisulfite \n",
    "- map methylation and genes to the same genome, and look for overlaps\n"
   ]
  },
  {
   "cell_type": "code",
   "execution_count": null,
   "metadata": {
    "collapsed": true
   },
   "outputs": [],
   "source": []
  }
 ],
 "metadata": {
  "anaconda-cloud": {},
  "kernelspec": {
   "display_name": "Python [default]",
   "language": "python",
   "name": "python2"
  },
  "language_info": {
   "codemirror_mode": {
    "name": "ipython",
    "version": 2
   },
   "file_extension": ".py",
   "mimetype": "text/x-python",
   "name": "python",
   "nbconvert_exporter": "python",
   "pygments_lexer": "ipython2",
   "version": "2.7.12"
  }
 },
 "nbformat": 4,
 "nbformat_minor": 1
}
