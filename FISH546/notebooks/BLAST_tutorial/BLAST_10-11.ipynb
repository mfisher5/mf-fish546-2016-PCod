{
 "cells": [
  {
   "cell_type": "markdown",
   "metadata": {},
   "source": [
    "## Working with BLAST using Web Data\n",
    "### Class Notes 10/11/2016"
   ]
  },
  {
   "cell_type": "code",
   "execution_count": 2,
   "metadata": {
    "collapsed": false
   },
   "outputs": [
    {
     "name": "stdout",
     "output_type": "stream",
     "text": [
      "/c/Users/mcfish/Documents/GitHub/mf-fish546-2016/notebooks/BLAST_tutorial\n"
     ]
    }
   ],
   "source": [
    "!pwd"
   ]
  },
  {
   "cell_type": "markdown",
   "metadata": {},
   "source": [
    "**Step One: download the data from the web**\n",
    "*When working with curl, you NEED to direct the file to a standard output*"
   ]
  },
  {
   "cell_type": "code",
   "execution_count": 6,
   "metadata": {
    "collapsed": false
   },
   "outputs": [
    {
     "name": "stderr",
     "output_type": "stream",
     "text": [
      "  % Total    % Received % Xferd  Average Speed   Time    Time     Time  Current\n",
      "                                 Dload  Upload   Total   Spent    Left  Speed\n",
      "\n",
      "  0     0    0     0    0     0      0      0 --:--:-- --:--:-- --:--:--     0\n",
      "  0  113M    0     0    0     0      0      0 --:--:-- --:--:-- --:--:--     0\n",
      "  5  113M    5 6070k    0     0  4004k      0  0:00:29  0:00:01  0:00:28 4004k\n",
      " 11  113M   11 12.9M    0     0  5259k      0  0:00:22  0:00:02  0:00:20 5259k\n",
      " 13  113M   13 15.6M    0     0  4221k      0  0:00:27  0:00:03  0:00:24 4221k\n",
      " 15  113M   15 17.0M    0     0  3864k      0  0:00:30  0:00:04  0:00:26 3864k\n",
      " 19  113M   19 22.2M    0     0  4124k      0  0:00:28  0:00:05  0:00:23 4666k\n",
      " 27  113M   27 31.2M    0     0  4904k      0  0:00:23  0:00:06  0:00:17 5177k\n",
      " 35  113M   35 40.3M    0     0  5497k      0  0:00:21  0:00:07  0:00:14 5616k\n",
      " 43  113M   43 49.3M    0     0  5921k      0  0:00:19  0:00:08  0:00:11 7284k\n",
      " 51  113M   51 58.1M    0     0  6258k      0  0:00:18  0:00:09  0:00:09 8421k\n",
      " 59  113M   59 67.2M    0     0  6552k      0  0:00:17  0:00:10  0:00:07 9232k\n",
      " 67  113M   67 76.6M    0     0  6813k      0  0:00:17  0:00:11  0:00:06 9301k\n",
      " 75  113M   75 85.9M    0     0  7029k      0  0:00:16  0:00:12  0:00:04 9331k\n",
      " 80  113M   80 91.5M    0     0  6937k      0  0:00:16  0:00:13  0:00:03 8676k\n",
      " 87  113M   87 99.0M    0     0  6611k      0  0:00:17  0:00:15  0:00:02 7187k\n",
      " 88  113M   88 99.9M    0     0  6598k      0  0:00:17  0:00:15  0:00:02 6694k\n",
      " 95  113M   95  108M    0     0  6743k      0  0:00:17  0:00:16  0:00:01 6580k\n",
      "100  113M  100  113M    0     0  6829k      0  0:00:17  0:00:17 --:--:-- 6273k\n"
     ]
    }
   ],
   "source": [
    "#curl source_url > relative_path\n",
    "!curl http://owl.fish.washington.edu/fish546/course-data/Oly-transcriptome-2k.fa > ../../data/Oly-transcriptome-2k.fa"
   ]
  },
  {
   "cell_type": "code",
   "execution_count": 9,
   "metadata": {
    "collapsed": false
   },
   "outputs": [
    {
     "name": "stderr",
     "output_type": "stream",
     "text": [
      "  % Total    % Received % Xferd  Average Speed   Time    Time     Time  Current\n",
      "                                 Dload  Upload   Total   Spent    Left  Speed\n",
      "\n",
      "  0     0    0     0    0     0      0      0 --:--:-- --:--:-- --:--:--     0\n",
      "  0     0    0     0    0     0      0      0 --:--:--  0:00:01 --:--:--     0\n",
      "  0  113M    0  204k    0     0   150k      0  0:12:53  0:00:01  0:12:52  150k\n",
      "  4  113M    4 5015k    0     0  2125k      0  0:00:54  0:00:02  0:00:52 2125k\n",
      "  8  113M    8 9479k    0     0  2821k      0  0:00:41  0:00:03  0:00:38 2821k\n",
      " 12  113M   12 14.1M    0     0  3322k      0  0:00:34  0:00:04  0:00:30 3322k\n",
      " 17  113M   17 19.6M    0     0  3752k      0  0:00:30  0:00:05  0:00:25 4876k\n",
      " 22  113M   22 25.4M    0     0  4100k      0  0:00:28  0:00:06  0:00:22 5175k\n",
      " 28  113M   28 32.2M    0     0  4485k      0  0:00:25  0:00:07  0:00:18 5599k\n",
      " 35  113M   35 40.2M    0     0  4930k      0  0:00:23  0:00:08  0:00:15 6348k\n",
      " 42  113M   42 47.9M    0     0  5250k      0  0:00:22  0:00:09  0:00:13 6930k\n",
      " 49  113M   49 56.6M    0     0  5601k      0  0:00:20  0:00:10  0:00:10 7583k\n",
      " 57  113M   57 65.3M    0     0  5894k      0  0:00:19  0:00:11  0:00:08 8176k\n",
      " 65  113M   65 74.2M    0     0  6153k      0  0:00:18  0:00:12  0:00:06 8607k\n",
      " 73  113M   73 83.2M    0     0  6382k      0  0:00:18  0:00:13  0:00:05 8809k\n",
      " 81  113M   81 92.0M    0     0  6566k      0  0:00:17  0:00:14  0:00:03 9030k\n",
      " 89  113M   89  101M    0     0  6738k      0  0:00:17  0:00:15  0:00:02 9093k\n",
      " 97  113M   97  110M    0     0  6890k      0  0:00:16  0:00:16 --:--:-- 9155k\n",
      "100  113M  100  113M    0     0  6957k      0  0:00:16  0:00:16 --:--:-- 9245k\n"
     ]
    }
   ],
   "source": [
    "#curl source_url > absolute path (begin with c:/Users/)\n",
    "!curl http://owl.fish.washington.edu/fish546/course-data/Oly-transcriptome-2k.fa > c:/Users/mcfish/Documents/GitHub/mf-fish546-2016/data/Oly-transcriptome-2k_2.fa"
   ]
  },
  {
   "cell_type": "code",
   "execution_count": 10,
   "metadata": {
    "collapsed": false
   },
   "outputs": [
    {
     "name": "stdout",
     "output_type": "stream",
     "text": [
      "C:\\Users\\mcfish\\Documents\\GitHub\\mf-fish546-2016\\notebooks\n"
     ]
    }
   ],
   "source": [
    "#when changing directories, don't use a \"!\"\n",
    "cd ../"
   ]
  },
  {
   "cell_type": "code",
   "execution_count": 11,
   "metadata": {
    "collapsed": false
   },
   "outputs": [
    {
     "name": "stdout",
     "output_type": "stream",
     "text": [
      "C:\\Users\\mcfish\\Documents\\GitHub\\mf-fish546-2016\\notebooks\\BLAST_tutorial\n"
     ]
    }
   ],
   "source": [
    "cd BLAST_tutorial"
   ]
  },
  {
   "cell_type": "code",
   "execution_count": 14,
   "metadata": {
    "collapsed": false
   },
   "outputs": [
    {
     "name": "stdout",
     "output_type": "stream",
     "text": [
      "C:\\Users\\mcfish\\Documents\\GitHub\\mf-fish546-2016\\notebooks\n"
     ]
    }
   ],
   "source": [
    "cd ../"
   ]
  },
  {
   "cell_type": "code",
   "execution_count": 15,
   "metadata": {
    "collapsed": false
   },
   "outputs": [
    {
     "name": "stdout",
     "output_type": "stream",
     "text": [
      "C:\\Users\\mcfish\\Documents\\GitHub\\mf-fish546-2016\\data\n"
     ]
    }
   ],
   "source": [
    "cd ../data"
   ]
  },
  {
   "cell_type": "code",
   "execution_count": 16,
   "metadata": {
    "collapsed": false,
    "scrolled": true
   },
   "outputs": [
    {
     "name": "stdout",
     "output_type": "stream",
     "text": [
      "Oly-transcriptome-2k.fa\n",
      "Oly-transcriptome-2k_2.fa\n",
      "README.md\n"
     ]
    }
   ],
   "source": [
    "!ls"
   ]
  },
  {
   "cell_type": "code",
   "execution_count": 18,
   "metadata": {
    "collapsed": true
   },
   "outputs": [],
   "source": [
    "!rm Oly-transcriptome-2k_2.fa"
   ]
  },
  {
   "cell_type": "code",
   "execution_count": 19,
   "metadata": {
    "collapsed": false
   },
   "outputs": [
    {
     "name": "stdout",
     "output_type": "stream",
     "text": [
      "Oly-transcriptome-2k.fa\n",
      "README.md\n"
     ]
    }
   ],
   "source": [
    "!ls"
   ]
  },
  {
   "cell_type": "markdown",
   "metadata": {},
   "source": [
    "**Step two: inspect the data file**"
   ]
  },
  {
   "cell_type": "code",
   "execution_count": 21,
   "metadata": {
    "collapsed": false,
    "scrolled": true
   },
   "outputs": [
    {
     "name": "stdout",
     "output_type": "stream",
     "text": [
      "26482\n"
     ]
    }
   ],
   "source": [
    "# How many sequences are listed in the fasta file? \n",
    "!grep -c \">\" Oly-transcriptome-2k.fa"
   ]
  },
  {
   "cell_type": "markdown",
   "metadata": {},
   "source": [
    "**Step three: Download the latest uniprot data**\n",
    "\n",
    "\n",
    "[UniProt](http://www.uniprot.org/downloads) "
   ]
  },
  {
   "cell_type": "code",
   "execution_count": null,
   "metadata": {
    "collapsed": true
   },
   "outputs": [],
   "source": [
    "!curl ftp://ftp.uniprot.org/pub/databases/uniprot/current_release/knowledgebase/complete/uniprot_sprot.fasta.gz > uniprot_data.fasta.gz"
   ]
  },
  {
   "cell_type": "code",
   "execution_count": null,
   "metadata": {
    "collapsed": true
   },
   "outputs": [],
   "source": []
  }
 ],
 "metadata": {
  "anaconda-cloud": {},
  "kernelspec": {
   "display_name": "Python [default]",
   "language": "python",
   "name": "python2"
  },
  "language_info": {
   "codemirror_mode": {
    "name": "ipython",
    "version": 2
   },
   "file_extension": ".py",
   "mimetype": "text/x-python",
   "name": "python",
   "nbconvert_exporter": "python",
   "pygments_lexer": "ipython2",
   "version": "2.7.12"
  }
 },
 "nbformat": 4,
 "nbformat_minor": 1
}
