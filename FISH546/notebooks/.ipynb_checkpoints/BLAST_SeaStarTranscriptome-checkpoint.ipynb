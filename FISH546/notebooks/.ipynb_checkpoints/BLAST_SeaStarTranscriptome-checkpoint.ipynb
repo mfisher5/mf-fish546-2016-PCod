{
 "cells": [
  {
   "cell_type": "markdown",
   "metadata": {},
   "source": [
    "## Transcriptome BLAST ##\n",
    "\n",
    "#### 10/26/2016\n",
    "\n",
    "<br>\n",
    "This notebook is for the seastar transcriptome class project. The procedure is based off of the work done by Stephen Roberts, also available in a [Jupyter notebook on Github](https://github.com/sr320/eimd-sswd/blob/master/eimd_analysis.ipynb). I merged a list of genes that are differentially expressed in seastars with wasting disease with a seastar transcriptome. This output a list of the DEG and their associated sequences. I used this output to create a BLAST database. I then used BLASTn (since transcriptome is created using cDNA) to align all available Atlantic cod transcriptome sequences against this reference. *(could not find transcriptome sequences for Pacific cod)*\n",
    "<br>\n",
    "Programs: Rstudio (DESeq2 package), NCBI blast\n",
    "<br>\n",
    "<br>\n",
    "\n",
    "### Step One: Directory Structure"
   ]
  },
  {
   "cell_type": "code",
   "execution_count": 1,
   "metadata": {
    "collapsed": false
   },
   "outputs": [
    {
     "data": {
      "text/plain": [
       "u'/mnt/hgfs/Shared Drive D/Pacific cod/DataAnalysis/mf-fish546-2016/notebooks'"
      ]
     },
     "execution_count": 1,
     "metadata": {},
     "output_type": "execute_result"
    }
   ],
   "source": [
    "pwd"
   ]
  },
  {
   "cell_type": "code",
   "execution_count": 2,
   "metadata": {
    "collapsed": false
   },
   "outputs": [
    {
     "name": "stdout",
     "output_type": "stream",
     "text": [
      "/mnt/hgfs/Shared Drive D/Pacific cod/DataAnalysis/mf-fish546-2016\n"
     ]
    }
   ],
   "source": [
    "cd ../"
   ]
  },
  {
   "cell_type": "code",
   "execution_count": 4,
   "metadata": {
    "collapsed": true
   },
   "outputs": [],
   "source": [
    "mkdir TranscriptomeBLAST"
   ]
  },
  {
   "cell_type": "code",
   "execution_count": 5,
   "metadata": {
    "collapsed": false
   },
   "outputs": [
    {
     "name": "stdout",
     "output_type": "stream",
     "text": [
      " Volume in drive C is Windows8_OS\n",
      " Volume Serial Number is B69C-E646\n",
      "\n",
      " Directory of C:\\Users\\mcfish\\Documents\\Github\\mf-fish546-2016\n",
      "\n",
      "10/27/2016  08:58 AM    <DIR>          .\n",
      "10/27/2016  08:58 AM    <DIR>          ..\n",
      "10/27/2016  08:56 AM               480 barcodesL1.txt\n",
      "10/27/2016  08:56 AM    <DIR>          FlowcellSummaries\n",
      "10/27/2016  08:56 AM               758 Github_CheatSheet.md\n",
      "10/27/2016  08:56 AM    <DIR>          notebooks\n",
      "10/27/2016  08:56 AM    <DIR>          raw_data\n",
      "10/27/2016  08:56 AM             2,609 README.md\n",
      "10/27/2016  08:56 AM    <DIR>          samplesT142\n",
      "10/27/2016  08:56 AM    <DIR>          samplesT146\n",
      "10/27/2016  08:56 AM    <DIR>          scripts\n",
      "10/27/2016  08:58 AM    <DIR>          TranscriptomeBLAST\n",
      "10/27/2016  08:56 AM    <DIR>          UCstacksL1\n",
      "               3 File(s)          3,847 bytes\n",
      "              10 Dir(s)  121,436,827,648 bytes free\n"
     ]
    }
   ],
   "source": [
    "ls"
   ]
  },
  {
   "cell_type": "code",
   "execution_count": 6,
   "metadata": {
    "collapsed": false
   },
   "outputs": [
    {
     "name": "stdout",
     "output_type": "stream",
     "text": [
      "C:\\Users\\mcfish\\Documents\\Github\\mf-fish546-2016\\TranscriptomeBLAST\n"
     ]
    }
   ],
   "source": [
    "cd TranscriptomeBLAST/"
   ]
  },
  {
   "cell_type": "markdown",
   "metadata": {},
   "source": [
    "### Step Two: Downloads / Installation \n",
    "\n",
    "*Will not be installing additional programs rpy2 and SQLshare*\n",
    "<br>\n",
    "<br>\n",
    "\n",
    "(1) Download latest uniprot data\n",
    "\n",
    "(2) Download transcriptome data for *Pycnopodia helianthoides* \n",
    "\n",
    "(3) Download any transcriptome / genome sequences for ~~Pacific cod~~ --- couldn't find any, used Atlantic cod "
   ]
  },
  {
   "cell_type": "markdown",
   "metadata": {
    "collapsed": true
   },
   "source": [
    "#### 10/27/2016"
   ]
  },
  {
   "cell_type": "code",
   "execution_count": 21,
   "metadata": {
    "collapsed": false
   },
   "outputs": [
    {
     "name": "stdout",
     "output_type": "stream",
     "text": [
      "C:\\Users\\mcfish\n"
     ]
    }
   ],
   "source": [
    "cd ~"
   ]
  },
  {
   "cell_type": "code",
   "execution_count": 22,
   "metadata": {
    "collapsed": false
   },
   "outputs": [
    {
     "name": "stdout",
     "output_type": "stream",
     "text": [
      "C:\\Users\\mcfish\\Documents\\Github\\mf-fish546-2016\n"
     ]
    }
   ],
   "source": [
    "cd Documents/Github/mf-fish546-2016/"
   ]
  },
  {
   "cell_type": "code",
   "execution_count": 25,
   "metadata": {
    "collapsed": false,
    "scrolled": true
   },
   "outputs": [
    {
     "name": "stdout",
     "output_type": "stream",
     "text": [
      "C:\\Users\\mcfish\\Documents\\Github\\mf-fish546-2016\\TranscriptomeBLAST\n"
     ]
    }
   ],
   "source": [
    "cd TranscriptomeBLAST"
   ]
  },
  {
   "cell_type": "code",
   "execution_count": 27,
   "metadata": {
    "collapsed": false
   },
   "outputs": [
    {
     "name": "stdout",
     "output_type": "stream",
     "text": [
      " Volume in drive C is Windows8_OS\n",
      " Volume Serial Number is B69C-E646\n",
      "\n",
      " Directory of C:\\Users\\mcfish\\Documents\\Github\\mf-fish546-2016\\TranscriptomeBLAST\n",
      "\n",
      "10/27/2016  09:44 AM    <DIR>          .\n",
      "10/27/2016  09:44 AM    <DIR>          ..\n",
      "10/27/2016  09:44 AM    <DIR>          data\n",
      "               0 File(s)              0 bytes\n",
      "               3 Dir(s)  121,123,729,408 bytes free\n"
     ]
    }
   ],
   "source": [
    "ls"
   ]
  },
  {
   "cell_type": "code",
   "execution_count": null,
   "metadata": {
    "collapsed": true
   },
   "outputs": [],
   "source": [
    "#curl source_url > relative_path\n",
    "!curl \"url\" > data/Phel_transcriptome.fa "
   ]
  },
  {
   "cell_type": "markdown",
   "metadata": {},
   "source": [
    "**(1)** Latest uniprot data"
   ]
  },
  {
   "cell_type": "code",
   "execution_count": 28,
   "metadata": {
    "collapsed": false
   },
   "outputs": [
    {
     "name": "stderr",
     "output_type": "stream",
     "text": [
      "  % Total    % Received % Xferd  Average Speed   Time    Time     Time  Current\n",
      "                                 Dload  Upload   Total   Spent    Left  Speed\n",
      "\n",
      "  0     0    0     0    0     0      0      0 --:--:-- --:--:-- --:--:--     0\n",
      "  0     0    0     0    0     0      0      0 --:--:--  0:00:01 --:--:--     0\n",
      "  0     0    0     0    0     0      0      0 --:--:--  0:00:02 --:--:--     0\n",
      "  0     0    0     0    0     0      0      0 --:--:--  0:00:03 --:--:--     0\n",
      "  0     0    0     0    0     0      0      0 --:--:--  0:00:03 --:--:--     0\n",
      "  0 80.2M    0  9660    0     0   2117      0 11:02:49  0:00:04 11:02:45  2117\n",
      "  0 80.2M    0  570k    0     0   102k      0  0:13:22  0:00:05  0:13:17  135k\n",
      "  2 80.2M    2 2241k    0     0   342k      0  0:04:00  0:00:06  0:03:54  535k\n",
      "  6 80.2M    6 5480k    0     0   726k      0  0:01:53  0:00:07  0:01:46 1266k\n",
      " 10 80.2M   10 8804k    0     0  1030k      0  0:01:19  0:00:08  0:01:11 1766k\n",
      " 15 80.2M   15 12.1M    0     0  1307k      0  0:01:02  0:00:09  0:00:53 2502k\n",
      " 20 80.2M   20 16.0M    0     0  1561k      0  0:00:52  0:00:10  0:00:42 3189k\n",
      " 24 80.2M   24 19.9M    0     0  1767k      0  0:00:46  0:00:11  0:00:35 3621k\n",
      " 29 80.2M   29 23.6M    0     0  1931k      0  0:00:42  0:00:12  0:00:30 3744k\n",
      " 32 80.2M   32 25.7M    0     0  1944k      0  0:00:42  0:00:13  0:00:29 3508k\n",
      " 33 80.2M   33 26.5M    0     0  1871k      0  0:00:43  0:00:14  0:00:29 2949k\n",
      " 36 80.2M   36 29.0M    0     0  1912k      0  0:00:42  0:00:15  0:00:27 2654k\n",
      " 39 80.2M   39 31.8M    0     0  1974k      0  0:00:41  0:00:16  0:00:25 2456k\n",
      " 42 80.2M   42 34.1M    0     0  1993k      0  0:00:41  0:00:17  0:00:24 2150k\n",
      " 45 80.2M   45 36.6M    0     0  2020k      0  0:00:40  0:00:18  0:00:22 2225k\n",
      " 48 80.2M   48 39.0M    0     0  2042k      0  0:00:40  0:00:19  0:00:21 2534k\n",
      " 51 80.2M   51 41.4M    0     0  2064k      0  0:00:39  0:00:20  0:00:19 2534k\n",
      " 54 80.2M   54 43.7M    0     0  2080k      0  0:00:39  0:00:21  0:00:18 2432k\n",
      " 57 80.2M   57 46.2M    0     0  2098k      0  0:00:39  0:00:22  0:00:17 2467k\n",
      " 60 80.2M   60 48.5M    0     0  2112k      0  0:00:38  0:00:23  0:00:15 2454k\n",
      " 63 80.2M   63 50.9M    0     0  2126k      0  0:00:38  0:00:24  0:00:14 2460k\n",
      " 66 80.2M   66 53.4M    0     0  2142k      0  0:00:38  0:00:25  0:00:13 2464k\n",
      " 69 80.2M   69 55.8M    0     0  2154k      0  0:00:38  0:00:26  0:00:12 2476k\n",
      " 72 80.2M   72 58.1M    0     0  2160k      0  0:00:38  0:00:27  0:00:11 2440k\n",
      " 75 80.2M   75 60.4M    0     0  2168k      0  0:00:37  0:00:28  0:00:09 2433k\n",
      " 77 80.2M   77 62.6M    0     0  2166k      0  0:00:37  0:00:29  0:00:08 2361k\n",
      " 80 80.2M   80 64.5M    0     0  2161k      0  0:00:38  0:00:30  0:00:08 2259k\n",
      " 82 80.2M   82 66.1M    0     0  2147k      0  0:00:38  0:00:31  0:00:07 2106k\n",
      " 84 80.2M   84 67.8M    0     0  2130k      0  0:00:38  0:00:32  0:00:06 1964k\n",
      " 86 80.2M   86 69.4M    0     0  2114k      0  0:00:38  0:00:33  0:00:05 1810k\n",
      " 88 80.2M   88 70.9M    0     0  2103k      0  0:00:39  0:00:34  0:00:05 1726k\n",
      " 90 80.2M   90 72.6M    0     0  2090k      0  0:00:39  0:00:35  0:00:04 1651k\n",
      " 92 80.2M   92 74.2M    0     0  2079k      0  0:00:39  0:00:36  0:00:03 1651k\n",
      " 94 80.2M   94 75.8M    0     0  2067k      0  0:00:39  0:00:37  0:00:02 1657k\n",
      " 96 80.2M   96 77.4M    0     0  2057k      0  0:00:39  0:00:38  0:00:01 1670k\n",
      " 98 80.2M   98 79.1M    0     0  2048k      0  0:00:40  0:00:39  0:00:01 1664k\n",
      "100 80.2M  100 80.2M    0     0  2041k      0  0:00:40  0:00:40 --:--:-- 1667k\n"
     ]
    }
   ],
   "source": [
    "#curl source_url > relative_path\n",
    "!curl ftp://ftp.uniprot.org/pub/databases/uniprot/current_release/knowledgebase/complete/uniprot_sprot.fasta.gz > data/uniprot_data.fasta.gz"
   ]
  },
  {
   "cell_type": "markdown",
   "metadata": {},
   "source": [
    "**(2)** Phel_transcriptome"
   ]
  },
  {
   "cell_type": "code",
   "execution_count": 28,
   "metadata": {
    "collapsed": false,
    "scrolled": false
   },
   "outputs": [
    {
     "name": "stdout",
     "output_type": "stream",
     "text": [
      "  % Total    % Received % Xferd  Average Speed   Time    Time     Time  Current\n",
      "                                 Dload  Upload   Total   Spent    Left  Speed\n",
      "100 39.4M  100 39.4M    0     0  19.9M      0  0:00:01  0:00:01 --:--:-- 21.3M\n"
     ]
    }
   ],
   "source": [
    "#curl source_url > relative_path\n",
    "!curl https://raw.githubusercontent.com/sr320/eimd-sswd/master/data/Phel_transcriptome.fasta > data/Phel_transcriptome.fa "
   ]
  },
  {
   "cell_type": "code",
   "execution_count": 29,
   "metadata": {
    "collapsed": false,
    "scrolled": true
   },
   "outputs": [
    {
     "name": "stdout",
     "output_type": "stream",
     "text": [
      "/mnt/hgfs/Shared Drive D/Pacific cod/DataAnalysis/mf-fish546-2016/TranscriptomeBLAST/data\n"
     ]
    }
   ],
   "source": [
    "cd data"
   ]
  },
  {
   "cell_type": "code",
   "execution_count": 33,
   "metadata": {
    "collapsed": false
   },
   "outputs": [
    {
     "name": "stdout",
     "output_type": "stream",
     "text": [
      " Volume in drive C is Windows8_OS\n",
      " Volume Serial Number is B69C-E646\n",
      "\n",
      " Directory of C:\\Users\\mcfish\\Documents\\Github\\mf-fish546-2016\\TranscriptomeBLAST\\data\n",
      "\n",
      "10/27/2016  10:03 AM    <DIR>          .\n",
      "10/27/2016  10:03 AM    <DIR>          ..\n",
      "10/27/2016  10:10 AM        41,326,136 Phel_transcriptome.fa\n",
      "10/27/2016  10:00 AM        84,192,279 uniprot_data.fasta.gz\n",
      "               2 File(s)    125,518,415 bytes\n",
      "               2 Dir(s)  120,998,244,352 bytes free\n"
     ]
    }
   ],
   "source": [
    "ls"
   ]
  },
  {
   "cell_type": "code",
   "execution_count": 40,
   "metadata": {
    "collapsed": false,
    "scrolled": true
   },
   "outputs": [
    {
     "name": "stdout",
     "output_type": "stream",
     "text": [
      ">Phel_contig_1\n",
      "CAAATATATGAACGGTTGATTGTCAACGATTAGTACATGTTTTCATTGTTCCCCACGCCCGCCCCCCCCCACTCAAACATTTAAAGTGTGAAATATTATTTATCCACAAATTTCCTTAAACCTGCAAACTTGTCTGCTGTCTCTTATTGGAAGTTATGAAAAAGAACAACGGGTTTTCTTTAAAGGGTCTGCGTGCGATTTTCAACCTTTTGAGTAATAGCAGTTATTTTGATAACCGATTTTTTTCAAAGCTCAACAGCTTTTTAAAATAAGGAATCCTATAATGGCCAAACGAATACTATAAAAATAAGGGTTCTCTTAATTGTATAAAACGTATAATTTTATCAATTTTGGGACCGTGTAATTTTTTAAAGACCACAAGAATGTTACATACAACAAATAGACGAAACTCGTAGCTTTGGAAACTACGTCATGGGCGTTTGGTCAAAAGCTGGAGAGAAAGAGAGGTGGGGTGCCAGACTTAAGTAGTCACGTGATCTGACCAACGCACATCGGAAGCTCGATCGGATGAAATCTTCTCTATCGTTCTTGCGTCTATACGTGCTACGAAGAGCTGACAGAAGTTTGGACTTGTTTACTTCTTGCACCTGTTGATGGAACGGCCACGGACCTTGTCGCACGCACACCTGGAGCCAGTGCTCGGATCGACGCAACGGATGTACTGTCTTCCCCTTCCGCGTTTCTCAAGTAGGTACTCAAAGTCGTCCGCGTCGAAGTTGGCCTCGGCGTCCCTCTTCTCCAGCTCCTCCATGTCCTCCTCTGTGTAGTACGGGGTGACGAGCACCACCAGGGCGGCCACAATGGCCAGTGCTAGAAGACACTTCGTATTCATTCTGCTGGTGGTTGGATGTGCGCAAACAAGACAGGAGAGACTTATTAGAATC\n",
      ">Phel_contig_10\n"
     ]
    }
   ],
   "source": [
    "#what does the fasta file look like\n",
    "!head Phel_transcriptome.fa -n 3"
   ]
  },
  {
   "cell_type": "code",
   "execution_count": 4,
   "metadata": {
    "collapsed": false
   },
   "outputs": [
    {
     "name": "stdout",
     "output_type": "stream",
     "text": [
      "29476\n"
     ]
    }
   ],
   "source": [
    "# How many sequences are listed in the fasta file? \n",
    "!grep -c \">\" Phel_transcriptome.fa"
   ]
  },
  {
   "cell_type": "code",
   "execution_count": null,
   "metadata": {
    "collapsed": false
   },
   "outputs": [],
   "source": [
    "cd ../"
   ]
  },
  {
   "cell_type": "markdown",
   "metadata": {},
   "source": [
    "**(3)** Atlantic cod (*Gadus morhua*) transcriptome sequences\n",
    "\n",
    "Downloaded release of all cDNA sequences from [Atlantic cod](ftp://ftp.ensembl.org/pub/release-86/fasta/gadus_morhua/cdna) from Ensembl. There were no sequences for Pacific cod. "
   ]
  },
  {
   "cell_type": "code",
   "execution_count": 3,
   "metadata": {
    "collapsed": false,
    "scrolled": true
   },
   "outputs": [
    {
     "name": "stdout",
     "output_type": "stream",
     "text": [
      "/mnt/hgfs/Shared Drive D/Pacific cod/DataAnalysis/mf-fish546-2016/TranscriptomeBLAST/data\n"
     ]
    }
   ],
   "source": [
    "cd TranscriptomeBLAST/data"
   ]
  },
  {
   "cell_type": "code",
   "execution_count": null,
   "metadata": {
    "collapsed": true
   },
   "outputs": [],
   "source": [
    "!curl ftp://ftp.ensembl.org/pub/release-86/fasta/gadus_morhua/cdna/Gadus_morhua.gadMor1.cdna.all.fa.gz ./data/Gadus_morhua.gadMor1.cdna.all.fa.gz"
   ]
  },
  {
   "cell_type": "code",
   "execution_count": 5,
   "metadata": {
    "collapsed": false
   },
   "outputs": [
    {
     "name": "stdout",
     "output_type": "stream",
     "text": [
      ">ENSGMOT00000000001.1 cdna genescaffold:gadMor1:GeneScaffold_4295:5160:9377:-1 gene:ENSGMOG00000000001.1 gene_biotype:protein_coding transcript_biotype:protein_coding\r\n",
      "ATGGCCAACTCGGGCCTGCAGATCCTGGGCTTCGCCCTTTCGCTCCTTGGGCTGATCGGA\r\n",
      "CTCATCATCGGCACTATCCTGCCCCAGTGGAAGATGTCCGCGTACGTCGGGGACAACATC\r\n",
      "ATCACGGCCATCTCCATGTACTCCGGACTCTGGATGACGTGCGCCTTCCAGAGCACGGGT\r\n",
      "CAGATCCAGTGCAAGGCGTACGACTCCATCCTGCAGCTTGACANNNNNNNNNNNNNNNNN\r\n",
      "NNNNNNNNNNNNNNNNNNNNNNNNNNNNNNNNNNNNNNNNNNNNNNNNNNNNNNNNNNNN\r\n",
      "NNNNNNNNNNNNNNNNNNNNNNNNNNNNNNNNNNNNNNNNNNNNNNNNNNNNNNNNNNNN\r\n",
      "NNNNNNNNNNNNNNNNNNNNNNNNNNNNCTCTCGCGGCCATCGTCGCCTGCTCCTGGTAC\r\n",
      "GCCCACAACATCATCCGCGAGTTCTACAACCCCTTCACCCCCGTCAACACCAAGTATGAG\r\n",
      "TTCGGGTCAGCCATCTTCATCGCCTGGGCCGGGTCCTTCCTGGACGTGATCGGTGGCGGT\r\n",
      "\r\n",
      "gzip: stdout: Broken pipe\r\n"
     ]
    }
   ],
   "source": [
    "!zcat Gadus_morhua.gadMor1.cdna.all.fa.gz | head -n 10"
   ]
  },
  {
   "cell_type": "markdown",
   "metadata": {},
   "source": [
    "### Step Three: Differential Expression Analysis (**10/27/2016**)"
   ]
  },
  {
   "cell_type": "code",
   "execution_count": null,
   "metadata": {
    "collapsed": true
   },
   "outputs": [],
   "source": [
    "#download the count data\n",
    "!curl https://github.com/sr320/eimd-sswd/blob/master/data/Phel_countdata.txt > ./data/Phel_countdata.txt"
   ]
  },
  {
   "cell_type": "code",
   "execution_count": 10,
   "metadata": {
    "collapsed": false
   },
   "outputs": [
    {
     "name": "stdout",
     "output_type": "stream",
     "text": [
      "/mnt/hgfs/Shared Drive D/Pacific cod/DataAnalysis/mf-fish546-2016/TranscriptomeBLAST/data\n"
     ]
    }
   ],
   "source": [
    "cd data"
   ]
  },
  {
   "cell_type": "code",
   "execution_count": 12,
   "metadata": {
    "collapsed": false
   },
   "outputs": [
    {
     "name": "stdout",
     "output_type": "stream",
     "text": [
      "Feature ID\tTreated_FHL - Total gene reads\tTreated_PH - Total gene reads\tTreated_L - Total gene reads\tControl_FHL - Total gene reads\tControl_DB - Total gene reads\tControl_PH - Total gene reads\r\n",
      "Phel_contig_1\t168\t37\t8\t89\t28\t38\r\n",
      "Phel_contig_10\t9518\t2752\t839\t22\t42\t180\r\n",
      "Phel_contig_100\t260\t565\t413\t616\t1234\t6104\r\n",
      "Phel_contig_1000\t2043\t3842\t3070\t4311\t8527\t31946\r\n",
      "Phel_contig_10000\t9\t12\t13\t32\t21\t211\r\n",
      "Phel_contig_10001\t44\t225\t89\t90\t54\t365\r\n",
      "Phel_contig_10002\t38\t61\t80\t185\t478\t1267\r\n",
      "Phel_contig_10003\t9\t29\t20\t17\t29\t186\r\n",
      "Phel_contig_10004\t8\t25\t6\t4\t19\t92\r\n"
     ]
    }
   ],
   "source": [
    "#count the data\n",
    "!head Phel_countdata.txt"
   ]
  },
  {
   "cell_type": "code",
   "execution_count": 13,
   "metadata": {
    "collapsed": false
   },
   "outputs": [
    {
     "name": "stdout",
     "output_type": "stream",
     "text": [
      "29476 Phel_countdata.txt\r\n"
     ]
    }
   ],
   "source": [
    "!wc -l Phel_countdata.txt"
   ]
  },
  {
   "cell_type": "markdown",
   "metadata": {},
   "source": [
    "*At this point, switch over to R. \n",
    "\n",
    "**Used [Phel_countdata.txt](https://github.com/sr320/eimd-sswd/blob/master/data/Phel_countdata.txt)** -- downloaded above\n",
    "\n",
    "\n",
    "[See RStudio code here](https://github.com/mfisher5/mf-fish546-PCod/blob/master/FISH546/scripts/DESeq2_rstudio.R)\n",
    "\n",
    "[See graph from R here](https://github.com/mfisher5/mf-fish546-PCod/blob/master/FISH546/SeastarTranscriptome_DEG/DEGplot.png)\n"
   ]
  },
  {
   "cell_type": "markdown",
   "metadata": {},
   "source": [
    "### 10/28/2016\n",
    "\n",
    "### Step Four: merge DEG with Phel Transcriptome"
   ]
  },
  {
   "cell_type": "code",
   "execution_count": 14,
   "metadata": {
    "collapsed": false
   },
   "outputs": [
    {
     "name": "stdout",
     "output_type": "stream",
     "text": [
      "\u001b[0m\u001b[01;32mPhel_countdata.txt\u001b[0m*     \u001b[01;32muniprot_data.fasta.phr\u001b[0m*\r\n",
      "\u001b[01;32mPhel_DEGlist.tab\u001b[0m*       \u001b[01;32muniprot_data.fasta.pin\u001b[0m*\r\n",
      "\u001b[01;32mPhel_transcriptome.fa\u001b[0m*  \u001b[01;32muniprot_data.fasta.psq\u001b[0m*\r\n",
      "\u001b[01;32muniprot_data.fasta\u001b[0m*     \u001b[01;32muniprot-gadus+macrocephalus.fasta.gz\u001b[0m*\r\n"
     ]
    }
   ],
   "source": [
    "ls"
   ]
  },
  {
   "cell_type": "code",
   "execution_count": 17,
   "metadata": {
    "collapsed": false
   },
   "outputs": [
    {
     "name": "stdout",
     "output_type": "stream",
     "text": [
      "\"baseMean\" \"log2FoldChange\" \"lfcSE\" \"stat\" \"pvalue\" \"padj\"\r",
      "\r\n",
      "\"Phel_contig_10\" 5492.70960072414 7.85096708408866 0.80192486908453 9.79015290179397 1.24108065457895e-22 6.70183553472635e-20\r",
      "\r\n",
      "\"Phel_contig_10001\" 136.224412089297 1.62283402827037 0.601336778655818 2.69871074890502 0.00696086482381215 0.0424495894112321\r",
      "\r\n",
      "\"Phel_contig_10005\" 51.5511935035151 -2.81500620110875 0.998955872982834 -2.81794849726773 0.00483315617507886 0.0322309890033045\r",
      "\r\n",
      "\"Phel_contig_10010\" 8.7342056518699 2.86532451171911 0.922196358265538 3.10706552464402 0.00188954511553456 0.0157462092961213\r",
      "\r\n",
      "\"Phel_contig_10013\" 189.785994443343 -2.07349227557011 0.50840301281869 -4.07844214784299 4.53384808021355e-05 0.000782822690108814\r",
      "\r\n",
      "\"Phel_contig_10045\" 50.2388038133868 3.42533797269337 0.805681712528323 4.25147787200514 2.12364495467281e-05 0.000413249829017412\r",
      "\r\n",
      "\"Phel_contig_1005\" 3425.16142786886 -1.73211498731394 0.420913289571513 -4.11513494638581 3.86952961953804e-05 0.000691902647202167\r",
      "\r\n",
      "\"Phel_contig_10050\" 281.308679616738 -1.60078216546685 0.392846503210577 -4.0748285968802 4.60482505783787e-05 0.000791912589564475\r",
      "\r\n",
      "\"Phel_contig_10058\" 24.604598291592 2.88856864549389 1.05175754871186 2.74642064516834 0.00602494594564978 0.0380078365730243\r",
      "\r\n"
     ]
    }
   ],
   "source": [
    "!head Phel_DEGlist.tab"
   ]
  },
  {
   "cell_type": "code",
   "execution_count": 18,
   "metadata": {
    "collapsed": false
   },
   "outputs": [
    {
     "name": "stdout",
     "output_type": "stream",
     "text": [
      "3730 Phel_DEGlist.tab\r\n"
     ]
    }
   ],
   "source": [
    "!wc -l Phel_DEGlist.tab"
   ]
  },
  {
   "cell_type": "markdown",
   "metadata": {},
   "source": [
    "\n",
    "*1. Convert transcriptome.fa to .tab*\n",
    "\n",
    "Opened Phel_transcriptome.fa in notepad++, ctrl-f to replace: \n",
    "\n",
    "(1) \"\\n\" with \"\\t\"\n",
    "\n",
    "(2) \">\" with \"\\n\"\n",
    "<br>\n",
    "<br>\n",
    "\n",
    "*2. extract list of contig names from Phel_DEGlist.tab*\n"
   ]
  },
  {
   "cell_type": "code",
   "execution_count": 31,
   "metadata": {
    "collapsed": false
   },
   "outputs": [
    {
     "name": "stdout",
     "output_type": "stream",
     "text": [
      "/mnt/hgfs/Shared Drive D/Pacific cod/DataAnalysis/mf-fish546-2016/TranscriptomeBLAST\n"
     ]
    }
   ],
   "source": [
    "cd ../"
   ]
  },
  {
   "cell_type": "code",
   "execution_count": 36,
   "metadata": {
    "collapsed": true
   },
   "outputs": [],
   "source": [
    "mv data/Phel_DEGlist.tab Phel_DEGlist.tab #move file for input into python script"
   ]
  },
  {
   "cell_type": "code",
   "execution_count": 41,
   "metadata": {
    "collapsed": false
   },
   "outputs": [],
   "source": [
    "!python generateDEGlist.py Phel_DEGlist.tab #extract list of names"
   ]
  },
  {
   "cell_type": "code",
   "execution_count": 42,
   "metadata": {
    "collapsed": true
   },
   "outputs": [],
   "source": [
    "mv Phel_DEGlist.tab data/Phel_DEGlist.tab #move file back into data folder"
   ]
  },
  {
   "cell_type": "code",
   "execution_count": 43,
   "metadata": {
    "collapsed": false
   },
   "outputs": [
    {
     "name": "stdout",
     "output_type": "stream",
     "text": [
      "\"baseMean\"\r\n",
      "\"Phel_contig_10\"\r\n",
      "\"Phel_contig_10001\"\r\n",
      "\"Phel_contig_10005\"\r\n",
      "\"Phel_contig_10010\"\r\n",
      "\"Phel_contig_10013\"\r\n",
      "\"Phel_contig_10045\"\r\n",
      "\"Phel_contig_1005\"\r\n",
      "\"Phel_contig_10050\"\r\n",
      "\"Phel_contig_10058\"\r\n"
     ]
    }
   ],
   "source": [
    "!head Phel_DEGnames.txt"
   ]
  },
  {
   "cell_type": "markdown",
   "metadata": {},
   "source": [
    "*3. Import both files in R, use merge function*\n",
    "**[R Code here](https://github.com/mfisher5/mf-fish546-PCod/blob/master/FISH546/scripts/Merge_DEG_Transcriptome.R)**"
   ]
  },
  {
   "cell_type": "markdown",
   "metadata": {},
   "source": [
    "R code produced the following file: "
   ]
  },
  {
   "cell_type": "code",
   "execution_count": 4,
   "metadata": {
    "collapsed": false
   },
   "outputs": [
    {
     "name": "stdout",
     "output_type": "stream",
     "text": [
      "\"Phel_contig_10\"\r",
      "\r\n",
      "\"TGTACCCCTGGGTGGACAGAAGCAATTATAGTAAAGTATCTTGCTCAAGGACACAAGTGTCATGACCGGGATTCGAACCCACACCCCGATGACTCAACCACCAGAACTTGAATACGATGCTCTAAACCGCTCAGCCATGACACCCTGGAAAACAACATTCATTATCTCATTCCCATTCAAAGGTCTGTCAGTTTCATATTATTTGTGTCAAGCAATAAAAAACAAGTTGCATTAATATTGCATTTTCATCTGACTACAGCAGCAATTGCGACAGATTCTCAAGACCACAAAGATTCCTATTCTCAGCCTCATCTTGATGCAATGCCAGCTCAGCGTAAAGACGACGAAGCCCTGAGGAGCATCATCAGCCAAGAACCGTGGAACTACGAGGTCTTATACACTGTCAAGATTGAGAAGGTGTACAAGACGGTGGACGGGAAGGTCTCCATGAGGGAAGGGGAGGAGGTTCAGATTAAGAGTTTCTATCCTGGGGGAATGTTTTGCGGAGTGGAGCTCAAGAAAGGAAAATCCTATGTTTTAGGAGGTGCCATCAAGGATCAGATTGGCAGATGTGACTTAATACTCGAATATAAGACCATCTCGAAAAGACAAAAGCAAGGACTCCGCAGCAACTATGGCAAATTCTGTGACAAGTGTCAGATTGCAACATGTCACTCCCCCCAATGCGCCGCCCACCTGCCGGAGAACACGTGTGCGTACATGGCCCACGACAGTTACGACAGACACGGTATCGGCTACCAGGAGGATGACTGCCTCGCAGCGCACTCCAAATGCCTCCCAAAAGAAGGTCACAAGATGTGCCAGTGGCACAGAAATAAAGATTTGAAGGGATGTCTGAGTGAGACGGGTGTGGACAGTCGCCCGGGTGTGAATCAGGGGCCAAGGAGACATCGCCAATCGCAGGGTCAACATTAAGACTGGTTTTTTTTCTTTTGCACTTTGTTCTTCCGTCTCTCTTTGTATTTTCCCACAACCTCCCTCTTTCTTCATCTTGCTTTTTTGTTTTAATAATTTTTTTTTTAATGCTGCACATAATTTATAAAGAGCCAGTGTGGTCTCGAACGTCTTCAATAATAAAACTACTGATCCAAACTTGAAACTGTTACCATTAACTACAGTTAGTAGGGTGTCTCATATTGTATAATGCAAGTAATGTATAAAGACATCGATGACATCACTCTTGGATTGTCATACGAACAATTTTGTTTCATTGTTTCGGGGTTGTGTTTTTCCTTCTTCATTTTTTAATGGGCGGACCAAAAAAGAGCAGGGCAACACCTGACTCTTACTTAATAGACTACATTCAGTTTCCTTTCATTTTTATTTACCAAACAAAAAGTCTGAAGGACTCAAAACTATTTAGTTCATACAATGCCAAAAAAAAGCTGTCATAATTTGGGTTGGGGATAAAAAAGATTAATATACCAACTTTTGTTTCATTGTACACCAATGTGTAATAAGCACTGTAGAGACCATTCTATTGCAAGTAAGTCATTATGGTCATTAACTTGTGGAGTAATTACCAAAAGTATACCCTGCCTTCGAAACCAAAAATATTATCAACACTCTTTTTGATCACAACAATACAATGTTGTTTTTCACCTCTGCTGTATTTTTTTCTGTTTCTAAAAACGCATATACTCCTTCATGCTCACAGCGCACTAAACATGTACACGCTTACAAAATGTAAGCAAATAAATATATATATAAATATTAAGCTTTTAAAAGAAATCTATAAACAAAAATTTAAATAGTGTACAAAAATAGACTAAAATGGCTTTTTAGTGTACTCTATATATTTTTATTATGTGTATGTACTAGAACAAATTCAGTTGTAAGCATGTTTATCTCCGTTTATCTTGCTTAATTTATCCAAAGGCTAAAATGTTTTTAAAATCATCGAATCCGAAGATCGGTTTCTAATCCAAAGTCCAATGATGTTTTGTACCTTTCAAATCTCTAATATTTCATTTTTTTTCCTGGAAAAGAAGTGGTTTGAACAATATTTCAATCATCCTACGGCAGGTAGGTGACGGGATCATGCCTATGATGATACAAACATGGAATTTGGCACACAGTCGGACTAAGTCATGAGAATGATATTTGGCGATGGGGCC\"\r",
      "\r\n",
      "\"Phel_contig_10001\"\r",
      "\r\n",
      "\"ACGGAGTTCTTTGCCCCCCCCCCCAAAAAAAAAAATTAAATAAAATAAAATAAATAAAACAATAAAAAAATGGGACTACAATGTTTACTTGAATTACCTAAACTTGTCGAAAAACTTCACAGAAAAATAGAACCGGTCAATGTTCTTTTAAACAGTTTTCAACTGCTAGTGCGAAGTTAATTCGAAACAAAAGTTGTGGAGATCTTCAGAACTGAACACTTTGATACCGTAGAATGATAGTTTGACGATTATAGACAGAAGCAATGGCGAAGGCTGCAATGACCGTGATGACGGATCGGACATGGATTGACAGTAACAAGTAGTGACACATTTGAATTAGTTATTCTTTATTCAAGGGGTTTTGCGGTATATTAAATTAAAGATAGCTTTCGACAGAGATTATTCGGTGATAATAATAATAATAATAATAATATTAATACACTTAAACTTAATGAAGTACATTAGGTCGTGCTACTGTAATGTGAAGTATAATTATTCATACAACAGCAATAATTAAAACAAGAAAGGAAAAACATAACAAACAGAATGACCTGATTTAATAATCTGATGACACTGTTCAAAACGGGAAATTTGTGATTCTTCCTCGTAAAAAGGTGAAACAAAAAACAATGTTCGGCCAAACTCCAATTTTAATCTTTTTCATCCAAGTAAATTAGTTCTAAAATGTAAAATGATACACTCTGAAAACTCCCGGGTCAGAATTAATTTGGTTCCGGGTCCTAAAGGGTCTGACCCATTTCTCGCATGACGAAGAAATGGGTCAAACTGACACAGAATCTGAGCTAAAATCTCATTTTTAACCATGCTTCCGCGGGTCAGCATGACCTAGAAAAGGGTTAGGGCCACTGGGACCCGAGAACTGGGCTAATACTGGGACCCGGGAACGGGGTTATTTCTGACCCTGGAACCGGGTTAATATCGACTCAGGAACCGGGTTAATTCTGACCTGGTAACCGGGTTAATTCTGACATGGGAACCGGGTTAATTCTGACATGGGAACAGGGTTTATTCTGACCTGGTAACCGGGTTTATTCTGACCCGGGAACCGGGTTAGTTCTGACCAGGTAACCGGGTTAATTCTGACATG\"\r",
      "\r\n",
      "\"Phel_contig_10005\"\r",
      "\r\n",
      "\"AACCCCAAATTATTTAAAATGTACCTAGCCAATTTCTCTCGTGGATAATTACTTGACACAAAATTGGGTTGTTAAACTATGGGCTCTACTATAATAGACCTTATGGACATAACCTTATAAGAGTAGGGGGGCCCTCGGCTGTGTAGGTCAAAAGAAGGAACCTCATTGGCCCATCCTCATTGGCCCATCCTGCTGTTTTGTCATCATTTTATCTCTAAGATGGTGGAAACCACGCACAATTTTCAGCATGTTAACATAATGTCCTTAATTTGGGTTGTACCAACCAATGGTGGATTGATGACATTAATGCATAAGGTGGTCTATTAAAGGAGATCATGTTGGGAACTACCACCACAGTGTACACACATCATTATCACTGTGTTGAAGCTTATCATTGTGACTTGACTCACCATGGACACAGTGGTCTTGTTCAAAATGTCCTGTGTTAACAACACACTAGGAACACAAAGTTTTACAATTATTATAACATTCCAAACTTAGATTCTGCTTTATGATTGGTTTAGAGAGCATCAACTTGATATGTCCAATGTTTACGAGAAACCCACAGGTCCATGAGCGCAATGCACTAAACCCATAGCAACTTCTGTACTATACATGCAGCAACGTCAGCTTCTTGATTCCTAGGCATCAGTATTAGTGTACTGTCTAGGGTGTTACAAATATTGACTGCTTTTACTATTGCTATGTACCATTCTATTTTCAAATAAAAAATACATGTAGATGGTCTGGGGATCACCTCAGTGGTAGTTTCAACCACAGCACTTGAAGCACTCAATGTTTGTATACGATGTTACTTTAACATAGGGGAACAGTGTTTTACAGGATCACACTTCAAGTATGATGTTAATTACCGAGACAAATTTCATAAATTTTTCGGATGTTTACATGAATAAAAATACCATTGTATTTAGTTATCATTTAAAGTATTTCAGTTCCTCTCCAGTTAATAGAAATTCAAATATTTCCGTACTGTGTTTGCTGTGTGCGCCTTTTCATGGCAATAGTTGTAAGGAAGACTGCCAGAACAACTGCAATCAATGCACCGACCGTGATCCCAATAATCTCGCCTATGTTCATCTGATACGGGCCAGGAGTCAACATGGTGGTGTGAGTGGTGGTGTAAGAGGTTGTTGGAATGAAATCTGGGCACACTTCCACCTCTTTACCAAAATGCCCCTTGTCTGATGATCTATTGGCATAAGGTTGAAACAGAACATCTTTCATCAACACCATGACTGGGCCTTTCTTGAGGGTCAGAGATTTACACTTGAAGCTTTTACCAATAGTGCCGTTTTTGT\"\r",
      "\r\n",
      "\"Phel_contig_10010\"\r",
      "\r\n",
      "\"GTAGGCAATTAAACCAAAGTCTGATTACCTACTTTCAAAACCATAATATTCATGAACTACATGTTGGCATTGTTGGGACATCACATTATGCAAACAAAATAGCTTTGCTGCAACAGCTTGGATCAATGCAAATGAAGTACATAACATCAAGTTTGTTTGACCAAGCTGCTGAATGTATGCGAATGAAATACATTATATCAAGTTTGTTTGAGCAAGTAGCTGTTGCTAAATAAATAGAAATGCATCTATAGTGGAACGGATTTGTACTAGGCCAATAACAGAGGAAGATGTGTTTGGACTTGAACAAATACAAAAATAAACTAAACATTAGGTGTTTGTCCTTTTGGACGAACACAAAGATGGTCCGGTTTCATTTTAGAATTTTACGATCAAGACCATGTAACTGACCTTGAATTTGAGACAATTTGACCATCAAGCCTAACACATACCCTCATTTTTACACTAATTGTGCCCACAACCATACAAAATAGCAATGTACTCTCAAAAATATGACTTGACAAAATAATACGAGGCCTAAATTATTGACCTATACAAAACCAGTCTGCACACAAACAGACAATTAAGTTCAAAATTGTCTAACCACACTGTGTACCAATTGAAACTCAAACATTTCCAACCGACATAGACCCTACAGTCTTACGAAAAAAACTTAAAAGTTACACAAGAATAAAGACAAGACAATTGAAATACACAGGGGGGGATGGAGTTAGCTAGAAACTTAAAGTTACAATAATAATGTGTGCAACAATA\"\r",
      "\r\n",
      "\"Phel_contig_10013\"\r",
      "\r\n",
      "\"ACAGGTGACTTTTGTTGTATCTTTATTGGTAAATTTGGCCTAAAAATCAGCAATACGTTGATAAAAACCAATCTATGACCCTACCTTTAAAGAGCTTGGAAGTTTGAATTCATGCATACAGCAGACATACATGTATCATGTAATGAGCATGAGCATAAAATATGGTCATGGCAAAAGACAAAATCACAGTCACCTGAGTGAGGTTGGAAGTACAGGGGTCTCTAATTCGATCAATATGCTTGACATTGTACAGTTGTAATTATCAATATTTCATTTTGATATGTAAAGGTCAAGAGAAATTTAACAATGAAGAAGACTGCGTCATCCAATGTAAAAAGTTACAAAAATGCTGACAAGTTTGGTCAAGCTGAAGCCATACCTTACCAATGTCAGTCATTTAGATCAACAACAAAGGTGAAAGTAGTCCCAATTACCAAACGTAATCGAGACATGTTTAGTGCTGCAGCCAGATCCAAACCTGGACCCATTGCTAAGACAAAGAGTGTTTCTTTTTATACCAAACCATTCCTATGGCAGGGTCAACAAAGTACAGACCAAGCTGAATCAACAAATCTTCCTACACGATTCCTGGAAGAGGAAGAAAACCTCCGAAAAGTCAGAGGTCAGAAAAGAAAACATGGCGTCCCGTCGCATCGTCAGTGGTTCAATGATCTGCATGTTGGAGGAAAGTCAACAAACATTGCTGAAAAATATGACTATCGTGATGAAGCTGACAAAATTAGGCAATTAGCTCTACCTCCAAATGCTCAAGAGCTGTATATGGGCCGAGGCATCAACCTACCAGAGGACCACTCAACAAACAGAAGAATGAAAGAATGGCAGAATAAAATAAAGGCAGAATGTGAACTTCCTAACTCAGCACCTGCTATGACGACGGTGATGACTAGTGCGGTGAAGACAACAATGCAAAGCACTATACCCAGGTACATTCAGCCCTTGCCAAAAGTCACACGTTCTCATACCATGTCACACAGTACATCAGACAGACATAGTAGTATTGCAAGTGAGCCATCCTCGGTCAGGAAGCCAGGGCGAAGGAAATCACAGATGGAAAGACAGAGAAGAAATTCTGAAATATCAAGAAGGGGTAGTCAAGTTGAGCTGAAAAAACAAGAGACCAAGGGGGTGGAGCCTGAGCCACTGAAGAGTGAGGCTGTTACTTTAAGTGAAGATAATGAAATGGAAATGGAGGTGAAAGATGATGCCATTGATAACTCTACACCTGTGGAAGTGGCAATGGAGGAAACCAAAGATGAAGGAGAGATATCTATTACAGCAGATGTTAGGCCCAATTCTGAAATGGAGATAGAGATTCCAGAGGATGACCCAAGTAGGCTTGGCTTACATCATAGCTCTTCCTTCTCAAAGATAGCCTCACCCAATCCACTCACATCTATTGATATAACTCTACATATCTCAGCTGATCGAAAAGAAGAGTTATCAGCAAAATTCACTAAGCTGGACTCAAATAGAGATGGGCATATCACGTTTCAAGAATTAATGAGTGTTCTTCCAGACTCCATAACAAAATCTCAGAAGAAGTTTATCAAAGAGGTATATGAAGCTGTAAGTAGTAGCACCTTCTTTGGTCTTGAGGAGTTTGTGGGTGTGACATGCCTTGGAGAATTGATGACCAAGTTACCTGTACCTATCAAAGATTATTATGATGATGTAGACTTTGCCTCAATCCAGCAGACTATTATGAAATACGTTATGATGTTTTCCTCAGTAGACAGGCAACAAACTGGAGCCATATCTGTTGATTCTCTGCTGGAGGTGCTGTCCATGGCAACAGATAGAGATTTGAAATCTGATCAAAGTCAAACTGAGCAGATTTTGGCAACAATAGCAAAGGTTGGAATATAGAGCTCACTCATTCCTAATCCCTCTTCAAACTTCATAAAACATTCCTTCTATACATTAATTTTACATTAAATTCTATTTATCATTTGCAAACTGATACCAACATGCGTACGGTTTTTCTTTTAGTTCTTAATCTTCAAGATTAATTGTGTTGTTTTTATCTTTCATTTTCCGATACAAAATCAGTTGATTTTGATTTCCATCCTATGTTCAGACGATACTGAATCACTTTGCCAGTTAATCAAACTGTTACAAAAATTGACGAATTGTTCACCCAAATGTTTATGTGGATATAGAAACCTTCACTTATGAAAAATTACAGATGTTTGTTCAATCATTATGATAAGTAATTGTAAGTGAAGTGTTTTAATTTTTGTGAATTTTGTTTGTTTGTTTGGCAGGTAGGTGATGGGATTGTGCCTTTGATGAAAGATACTTGGGTATAGGGCCATTACATTTTTGTCCATCGAAAAAAAATATAGGTATTAT\"\r",
      "\r\n"
     ]
    }
   ],
   "source": [
    "!head Phel_DEGsequences.txt"
   ]
  },
  {
   "cell_type": "markdown",
   "metadata": {},
   "source": [
    "Remove the \"\", and replace `Phel_` with `>Phel_` in text editor gedit"
   ]
  },
  {
   "cell_type": "code",
   "execution_count": 5,
   "metadata": {
    "collapsed": false
   },
   "outputs": [
    {
     "name": "stdout",
     "output_type": "stream",
     "text": [
      ">Phel_contig_10\r",
      "\r\n",
      "TGTACCCCTGGGTGGACAGAAGCAATTATAGTAAAGTATCTTGCTCAAGGACACAAGTGTCATGACCGGGATTCGAACCCACACCCCGATGACTCAACCACCAGAACTTGAATACGATGCTCTAAACCGCTCAGCCATGACACCCTGGAAAACAACATTCATTATCTCATTCCCATTCAAAGGTCTGTCAGTTTCATATTATTTGTGTCAAGCAATAAAAAACAAGTTGCATTAATATTGCATTTTCATCTGACTACAGCAGCAATTGCGACAGATTCTCAAGACCACAAAGATTCCTATTCTCAGCCTCATCTTGATGCAATGCCAGCTCAGCGTAAAGACGACGAAGCCCTGAGGAGCATCATCAGCCAAGAACCGTGGAACTACGAGGTCTTATACACTGTCAAGATTGAGAAGGTGTACAAGACGGTGGACGGGAAGGTCTCCATGAGGGAAGGGGAGGAGGTTCAGATTAAGAGTTTCTATCCTGGGGGAATGTTTTGCGGAGTGGAGCTCAAGAAAGGAAAATCCTATGTTTTAGGAGGTGCCATCAAGGATCAGATTGGCAGATGTGACTTAATACTCGAATATAAGACCATCTCGAAAAGACAAAAGCAAGGACTCCGCAGCAACTATGGCAAATTCTGTGACAAGTGTCAGATTGCAACATGTCACTCCCCCCAATGCGCCGCCCACCTGCCGGAGAACACGTGTGCGTACATGGCCCACGACAGTTACGACAGACACGGTATCGGCTACCAGGAGGATGACTGCCTCGCAGCGCACTCCAAATGCCTCCCAAAAGAAGGTCACAAGATGTGCCAGTGGCACAGAAATAAAGATTTGAAGGGATGTCTGAGTGAGACGGGTGTGGACAGTCGCCCGGGTGTGAATCAGGGGCCAAGGAGACATCGCCAATCGCAGGGTCAACATTAAGACTGGTTTTTTTTCTTTTGCACTTTGTTCTTCCGTCTCTCTTTGTATTTTCCCACAACCTCCCTCTTTCTTCATCTTGCTTTTTTGTTTTAATAATTTTTTTTTTAATGCTGCACATAATTTATAAAGAGCCAGTGTGGTCTCGAACGTCTTCAATAATAAAACTACTGATCCAAACTTGAAACTGTTACCATTAACTACAGTTAGTAGGGTGTCTCATATTGTATAATGCAAGTAATGTATAAAGACATCGATGACATCACTCTTGGATTGTCATACGAACAATTTTGTTTCATTGTTTCGGGGTTGTGTTTTTCCTTCTTCATTTTTTAATGGGCGGACCAAAAAAGAGCAGGGCAACACCTGACTCTTACTTAATAGACTACATTCAGTTTCCTTTCATTTTTATTTACCAAACAAAAAGTCTGAAGGACTCAAAACTATTTAGTTCATACAATGCCAAAAAAAAGCTGTCATAATTTGGGTTGGGGATAAAAAAGATTAATATACCAACTTTTGTTTCATTGTACACCAATGTGTAATAAGCACTGTAGAGACCATTCTATTGCAAGTAAGTCATTATGGTCATTAACTTGTGGAGTAATTACCAAAAGTATACCCTGCCTTCGAAACCAAAAATATTATCAACACTCTTTTTGATCACAACAATACAATGTTGTTTTTCACCTCTGCTGTATTTTTTTCTGTTTCTAAAAACGCATATACTCCTTCATGCTCACAGCGCACTAAACATGTACACGCTTACAAAATGTAAGCAAATAAATATATATATAAATATTAAGCTTTTAAAAGAAATCTATAAACAAAAATTTAAATAGTGTACAAAAATAGACTAAAATGGCTTTTTAGTGTACTCTATATATTTTTATTATGTGTATGTACTAGAACAAATTCAGTTGTAAGCATGTTTATCTCCGTTTATCTTGCTTAATTTATCCAAAGGCTAAAATGTTTTTAAAATCATCGAATCCGAAGATCGGTTTCTAATCCAAAGTCCAATGATGTTTTGTACCTTTCAAATCTCTAATATTTCATTTTTTTTCCTGGAAAAGAAGTGGTTTGAACAATATTTCAATCATCCTACGGCAGGTAGGTGACGGGATCATGCCTATGATGATACAAACATGGAATTTGGCACACAGTCGGACTAAGTCATGAGAATGATATTTGGCGATGGGGCC\r",
      "\r\n",
      ">Phel_contig_10001\r",
      "\r\n",
      "ACGGAGTTCTTTGCCCCCCCCCCCAAAAAAAAAAATTAAATAAAATAAAATAAATAAAACAATAAAAAAATGGGACTACAATGTTTACTTGAATTACCTAAACTTGTCGAAAAACTTCACAGAAAAATAGAACCGGTCAATGTTCTTTTAAACAGTTTTCAACTGCTAGTGCGAAGTTAATTCGAAACAAAAGTTGTGGAGATCTTCAGAACTGAACACTTTGATACCGTAGAATGATAGTTTGACGATTATAGACAGAAGCAATGGCGAAGGCTGCAATGACCGTGATGACGGATCGGACATGGATTGACAGTAACAAGTAGTGACACATTTGAATTAGTTATTCTTTATTCAAGGGGTTTTGCGGTATATTAAATTAAAGATAGCTTTCGACAGAGATTATTCGGTGATAATAATAATAATAATAATAATATTAATACACTTAAACTTAATGAAGTACATTAGGTCGTGCTACTGTAATGTGAAGTATAATTATTCATACAACAGCAATAATTAAAACAAGAAAGGAAAAACATAACAAACAGAATGACCTGATTTAATAATCTGATGACACTGTTCAAAACGGGAAATTTGTGATTCTTCCTCGTAAAAAGGTGAAACAAAAAACAATGTTCGGCCAAACTCCAATTTTAATCTTTTTCATCCAAGTAAATTAGTTCTAAAATGTAAAATGATACACTCTGAAAACTCCCGGGTCAGAATTAATTTGGTTCCGGGTCCTAAAGGGTCTGACCCATTTCTCGCATGACGAAGAAATGGGTCAAACTGACACAGAATCTGAGCTAAAATCTCATTTTTAACCATGCTTCCGCGGGTCAGCATGACCTAGAAAAGGGTTAGGGCCACTGGGACCCGAGAACTGGGCTAATACTGGGACCCGGGAACGGGGTTATTTCTGACCCTGGAACCGGGTTAATATCGACTCAGGAACCGGGTTAATTCTGACCTGGTAACCGGGTTAATTCTGACATGGGAACCGGGTTAATTCTGACATGGGAACAGGGTTTATTCTGACCTGGTAACCGGGTTTATTCTGACCCGGGAACCGGGTTAGTTCTGACCAGGTAACCGGGTTAATTCTGACATG\r",
      "\r\n",
      ">Phel_contig_10005\r",
      "\r\n",
      "AACCCCAAATTATTTAAAATGTACCTAGCCAATTTCTCTCGTGGATAATTACTTGACACAAAATTGGGTTGTTAAACTATGGGCTCTACTATAATAGACCTTATGGACATAACCTTATAAGAGTAGGGGGGCCCTCGGCTGTGTAGGTCAAAAGAAGGAACCTCATTGGCCCATCCTCATTGGCCCATCCTGCTGTTTTGTCATCATTTTATCTCTAAGATGGTGGAAACCACGCACAATTTTCAGCATGTTAACATAATGTCCTTAATTTGGGTTGTACCAACCAATGGTGGATTGATGACATTAATGCATAAGGTGGTCTATTAAAGGAGATCATGTTGGGAACTACCACCACAGTGTACACACATCATTATCACTGTGTTGAAGCTTATCATTGTGACTTGACTCACCATGGACACAGTGGTCTTGTTCAAAATGTCCTGTGTTAACAACACACTAGGAACACAAAGTTTTACAATTATTATAACATTCCAAACTTAGATTCTGCTTTATGATTGGTTTAGAGAGCATCAACTTGATATGTCCAATGTTTACGAGAAACCCACAGGTCCATGAGCGCAATGCACTAAACCCATAGCAACTTCTGTACTATACATGCAGCAACGTCAGCTTCTTGATTCCTAGGCATCAGTATTAGTGTACTGTCTAGGGTGTTACAAATATTGACTGCTTTTACTATTGCTATGTACCATTCTATTTTCAAATAAAAAATACATGTAGATGGTCTGGGGATCACCTCAGTGGTAGTTTCAACCACAGCACTTGAAGCACTCAATGTTTGTATACGATGTTACTTTAACATAGGGGAACAGTGTTTTACAGGATCACACTTCAAGTATGATGTTAATTACCGAGACAAATTTCATAAATTTTTCGGATGTTTACATGAATAAAAATACCATTGTATTTAGTTATCATTTAAAGTATTTCAGTTCCTCTCCAGTTAATAGAAATTCAAATATTTCCGTACTGTGTTTGCTGTGTGCGCCTTTTCATGGCAATAGTTGTAAGGAAGACTGCCAGAACAACTGCAATCAATGCACCGACCGTGATCCCAATAATCTCGCCTATGTTCATCTGATACGGGCCAGGAGTCAACATGGTGGTGTGAGTGGTGGTGTAAGAGGTTGTTGGAATGAAATCTGGGCACACTTCCACCTCTTTACCAAAATGCCCCTTGTCTGATGATCTATTGGCATAAGGTTGAAACAGAACATCTTTCATCAACACCATGACTGGGCCTTTCTTGAGGGTCAGAGATTTACACTTGAAGCTTTTACCAATAGTGCCGTTTTTGT\r",
      "\r\n",
      ">Phel_contig_10010\r",
      "\r\n",
      "GTAGGCAATTAAACCAAAGTCTGATTACCTACTTTCAAAACCATAATATTCATGAACTACATGTTGGCATTGTTGGGACATCACATTATGCAAACAAAATAGCTTTGCTGCAACAGCTTGGATCAATGCAAATGAAGTACATAACATCAAGTTTGTTTGACCAAGCTGCTGAATGTATGCGAATGAAATACATTATATCAAGTTTGTTTGAGCAAGTAGCTGTTGCTAAATAAATAGAAATGCATCTATAGTGGAACGGATTTGTACTAGGCCAATAACAGAGGAAGATGTGTTTGGACTTGAACAAATACAAAAATAAACTAAACATTAGGTGTTTGTCCTTTTGGACGAACACAAAGATGGTCCGGTTTCATTTTAGAATTTTACGATCAAGACCATGTAACTGACCTTGAATTTGAGACAATTTGACCATCAAGCCTAACACATACCCTCATTTTTACACTAATTGTGCCCACAACCATACAAAATAGCAATGTACTCTCAAAAATATGACTTGACAAAATAATACGAGGCCTAAATTATTGACCTATACAAAACCAGTCTGCACACAAACAGACAATTAAGTTCAAAATTGTCTAACCACACTGTGTACCAATTGAAACTCAAACATTTCCAACCGACATAGACCCTACAGTCTTACGAAAAAAACTTAAAAGTTACACAAGAATAAAGACAAGACAATTGAAATACACAGGGGGGGATGGAGTTAGCTAGAAACTTAAAGTTACAATAATAATGTGTGCAACAATA\r",
      "\r\n",
      ">Phel_contig_10013\r",
      "\r\n",
      "ACAGGTGACTTTTGTTGTATCTTTATTGGTAAATTTGGCCTAAAAATCAGCAATACGTTGATAAAAACCAATCTATGACCCTACCTTTAAAGAGCTTGGAAGTTTGAATTCATGCATACAGCAGACATACATGTATCATGTAATGAGCATGAGCATAAAATATGGTCATGGCAAAAGACAAAATCACAGTCACCTGAGTGAGGTTGGAAGTACAGGGGTCTCTAATTCGATCAATATGCTTGACATTGTACAGTTGTAATTATCAATATTTCATTTTGATATGTAAAGGTCAAGAGAAATTTAACAATGAAGAAGACTGCGTCATCCAATGTAAAAAGTTACAAAAATGCTGACAAGTTTGGTCAAGCTGAAGCCATACCTTACCAATGTCAGTCATTTAGATCAACAACAAAGGTGAAAGTAGTCCCAATTACCAAACGTAATCGAGACATGTTTAGTGCTGCAGCCAGATCCAAACCTGGACCCATTGCTAAGACAAAGAGTGTTTCTTTTTATACCAAACCATTCCTATGGCAGGGTCAACAAAGTACAGACCAAGCTGAATCAACAAATCTTCCTACACGATTCCTGGAAGAGGAAGAAAACCTCCGAAAAGTCAGAGGTCAGAAAAGAAAACATGGCGTCCCGTCGCATCGTCAGTGGTTCAATGATCTGCATGTTGGAGGAAAGTCAACAAACATTGCTGAAAAATATGACTATCGTGATGAAGCTGACAAAATTAGGCAATTAGCTCTACCTCCAAATGCTCAAGAGCTGTATATGGGCCGAGGCATCAACCTACCAGAGGACCACTCAACAAACAGAAGAATGAAAGAATGGCAGAATAAAATAAAGGCAGAATGTGAACTTCCTAACTCAGCACCTGCTATGACGACGGTGATGACTAGTGCGGTGAAGACAACAATGCAAAGCACTATACCCAGGTACATTCAGCCCTTGCCAAAAGTCACACGTTCTCATACCATGTCACACAGTACATCAGACAGACATAGTAGTATTGCAAGTGAGCCATCCTCGGTCAGGAAGCCAGGGCGAAGGAAATCACAGATGGAAAGACAGAGAAGAAATTCTGAAATATCAAGAAGGGGTAGTCAAGTTGAGCTGAAAAAACAAGAGACCAAGGGGGTGGAGCCTGAGCCACTGAAGAGTGAGGCTGTTACTTTAAGTGAAGATAATGAAATGGAAATGGAGGTGAAAGATGATGCCATTGATAACTCTACACCTGTGGAAGTGGCAATGGAGGAAACCAAAGATGAAGGAGAGATATCTATTACAGCAGATGTTAGGCCCAATTCTGAAATGGAGATAGAGATTCCAGAGGATGACCCAAGTAGGCTTGGCTTACATCATAGCTCTTCCTTCTCAAAGATAGCCTCACCCAATCCACTCACATCTATTGATATAACTCTACATATCTCAGCTGATCGAAAAGAAGAGTTATCAGCAAAATTCACTAAGCTGGACTCAAATAGAGATGGGCATATCACGTTTCAAGAATTAATGAGTGTTCTTCCAGACTCCATAACAAAATCTCAGAAGAAGTTTATCAAAGAGGTATATGAAGCTGTAAGTAGTAGCACCTTCTTTGGTCTTGAGGAGTTTGTGGGTGTGACATGCCTTGGAGAATTGATGACCAAGTTACCTGTACCTATCAAAGATTATTATGATGATGTAGACTTTGCCTCAATCCAGCAGACTATTATGAAATACGTTATGATGTTTTCCTCAGTAGACAGGCAACAAACTGGAGCCATATCTGTTGATTCTCTGCTGGAGGTGCTGTCCATGGCAACAGATAGAGATTTGAAATCTGATCAAAGTCAAACTGAGCAGATTTTGGCAACAATAGCAAAGGTTGGAATATAGAGCTCACTCATTCCTAATCCCTCTTCAAACTTCATAAAACATTCCTTCTATACATTAATTTTACATTAAATTCTATTTATCATTTGCAAACTGATACCAACATGCGTACGGTTTTTCTTTTAGTTCTTAATCTTCAAGATTAATTGTGTTGTTTTTATCTTTCATTTTCCGATACAAAATCAGTTGATTTTGATTTCCATCCTATGTTCAGACGATACTGAATCACTTTGCCAGTTAATCAAACTGTTACAAAAATTGACGAATTGTTCACCCAAATGTTTATGTGGATATAGAAACCTTCACTTATGAAAAATTACAGATGTTTGTTCAATCATTATGATAAGTAATTGTAAGTGAAGTGTTTTAATTTTTGTGAATTTTGTTTGTTTGTTTGGCAGGTAGGTGATGGGATTGTGCCTTTGATGAAAGATACTTGGGTATAGGGCCATTACATTTTTGTCCATCGAAAAAAAATATAGGTATTAT\r",
      "\r\n"
     ]
    }
   ],
   "source": [
    "!head Phel_DEGsequences.fa"
   ]
  },
  {
   "cell_type": "markdown",
   "metadata": {},
   "source": [
    "### Step Five: Make database using fasta file just generated from seastar DEG"
   ]
  },
  {
   "cell_type": "code",
   "execution_count": 6,
   "metadata": {
    "collapsed": true
   },
   "outputs": [],
   "source": [
    "mv Phel_DEGsequences.fa data/Phel_DEGsequences.fa"
   ]
  },
  {
   "cell_type": "code",
   "execution_count": 7,
   "metadata": {
    "collapsed": false
   },
   "outputs": [
    {
     "name": "stdout",
     "output_type": "stream",
     "text": [
      "/mnt/hgfs/Shared Drive D/Pacific cod/DataAnalysis/mf-fish546-2016/TranscriptomeBLAST/data\n"
     ]
    }
   ],
   "source": [
    "cd data"
   ]
  },
  {
   "cell_type": "code",
   "execution_count": 6,
   "metadata": {
    "collapsed": false
   },
   "outputs": [
    {
     "name": "stdout",
     "output_type": "stream",
     "text": [
      "\u001b[0m\u001b[34;42mdata\u001b[0m/                                 \u001b[01;32mPhel_transcriptome_edited.txt\u001b[0m*\r\n",
      "\u001b[01;32mGadus_morhua.gadMor1.cdna.all.fa.gz\u001b[0m*  \u001b[01;32mPhel_transcriptome.fa\u001b[0m*\r\n",
      "\u001b[01;32mPhel_countdata.txt\u001b[0m*                   \u001b[01;32muniprot_data.fasta\u001b[0m*\r\n",
      "\u001b[01;32mPhel_DEGlist.tab\u001b[0m*                     \u001b[01;32muniprot_data.fasta.phr\u001b[0m*\r\n",
      "\u001b[01;32mPhel_DEGsequences.fa\u001b[0m*                 \u001b[01;32muniprot_data.fasta.pin\u001b[0m*\r\n",
      "\u001b[01;32mPhel_DEGsequences.fa.nhr\u001b[0m*             \u001b[01;32muniprot_data.fasta.psq\u001b[0m*\r\n",
      "\u001b[01;32mPhel_DEGsequences.fa.nin\u001b[0m*             \u001b[01;32muniprot-gadus+macrocephalus.fasta\u001b[0m*\r\n",
      "\u001b[01;32mPhel_DEGsequences.fa.nsq\u001b[0m*\r\n"
     ]
    }
   ],
   "source": [
    "ls"
   ]
  },
  {
   "cell_type": "code",
   "execution_count": 18,
   "metadata": {
    "collapsed": false
   },
   "outputs": [
    {
     "name": "stdout",
     "output_type": "stream",
     "text": [
      "/mnt/hgfs/Shared Drive D/Pacific cod/DataAnalysis/mf-fish546-2016/TranscriptomeBLAST\n"
     ]
    }
   ],
   "source": [
    "cd ../"
   ]
  },
  {
   "cell_type": "code",
   "execution_count": 19,
   "metadata": {
    "collapsed": false
   },
   "outputs": [
    {
     "name": "stdout",
     "output_type": "stream",
     "text": [
      "\n",
      "\n",
      "Building a new DB, current time: 10/28/2016 11:38:34\n",
      "New DB name:   /mnt/hgfs/Shared Drive D/Pacific cod/DataAnalysis/mf-fish546-2016/TranscriptomeBLAST/data/Phel_DEGsequences.fa\n",
      "New DB title:  ./data/Phel_DEGsequences.fa\n",
      "Sequence type: Nucleotide\n",
      "Keep Linkouts: T\n",
      "Keep MBits: T\n",
      "Maximum file size: 1000000000B\n",
      "Adding sequences from FASTA; added 3729 sequences in 0.252492 seconds.\n"
     ]
    }
   ],
   "source": [
    "!makeblastdb -in ./data/Phel_DEGsequences.fa -dbtype nucl"
   ]
  },
  {
   "cell_type": "code",
   "execution_count": 20,
   "metadata": {
    "collapsed": false
   },
   "outputs": [
    {
     "name": "stdout",
     "output_type": "stream",
     "text": [
      "/mnt/hgfs/Shared Drive D/Pacific cod/DataAnalysis/mf-fish546-2016/TranscriptomeBLAST/data\n"
     ]
    }
   ],
   "source": [
    "cd data"
   ]
  },
  {
   "cell_type": "code",
   "execution_count": 7,
   "metadata": {
    "collapsed": false
   },
   "outputs": [
    {
     "name": "stdout",
     "output_type": "stream",
     "text": [
      "\u001b[0m\u001b[34;42mdata\u001b[0m/                                 \u001b[01;32mPhel_transcriptome_edited.txt\u001b[0m*\r\n",
      "\u001b[01;32mGadus_morhua.gadMor1.cdna.all.fa.gz\u001b[0m*  \u001b[01;32mPhel_transcriptome.fa\u001b[0m*\r\n",
      "\u001b[01;32mPhel_countdata.txt\u001b[0m*                   \u001b[01;32muniprot_data.fasta\u001b[0m*\r\n",
      "\u001b[01;32mPhel_DEGlist.tab\u001b[0m*                     \u001b[01;32muniprot_data.fasta.phr\u001b[0m*\r\n",
      "\u001b[01;32mPhel_DEGsequences.fa\u001b[0m*                 \u001b[01;32muniprot_data.fasta.pin\u001b[0m*\r\n",
      "\u001b[01;32mPhel_DEGsequences.fa.nhr\u001b[0m*             \u001b[01;32muniprot_data.fasta.psq\u001b[0m*\r\n",
      "\u001b[01;32mPhel_DEGsequences.fa.nin\u001b[0m*             \u001b[01;32muniprot-gadus+macrocephalus.fasta\u001b[0m*\r\n",
      "\u001b[01;32mPhel_DEGsequences.fa.nsq\u001b[0m*\r\n"
     ]
    }
   ],
   "source": [
    "ls"
   ]
  },
  {
   "cell_type": "markdown",
   "metadata": {},
   "source": [
    "### Step Six: BLAST A.cod sequences against seastar sequences"
   ]
  },
  {
   "cell_type": "code",
   "execution_count": 8,
   "metadata": {
    "collapsed": false
   },
   "outputs": [],
   "source": [
    "!gzip -d Gadus_morhua.gadMor1.cdna.all.fa.gz"
   ]
  },
  {
   "cell_type": "code",
   "execution_count": 9,
   "metadata": {
    "collapsed": false,
    "scrolled": true
   },
   "outputs": [
    {
     "name": "stdout",
     "output_type": "stream",
     "text": [
      "\u001b[0m\u001b[34;42mdata\u001b[0m/                              \u001b[01;32mPhel_transcriptome_edited.txt\u001b[0m*\r\n",
      "\u001b[01;32mGadus_morhua.gadMor1.cdna.all.fa\u001b[0m*  \u001b[01;32mPhel_transcriptome.fa\u001b[0m*\r\n",
      "\u001b[01;32mPhel_countdata.txt\u001b[0m*                \u001b[01;32muniprot_data.fasta\u001b[0m*\r\n",
      "\u001b[01;32mPhel_DEGlist.tab\u001b[0m*                  \u001b[01;32muniprot_data.fasta.phr\u001b[0m*\r\n",
      "\u001b[01;32mPhel_DEGsequences.fa\u001b[0m*              \u001b[01;32muniprot_data.fasta.pin\u001b[0m*\r\n",
      "\u001b[01;32mPhel_DEGsequences.fa.nhr\u001b[0m*          \u001b[01;32muniprot_data.fasta.psq\u001b[0m*\r\n",
      "\u001b[01;32mPhel_DEGsequences.fa.nin\u001b[0m*          \u001b[01;32muniprot-gadus+macrocephalus.fasta\u001b[0m*\r\n",
      "\u001b[01;32mPhel_DEGsequences.fa.nsq\u001b[0m*\r\n"
     ]
    }
   ],
   "source": [
    "ls"
   ]
  },
  {
   "cell_type": "code",
   "execution_count": 10,
   "metadata": {
    "collapsed": false
   },
   "outputs": [
    {
     "name": "stdout",
     "output_type": "stream",
     "text": [
      "/mnt/hgfs/Shared Drive D/Pacific cod/DataAnalysis/mf-fish546-2016/TranscriptomeBLAST\n"
     ]
    }
   ],
   "source": [
    "cd ../"
   ]
  },
  {
   "cell_type": "code",
   "execution_count": 11,
   "metadata": {
    "collapsed": true
   },
   "outputs": [],
   "source": [
    "!blastn \\\n",
    "-query ./data/Gadus_morhua.gadMor1.cdna.all.fa \\\n",
    "-db ./data/Phel_DEGsequences.fa \\\n",
    "-out ./GadusMor_Phel_BLAST.tab \\\n",
    "-evalue 1E-20 \\\n",
    "-max_target_seqs 1 \\\n",
    "-max_hsps 4 \\\n",
    "-outfmt 6 \\\n",
    "-num_threads 8"
   ]
  },
  {
   "cell_type": "code",
   "execution_count": 12,
   "metadata": {
    "collapsed": false
   },
   "outputs": [
    {
     "name": "stdout",
     "output_type": "stream",
     "text": [
      "ENSGMOT00000000802.1\tPhel_contig_1060\t76.18\t680\t151\t9\t579\t1254\t187\t859\t3e-95\t348\r\n",
      "ENSGMOT00000001549.1\tPhel_contig_1512\t73.04\t560\t120\t26\t592\t1134\t1712\t1167\t1e-41\t169\r\n",
      "ENSGMOT00000002670.1\tPhel_contig_1544\t76.60\t1667\t371\t17\t82\t1739\t3277\t1621\t0.0\t900\r\n",
      "ENSGMOT00000008478.1\tPhel_contig_10349\t84.67\t150\t21\t2\t751\t899\t5182\t5034\t1e-35\t148\r\n",
      "ENSGMOT00000008510.1\tPhel_contig_8954\t76.71\t4260\t920\t62\t228\t4450\t583\t4807\t0.0\t2305\r\n",
      "ENSGMOT00000008668.1\tPhel_contig_5519\t75.77\t2117\t489\t22\t1\t2105\t2198\t94\t0.0\t1046\r\n",
      "ENSGMOT00000009017.1\tPhel_contig_2347\t81.16\t929\t165\t4\t4\t932\t188\t1106\t0.0\t741\r\n",
      "ENSGMOT00000010469.1\tPhel_contig_3578\t73.28\t479\t95\t26\t439\t903\t1759\t1300\t8e-34\t145\r\n",
      "ENSGMOT00000011991.1\tPhel_contig_7024\t73.81\t1600\t382\t28\t286\t1865\t4004\t2422\t6e-171\t599\r\n",
      "ENSGMOT00000012564.1\tPhel_contig_8899\t84.06\t715\t108\t5\t37\t749\t1\t711\t0.0\t686\r\n"
     ]
    }
   ],
   "source": [
    "!head GadusMor_Phel_BLAST.tab"
   ]
  },
  {
   "cell_type": "code",
   "execution_count": 13,
   "metadata": {
    "collapsed": false
   },
   "outputs": [
    {
     "name": "stdout",
     "output_type": "stream",
     "text": [
      "24 GadusMor_Phel_BLAST.tab\r\n"
     ]
    }
   ],
   "source": [
    "!wc -l GadusMor_Phel_BLAST.tab"
   ]
  },
  {
   "cell_type": "markdown",
   "metadata": {},
   "source": [
    "### Step Seven: What are the genes that matched up? \n",
    "<br>\n",
    "<br>\n",
    "\n",
    "I chose to investigate the first with an e-value = 0.0, which was ENSGMOT00000002670.1,\tPhel_contig_1544\n",
    "\n"
   ]
  },
  {
   "cell_type": "code",
   "execution_count": 14,
   "metadata": {
    "collapsed": false
   },
   "outputs": [
    {
     "name": "stdout",
     "output_type": "stream",
     "text": [
      "/mnt/hgfs/Shared Drive D/Pacific cod/DataAnalysis/mf-fish546-2016/TranscriptomeBLAST/data\n"
     ]
    }
   ],
   "source": [
    "cd data"
   ]
  },
  {
   "cell_type": "code",
   "execution_count": 15,
   "metadata": {
    "collapsed": false,
    "scrolled": true
   },
   "outputs": [
    {
     "name": "stdout",
     "output_type": "stream",
     "text": [
      ">ENSGMOT00000002670.1 cdna genescaffold:gadMor1:GeneScaffold_57:766957:770498:-1 gene:ENSGMOG00000002437.1 gene_biotype:protein_coding transcript_biotype:protein_coding gene_symbol:HSPA5 description:heat shock protein family A (Hsp70) member 5 [Source:HGNC Symbol;Acc:HGNC:5238]\r\n"
     ]
    }
   ],
   "source": [
    "#what is the description of this gene in the Gadus morhua fasta file?\n",
    "!grep 'ENSGMOT00000002670.1' Gadus_morhua.gadMor1.cdna.all.fa"
   ]
  },
  {
   "cell_type": "code",
   "execution_count": 24,
   "metadata": {
    "collapsed": false
   },
   "outputs": [
    {
     "name": "stdout",
     "output_type": "stream",
     "text": [
      "/mnt/hgfs/Shared Drive D/Pacific cod/DataAnalysis/mf-fish546-2016/TranscriptomeBLAST\n"
     ]
    }
   ],
   "source": [
    "cd ../"
   ]
  },
  {
   "cell_type": "code",
   "execution_count": 26,
   "metadata": {
    "collapsed": false,
    "scrolled": false
   },
   "outputs": [
    {
     "name": "stdout",
     "output_type": "stream",
     "text": [
      "\"Phel_contig_1544\"\r\n",
      "\"Phel_contig_15442\"\r\n",
      "\"Phel_contig_15443\"\r\n",
      "\"Phel_contig_15446\"\r\n"
     ]
    }
   ],
   "source": [
    "#check to make sure that seastar contig is definitely differentially expressed\n",
    "!grep 'Phel_contig_1544' Phel_DEGnames.txt"
   ]
  },
  {
   "cell_type": "markdown",
   "metadata": {},
   "source": [
    "I also used NCBI blast and ran the Phel_contig_1544 sequence. It came up as a heat shock protein (family A), which matches the description of the gene function in the Gadus morhua fasta file. \n",
    "<br>\n",
    "<br>\n",
    "<br>\n",
    "\n",
    "Taking a look at some other ones...."
   ]
  },
  {
   "cell_type": "code",
   "execution_count": 27,
   "metadata": {
    "collapsed": false,
    "scrolled": true
   },
   "outputs": [
    {
     "name": "stdout",
     "output_type": "stream",
     "text": [
      "/mnt/hgfs/Shared Drive D/Pacific cod/DataAnalysis/mf-fish546-2016/TranscriptomeBLAST/data\n"
     ]
    }
   ],
   "source": [
    "cd data"
   ]
  },
  {
   "cell_type": "code",
   "execution_count": 16,
   "metadata": {
    "collapsed": false
   },
   "outputs": [
    {
     "name": "stdout",
     "output_type": "stream",
     "text": [
      ">ENSGMOT00000000802.1 cdna genescaffold:gadMor1:GeneScaffold_1373:34380:59814:1 gene:ENSGMOG00000000755.1 gene_biotype:protein_coding transcript_biotype:protein_coding gene_symbol:ACLY (1 of many) description:ATP citrate lyase [Source:HGNC Symbol;Acc:HGNC:115]\r\n"
     ]
    }
   ],
   "source": [
    "!grep 'ENSGMOT00000000802.1' Gadus_morhua.gadMor1.cdna.all.fa"
   ]
  },
  {
   "cell_type": "code",
   "execution_count": 28,
   "metadata": {
    "collapsed": false
   },
   "outputs": [
    {
     "name": "stdout",
     "output_type": "stream",
     "text": [
      ">ENSGMOT00000009017.1 cdna genescaffold:gadMor1:GeneScaffold_2428:389772:392942:-1 gene:ENSGMOG00000008205.1 gene_biotype:protein_coding transcript_biotype:protein_coding gene_symbol:zgc:65894 (1 of many) description:zgc:65894 [Source:ZFIN;Acc:ZDB-GENE-030131-7741]\r\n"
     ]
    }
   ],
   "source": [
    "!grep 'ENSGMOT00000009017.1' Gadus_morhua.gadMor1.cdna.all.fa"
   ]
  },
  {
   "cell_type": "code",
   "execution_count": null,
   "metadata": {
    "collapsed": true
   },
   "outputs": [],
   "source": []
  }
 ],
 "metadata": {
  "anaconda-cloud": {},
  "kernelspec": {
   "display_name": "Python [default]",
   "language": "python",
   "name": "python2"
  },
  "language_info": {
   "codemirror_mode": {
    "name": "ipython",
    "version": 2
   },
   "file_extension": ".py",
   "mimetype": "text/x-python",
   "name": "python",
   "nbconvert_exporter": "python",
   "pygments_lexer": "ipython2",
   "version": "2.7.12"
  }
 },
 "nbformat": 4,
 "nbformat_minor": 1
}
