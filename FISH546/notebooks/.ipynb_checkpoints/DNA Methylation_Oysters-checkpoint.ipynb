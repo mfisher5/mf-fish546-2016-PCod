{
 "cells": [
  {
   "cell_type": "markdown",
   "metadata": {},
   "source": [
    "## DNA Methylation Data Analysis\n",
    "\n",
    "This notebook is for the class homework on DNA methylation data analysis using a single oyster sample. \n",
    "\n",
    "*Goal* - Use [CoGe](https://genomevolution.org/coge/) to determine DNA methylation in given oyster sample\n",
    "<br>\n",
    "<br>\n",
    "<br>\n",
    "**STEP ONE:** Download data from OWL"
   ]
  },
  {
   "cell_type": "code",
   "execution_count": 2,
   "metadata": {
    "collapsed": false
   },
   "outputs": [
    {
     "data": {
      "text/plain": [
       "u'/mnt/hgfs/Shared Drive D/Pacific cod/DataAnalysis/mf-fish546-2016/notebooks'"
      ]
     },
     "execution_count": 2,
     "metadata": {},
     "output_type": "execute_result"
    }
   ],
   "source": [
    "pwd"
   ]
  },
  {
   "cell_type": "code",
   "execution_count": 3,
   "metadata": {
    "collapsed": false
   },
   "outputs": [
    {
     "name": "stdout",
     "output_type": "stream",
     "text": [
      "/mnt/hgfs/Shared Drive D/Pacific cod/DataAnalysis/mf-fish546-2016\n"
     ]
    }
   ],
   "source": [
    "cd ../"
   ]
  },
  {
   "cell_type": "code",
   "execution_count": 3,
   "metadata": {
    "collapsed": true
   },
   "outputs": [],
   "source": [
    "mkdir DNA_Methylation"
   ]
  },
  {
   "cell_type": "code",
   "execution_count": 4,
   "metadata": {
    "collapsed": false
   },
   "outputs": [
    {
     "name": "stdout",
     "output_type": "stream",
     "text": [
      "/mnt/hgfs/Shared Drive D/Pacific cod/DataAnalysis/mf-fish546-2016/DNA_Methylation\n"
     ]
    }
   ],
   "source": [
    "cd DNA_Methylation"
   ]
  },
  {
   "cell_type": "markdown",
   "metadata": {},
   "source": [
    "**Setting up the Alignment on CoGe**\n",
    "\n",
    "Went to CoGe site and logged in >> `My Data`\n",
    "\n",
    "Created a new experiment using the `new` button on the left of the website. \n",
    "![img](https://github.com/mfisher5/mf-fish546-PCod/blob/master/FISH546/OysterDNA_Methylation/NewExperiment.png?raw=true)\n",
    "\n",
    "Added the link to the data under the `Data` tab for the new experiments\n",
    "\n",
    "*Options:* Keep all of the defaults except: \n",
    "- Aligner Bismark (methylation)\n",
    "- enable methylation analysis\n",
    "- Add results to a new notebook\n",
    "<br>\n",
    "<br>\n",
    "<br>\n",
    "\n",
    "**Finding an interesting region**\n",
    "\n",
    "On the CoGe website, I opened the notebook for this project and looked at the data... \n",
    "![picture](https://github.com/mfisher5/mf-fish546-PCod/blob/master/FISH546/OysterDNA_Methylation/Genome_data.png?raw=true)\n",
    "\n",
    "![picture](https://github.com/mfisher5/mf-fish546-PCod/blob/master/FISH546/OysterDNA_Methylation/methylation_region_sequences.png?raw=true)\n",
    "\n",
    "\n",
    "The lighter blue bars show areas of methylation.\n",
    "Zooming in on those regions, and hovering over them with the mouse, I can see more information on which areas are methylated, and the type of methylation (CpG, CHH, CHG). \n",
    "\n",
    "![methylation data](https://github.com/mfisher5/mf-fish546-PCod/blob/master/FISH546/OysterDNA_Methylation/Methylation_data.png?raw=true)\n",
    "\n",
    "\n",
    "\n",
    "The region on scaffold 770: 28531 - 28826 has a lot of methylation. I chose to specifically look at sequence *HWI-C00124:164:C7URDANXX:2:2313:4364:51321_1:N:0:AGTTCC* ==\n",
    "`GATATACGTACGATAGGATAGGATTTACGTACGATACGATAGGATATACGT`\n",
    "\n",
    "![sequence picture](https://github.com/mfisher5/mf-fish546-PCod/blob/master/FISH546/OysterDNA_Methylation/methylation_region_sequence1.png?raw=true)\n",
    "\n",
    "**BLAST alignment to Atlantic cod**\n",
    "\n",
    "*default using megablast, optimized for highly similar sequences*\n",
    "\n",
    "I used the NCBI BLASTn website to align the above sequence to all Atlantic cod (by copying the sequence from CoGe notebook into the BLAST query box). \n",
    "\n",
    "No significantly similar sequences were found. \n",
    "<br>\n",
    "<br>\n",
    "\n",
    "I tried another BLAST search for the following sequences, *optimized for somewhat similar sequences (blastn) rather than highly similar sequences (megablast)*::  \n",
    "\n",
    "*HWI-C00124:164:C7URDANXX:2:1101:3794:60422_1:N:0:AGTTCC* == `ATATTCACGATAAACCTAATAAACGCAAAACCCGATAAACGATCTTAG` <br>(scaffold 770)\n",
    "\n",
    "\n",
    "One alignment: Gadus morhua mRNA for T-cell receptor beta chain, clone T1-71 (L-V-D-J-C)\n",
    "![blast output pic](https://github.com/mfisher5/mf-fish546-PCod/blob/master/FISH546/OysterDNA_Methylation/blast_vAcod.png?raw=true)\n",
    "\n",
    "\n",
    "\n",
    "I wasn't very impressed with this E value, so I tried aligning to an invertebrate as well...\n",
    "\n",
    "**BLAST alignment to Atlantic oyster**\n",
    "\n",
    "Not a good e value here either!\n",
    "![blast output pic](https://github.com/mfisher5/mf-fish546-PCod/blob/master/FISH546/OysterDNA_Methylation/blast_vOyster.png?raw=true)"
   ]
  },
  {
   "cell_type": "code",
   "execution_count": null,
   "metadata": {
    "collapsed": true
   },
   "outputs": [],
   "source": []
  }
 ],
 "metadata": {
  "anaconda-cloud": {},
  "kernelspec": {
   "display_name": "Python [default]",
   "language": "python",
   "name": "python2"
  },
  "language_info": {
   "codemirror_mode": {
    "name": "ipython",
    "version": 2
   },
   "file_extension": ".py",
   "mimetype": "text/x-python",
   "name": "python",
   "nbconvert_exporter": "python",
   "pygments_lexer": "ipython2",
   "version": "2.7.12"
  }
 },
 "nbformat": 4,
 "nbformat_minor": 1
}
