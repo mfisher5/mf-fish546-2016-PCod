{
 "cells": [
  {
   "cell_type": "markdown",
   "metadata": {},
   "source": [
    "## Understanding Genotype Error\n",
    "\n",
    "I have ~6% genotyping error between replicates prepared using 2 different protocols. This notebook reviews ways that I am attempting to cut down on this error.\n",
    "\n",
    "<br>\n",
    "ONE. remove loci out of HWE - Maybe the loci with genotype mismatches are ones that tend to be out of HWE, and would be removed anyway. Ran Genepop v4.2\n",
    "\n",
    "<br>\n",
    "TWO. rerun stacks using the bounded snp model, as opposed to the default snp model. \n",
    "\n",
    "- An article explaining the difference between the two models can be found [here](https://www.ncbi.nlm.nih.gov/pmc/articles/PMC3936987/)\n",
    "- In the article, they explain that \"Allowing high values for the error rate ε (e.g. greater than 10%) increases the likelihood that a locus with a number of alternative reads will be called a homozygous site with excessive error. Reducing the upper ε bound decreases the chance of calling a homozygote when the true genotype is heterozygous\". Since stacks overcalls heterozygotes, we want the error rate to be very low. The problem with lowering the error rate is that this also significantly decreases the number of loci that are retained. In order to circumvent this problem, our lab uses a high error rate (to retain larger amounts of loci), and then corrects the genotypes (getting rid of the excess of homozygotes) using Marine's script. \n",
    "\n",
    "\n",
    "<br>\n",
    "<br>\n",
    "### (1) Remove loci out of HWE\n",
    "\n",
    "I ran genepop 4.2 on my file `batch_1_filtered_MAF_MissingLoci_Individs.txt`. \n",
    "\n",
    "This produced a ton of temporary files that all disappeared and gave me a single large text file with all of the pvalues.\n",
    "However, with the format it is difficult to analyze. So I followed these steps to simplify the process of determining which loci are out of HWE: \n",
    "\n",
    "1. Copy and paste into excel, convert text to columns, delete the header\n",
    "2. Save as a .csv file\n",
    "3. Run a python script that condenses the long text file into a dictionary"
   ]
  },
  {
   "cell_type": "code",
   "execution_count": 1,
   "metadata": {
    "collapsed": false
   },
   "outputs": [
    {
     "data": {
      "text/plain": [
       "u'/mnt/hgfs/Pacific cod/DataAnalysis/mf-fish546-PCod/notebooks'"
      ]
     },
     "execution_count": 1,
     "metadata": {},
     "output_type": "execute_result"
    }
   ],
   "source": [
    "pwd"
   ]
  },
  {
   "cell_type": "code",
   "execution_count": 3,
   "metadata": {
    "collapsed": false
   },
   "outputs": [
    {
     "name": "stdout",
     "output_type": "stream",
     "text": [
      "/mnt/hgfs/Pacific cod/DataAnalysis/scripts\n"
     ]
    }
   ],
   "source": [
    "cd ../../scripts"
   ]
  },
  {
   "cell_type": "code",
   "execution_count": 5,
   "metadata": {
    "collapsed": false
   },
   "outputs": [
    {
     "name": "stdout",
     "output_type": "stream",
     "text": [
      "/mnt/hgfs/Pacific cod/DataAnalysis/Analyses/genepop\n"
     ]
    }
   ],
   "source": [
    "cd ../Analyses/genepop"
   ]
  },
  {
   "cell_type": "code",
   "execution_count": 7,
   "metadata": {
    "collapsed": false
   },
   "outputs": [
    {
     "name": "stdout",
     "output_type": "stream",
     "text": [
      "### Loci out of HWE ###\r\n",
      "## Use this script to find the loci OUT of HWE from genepop's .txt file output. \r\n",
      "## MF 1/17/2017\r\n",
      "\r\n",
      "## ARG 1 - genepop input file\r\n",
      "## To Change in the Script: \r\n",
      "##   1. the end line number - the last line in the section of the genepop output file that has a separate chart for each locus (current is 18828)\r\n",
      "##   2. the total number of lines that each locus' chart takes up (current is 19)\r\n",
      "##   3. the number of lines to add on each iteration of the \"for\" loop (#2 - 1, current is 18)\r\n",
      "#############################################\r\n"
     ]
    }
   ],
   "source": [
    "!head HWE_genepop_to_list.py"
   ]
  },
  {
   "cell_type": "code",
   "execution_count": null,
   "metadata": {
    "collapsed": true
   },
   "outputs": [],
   "source": [
    "python HWE_genepop_to_list.py batch_1_filtered_MAF_MissingLoci_Individs.txt"
   ]
  },
  {
   "cell_type": "markdown",
   "metadata": {},
   "source": [
    "**And this caused some problems...**\n",
    "\n",
    "\n",
    "the script didn't work because some of the loci didn't have enough information to run Fisher's exact test, which meant that the line counting was off. \n",
    "\n",
    "**WHY IS THIS HAPPENING **\n",
    "\n",
    "-- those loci have ALL of the same genotypes + some missing genotypes. somewhere in the filtering scripts, the monomorphic loci are not being filtered out. \n",
    "\n",
    "-- I deleted these monomorphic loci across 1110 loci total, and ended up with 989 monomorphic loci. This extrapolating this to my 8517 final loci, I probably really only have ~7573 truly polymorphic loci. (See spreadsheet [here](https://github.com/mfisher5/mf-fish546-PCod/blob/master/Analyses/loci_monomorphic_checks.xlsx)). \n",
    "\n",
    "-- which means that my genotyping error between 300ng and 500ng replicates is actually higher, since the loci being deleted are monomorphic and therefore can't be loci that are mismatched\n",
    "\n",
    "<br>\n",
    "\n",
    "I also ran the above script after deleting monomorphic loci up to line 18828 (1110 loci). **Of these 1110 loci, only 20 loci had 4 or more populations out of HWE. **\n",
    "\n",
    "\n",
    "<br>\n",
    "**The next step here** is to determine at which filtering script I need to filter out monomorphic loci, refilter these, and then do another analysis of genotyping error between 500ng and 300ng samples. \n",
    "\n",
    "<br>\n",
    "<br>\n"
   ]
  },
  {
   "cell_type": "markdown",
   "metadata": {},
   "source": [
    "### (2) Rerun stacks using bounded SNP model"
   ]
  },
  {
   "cell_type": "code",
   "execution_count": 1,
   "metadata": {
    "collapsed": false
   },
   "outputs": [
    {
     "data": {
      "text/plain": [
       "u'/mnt/hgfs/Pacific cod/DataAnalysis/mf-fish546-PCod/notebooks'"
      ]
     },
     "execution_count": 1,
     "metadata": {},
     "output_type": "execute_result"
    }
   ],
   "source": [
    "pwd"
   ]
  },
  {
   "cell_type": "code",
   "execution_count": 2,
   "metadata": {
    "collapsed": false
   },
   "outputs": [
    {
     "name": "stdout",
     "output_type": "stream",
     "text": [
      "/mnt/hgfs/Pacific cod/DataAnalysis/scripts\n"
     ]
    }
   ],
   "source": [
    "cd ../../scripts"
   ]
  },
  {
   "cell_type": "code",
   "execution_count": 5,
   "metadata": {
    "collapsed": false
   },
   "outputs": [],
   "source": [
    "!python ustacks_populations_genShell_L1L2_1-17.py barcodesL1.txt barcodesL2.txt samples_for_cstacks_L1L2.txt"
   ]
  },
  {
   "cell_type": "code",
   "execution_count": 6,
   "metadata": {
    "collapsed": true
   },
   "outputs": [],
   "source": [
    "mv ustacks_populations_shell_boundSNP.sh ../ustacks_populations_shell_boundSNP.sh"
   ]
  },
  {
   "cell_type": "code",
   "execution_count": 7,
   "metadata": {
    "collapsed": false
   },
   "outputs": [
    {
     "name": "stdout",
     "output_type": "stream",
     "text": [
      "/mnt/hgfs/Pacific cod/DataAnalysis\n"
     ]
    }
   ],
   "source": [
    "cd ../"
   ]
  },
  {
   "cell_type": "code",
   "execution_count": 8,
   "metadata": {
    "collapsed": false
   },
   "outputs": [
    {
     "name": "stdout",
     "output_type": "stream",
     "text": [
      "#!/bin/bash\r\n",
      "cd /mnt/hgfs/Shared\\ Drive\\ D/Pacific\\ cod/DataAnalysis\r\n",
      "mkdir L1L2stacks_m10_boundSNP\r\n",
      "\r\n",
      "#ustacks\r\n",
      "ustacks -t gzfastq -f L1L2samplesT142/PO010715_06.1.fq.gz -r -d -o L1L2stacks_m10_boundSNP -i 001 -m 10 -M 3 -p 6 --model_type bounded\r\n",
      "ustacks -t gzfastq -f L1L2samplesT142/PO010715_27.1.fq.gz -r -d -o L1L2stacks_m10_boundSNP -i 002 -m 10 -M 3 -p 6 --model_type bounded\r\n",
      "ustacks -t gzfastq -f L1L2samplesT142/PO010715_28.1.fq.gz -r -d -o L1L2stacks_m10_boundSNP -i 003 -m 10 -M 3 -p 6 --model_type bounded\r\n",
      "ustacks -t gzfastq -f L1L2samplesT142/PO010715_29.1.fq.gz -r -d -o L1L2stacks_m10_boundSNP -i 004 -m 10 -M 3 -p 6 --model_type bounded\r\n",
      "ustacks -t gzfastq -f L1L2samplesT142/GE011215_08.1.fq.gz -r -d -o L1L2stacks_m10_boundSNP -i 005 -m 10 -M 3 -p 6 --model_type bounded\r\n"
     ]
    }
   ],
   "source": [
    "!head ustacks_populations_shell_boundSNP.sh"
   ]
  },
  {
   "cell_type": "code",
   "execution_count": null,
   "metadata": {
    "collapsed": true
   },
   "outputs": [],
   "source": [
    "./ustacks_populations_shell_boundSNP.sh"
   ]
  },
  {
   "cell_type": "markdown",
   "metadata": {},
   "source": [
    "**Marine's scripts: Using [this](https://github.com/mfisher5/mf-fish546-PCod/blob/master/notebooks/Lanes%201%20and%202%20combined%20pipeline.ipynb) notebook as template**"
   ]
  },
  {
   "cell_type": "code",
   "execution_count": 8,
   "metadata": {
    "collapsed": false
   },
   "outputs": [
    {
     "data": {
      "text/plain": [
       "u'/mnt/hgfs/Pacific cod/DataAnalysis/Analyses/genepop'"
      ]
     },
     "execution_count": 8,
     "metadata": {},
     "output_type": "execute_result"
    }
   ],
   "source": [
    "pwd"
   ]
  },
  {
   "cell_type": "code",
   "execution_count": 9,
   "metadata": {
    "collapsed": false
   },
   "outputs": [
    {
     "name": "stdout",
     "output_type": "stream",
     "text": [
      "/mnt/hgfs/Pacific cod/DataAnalysis/L1L2stacks_m10_boundSNP\n"
     ]
    }
   ],
   "source": [
    "cd ../../L1L2stacks_m10_boundSNP"
   ]
  },
  {
   "cell_type": "code",
   "execution_count": 10,
   "metadata": {
    "collapsed": true
   },
   "outputs": [],
   "source": [
    "!gzip -d batch_3.catalog.snps.tsv.gz"
   ]
  },
  {
   "cell_type": "code",
   "execution_count": 11,
   "metadata": {
    "collapsed": false
   },
   "outputs": [
    {
     "name": "stdout",
     "output_type": "stream",
     "text": [
      "/mnt/hgfs/Pacific cod/DataAnalysis/scripts/UndercallingHets_MB_CW\n"
     ]
    }
   ],
   "source": [
    "cd ../scripts/UndercallingHets_MB_CW/"
   ]
  },
  {
   "cell_type": "code",
   "execution_count": 13,
   "metadata": {
    "collapsed": false
   },
   "outputs": [
    {
     "name": "stdout",
     "output_type": "stream",
     "text": [
      "4 116 C C C C C C C C C C C C C C C C C C C C C C C C C C C C C C C C C C C C C C C C C C C C C C C C C C C C C C C C C C C C C C C C C C C C C C C C C C C C C C C C C C C C A C C C C C C C C C C C C C C C C C C C C C C C C C C C C C C C C\r\n",
      "6 96 AAC AAC AAC AAC AAC AAC AAC AAC AAC AAC AAC AAC AAC AAC AAC AAC AAC AAC AAC AAC AAC AAC AAC AAC AAC AAC AAC AAC AAC AAC AAC AAC AAC AAC AAC AAC AAC AAC AAC AAC AAC AAC AAC AAC AAC AAC AAC AAC AAC AAC AAC AAC AAC AAC AAC GTA AAC AAC AAC AAC AAC AAC AAC AAC AAC AAC AAC AAC AAC AAC AAC AAC AAC AAC AAC AAC AAC AAC AAC AAC AAC AAC AAC AAC AAC AAC AAC AAC AAC AAC AAC AAC AAC AAC AAC AAC AAC\r\n",
      "7 117 G G G G G G G G G G G G A G G G G G G G A G G G G G G G G A G G G G G G G G G G G G G G G G G G G G G G G G G G G G G G G G G G G G G G G G G G G G G G G G G G G G G G G G G G G G G G G G G G G G G G G G G G G G G G G G G G G G G G G G G G\r\n",
      "9 33 ACC TCC ACC TCC TCC ACC ACC ACC ACC ACC ACC ACC ACC TCC ACC TCC ACC ACC TCC ACC TCC ACC ACC ACC TCC ACC TCC ACC ACC ACC ACC TCC ACC ACC ACC TCC AAG ACC ACC TCC ACC ACC ACC\r\n",
      "13 97 C C C C C C C C C C C C C C C C C C C C C C C C C C C C C C C C C C C C C C C C C C C C C C C A C C C C C C C C C C C C C C C C C C C C C C C C C C C C C C C C C C C C C C C C C C C C C C C C C C\r\n",
      "17 106 A G A G A A G A G A G A G G A A G A G A G G A A G G G A G A G G G G G A G A G A G A G G A G G G A G A G A A A G A G G G A G G A G A A G A G A A A G A G A G A G G G A A G G A G G A G A G G A G G A A A G G A A G A G A G A G A G G A A G G G A G A G G G G A G A G A A G A A G A G A G A G G G\r\n",
      "18 117 AT AT AT AT AT AT AT AT AT AT GC AT AT AT GC AT AT AT AT AT AT AT AT AT AT AT AT AT AT AT AT AT AT AT AT GC AT AT AT AT AT AT AT AT AT AT AT AT AT AT AT GC AT GC AT AT AT AT AT AT AT AT AT AT AT AT AT AT AT AT AT AT AT AT AT AT AT AT AT AT AT GC AT AT AT AT AT AT AT GC AT AT AT AT AT AT GC AT AT AT AT AT AT AT AT AT AT AT AT AT AT AT AT AT AT AT AT AT GC AT AT AT AT AT AT\r\n",
      "20 110 G G G G G G G G G G G G A G G G G G G G G G G G G G G G G G G G G G G G G G G G G G G G G A G G G G G G G G G G G G G G G G G G G G G G G G G G G G G G G G G G G G A G G G G G G G G G G G G G G G G G G G G G G G G G G G G G G\r\n",
      "22 86 C C C C C C C C C C C C C C C C C C A C C C C C C C C C C C C C C C C C C C C C C C C C C C C C C C C C C C C C C C C C C C C C A C C C C C C C C C C C C C C C C C C C A C C C C\r\n",
      "25 117 C C C C T C C T C T C T C T C T C T C C T C T C T C C C T C C C T C T C T C C C C C T C T C T C C C T C T C C C T C C C T C T C T C T C T C C C T C C C T C T C C T C T C C C C T C C T C C C C C C T C C C C C T C T C T C T C C C C C C C C T C T C C T C T C C C T C T C C C C C C C C T C T C C C C T C T C T C T C T C C C T C T C C T C C C C\r\n",
      "37 118 G G G G G G G G G A G G G G G G G G G G G G G G G G G G G G G G G G G G G G G G G G G G G G G G G G G G G G G G A G G G G G G G G A G G G G G G G G G G G G G G G G G G G G G G G G G G G G G G G G G G G G G G G G G G G G G G G G G G G G G G G\r\n",
      "38 117 GG GG GG GG GG GG GG GG GG GG GG GG GG GG CT GG GG GG GG CT GG GG GG GG GG GG GG GG GG GG GG GG GG GG GG GG GG GG GG GG GG GG GG GG GG GG GG GG CT GG CT GG GG GG GG GG GG GG GG GG GG GG GG GG GG CT GG GG GG GG GG GG GG GG GG GG GG GG GG CT GG CT GG GG GG GG CT GG CT GG CT GG GG GG GG GG GG GG GG GG GG GG GG GG GG GG GG GG GG GG GG GG GG GG GG GG GG GG GG CT GG GG GG GG GG GG\r\n",
      "43 118 TT GG TT GG TT TT GG TT GG TT GG TT TT GG TT TT TT GG GT TT GG TT GG TG TT GG TT GG TG TT TT GG TT TT GG TT GG GT TT GG GG TT TT GG TT GG TG TT TT GG TT GG TT GG TG TT TT GG GT TG TT GG GG GG TT GG GG TG TT GG GG GT TT GG TT TT GG TT GG GT TG TT GG GG TT GG TT GG GT TT GG TT GG TT GG TT TT GG TT GG TG TT GG TG TT TT GG TG TT GG TT TT GG TT GG TT TT GG TT GG TT TT GG TT TT TT TT TT TT GG GG TT TT TT GG TT TT GG TT GG TT TT TT GG TT TT GG TT TT TT GG TT TT GG GG GG TT TT TT TT GG TT GG TT TT TT GG GG TT TT GG GG TT TT TT GG GG TT TT TT GG TT TT GG GG\r\n",
      "44 108 TTA TCC TTA TCC TTA TCC TTA TCC TCC ACC TCC TCC TTA TTA TCC TTA TCC TCC TTA TCC TTA TCC TCC TTA TCC TTA TCC TTA TCC TCC TCC TCC TTA TCC TTA TTA TCC TCC TTA TTA TCC ACC TCC TCC TCC ACC TCC TCC TCC TTA TCC ACC TCC TCC TCC TTA TTC TCC TCC TCC TTA TTA TTA TCC TTA TCC TCA TCC TTA TCC TCC TCC TCC TTA ACC TTA TCC TTA ACC TCC TCC TTA TTA ACC TCC TCC TCC TTA TCC TTA TCC TTA TCC TCC TTA TCC TCC TCC TCC TCC TCC ACC TCC TCC TTA TCC TTA TCC TCC TCC TCC TTA TCC TCC TTA TTA ACC TCC ACC TCC TTA TCC TTA TCC TTA TTA TTA TTA TTA TCC ACC TCC TCC TCC TCC TTA TTA TCC TCC TTA TCA TCC TTA TCC TTA\r\n",
      "48 109 AGTC CCCC CCTC AGTC CCCC AGTC CCCC ACCC AGTC CCCC AGTC CCCC CCTC AGTC CCCC AGTC CCCC CCCC AGTC CCCC AGTC CCCC CCCC AGTC CCCC AGTC CCCC CCCC AGTC AGTC AGTC CCCC CCCT AGTC AGTC CCCC AGTC AGTC CCCC CCCC AGTC AGTC CCCC CCCT CCCC AGTC AGTC AGTC CCCC AGTC CCCC AGTC CCCC AGTC CCCC AGTC AGTC AGTC CCCC AGTC CCCC ACCC AGTC CCCC AGTC CCCC AGTC CCCC AGTC CCCC AGTC AGTC CCCC AGTC ACCC AGTC CCCC AGTC CCCC AGTC CCCC AGTC CCCC AGTC AGTC AGTC CCCC AGTC CCCC AGTC AGTC CCCC AGTC AGTC CCCC AGTC CCCC AGTC CCCC CCCC AGTC AGTC CCCC AGTC AGTC CCCC AGTC CCCC AGTC CCCC AGTC CCCC AGTC AGTC CCCC AGTC CCCC CCCT AGTC CCCC AGTC CCCC AGTC CCCC AGTC CCCC ACCC AGTC CCCC CCCC CCCC CCCC CCCC AGTC CCCC AGTC CCCC AGTC AGTC CCCC AGTC CCCC CCCC AGTC CCCC AGTC CCCC AGTC AGTC AGTC AGTC CCCC AGTC AGTC CCCC AGTC CCCC AGTC CCCC AGTC CCCC CCCC CCCC CCCC AGTC CCCC CCCC CCCC AGTC AGTC AGTC CCCC\r\n",
      "49 119 C C C G C C C G C G C G C G C G C G C G C G C G C G C G C G C C G C C G C C C C G C G C C G C C C G C C G C G C C C C G C C C G C G C C G C C G C G C C C G C G C G G C G C G C C G C C G C C G C G C C C G C C C G C C G C G C C G C C G C G C G G C G C G G C G G C G C C C G C G C G C G C C C C G C G C C C G C G C G C G G G C G C G C C C C C G G\r\n",
      "50 117 AAT CAT CAT CAT AAT CAT AAT CAT AAT CAT AAT CAT AAC CAT AAT AAT CAT AAT CAT CAT AAT CAT CAT AAT CAT CAT CAT CAT AAT CAT AAT CAT AAT AAT CAT CAT AAT CGC CAT AAT AAT CAT AAT CAT CAT CAT AAT CAT CAT CAT CAT CAT CAT AAT CAT CAT CAT CAT CAT CAT CAT CAT AAT CAT CAT CGC CAT CAT CAT CAT CAT CAT AAT CAT AAT CAT CAT CAT CAT CAT AAT CAT AAT CAT AAT CAT AAT CAT AAT CAT AAT CAT CAT CAT AAT CAT CAT CAT CAT CAT AAT CAT CAT AAT CAT CAT CAT CAT AAC AAT AGC CAT CGC AAT CAT AAT CAT CAT AAT AAT CAT CAT CAT CAT CAT CAT CAT CAT CAT AAT CAT AAT CAT AAT CAT CAT CAT CAT AAC CAT AAC AAT CAT AAT CAT AAT CAT AAT CAT CAT CAT AAT CAT AAT CAT CAT AAT CAT AAT CAT CAT CAT CAT CAT\r\n",
      "53 118 CC CC CC CC TC CC TC CC CC CC CC CC CC CC TC CA CC CC CC TC CA CC CC CC CC TC CC CC CC CC CC TC CC CC CC CC CC CC CC CA CC CA CC CC CC CC CA CC TC CC CC CC CC TC CC CC TC CA CC TC CC CC CC CC TC CC TC CC CC TC CC TC CC TC CC CC CC TC CA CC CA CC CC CC CC CA CC CC CA CC CC CC CC CC CC CC TC CC CC CC CC CC CC CC TC CA CC CC CC TC CC CC TC CA CC CA CC CA CC TC CC CC CC CC CC CA CC CA CC CC CC CA CC CC CC CC CC CC CC CC CC CC CC CC CC CC CC CC CA CC CC CC CC CC TC CC TC CC CC\r\n",
      "54 112 GAGGGC GGGGGC GGGGGC GGGGGC AGGGGC GGGGGT GGGGTC GGGGGC GAGGGC GAGGGC GGGGGC GGGGGC GGGGGC GGGGGC GGGGGC AGGGGC GGGGGC GGGGGT GGGGTC GGGGGC GGGGGC GGGGGC GGGGGT GGGGGC GGGGGT GGGGGC GGGGGT AGGGGC GAGGGC GGGGTC AGGGGC GAGGGC GGGGTC GGGGGC AGGGGC GGGGGC AGGGGC AGGGTC GGGGTC GGGGGC GGGGGC AGGGGC GGGGGC GGGGGC GGGGGC GGGGGT AGGGGC GGGGGC GGGGGT GGGGTC GGGGGC GGGGGC GGGGGT GAGGGC GGGGGC GGGGGT GGGGGC GGGGGC GAGGGC GGGGGC GGGGGC GGGGGT GGGGGC GAGGGC GGGGGC GGGGGC GGCAGC GGGGGC GGGGGC GGGGGT GGGGGC GGGGGC GAGGGC GGGGGC GGGGGC GGGGGT GGGGGC GAGGGC GGGGGC GAGGGC GGGGGC GGGGGC GGGGGT GGGGGC GGGGGT GGGGGC GAGGGC GGGGGT GGGGGC AGGGGC GGGGGC GAGGGC GGGGGC GAGGGC GGGGGC GGGGGC GGGGGT GGGGGC GGGGGT AGGGGC GAGGGC GGGGTC GGGGGC GGGGGT GAGGGC GAGGGC GGGGGC GGGGGC AGGGGC GAGGGC GGGGTC GGGGGC AGGGGC GGGGGC GGGGTC GAGGGC GGGGGC GGGGGT GGGGGC GGGGGC GGGGGC GGGGGC GAGGGC GGGGGC AGGGGC GGGGGC GAGGGC GGGGGC GAGGGC GGGGGC GAGGGC GGGGGC AGGGGC GGGGGC GGGGTC AGGGGC GGGGGC GGGGTC GGGGGC GGGGGT AGGGGC GAGGGC GGGGGC GAGGGC GGGGGC GAGGGC GGGGGC GAGGGC GGGGGC GGGGGT GGGGGC GGGGGC GGGGGC GGGGGC GAGGGC GAGGGC GGGGGC GGGGGC GGGGGT GGGGGC GGGGGC GGGGGC GGGGGC GGGGGC GGGGTC GAGGGC GGGGGC GGGGTC GGGGGC GGGGGC GGGGGC GGGGGC AGGGGC GGGGTC GAGGGC GGGGGC GGGGTC GGGGGC GGGGGT GGGGGC GGGGGT AGGGGC GAGGGC GGGGGC AGGGGC GAGGGC GGGGTC\r\n"
     ]
    }
   ],
   "source": [
    "!python preparing_file_for_correcting_genotypes.py \\\n",
    "../../L1L2stacks_m10_boundSNP/batch_3.haplotypes2.tsv \\\n",
    "../../L1L2stacks_m10_boundSNP/batch_3.biallelic_catalog.tsv \\\n",
    "../../L1L2stacks_m10_boundSNP/batch_3.catalog.snps2.tsv \\\n",
    "1"
   ]
  },
  {
   "cell_type": "code",
   "execution_count": 15,
   "metadata": {
    "collapsed": false
   },
   "outputs": [
    {
     "name": "stdout",
     "output_type": "stream",
     "text": [
      "/mnt/hgfs/Pacific cod/DataAnalysis\n"
     ]
    }
   ],
   "source": [
    "cd ../../"
   ]
  },
  {
   "cell_type": "code",
   "execution_count": 16,
   "metadata": {
    "collapsed": false
   },
   "outputs": [
    {
     "name": "stdout",
     "output_type": "stream",
     "text": [
      "#!/bin/bash\r\n",
      "\r\n",
      "### This shell script will unzip all of the individual .tags.tsv files needed for Marine Brieuc's genotypes_verif.py script, then call Marine's python script. Use this bash script AFTER running Marine's script `preparing_file_for_correcting_genotypes.py` ###\r\n",
      "\r\n",
      "## M. Fisher 12/5/2016\r\n",
      "\r\n",
      "\r\n",
      "#Ask for input from user\r\n",
      "echo \"This is your current location:\"\r\n",
      "pwd\r\n"
     ]
    }
   ],
   "source": [
    "!head gzip_MBgenotypesverif_BASHshell.sh"
   ]
  },
  {
   "cell_type": "code",
   "execution_count": null,
   "metadata": {
    "collapsed": true
   },
   "outputs": [],
   "source": [
    "#at command line\n",
    "./gzip_MBgenotypesverif_BASHshell.sh"
   ]
  }
 ],
 "metadata": {
  "kernelspec": {
   "display_name": "Python [default]",
   "language": "python",
   "name": "python2"
  },
  "language_info": {
   "codemirror_mode": {
    "name": "ipython",
    "version": 2
   },
   "file_extension": ".py",
   "mimetype": "text/x-python",
   "name": "python",
   "nbconvert_exporter": "python",
   "pygments_lexer": "ipython2",
   "version": "2.7.12"
  }
 },
 "nbformat": 4,
 "nbformat_minor": 1
}
