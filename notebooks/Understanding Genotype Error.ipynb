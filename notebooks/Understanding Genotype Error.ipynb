{
 "cells": [
  {
   "cell_type": "markdown",
   "metadata": {},
   "source": [
    "## Understanding Genotype Error\n",
    "\n",
    "I have ~6% genotyping error between replicates prepared using 2 different protocols. This notebook reviews ways that I am attempting to cut down on this error.\n",
    "\n",
    "<br>\n",
    "ONE. remove loci out of HWE - Maybe the loci with genotype mismatches are ones that tend to be out of HWE, and would be removed anyway. Ran Genepop v4.2\n",
    "\n",
    "<br>\n",
    "TWO. rerun stacks using the bounded snp model, as opposed to the default snp model. \n",
    "\n",
    "- An article explaining the difference between the two models can be found [here](https://www.ncbi.nlm.nih.gov/pmc/articles/PMC3936987/)\n",
    "- In the article, they explain that \"Allowing high values for the error rate ε (e.g. greater than 10%) increases the likelihood that a locus with a number of alternative reads will be called a homozygous site with excessive error. Reducing the upper ε bound decreases the chance of calling a homozygote when the true genotype is heterozygous\". Since stacks overcalls heterozygotes, we want the error rate to be very low. The problem with lowering the error rate is that this also significantly decreases the number of loci that are retained. In order to circumvent this problem, our lab uses a high error rate (to retain larger amounts of loci), and then corrects the genotypes (getting rid of the excess of homozygotes) using Marine's script. \n",
    "\n",
    "\n",
    "<br>\n",
    "<br>\n",
    "**(1) Remove loci out of HWE**\n",
    "\n",
    "I ran genepop 4.2 on my file `batch_1_filtered_MAF_MissingLoci_Individs.txt`. \n",
    "\n",
    "This produced a ton of temporary files that all disappeared and gave me a single large text file with all of the pvalues.\n",
    "However, with the format it is difficult to analyze. So I followed these steps to simplify the process of determining which loci are out of HWE: \n",
    "\n",
    "1. Copy and paste into excel, convert text to columns, delete the header\n",
    "2. Save as a .csv file\n",
    "3. Run a python script that condenses the long text file into a dictionary"
   ]
  },
  {
   "cell_type": "code",
   "execution_count": 1,
   "metadata": {
    "collapsed": false
   },
   "outputs": [
    {
     "data": {
      "text/plain": [
       "u'/mnt/hgfs/Pacific cod/DataAnalysis/mf-fish546-PCod/notebooks'"
      ]
     },
     "execution_count": 1,
     "metadata": {},
     "output_type": "execute_result"
    }
   ],
   "source": [
    "pwd"
   ]
  },
  {
   "cell_type": "code",
   "execution_count": 3,
   "metadata": {
    "collapsed": false
   },
   "outputs": [
    {
     "name": "stdout",
     "output_type": "stream",
     "text": [
      "/mnt/hgfs/Pacific cod/DataAnalysis/scripts\n"
     ]
    }
   ],
   "source": [
    "cd ../../scripts"
   ]
  },
  {
   "cell_type": "code",
   "execution_count": 5,
   "metadata": {
    "collapsed": false
   },
   "outputs": [
    {
     "name": "stdout",
     "output_type": "stream",
     "text": [
      "/mnt/hgfs/Pacific cod/DataAnalysis/Analyses/genepop\n"
     ]
    }
   ],
   "source": [
    "cd ../Analyses/genepop"
   ]
  },
  {
   "cell_type": "code",
   "execution_count": 7,
   "metadata": {
    "collapsed": false
   },
   "outputs": [
    {
     "name": "stdout",
     "output_type": "stream",
     "text": [
      "### Loci out of HWE ###\r\n",
      "## Use this script to find the loci OUT of HWE from genepop's .txt file output. \r\n",
      "## MF 1/17/2017\r\n",
      "\r\n",
      "## ARG 1 - genepop input file\r\n",
      "## To Change in the Script: \r\n",
      "##   1. the end line number - the last line in the section of the genepop output file that has a separate chart for each locus (current is 18828)\r\n",
      "##   2. the total number of lines that each locus' chart takes up (current is 19)\r\n",
      "##   3. the number of lines to add on each iteration of the \"for\" loop (#2 - 1, current is 18)\r\n",
      "#############################################\r\n"
     ]
    }
   ],
   "source": [
    "!head HWE_genepop_to_list.py"
   ]
  },
  {
   "cell_type": "code",
   "execution_count": null,
   "metadata": {
    "collapsed": true
   },
   "outputs": [],
   "source": [
    "python HWE_genepop_to_list.py batch_1_filtered_MAF_MissingLoci_Individs.txt"
   ]
  },
  {
   "cell_type": "markdown",
   "metadata": {},
   "source": [
    "And this caused some problems...\n",
    "\n",
    "\n",
    "the script didn't work because some of the loci didn't have enough information to run Fisher's exact test, which meant that the line counting was off. \n",
    "\n",
    "WHY IS THIS HAPPENING \n",
    "\n",
    "-- those loci have ALL of the same genotypes + some missing genotypes. somewhere in the filtering scripts, the monomorphic loci are not being filtered out. \n",
    "\n",
    "-- I deleted these monomorphic loci across 1110 loci total, and ended up with 989 monomorphic loci. This extrapolating this to my 8517 final loci, I probably really only have ~7573 truly polymorphic loci. (See spreadsheet [here]()). \n",
    "\n",
    "-- which means that my genotyping error between 300ng and 500ng replicates is actually higher, since the loci being deleted are monomorphic and therefore can't be loci that are mismatched\n",
    "\n",
    "<br>\n",
    "\n",
    "I also ran the above script after deleting monomorphic loci up to line 18828 (1110 loci). Of these 1110 loci, only 20 loci had 4 or more populations out of HWE\n"
   ]
  },
  {
   "cell_type": "markdown",
   "metadata": {},
   "source": [
    "**(2)** Rerun stacks using bounded SNP model"
   ]
  },
  {
   "cell_type": "code",
   "execution_count": 1,
   "metadata": {
    "collapsed": false
   },
   "outputs": [
    {
     "data": {
      "text/plain": [
       "u'/mnt/hgfs/Pacific cod/DataAnalysis/mf-fish546-PCod/notebooks'"
      ]
     },
     "execution_count": 1,
     "metadata": {},
     "output_type": "execute_result"
    }
   ],
   "source": [
    "pwd"
   ]
  },
  {
   "cell_type": "code",
   "execution_count": 2,
   "metadata": {
    "collapsed": false
   },
   "outputs": [
    {
     "name": "stdout",
     "output_type": "stream",
     "text": [
      "/mnt/hgfs/Pacific cod/DataAnalysis/scripts\n"
     ]
    }
   ],
   "source": [
    "cd ../../scripts"
   ]
  },
  {
   "cell_type": "code",
   "execution_count": 5,
   "metadata": {
    "collapsed": false
   },
   "outputs": [],
   "source": [
    "!python ustacks_populations_genShell_L1L2_1-17.py barcodesL1.txt barcodesL2.txt samples_for_cstacks_L1L2.txt"
   ]
  },
  {
   "cell_type": "code",
   "execution_count": 6,
   "metadata": {
    "collapsed": true
   },
   "outputs": [],
   "source": [
    "mv ustacks_populations_shell_boundSNP.sh ../ustacks_populations_shell_boundSNP.sh"
   ]
  },
  {
   "cell_type": "code",
   "execution_count": 7,
   "metadata": {
    "collapsed": false
   },
   "outputs": [
    {
     "name": "stdout",
     "output_type": "stream",
     "text": [
      "/mnt/hgfs/Pacific cod/DataAnalysis\n"
     ]
    }
   ],
   "source": [
    "cd ../"
   ]
  },
  {
   "cell_type": "code",
   "execution_count": 8,
   "metadata": {
    "collapsed": false
   },
   "outputs": [
    {
     "name": "stdout",
     "output_type": "stream",
     "text": [
      "#!/bin/bash\r\n",
      "cd /mnt/hgfs/Shared\\ Drive\\ D/Pacific\\ cod/DataAnalysis\r\n",
      "mkdir L1L2stacks_m10_boundSNP\r\n",
      "\r\n",
      "#ustacks\r\n",
      "ustacks -t gzfastq -f L1L2samplesT142/PO010715_06.1.fq.gz -r -d -o L1L2stacks_m10_boundSNP -i 001 -m 10 -M 3 -p 6 --model_type bounded\r\n",
      "ustacks -t gzfastq -f L1L2samplesT142/PO010715_27.1.fq.gz -r -d -o L1L2stacks_m10_boundSNP -i 002 -m 10 -M 3 -p 6 --model_type bounded\r\n",
      "ustacks -t gzfastq -f L1L2samplesT142/PO010715_28.1.fq.gz -r -d -o L1L2stacks_m10_boundSNP -i 003 -m 10 -M 3 -p 6 --model_type bounded\r\n",
      "ustacks -t gzfastq -f L1L2samplesT142/PO010715_29.1.fq.gz -r -d -o L1L2stacks_m10_boundSNP -i 004 -m 10 -M 3 -p 6 --model_type bounded\r\n",
      "ustacks -t gzfastq -f L1L2samplesT142/GE011215_08.1.fq.gz -r -d -o L1L2stacks_m10_boundSNP -i 005 -m 10 -M 3 -p 6 --model_type bounded\r\n"
     ]
    }
   ],
   "source": [
    "!head ustacks_populations_shell_boundSNP.sh"
   ]
  },
  {
   "cell_type": "code",
   "execution_count": null,
   "metadata": {
    "collapsed": true
   },
   "outputs": [],
   "source": [
    "./ustacks_populations_shell_boundSNP.sh"
   ]
  }
 ],
 "metadata": {
  "kernelspec": {
   "display_name": "Python [default]",
   "language": "python",
   "name": "python2"
  },
  "language_info": {
   "codemirror_mode": {
    "name": "ipython",
    "version": 2
   },
   "file_extension": ".py",
   "mimetype": "text/x-python",
   "name": "python",
   "nbconvert_exporter": "python",
   "pygments_lexer": "ipython2",
   "version": "2.7.12"
  }
 },
 "nbformat": 4,
 "nbformat_minor": 1
}
