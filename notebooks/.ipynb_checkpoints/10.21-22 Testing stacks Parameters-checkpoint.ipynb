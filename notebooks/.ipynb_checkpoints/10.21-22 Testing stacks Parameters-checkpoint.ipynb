{
 "cells": [
  {
   "cell_type": "markdown",
   "metadata": {},
   "source": [
    "## 10/20-10/21: Testing Parameters in the stacks pipeline: ustacks and cstacks \n",
    "\n",
    "**ustacks:** align short-read seqeunces in matching stacks, compare the stacks to form a set of loci, detect SNPs at the loci for each individual\n",
    "\n",
    "**cstacks:** create a set of consensus loci and construct a catalog\n",
    "\n",
    "\n",
    "Research / notes on which parameters being tested and why [here](https://www.evernote.com/Home.action#n=122752f1-9ab7-4f9b-a9af-0c3331617436&ses=4&sh=2&sds=5&)"
   ]
  },
  {
   "cell_type": "code",
   "execution_count": 1,
   "metadata": {
    "collapsed": false,
    "scrolled": true
   },
   "outputs": [
    {
     "data": {
      "text/plain": [
       "u'/mnt/hgfs/Shared Drive D/Pacific cod/DataAnalysis/notebooks'"
      ]
     },
     "execution_count": 1,
     "metadata": {},
     "output_type": "execute_result"
    }
   ],
   "source": [
    "pwd"
   ]
  },
  {
   "cell_type": "code",
   "execution_count": 10,
   "metadata": {
    "collapsed": false,
    "scrolled": true
   },
   "outputs": [
    {
     "name": "stdout",
     "output_type": "stream",
     "text": [
      "/mnt/hgfs/Shared Drive D/Pacific cod/DataAnalysis/UCstacksL1\n"
     ]
    }
   ],
   "source": [
    "cd DataAnalysis/UCstacksL1"
   ]
  },
  {
   "cell_type": "code",
   "execution_count": 11,
   "metadata": {
    "collapsed": false,
    "scrolled": true
   },
   "outputs": [
    {
     "name": "stdout",
     "output_type": "stream",
     "text": [
      "\u001b[0m\u001b[01;32mcstacksOut_baseBatch12\u001b[0m*  \u001b[34;42mstacks_base\u001b[0m/  \u001b[34;42mstacks_m10\u001b[0m/  \u001b[34;42mstacks_M2\u001b[0m/  \u001b[34;42mstacks_m3\u001b[0m/\r\n"
     ]
    }
   ],
   "source": [
    "ls"
   ]
  },
  {
   "cell_type": "markdown",
   "metadata": {},
   "source": [
    "I have finished running the different ustacks parameters. \n",
    "shell scripts for each can be found in the scripts/ folder; more detailed procedural info is in the evernote document link above. \n",
    "\n",
    "\n",
    "### Running cstacks\n",
    "I'll be running cstacks using 10 individuals from three populations (note that the 3 Yellow Sea individuals were not included in running ustacks and will not be a part of these test sets for the rest of the pipeline). \n",
    "\n",
    "The 10 individuals were chosen because they have the largest amount of sequencing data among the individuals from those populations. This was already determined through analysis on [10/12/16](https://www.evernote.com/shard/s650/sh/781efd9e-7cc2-4a6a-b413-150e8db65544/4b65bb7e16a5caf48b6067498dbf2961) and can be found in the file: `Lane1_SortedFilesbySize.ods`. The 30 file names for cstacks analysis were saved in the text file `samples_for_cstacks` in the scripts/ folder. \n",
    "\n",
    "\n",
    "**(1)** stacks_base_batch30, -n = 3"
   ]
  },
  {
   "cell_type": "code",
   "execution_count": 12,
   "metadata": {
    "collapsed": false,
    "scrolled": true
   },
   "outputs": [
    {
     "name": "stdout",
     "output_type": "stream",
     "text": [
      "/mnt/hgfs/Shared Drive D/Pacific cod/DataAnalysis\n"
     ]
    }
   ],
   "source": [
    "cd ../"
   ]
  },
  {
   "cell_type": "code",
   "execution_count": 13,
   "metadata": {
    "collapsed": false,
    "scrolled": true
   },
   "outputs": [
    {
     "name": "stdout",
     "output_type": "stream",
     "text": [
      "/mnt/hgfs/Shared Drive D/Pacific cod/DataAnalysis/scripts\n"
     ]
    }
   ],
   "source": [
    "cd scripts"
   ]
  },
  {
   "cell_type": "markdown",
   "metadata": {},
   "source": [
    "*Changes to the cstacks_generateCode2.py script:\n",
    "\n",
    "-b 303\n",
    "\n",
    "-o UCstacksL1/stacks_base\n",
    "\n",
    "-s UCstacksL1/stacks_base/"
   ]
  },
  {
   "cell_type": "code",
   "execution_count": 16,
   "metadata": {
    "collapsed": false,
    "scrolled": true
   },
   "outputs": [],
   "source": [
    "!python cstacks_generateCode2.py samples_for_cstacks.txt"
   ]
  },
  {
   "cell_type": "code",
   "execution_count": 18,
   "metadata": {
    "collapsed": false,
    "scrolled": true
   },
   "outputs": [],
   "source": [
    "!chmod +x cstacks_shell_b303"
   ]
  },
  {
   "cell_type": "markdown",
   "metadata": {},
   "source": [
    "*moved shell into DataAnalysis folder from scripts/*"
   ]
  },
  {
   "cell_type": "code",
   "execution_count": 23,
   "metadata": {
    "collapsed": false,
    "scrolled": true
   },
   "outputs": [
    {
     "name": "stdout",
     "output_type": "stream",
     "text": [
      "/bin/sh: 1: ./: Permission denied\r\n"
     ]
    }
   ],
   "source": [
    "!./ cstacks_shell_b303"
   ]
  },
  {
   "cell_type": "markdown",
   "metadata": {},
   "source": [
    "*why won't this run the shell script?!*"
   ]
  },
  {
   "cell_type": "code",
   "execution_count": 25,
   "metadata": {
    "collapsed": false,
    "scrolled": true
   },
   "outputs": [
    {
     "name": "stdout",
     "output_type": "stream",
     "text": [
      "cstacks paramters selected:\r\n",
      "  Loci matched based on sequence identity.\r\n",
      "  Number of mismatches allowed between stacks: 3\r\n",
      "  Gapped alignments: disabled\r\n",
      "Constructing catalog from 30 samples.\r\n",
      "Initializing new catalog...\r\n",
      " Unable to open 'UCstacksL1/stacks_base/GE011215_07.1'\r\n",
      "Failed to initialize the catalog.\r\n"
     ]
    }
   ],
   "source": [
    "!cstacks -b 303 -s UCstacksL1/stacks_base/GE011215_07.1 -s UCstacksL1/stacks_base/GE012315_06.1 -s UCstacksL1/stacks_base/GE012315_11.1 -s UCstacksL1/stacks_base/GE012315_03.1 -s UCstacksL1/stacks_base/GE011215_09.1 -s UCstacksL1/stacks_base/GE011215_16.1 -s UCstacksL1/stacks_base/GE011215_01.1 -s UCstacksL1/stacks_base/GE011215_30.1 -s UCstacksL1/stacks_base/GE011215_15.1 -s UCstacksL1/stacks_base/GE011215_14.1 -s UCstacksL1/stacks_base/NA021015_10.1 -s UCstacksL1/stacks_base/NA021015_17.1 -s UCstacksL1/stacks_base/NA021015_21.1 -s UCstacksL1/stacks_base/NA021015_02.1 -s UCstacksL1/stacks_base/NA021015_09.1 -s UCstacksL1/stacks_base/NA021015_22.1 -s UCstacksL1/stacks_base/NA021015_14.1 -s UCstacksL1/stacks_base/NA021015_06.1 -s UCstacksL1/stacks_base/NA021015_13.1 -s UCstacksL1/stacks_base/NA021015_16.1 -s UCstacksL1/stacks_base/PO020515_03.1 -s UCstacksL1/stacks_base/PO010715_10.1 -s UCstacksL1/stacks_base/PO020515_14.1 -s UCstacksL1/stacks_base/PO010715_11.1 -s UCstacksL1/stacks_base/PO020515_05.1 -s UCstacksL1/stacks_base/PO020515_17.1 -s UCstacksL1/stacks_base/PO020515_15.1 -s UCstacksL1/stacks_base/PO010715_17.1 -s UCstacksL1/stacks_base/PO020515_10.1 -s UCstacksL1/stacks_base/PO020515_08.1 -o UCstacksL1/stacks_base -n 3 -p 6"
   ]
  },
  {
   "cell_type": "markdown",
   "metadata": {},
   "source": [
    "*Fixed python script to generate correct sample file names*"
   ]
  },
  {
   "cell_type": "code",
   "execution_count": 26,
   "metadata": {
    "collapsed": false,
    "scrolled": true
   },
   "outputs": [
    {
     "name": "stdout",
     "output_type": "stream",
     "text": [
      "/mnt/hgfs/Shared Drive D/Pacific cod/DataAnalysis/scripts\n"
     ]
    }
   ],
   "source": [
    "cd ../scripts"
   ]
  },
  {
   "cell_type": "code",
   "execution_count": 28,
   "metadata": {
    "collapsed": true,
    "scrolled": true
   },
   "outputs": [],
   "source": [
    "!python cstacks_generateCode2.py samples_for_cstacks.txt"
   ]
  },
  {
   "cell_type": "code",
   "execution_count": 29,
   "metadata": {
    "collapsed": false,
    "scrolled": true
   },
   "outputs": [
    {
     "name": "stdout",
     "output_type": "stream",
     "text": [
      "/mnt/hgfs/Shared Drive D/Pacific cod/DataAnalysis\n"
     ]
    }
   ],
   "source": [
    "cd ../"
   ]
  },
  {
   "cell_type": "code",
   "execution_count": 30,
   "metadata": {
    "collapsed": false,
    "scrolled": true
   },
   "outputs": [
    {
     "name": "stdout",
     "output_type": "stream",
     "text": [
      "cstacks paramters selected:\r\n",
      "  Loci matched based on sequence identity.\r\n",
      "  Number of mismatches allowed between stacks: 3\r\n",
      "  Gapped alignments: disabled\r\n",
      "Constructing catalog from 30 samples.\r\n",
      "Initializing new catalog...\r\n",
      " Unable to open 'UCstacksL1/stacks_base/GE011215_07.1.alleles.tsv.gz'\r\n",
      "Failed to initialize the catalog.\r\n"
     ]
    }
   ],
   "source": [
    "!cstacks -b 303 -s UCstacksL1/stacks_base/GE011215_07.1.* -s UCstacksL1/stacks_base/GE012315_06.1.* -s UCstacksL1/stacks_base/GE012315_11.1.* -s UCstacksL1/stacks_base/GE012315_03.1.* -s UCstacksL1/stacks_base/GE011215_09.1.* -s UCstacksL1/stacks_base/GE011215_16.1.* -s UCstacksL1/stacks_base/GE011215_01.1.* -s UCstacksL1/stacks_base/GE011215_30.1.* -s UCstacksL1/stacks_base/GE011215_15.1.* -s UCstacksL1/stacks_base/GE011215_14.1.* -s UCstacksL1/stacks_base/NA021015_10.1.* -s UCstacksL1/stacks_base/NA021015_17.1.* -s UCstacksL1/stacks_base/NA021015_21.1.* -s UCstacksL1/stacks_base/NA021015_02.1.* -s UCstacksL1/stacks_base/NA021015_09.1.* -s UCstacksL1/stacks_base/NA021015_22.1.* -s UCstacksL1/stacks_base/NA021015_14.1.* -s UCstacksL1/stacks_base/NA021015_06.1.* -s UCstacksL1/stacks_base/NA021015_13.1.* -s UCstacksL1/stacks_base/NA021015_16.1.* -s UCstacksL1/stacks_base/PO020515_03.1.* -s UCstacksL1/stacks_base/PO010715_10.1.* -s UCstacksL1/stacks_base/PO020515_14.1.* -s UCstacksL1/stacks_base/PO010715_11.1.* -s UCstacksL1/stacks_base/PO020515_05.1.* -s UCstacksL1/stacks_base/PO020515_17.1.* -s UCstacksL1/stacks_base/PO020515_15.1.* -s UCstacksL1/stacks_base/PO010715_17.1.* -s UCstacksL1/stacks_base/PO020515_10.1.* -s UCstacksL1/stacks_base/PO020515_08.1.* -o UCstacksL1/stacks_base -n 3 -p 6"
   ]
  },
  {
   "cell_type": "code",
   "execution_count": 31,
   "metadata": {
    "collapsed": false,
    "scrolled": true
   },
   "outputs": [
    {
     "name": "stdout",
     "output_type": "stream",
     "text": [
      "/mnt/hgfs/Shared Drive D/Pacific cod/DataAnalysis/UCstacksL1/stacks_base\n"
     ]
    }
   ],
   "source": [
    "cd UCstacksL1/stacks_base"
   ]
  },
  {
   "cell_type": "code",
   "execution_count": 32,
   "metadata": {
    "collapsed": false,
    "scrolled": true
   },
   "outputs": [
    {
     "name": "stdout",
     "output_type": "stream",
     "text": [
      "# ustacks version 1.42; generated on 2016-10-11 12:18:42\r\n",
      "0\t16\t18\tA\t37.19\t45\r\n",
      "0\t16\t18\tG\t62.81\t76\r\n",
      "0\t16\t23\tCT\t59.42\t41\r\n",
      "0\t16\t23\tGC\t40.58\t28\r\n",
      "0\t16\t32\tG\t37.11\t36\r\n",
      "0\t16\t32\tT\t62.89\t61\r\n",
      "0\t16\t40\tC\t61.19\t41\r\n",
      "0\t16\t40\tT\t38.81\t26\r\n",
      "0\t16\t126\tA\t32.61\t15\r\n",
      "0\t16\t126\tG\t67.39\t31\r\n",
      "0\t16\t143\tA\t23.81\t5\r\n",
      "0\t16\t143\tG\t76.19\t16\r\n",
      "0\t16\t148\tC\t47.50\t38\r\n",
      "0\t16\t148\tG\t52.50\t42\r\n",
      "0\t16\t156\tC\t65.22\t15\r\n",
      "0\t16\t156\tT\t34.78\t8\r\n",
      "0\t16\t160\tC\t34.98\t85\r\n",
      "0\t16\t160\tT\t65.02\t158\r\n",
      "0\t16\t163\tGT\t37.50\t3\r\n",
      "\r\n",
      "gzip: stdout: Broken pipe\r\n"
     ]
    }
   ],
   "source": [
    "!gunzip -c GE011215_07.1.alleles.tsv.gz | head -n 20"
   ]
  },
  {
   "cell_type": "code",
   "execution_count": 33,
   "metadata": {
    "collapsed": false,
    "scrolled": true
   },
   "outputs": [
    {
     "data": {
      "text/plain": [
       "u'/mnt/hgfs/Shared Drive D/Pacific cod/DataAnalysis/UCstacksL1/stacks_base'"
      ]
     },
     "execution_count": 33,
     "metadata": {},
     "output_type": "execute_result"
    }
   ],
   "source": [
    "pwd"
   ]
  },
  {
   "cell_type": "markdown",
   "metadata": {},
   "source": [
    "*operate code from inside folder, for sample files put \"-s ./ GE011215_07.1\"*"
   ]
  },
  {
   "cell_type": "code",
   "execution_count": 34,
   "metadata": {
    "collapsed": false,
    "scrolled": true
   },
   "outputs": [
    {
     "name": "stdout",
     "output_type": "stream",
     "text": [
      "/mnt/hgfs/Shared Drive D/Pacific cod/DataAnalysis/scripts\n"
     ]
    }
   ],
   "source": [
    "cd ../../scripts"
   ]
  },
  {
   "cell_type": "code",
   "execution_count": 35,
   "metadata": {
    "collapsed": true,
    "scrolled": true
   },
   "outputs": [],
   "source": [
    "!python cstacks_generateCode2.py samples_for_cstacks.txt"
   ]
  },
  {
   "cell_type": "code",
   "execution_count": 36,
   "metadata": {
    "collapsed": false,
    "scrolled": true
   },
   "outputs": [
    {
     "name": "stdout",
     "output_type": "stream",
     "text": [
      "/mnt/hgfs/Shared Drive D/Pacific cod/DataAnalysis/UCstacksL1/stacks_base\n"
     ]
    }
   ],
   "source": [
    "cd ../UCstacksL1/stacks_base"
   ]
  },
  {
   "cell_type": "code",
   "execution_count": null,
   "metadata": {
    "collapsed": false,
    "scrolled": false
   },
   "outputs": [
    {
     "name": "stdout",
     "output_type": "stream",
     "text": [
      "cstacks paramters selected:\n",
      "  Loci matched based on sequence identity.\n",
      "  Number of mismatches allowed between stacks: 3\n",
      "  Gapped alignments: disabled\n",
      "Constructing catalog from 30 samples.\n",
      "Initializing new catalog...\n",
      "  Parsing ./GE011215_07.1.tags.tsv.gz\n",
      "  Parsing ./GE011215_07.1.snps.tsv.gz\n",
      "  Parsing ./GE011215_07.1.alleles.tsv.gz\n",
      "  39642 loci were newly added to the catalog.\n",
      "Processing sample ./GE011215_07.1 [2 of 30]\n",
      "  Parsing ./GE012315_06.1.tags.tsv.gz\n",
      "  Parsing ./GE012315_06.1.snps.tsv.gz\n",
      "  Parsing ./GE012315_06.1.alleles.tsv.gz\n",
      "Searching for sequence matches...\n",
      "  Distance allowed between stacks: 3; searching with a k-mer length of 35 (108 k-mers per read); 3 k-mer hits required.\n",
      "  39642 loci in the catalog, 3980383 kmers in the catalog hash.\n",
      "Merging matches into catalog...\n",
      "  34919 loci were matched to a catalog locus.\n",
      "  0 loci were matched to a catalog locus using gapped alignments.\n",
      "  7448 loci were newly added to the catalog.\n",
      "  212 loci matched more than one catalog locus and were excluded.\n",
      "Processing sample ./GE012315_06.1 [3 of 30]\n",
      "  Parsing ./GE012315_11.1.tags.tsv.gz\n",
      "  Parsing ./GE012315_11.1.snps.tsv.gz\n",
      "  Parsing ./GE012315_11.1.alleles.tsv.gz\n",
      "Searching for sequence matches...\n",
      "  Distance allowed between stacks: 3; searching with a k-mer length of 35 (108 k-mers per read); 3 k-mer hits required.\n",
      "  47090 loci in the catalog, 4656526 kmers in the catalog hash.\n",
      "Merging matches into catalog...\n",
      "  38262 loci were matched to a catalog locus.\n",
      "  0 loci were matched to a catalog locus using gapped alignments.\n",
      "  4690 loci were newly added to the catalog.\n",
      "  232 loci matched more than one catalog locus and were excluded.\n",
      "Processing sample ./GE012315_11.1 [4 of 30]\n",
      "  Parsing ./GE012315_03.1.tags.tsv.gz\n",
      "  Parsing ./GE012315_03.1.snps.tsv.gz\n",
      "  Parsing ./GE012315_03.1.alleles.tsv.gz\n",
      "Searching for sequence matches...\n",
      "  Distance allowed between stacks: 3; searching with a k-mer length of 35 (108 k-mers per read); 3 k-mer hits required.\n",
      "  51780 loci in the catalog, 5074855 kmers in the catalog hash.\n",
      "Merging matches into catalog...\n",
      "  37350 loci were matched to a catalog locus.\n",
      "  0 loci were matched to a catalog locus using gapped alignments.\n",
      "  2699 loci were newly added to the catalog.\n",
      "  212 loci matched more than one catalog locus and were excluded.\n",
      "Processing sample ./GE012315_03.1 [5 of 30]\n",
      "  Parsing ./GE011215_09.1.tags.tsv.gz\n",
      "  Parsing ./GE011215_09.1.snps.tsv.gz\n",
      "  Parsing ./GE011215_09.1.alleles.tsv.gz\n",
      "Searching for sequence matches...\n",
      "  Distance allowed between stacks: 3; searching with a k-mer length of 35 (108 k-mers per read); 3 k-mer hits required.\n",
      "  54479 loci in the catalog, 5312369 kmers in the catalog hash.\n",
      "Merging matches into catalog...\n",
      "  38513 loci were matched to a catalog locus.\n",
      "  0 loci were matched to a catalog locus using gapped alignments.\n",
      "  3552 loci were newly added to the catalog.\n",
      "  199 loci matched more than one catalog locus and were excluded.\n",
      "Processing sample ./GE011215_09.1 [6 of 30]\n",
      "  Parsing ./GE011215_16.1.tags.tsv.gz\n",
      "  Parsing ./GE011215_16.1.snps.tsv.gz\n",
      "  Parsing ./GE011215_16.1.alleles.tsv.gz\n",
      "Searching for sequence matches...\n",
      "  Distance allowed between stacks: 3; searching with a k-mer length of 35 (108 k-mers per read); 3 k-mer hits required.\n",
      "  58031 loci in the catalog, 5639952 kmers in the catalog hash.\n",
      "Merging matches into catalog...\n",
      "  38032 loci were matched to a catalog locus.\n",
      "  0 loci were matched to a catalog locus using gapped alignments.\n",
      "  3066 loci were newly added to the catalog.\n",
      "  193 loci matched more than one catalog locus and were excluded.\n",
      "Processing sample ./GE011215_16.1 [7 of 30]\n",
      "  Parsing ./GE011215_01.1.tags.tsv.gz\n",
      "  Parsing ./GE011215_01.1.snps.tsv.gz\n",
      "  Parsing ./GE011215_01.1.alleles.tsv.gz\n",
      "Searching for sequence matches...\n",
      "  Distance allowed between stacks: 3; searching with a k-mer length of 35 (108 k-mers per read); 3 k-mer hits required.\n",
      "  61097 loci in the catalog, 5930199 kmers in the catalog hash.\n",
      "Merging matches into catalog...\n",
      "  39268 loci were matched to a catalog locus.\n",
      "  0 loci were matched to a catalog locus using gapped alignments.\n",
      "  1948 loci were newly added to the catalog.\n",
      "  179 loci matched more than one catalog locus and were excluded.\n",
      "Processing sample ./GE011215_01.1 [8 of 30]\n",
      "  Parsing ./GE011215_30.1.tags.tsv.gz\n",
      "  Parsing ./GE011215_30.1.snps.tsv.gz\n",
      "  Parsing ./GE011215_30.1.alleles.tsv.gz\n",
      "Searching for sequence matches...\n",
      "  Distance allowed between stacks: 3; searching with a k-mer length of 35 (108 k-mers per read); 3 k-mer hits required.\n",
      "  63045 loci in the catalog, 6104576 kmers in the catalog hash.\n",
      "Merging matches into catalog...\n",
      "  40480 loci were matched to a catalog locus.\n",
      "  0 loci were matched to a catalog locus using gapped alignments.\n",
      "  2640 loci were newly added to the catalog.\n",
      "  220 loci matched more than one catalog locus and were excluded.\n",
      "Processing sample ./GE011215_30.1 [9 of 30]\n",
      "  Parsing ./GE011215_15.1.tags.tsv.gz\n",
      "  Parsing ./GE011215_15.1.snps.tsv.gz\n",
      "  Parsing ./GE011215_15.1.alleles.tsv.gz\n",
      "Searching for sequence matches...\n",
      "  Distance allowed between stacks: 3; searching with a k-mer length of 35 (108 k-mers per read); 3 k-mer hits required.\n",
      "  65685 loci in the catalog, 6348349 kmers in the catalog hash.\n",
      "Merging matches into catalog...\n",
      "  39692 loci were matched to a catalog locus.\n",
      "  0 loci were matched to a catalog locus using gapped alignments.\n",
      "  18440 loci were newly added to the catalog.\n",
      "  190 loci matched more than one catalog locus and were excluded.\n",
      "Processing sample ./GE011215_15.1 [10 of 30]\n",
      "  Parsing ./GE011215_14.1.tags.tsv.gz\n",
      "  Parsing ./GE011215_14.1.snps.tsv.gz\n",
      "  Parsing ./GE011215_14.1.alleles.tsv.gz\n",
      "Searching for sequence matches...\n",
      "  Distance allowed between stacks: 3; searching with a k-mer length of 35 (108 k-mers per read); 3 k-mer hits required.\n",
      "  84125 loci in the catalog, 8329704 kmers in the catalog hash.\n",
      "Merging matches into catalog...\n",
      "  39971 loci were matched to a catalog locus.\n",
      "  0 loci were matched to a catalog locus using gapped alignments.\n",
      "  3170 loci were newly added to the catalog.\n",
      "  208 loci matched more than one catalog locus and were excluded.\n",
      "Processing sample ./GE011215_14.1 [11 of 30]\n",
      "  Parsing ./NA021015_10.1.tags.tsv.gz\n",
      "  Parsing ./NA021015_10.1.snps.tsv.gz\n",
      "  Parsing ./NA021015_10.1.alleles.tsv.gz\n",
      "Searching for sequence matches...\n",
      "  Distance allowed between stacks: 3; searching with a k-mer length of 35 (108 k-mers per read); 3 k-mer hits required.\n",
      "  87295 loci in the catalog, 8631591 kmers in the catalog hash.\n",
      "Merging matches into catalog...\n",
      "  39183 loci were matched to a catalog locus.\n",
      "  0 loci were matched to a catalog locus using gapped alignments.\n",
      "  3680 loci were newly added to the catalog.\n",
      "  200 loci matched more than one catalog locus and were excluded.\n",
      "Processing sample ./NA021015_10.1 [12 of 30]\n",
      "  Parsing ./NA021015_17.1.tags.tsv.gz\n",
      "  Parsing ./NA021015_17.1.snps.tsv.gz\n",
      "  Parsing ./NA021015_17.1.alleles.tsv.gz\n",
      "Searching for sequence matches...\n",
      "  Distance allowed between stacks: 3; searching with a k-mer length of 35 (108 k-mers per read); 3 k-mer hits required.\n",
      "  90975 loci in the catalog, 9010271 kmers in the catalog hash.\n",
      "Merging matches into catalog...\n",
      "  39757 loci were matched to a catalog locus.\n",
      "  0 loci were matched to a catalog locus using gapped alignments.\n",
      "  3824 loci were newly added to the catalog.\n",
      "  208 loci matched more than one catalog locus and were excluded.\n",
      "Processing sample ./NA021015_17.1 [13 of 30]\n",
      "  Parsing ./NA021015_21.1.tags.tsv.gz\n",
      "  Parsing ./NA021015_21.1.snps.tsv.gz\n",
      "  Parsing ./NA021015_21.1.alleles.tsv.gz\n",
      "Searching for sequence matches...\n",
      "  Distance allowed between stacks: 3; searching with a k-mer length of 35 (108 k-mers per read); 3 k-mer hits required.\n",
      "  94799 loci in the catalog, 9407483 kmers in the catalog hash.\n",
      "Merging matches into catalog...\n",
      "  39282 loci were matched to a catalog locus.\n",
      "  0 loci were matched to a catalog locus using gapped alignments.\n",
      "  1369 loci were newly added to the catalog.\n",
      "  205 loci matched more than one catalog locus and were excluded.\n",
      "Processing sample ./NA021015_21.1 [14 of 30]\n",
      "  Parsing ./NA021015_02.1.tags.tsv.gz\n",
      "  Parsing ./NA021015_02.1.snps.tsv.gz\n",
      "  Parsing ./NA021015_02.1.alleles.tsv.gz\n",
      "Searching for sequence matches...\n",
      "  Distance allowed between stacks: 3; searching with a k-mer length of 35 (108 k-mers per read); 3 k-mer hits required.\n",
      "  96168 loci in the catalog, 9537065 kmers in the catalog hash.\n",
      "Merging matches into catalog...\n",
      "  38564 loci were matched to a catalog locus.\n",
      "  0 loci were matched to a catalog locus using gapped alignments.\n",
      "  649 loci were newly added to the catalog.\n",
      "  228 loci matched more than one catalog locus and were excluded.\n",
      "Processing sample ./NA021015_02.1 [15 of 30]\n",
      "  Parsing ./NA021015_09.1.tags.tsv.gz\n",
      "  Parsing ./NA021015_09.1.snps.tsv.gz\n",
      "  Parsing ./NA021015_09.1.alleles.tsv.gz\n",
      "Searching for sequence matches...\n",
      "  Distance allowed between stacks: 3; searching with a k-mer length of 35 (108 k-mers per read); 3 k-mer hits required.\n",
      "  96817 loci in the catalog, 9595979 kmers in the catalog hash.\n",
      "Merging matches into catalog...\n",
      "  40537 loci were matched to a catalog locus.\n",
      "  0 loci were matched to a catalog locus using gapped alignments.\n",
      "  980 loci were newly added to the catalog.\n",
      "  229 loci matched more than one catalog locus and were excluded.\n",
      "Processing sample ./NA021015_09.1 [16 of 30]\n",
      "  Parsing ./NA021015_22.1.tags.tsv.gz\n",
      "  Parsing ./NA021015_22.1.snps.tsv.gz\n",
      "  Parsing ./NA021015_22.1.alleles.tsv.gz\n",
      "Searching for sequence matches...\n",
      "  Distance allowed between stacks: 3; searching with a k-mer length of 35 (108 k-mers per read); 3 k-mer hits required.\n",
      "  97797 loci in the catalog, 9682527 kmers in the catalog hash.\n",
      "Merging matches into catalog...\n",
      "  40543 loci were matched to a catalog locus.\n",
      "  0 loci were matched to a catalog locus using gapped alignments.\n",
      "  6674 loci were newly added to the catalog.\n",
      "  209 loci matched more than one catalog locus and were excluded.\n",
      "Processing sample ./NA021015_22.1 [17 of 30]\n",
      "  Parsing ./NA021015_14.1.tags.tsv.gz\n",
      "  Parsing ./NA021015_14.1.snps.tsv.gz\n",
      "  Parsing ./NA021015_14.1.alleles.tsv.gz\n",
      "Searching for sequence matches...\n",
      "  Distance allowed between stacks: 3; searching with a k-mer length of 35 (108 k-mers per read); 3 k-mer hits required.\n",
      "  104471 loci in the catalog, 10364892 kmers in the catalog hash.\n",
      "Merging matches into catalog...\n",
      "  39996 loci were matched to a catalog locus.\n",
      "  0 loci were matched to a catalog locus using gapped alignments.\n",
      "  1388 loci were newly added to the catalog.\n",
      "  193 loci matched more than one catalog locus and were excluded.\n",
      "Processing sample ./NA021015_14.1 [18 of 30]\n",
      "  Parsing ./NA021015_06.1.tags.tsv.gz\n",
      "  Parsing ./NA021015_06.1.snps.tsv.gz\n",
      "  Parsing ./NA021015_06.1.alleles.tsv.gz\n",
      "Searching for sequence matches...\n",
      "  Distance allowed between stacks: 3; searching with a k-mer length of 35 (108 k-mers per read); 3 k-mer hits required.\n",
      "  105859 loci in the catalog, 10500309 kmers in the catalog hash.\n",
      "Merging matches into catalog...\n",
      "  40419 loci were matched to a catalog locus.\n",
      "  0 loci were matched to a catalog locus using gapped alignments.\n",
      "  1499 loci were newly added to the catalog.\n",
      "  217 loci matched more than one catalog locus and were excluded.\n",
      "Processing sample ./NA021015_06.1 [19 of 30]\n",
      "  Parsing ./NA021015_13.1.tags.tsv.gz\n",
      "  Parsing ./NA021015_13.1.snps.tsv.gz\n",
      "  Parsing ./NA021015_13.1.alleles.tsv.gz\n",
      "Searching for sequence matches...\n",
      "  Distance allowed between stacks: 3; searching with a k-mer length of 35 (108 k-mers per read); 3 k-mer hits required.\n",
      "  107358 loci in the catalog, 10635971 kmers in the catalog hash.\n",
      "Merging matches into catalog...\n",
      "  39379 loci were matched to a catalog locus.\n",
      "  0 loci were matched to a catalog locus using gapped alignments.\n",
      "  1149 loci were newly added to the catalog.\n",
      "  208 loci matched more than one catalog locus and were excluded.\n",
      "Processing sample ./NA021015_13.1 [20 of 30]\n",
      "  Parsing ./NA021015_16.1.tags.tsv.gz\n",
      "  Parsing ./NA021015_16.1.snps.tsv.gz\n",
      "  Parsing ./NA021015_16.1.alleles.tsv.gz\n",
      "Searching for sequence matches...\n",
      "  Distance allowed between stacks: 3; searching with a k-mer length of 35 (108 k-mers per read); 3 k-mer hits required.\n",
      "  108507 loci in the catalog, 10734296 kmers in the catalog hash.\n",
      "Merging matches into catalog...\n",
      "  40080 loci were matched to a catalog locus.\n",
      "  0 loci were matched to a catalog locus using gapped alignments.\n",
      "  1134 loci were newly added to the catalog.\n",
      "  227 loci matched more than one catalog locus and were excluded.\n",
      "Processing sample ./NA021015_16.1 [21 of 30]\n",
      "  Parsing ./PO020515_03.1.tags.tsv.gz\n",
      "  Parsing ./PO020515_03.1.snps.tsv.gz\n",
      "  Parsing ./PO020515_03.1.alleles.tsv.gz\n",
      "Searching for sequence matches...\n",
      "  Distance allowed between stacks: 3; searching with a k-mer length of 35 (108 k-mers per read); 3 k-mer hits required.\n",
      "  109641 loci in the catalog, 10836620 kmers in the catalog hash.\n",
      "Merging matches into catalog...\n",
      "  39769 loci were matched to a catalog locus.\n",
      "  0 loci were matched to a catalog locus using gapped alignments.\n",
      "  2381 loci were newly added to the catalog.\n",
      "  224 loci matched more than one catalog locus and were excluded.\n",
      "Processing sample ./PO020515_03.1 [22 of 30]\n",
      "  Parsing ./PO010715_10.1.tags.tsv.gz\n",
      "  Parsing ./PO010715_10.1.snps.tsv.gz\n",
      "  Parsing ./PO010715_10.1.alleles.tsv.gz\n",
      "Searching for sequence matches...\n",
      "  Distance allowed between stacks: 3; searching with a k-mer length of 35 (108 k-mers per read); 3 k-mer hits required.\n",
      "  112022 loci in the catalog, 11079430 kmers in the catalog hash.\n",
      "Merging matches into catalog...\n",
      "  39284 loci were matched to a catalog locus.\n",
      "  0 loci were matched to a catalog locus using gapped alignments.\n",
      "  1070 loci were newly added to the catalog.\n",
      "  178 loci matched more than one catalog locus and were excluded.\n",
      "Processing sample ./PO010715_10.1 [23 of 30]\n",
      "  Parsing ./PO020515_14.1.tags.tsv.gz\n",
      "  Parsing ./PO020515_14.1.snps.tsv.gz\n",
      "  Parsing ./PO020515_14.1.alleles.tsv.gz\n",
      "Searching for sequence matches...\n",
      "  Distance allowed between stacks: 3; searching with a k-mer length of 35 (108 k-mers per read); 3 k-mer hits required.\n",
      "  113092 loci in the catalog, 11182507 kmers in the catalog hash.\n",
      "Merging matches into catalog...\n",
      "  39581 loci were matched to a catalog locus.\n",
      "  0 loci were matched to a catalog locus using gapped alignments.\n",
      "  836 loci were newly added to the catalog.\n",
      "  187 loci matched more than one catalog locus and were excluded.\n",
      "Processing sample ./PO020515_14.1 [24 of 30]\n",
      "  Parsing ./PO010715_11.1.tags.tsv.gz\n",
      "  Parsing ./PO010715_11.1.snps.tsv.gz\n",
      "  Parsing ./PO010715_11.1.alleles.tsv.gz\n",
      "Searching for sequence matches...\n",
      "  Distance allowed between stacks: 3; searching with a k-mer length of 35 (108 k-mers per read); 3 k-mer hits required.\n",
      "  113928 loci in the catalog, 11259509 kmers in the catalog hash.\n",
      "Merging matches into catalog...\n",
      "  40740 loci were matched to a catalog locus.\n",
      "  0 loci were matched to a catalog locus using gapped alignments.\n",
      "  4619 loci were newly added to the catalog.\n",
      "  178 loci matched more than one catalog locus and were excluded.\n",
      "Processing sample ./PO010715_11.1 [25 of 30]\n",
      "  Parsing ./PO020515_05.1.tags.tsv.gz\n",
      "  Parsing ./PO020515_05.1.snps.tsv.gz\n",
      "  Parsing ./PO020515_05.1.alleles.tsv.gz\n",
      "Searching for sequence matches...\n",
      "  Distance allowed between stacks: 3; searching with a k-mer length of 35 (108 k-mers per read); 3 k-mer hits required.\n",
      "  118547 loci in the catalog, 11716333 kmers in the catalog hash.\n",
      "Merging matches into catalog...\n",
      "  38652 loci were matched to a catalog locus.\n",
      "  0 loci were matched to a catalog locus using gapped alignments.\n",
      "  1860 loci were newly added to the catalog.\n",
      "  197 loci matched more than one catalog locus and were excluded.\n",
      "Processing sample ./PO020515_05.1 [26 of 30]\n",
      "  Parsing ./PO020515_17.1.tags.tsv.gz\n",
      "  Parsing ./PO020515_17.1.snps.tsv.gz\n",
      "  Parsing ./PO020515_17.1.alleles.tsv.gz\n",
      "Searching for sequence matches...\n",
      "  Distance allowed between stacks: 3; searching with a k-mer length of 35 (108 k-mers per read); 3 k-mer hits required.\n",
      "  120407 loci in the catalog, 11912303 kmers in the catalog hash.\n",
      "Merging matches into catalog...\n",
      "  39979 loci were matched to a catalog locus.\n",
      "  0 loci were matched to a catalog locus using gapped alignments.\n",
      "  762 loci were newly added to the catalog.\n",
      "  204 loci matched more than one catalog locus and were excluded.\n",
      "Processing sample ./PO020515_17.1 [27 of 30]\n",
      "  Parsing ./PO020515_15.1.tags.tsv.gz\n",
      "  Parsing ./PO020515_15.1.snps.tsv.gz\n",
      "  Parsing ./PO020515_15.1.alleles.tsv.gz\n",
      "Searching for sequence matches...\n",
      "  Distance allowed between stacks: 3; searching with a k-mer length of 35 (108 k-mers per read); 3 k-mer hits required.\n",
      "  121169 loci in the catalog, 11982200 kmers in the catalog hash.\n",
      "Merging matches into catalog...\n",
      "  39956 loci were matched to a catalog locus.\n",
      "  0 loci were matched to a catalog locus using gapped alignments.\n",
      "  756 loci were newly added to the catalog.\n",
      "  176 loci matched more than one catalog locus and were excluded.\n",
      "Processing sample ./PO020515_15.1 [28 of 30]\n",
      "  Parsing ./PO010715_17.1.tags.tsv.gz\n",
      "  Parsing ./PO010715_17.1.snps.tsv.gz\n",
      "  Parsing ./PO010715_17.1.alleles.tsv.gz\n",
      "Searching for sequence matches...\n",
      "  Distance allowed between stacks: 3; searching with a k-mer length of 35 (108 k-mers per read); 3 k-mer hits required.\n",
      "  121925 loci in the catalog, 12055988 kmers in the catalog hash.\n",
      "Merging matches into catalog...\n",
      "  40028 loci were matched to a catalog locus.\n",
      "  0 loci were matched to a catalog locus using gapped alignments.\n",
      "  615 loci were newly added to the catalog.\n",
      "  192 loci matched more than one catalog locus and were excluded.\n",
      "Processing sample ./PO010715_17.1 [29 of 30]\n",
      "  Parsing ./PO020515_10.1.tags.tsv.gz\n",
      "  Parsing ./PO020515_10.1.snps.tsv.gz\n",
      "  Parsing ./PO020515_10.1.alleles.tsv.gz\n",
      "Searching for sequence matches...\n",
      "  Distance allowed between stacks: 3; searching with a k-mer length of 35 (108 k-mers per read); 3 k-mer hits required.\n",
      "  122540 loci in the catalog, 12114135 kmers in the catalog hash.\n",
      "Merging matches into catalog...\n",
      "  39783 loci were matched to a catalog locus.\n",
      "  0 loci were matched to a catalog locus using gapped alignments.\n",
      "  3449 loci were newly added to the catalog.\n",
      "  187 loci matched more than one catalog locus and were excluded.\n",
      "Processing sample ./PO020515_10.1 [30 of 30]\n",
      "  Parsing ./PO020515_08.1.tags.tsv.gz\n",
      "  Parsing ./PO020515_08.1.snps.tsv.gz\n",
      "  Parsing ./PO020515_08.1.alleles.tsv.gz\n",
      "Searching for sequence matches...\n",
      "  Distance allowed between stacks: 3; searching with a k-mer length of 35 (108 k-mers per read); 3 k-mer hits required.\n",
      "  125989 loci in the catalog, 12474465 kmers in the catalog hash.\n"
     ]
    }
   ],
   "source": [
    "!cstacks -b 303 -s ./GE011215_07.1 -s ./GE012315_06.1 -s ./GE012315_11.1 -s ./GE012315_03.1 -s ./GE011215_09.1 -s ./GE011215_16.1 -s ./GE011215_01.1 -s ./GE011215_30.1 -s ./GE011215_15.1 -s ./GE011215_14.1 -s ./NA021015_10.1 -s ./NA021015_17.1 -s ./NA021015_21.1 -s ./NA021015_02.1 -s ./NA021015_09.1 -s ./NA021015_22.1 -s ./NA021015_14.1 -s ./NA021015_06.1 -s ./NA021015_13.1 -s ./NA021015_16.1 -s ./PO020515_03.1 -s ./PO010715_10.1 -s ./PO020515_14.1 -s ./PO010715_11.1 -s ./PO020515_05.1 -s ./PO020515_17.1 -s ./PO020515_15.1 -s ./PO010715_17.1 -s ./PO020515_10.1 -s ./PO020515_08.1 -o UCstacksL1/stacks_base -n 3 -p 6"
   ]
  },
  {
   "cell_type": "markdown",
   "metadata": {},
   "source": [
    "*Kernel stopped running because of a timeout error*"
   ]
  },
  {
   "cell_type": "markdown",
   "metadata": {
    "collapsed": true
   },
   "source": [
    "## 10/24/2016"
   ]
  },
  {
   "cell_type": "markdown",
   "metadata": {},
   "source": [
    "**troubleshooting timeout error**\n",
    "\n",
    "Could the timeout be a result of trying to print all of the std. error to the notebook? \n",
    "\n",
    "#### Test: Redirected std. error to a separate file"
   ]
  },
  {
   "cell_type": "code",
   "execution_count": 1,
   "metadata": {
    "collapsed": false,
    "scrolled": true
   },
   "outputs": [
    {
     "data": {
      "text/plain": [
       "u'/mnt/hgfs/Shared Drive D/Pacific cod/DataAnalysis/notebooks'"
      ]
     },
     "execution_count": 1,
     "metadata": {},
     "output_type": "execute_result"
    }
   ],
   "source": [
    "pwd"
   ]
  },
  {
   "cell_type": "code",
   "execution_count": 2,
   "metadata": {
    "collapsed": false,
    "scrolled": true
   },
   "outputs": [
    {
     "name": "stdout",
     "output_type": "stream",
     "text": [
      "/mnt/hgfs/Shared Drive D/Pacific cod/DataAnalysis/UCstacksL1\n"
     ]
    }
   ],
   "source": [
    "cd ../UCstacksL1"
   ]
  },
  {
   "cell_type": "code",
   "execution_count": 3,
   "metadata": {
    "collapsed": false,
    "scrolled": true
   },
   "outputs": [
    {
     "name": "stdout",
     "output_type": "stream",
     "text": [
      "/mnt/hgfs/Shared Drive D/Pacific cod/DataAnalysis/UCstacksL1/stacks_m3\n"
     ]
    }
   ],
   "source": [
    "cd stacks_m3"
   ]
  },
  {
   "cell_type": "code",
   "execution_count": 6,
   "metadata": {
    "collapsed": true,
    "scrolled": true
   },
   "outputs": [],
   "source": [
    "!cstacks -b 330 -s stacks_m3/GE011215_07.1 -s stacks_m3/GE012315_06.1 -s stacks_m3/GE012315_11.1 -s stacks_m3/GE012315_03.1 -s stacks_m3/GE011215_09.1 -s stacks_m3/GE011215_16.1 -s stacks_m3/GE011215_01.1 -s stacks_m3/GE011215_30.1 -s stacks_m3/GE011215_15.1 -s stacks_m3/GE011215_14.1 -s stacks_m3/NA021015_10.1 -s stacks_m3/NA021015_17.1 -s stacks_m3/NA021015_21.1 -s stacks_m3/NA021015_02.1 -s stacks_m3/NA021015_09.1 -s stacks_m3/NA021015_22.1 -s stacks_m3/NA021015_14.1 -s stacks_m3/NA021015_06.1 -s stacks_m3/NA021015_13.1 -s stacks_m3/NA021015_16.1 -s stacks_m3/PO020515_03.1 -s stacks_m3/PO010715_10.1 -s stacks_m3/PO020515_14.1 -s stacks_m3/PO010715_11.1 -s stacks_m3/PO020515_05.1 -s stacks_m3/PO020515_17.1 -s stacks_m3/PO020515_15.1 -s stacks_m3/PO010715_17.1 -s stacks_m3/PO020515_10.1 -s stacks_m3/PO020515_08.1 -o stacks_m3 -n 3 -p 6 2> cstacks_out4.stderr"
   ]
  },
  {
   "cell_type": "markdown",
   "metadata": {},
   "source": [
    "*now the code won't even run cstacks....*\n",
    "\n",
    "### See next notebook for actual code run in the command line\n",
    "\n"
   ]
  },
  {
   "cell_type": "code",
   "execution_count": null,
   "metadata": {
    "collapsed": true,
    "scrolled": true
   },
   "outputs": [],
   "source": [
    "\n"
   ]
  }
 ],
 "metadata": {
  "anaconda-cloud": {},
  "kernelspec": {
   "display_name": "Python [default]",
   "language": "python",
   "name": "python2"
  },
  "language_info": {
   "codemirror_mode": {
    "name": "ipython",
    "version": 2
   },
   "file_extension": ".py",
   "mimetype": "text/x-python",
   "name": "python",
   "nbconvert_exporter": "python",
   "pygments_lexer": "ipython2",
   "version": "2.7.12"
  }
 },
 "nbformat": 4,
 "nbformat_minor": 1
}
