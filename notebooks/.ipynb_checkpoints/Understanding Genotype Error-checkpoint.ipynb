{
 "cells": [
  {
   "cell_type": "markdown",
   "metadata": {},
   "source": [
    "## Understanding Genotype Error\n",
    "\n",
    "I have ~6% genotyping error between replicates prepared using 2 different protocols. This notebook reviews ways that I am attempting to cut down on this error.\n",
    "\n",
    "<br>\n",
    "ONE. remove loci out of HWE - Maybe the loci with genotype mismatches are ones that tend to be out of HWE, and would be removed anyway. Ran Genepop v4.2\n",
    "\n",
    "<br>\n",
    "TWO. rerun stacks using the bounded snp model, as opposed to the default snp model. \n",
    "\n",
    "- An article explaining the difference between the two models can be found [here](https://www.ncbi.nlm.nih.gov/pmc/articles/PMC3936987/)\n",
    "- In the article, they explain that \"Allowing high values for the error rate ε (e.g. greater than 10%) increases the likelihood that a locus with a number of alternative reads will be called a homozygous site with excessive error. Reducing the upper ε bound decreases the chance of calling a homozygote when the true genotype is heterozygous\". Since stacks overcalls heterozygotes, we want the error rate to be very low. The problem with lowering the error rate is that this also significantly decreases the number of loci that are retained. In order to circumvent this problem, our lab uses a high error rate (to retain larger amounts of loci), and then corrects the genotypes (getting rid of the excess of homozygotes) using Marine's script. \n",
    "\n",
    "\n",
    "<br>\n",
    "<br>\n",
    "### (1) Remove loci out of HWE\n",
    "\n",
    "I ran genepop 4.2 on my file `batch_1_filtered_MAF_MissingLoci_Individs.txt`. \n",
    "\n",
    "This produced a ton of temporary files that all disappeared and gave me a single large text file with all of the pvalues.\n",
    "However, with the format it is difficult to analyze. So I followed these steps to simplify the process of determining which loci are out of HWE: \n",
    "\n",
    "1. Copy and paste into excel, convert text to columns, delete the header\n",
    "2. Save as a .csv file\n",
    "3. Run a python script that condenses the long text file into a dictionary"
   ]
  },
  {
   "cell_type": "code",
   "execution_count": 1,
   "metadata": {
    "collapsed": false
   },
   "outputs": [
    {
     "data": {
      "text/plain": [
       "u'/mnt/hgfs/Pacific cod/DataAnalysis/mf-fish546-PCod/notebooks'"
      ]
     },
     "execution_count": 1,
     "metadata": {},
     "output_type": "execute_result"
    }
   ],
   "source": [
    "pwd"
   ]
  },
  {
   "cell_type": "code",
   "execution_count": 3,
   "metadata": {
    "collapsed": false
   },
   "outputs": [
    {
     "name": "stdout",
     "output_type": "stream",
     "text": [
      "/mnt/hgfs/Pacific cod/DataAnalysis/scripts\n"
     ]
    }
   ],
   "source": [
    "cd ../../scripts"
   ]
  },
  {
   "cell_type": "code",
   "execution_count": 5,
   "metadata": {
    "collapsed": false
   },
   "outputs": [
    {
     "name": "stdout",
     "output_type": "stream",
     "text": [
      "/mnt/hgfs/Pacific cod/DataAnalysis/Analyses/genepop\n"
     ]
    }
   ],
   "source": [
    "cd ../Analyses/genepop"
   ]
  },
  {
   "cell_type": "code",
   "execution_count": 7,
   "metadata": {
    "collapsed": false
   },
   "outputs": [
    {
     "name": "stdout",
     "output_type": "stream",
     "text": [
      "### Loci out of HWE ###\r\n",
      "## Use this script to find the loci OUT of HWE from genepop's .txt file output. \r\n",
      "## MF 1/17/2017\r\n",
      "\r\n",
      "## ARG 1 - genepop input file\r\n",
      "## To Change in the Script: \r\n",
      "##   1. the end line number - the last line in the section of the genepop output file that has a separate chart for each locus (current is 18828)\r\n",
      "##   2. the total number of lines that each locus' chart takes up (current is 19)\r\n",
      "##   3. the number of lines to add on each iteration of the \"for\" loop (#2 - 1, current is 18)\r\n",
      "#############################################\r\n"
     ]
    }
   ],
   "source": [
    "!head HWE_genepop_to_list.py"
   ]
  },
  {
   "cell_type": "code",
   "execution_count": null,
   "metadata": {
    "collapsed": true
   },
   "outputs": [],
   "source": [
    "python HWE_genepop_to_list.py batch_1_filtered_MAF_MissingLoci_Individs.txt"
   ]
  },
  {
   "cell_type": "markdown",
   "metadata": {},
   "source": [
    "**And this caused some problems...**\n",
    "\n",
    "\n",
    "the script didn't work because some of the loci didn't have enough information to run Fisher's exact test, which meant that the line counting was off. \n",
    "\n",
    "**WHY IS THIS HAPPENING **\n",
    "\n",
    "-- genepop does not calculate HWE if: (1) there is only one allele present in the population, or (2) if there are two alleles present, but the second allele is only represented once. Since our biallelic catalog considers both of these cases as polymorphic loci, these loci *should* be retained as polymorphic, they just can't have HWE calculated.  \n",
    "\n",
    "-- In a sample of 1110 loci, genepop was unable to calculate HWE for 121 loci. I groundtruthed two loci which were not used by genepop, to ensure that they were indeed polymorphic - they are (See spreadsheet [here](https://github.com/mfisher5/mf-fish546-PCod/blob/master/Analyses/loci_monomorphic_checks.xlsx)). \n",
    "\n",
    "<br>\n",
    "\n",
    "I also ran the script to pull out HWE p-values after deleting the problematic polymorphic loci up to line 18828 (1110 loci). **Of these 1110 loci, only 20 loci had 4 or more populations out of HWE. **\n",
    "\n",
    "\n",
    "<br>\n",
    "**Effect on genotype mismatch percentage**\n",
    "\n",
    "I recalculated genotype mismatches between 300ng and 500ng replicates after removing the 20 loci NOT in HWE. \n",
    "\n",
    "This led to an average change in genotype mismatch percentage of 0%, with a range between +0.023 (9.59% to 9.62%) and -0.016 (3.21% to 3.19%; 8.15% to 8.13%). \n",
    "\n",
    "No obvious bias toward increasing or decreasing genotype mismatch across all samples. \n",
    "\n",
    "<br>\n",
    "<br>\n"
   ]
  },
  {
   "cell_type": "markdown",
   "metadata": {},
   "source": [
    "### (2) Rerun stacks using bounded SNP model"
   ]
  },
  {
   "cell_type": "code",
   "execution_count": 1,
   "metadata": {
    "collapsed": false
   },
   "outputs": [
    {
     "data": {
      "text/plain": [
       "u'/mnt/hgfs/Pacific cod/DataAnalysis/mf-fish546-PCod/notebooks'"
      ]
     },
     "execution_count": 1,
     "metadata": {},
     "output_type": "execute_result"
    }
   ],
   "source": [
    "pwd"
   ]
  },
  {
   "cell_type": "code",
   "execution_count": 2,
   "metadata": {
    "collapsed": false
   },
   "outputs": [
    {
     "name": "stdout",
     "output_type": "stream",
     "text": [
      "/mnt/hgfs/Pacific cod/DataAnalysis/scripts\n"
     ]
    }
   ],
   "source": [
    "cd ../../scripts"
   ]
  },
  {
   "cell_type": "code",
   "execution_count": 5,
   "metadata": {
    "collapsed": false
   },
   "outputs": [],
   "source": [
    "!python ustacks_populations_genShell_L1L2_1-17.py barcodesL1.txt barcodesL2.txt samples_for_cstacks_L1L2.txt"
   ]
  },
  {
   "cell_type": "code",
   "execution_count": 6,
   "metadata": {
    "collapsed": true
   },
   "outputs": [],
   "source": [
    "mv ustacks_populations_shell_boundSNP.sh ../ustacks_populations_shell_boundSNP.sh"
   ]
  },
  {
   "cell_type": "code",
   "execution_count": 7,
   "metadata": {
    "collapsed": false
   },
   "outputs": [
    {
     "name": "stdout",
     "output_type": "stream",
     "text": [
      "/mnt/hgfs/Pacific cod/DataAnalysis\n"
     ]
    }
   ],
   "source": [
    "cd ../"
   ]
  },
  {
   "cell_type": "code",
   "execution_count": 8,
   "metadata": {
    "collapsed": false
   },
   "outputs": [
    {
     "name": "stdout",
     "output_type": "stream",
     "text": [
      "#!/bin/bash\r\n",
      "cd /mnt/hgfs/Shared\\ Drive\\ D/Pacific\\ cod/DataAnalysis\r\n",
      "mkdir L1L2stacks_m10_boundSNP\r\n",
      "\r\n",
      "#ustacks\r\n",
      "ustacks -t gzfastq -f L1L2samplesT142/PO010715_06.1.fq.gz -r -d -o L1L2stacks_m10_boundSNP -i 001 -m 10 -M 3 -p 6 --model_type bounded\r\n",
      "ustacks -t gzfastq -f L1L2samplesT142/PO010715_27.1.fq.gz -r -d -o L1L2stacks_m10_boundSNP -i 002 -m 10 -M 3 -p 6 --model_type bounded\r\n",
      "ustacks -t gzfastq -f L1L2samplesT142/PO010715_28.1.fq.gz -r -d -o L1L2stacks_m10_boundSNP -i 003 -m 10 -M 3 -p 6 --model_type bounded\r\n",
      "ustacks -t gzfastq -f L1L2samplesT142/PO010715_29.1.fq.gz -r -d -o L1L2stacks_m10_boundSNP -i 004 -m 10 -M 3 -p 6 --model_type bounded\r\n",
      "ustacks -t gzfastq -f L1L2samplesT142/GE011215_08.1.fq.gz -r -d -o L1L2stacks_m10_boundSNP -i 005 -m 10 -M 3 -p 6 --model_type bounded\r\n"
     ]
    }
   ],
   "source": [
    "!head ustacks_populations_shell_boundSNP.sh"
   ]
  },
  {
   "cell_type": "code",
   "execution_count": null,
   "metadata": {
    "collapsed": true
   },
   "outputs": [],
   "source": [
    "./ustacks_populations_shell_boundSNP.sh"
   ]
  },
  {
   "cell_type": "markdown",
   "metadata": {},
   "source": [
    "**Marine's scripts: Using [this](https://github.com/mfisher5/mf-fish546-PCod/blob/master/notebooks/Lanes%201%20and%202%20combined%20pipeline.ipynb) notebook as template**"
   ]
  },
  {
   "cell_type": "code",
   "execution_count": 8,
   "metadata": {
    "collapsed": false
   },
   "outputs": [
    {
     "data": {
      "text/plain": [
       "u'/mnt/hgfs/Pacific cod/DataAnalysis/Analyses/genepop'"
      ]
     },
     "execution_count": 8,
     "metadata": {},
     "output_type": "execute_result"
    }
   ],
   "source": [
    "pwd"
   ]
  },
  {
   "cell_type": "code",
   "execution_count": 9,
   "metadata": {
    "collapsed": false
   },
   "outputs": [
    {
     "name": "stdout",
     "output_type": "stream",
     "text": [
      "/mnt/hgfs/Pacific cod/DataAnalysis/L1L2stacks_m10_boundSNP\n"
     ]
    }
   ],
   "source": [
    "cd ../../L1L2stacks_m10_boundSNP"
   ]
  },
  {
   "cell_type": "code",
   "execution_count": 10,
   "metadata": {
    "collapsed": true
   },
   "outputs": [],
   "source": [
    "!gzip -d batch_3.catalog.snps.tsv.gz"
   ]
  },
  {
   "cell_type": "code",
   "execution_count": 11,
   "metadata": {
    "collapsed": false
   },
   "outputs": [
    {
     "name": "stdout",
     "output_type": "stream",
     "text": [
      "/mnt/hgfs/Pacific cod/DataAnalysis/scripts/UndercallingHets_MB_CW\n"
     ]
    }
   ],
   "source": [
    "cd ../scripts/UndercallingHets_MB_CW/"
   ]
  },
  {
   "cell_type": "code",
   "execution_count": 13,
   "metadata": {
    "collapsed": false
   },
   "outputs": [
    {
     "name": "stdout",
     "output_type": "stream",
     "text": [
      "4 116 C C C C C C C C C C C C C C C C C C C C C C C C C C C C C C C C C C C C C C C C C C C C C C C C C C C C C C C C C C C C C C C C C C C C C C C C C C C C C C C C C C C C A C C C C C C C C C C C C C C C C C C C C C C C C C C C C C C C C\r\n",
      "6 96 AAC AAC AAC AAC AAC AAC AAC AAC AAC AAC AAC AAC AAC AAC AAC AAC AAC AAC AAC AAC AAC AAC AAC AAC AAC AAC AAC AAC AAC AAC AAC AAC AAC AAC AAC AAC AAC AAC AAC AAC AAC AAC AAC AAC AAC AAC AAC AAC AAC AAC AAC AAC AAC AAC AAC GTA AAC AAC AAC AAC AAC AAC AAC AAC AAC AAC AAC AAC AAC AAC AAC AAC AAC AAC AAC AAC AAC AAC AAC AAC AAC AAC AAC AAC AAC AAC AAC AAC AAC AAC AAC AAC AAC AAC AAC AAC AAC\r\n",
      "7 117 G G G G G G G G G G G G A G G G G G G G A G G G G G G G G A G G G G G G G G G G G G G G G G G G G G G G G G G G G G G G G G G G G G G G G G G G G G G G G G G G G G G G G G G G G G G G G G G G G G G G G G G G G G G G G G G G G G G G G G G G\r\n",
      "9 33 ACC TCC ACC TCC TCC ACC ACC ACC ACC ACC ACC ACC ACC TCC ACC TCC ACC ACC TCC ACC TCC ACC ACC ACC TCC ACC TCC ACC ACC ACC ACC TCC ACC ACC ACC TCC AAG ACC ACC TCC ACC ACC ACC\r\n",
      "13 97 C C C C C C C C C C C C C C C C C C C C C C C C C C C C C C C C C C C C C C C C C C C C C C C A C C C C C C C C C C C C C C C C C C C C C C C C C C C C C C C C C C C C C C C C C C C C C C C C C C\r\n",
      "17 106 A G A G A A G A G A G A G G A A G A G A G G A A G G G A G A G G G G G A G A G A G A G G A G G G A G A G A A A G A G G G A G G A G A A G A G A A A G A G A G A G G G A A G G A G G A G A G G A G G A A A G G A A G A G A G A G A G G A A G G G A G A G G G G A G A G A A G A A G A G A G A G G G\r\n",
      "18 117 AT AT AT AT AT AT AT AT AT AT GC AT AT AT GC AT AT AT AT AT AT AT AT AT AT AT AT AT AT AT AT AT AT AT AT GC AT AT AT AT AT AT AT AT AT AT AT AT AT AT AT GC AT GC AT AT AT AT AT AT AT AT AT AT AT AT AT AT AT AT AT AT AT AT AT AT AT AT AT AT AT GC AT AT AT AT AT AT AT GC AT AT AT AT AT AT GC AT AT AT AT AT AT AT AT AT AT AT AT AT AT AT AT AT AT AT AT AT GC AT AT AT AT AT AT\r\n",
      "20 110 G G G G G G G G G G G G A G G G G G G G G G G G G G G G G G G G G G G G G G G G G G G G G A G G G G G G G G G G G G G G G G G G G G G G G G G G G G G G G G G G G G A G G G G G G G G G G G G G G G G G G G G G G G G G G G G G G\r\n",
      "22 86 C C C C C C C C C C C C C C C C C C A C C C C C C C C C C C C C C C C C C C C C C C C C C C C C C C C C C C C C C C C C C C C C A C C C C C C C C C C C C C C C C C C C A C C C C\r\n",
      "25 117 C C C C T C C T C T C T C T C T C T C C T C T C T C C C T C C C T C T C T C C C C C T C T C T C C C T C T C C C T C C C T C T C T C T C T C C C T C C C T C T C C T C T C C C C T C C T C C C C C C T C C C C C T C T C T C T C C C C C C C C T C T C C T C T C C C T C T C C C C C C C C T C T C C C C T C T C T C T C T C C C T C T C C T C C C C\r\n",
      "37 118 G G G G G G G G G A G G G G G G G G G G G G G G G G G G G G G G G G G G G G G G G G G G G G G G G G G G G G G G A G G G G G G G G A G G G G G G G G G G G G G G G G G G G G G G G G G G G G G G G G G G G G G G G G G G G G G G G G G G G G G G G\r\n",
      "38 117 GG GG GG GG GG GG GG GG GG GG GG GG GG GG CT GG GG GG GG CT GG GG GG GG GG GG GG GG GG GG GG GG GG GG GG GG GG GG GG GG GG GG GG GG GG GG GG GG CT GG CT GG GG GG GG GG GG GG GG GG GG GG GG GG GG CT GG GG GG GG GG GG GG GG GG GG GG GG GG CT GG CT GG GG GG GG CT GG CT GG CT GG GG GG GG GG GG GG GG GG GG GG GG GG GG GG GG GG GG GG GG GG GG GG GG GG GG GG GG CT GG GG GG GG GG GG\r\n",
      "43 118 TT GG TT GG TT TT GG TT GG TT GG TT TT GG TT TT TT GG GT TT GG TT GG TG TT GG TT GG TG TT TT GG TT TT GG TT GG GT TT GG GG TT TT GG TT GG TG TT TT GG TT GG TT GG TG TT TT GG GT TG TT GG GG GG TT GG GG TG TT GG GG GT TT GG TT TT GG TT GG GT TG TT GG GG TT GG TT GG GT TT GG TT GG TT GG TT TT GG TT GG TG TT GG TG TT TT GG TG TT GG TT TT GG TT GG TT TT GG TT GG TT TT GG TT TT TT TT TT TT GG GG TT TT TT GG TT TT GG TT GG TT TT TT GG TT TT GG TT TT TT GG TT TT GG GG GG TT TT TT TT GG TT GG TT TT TT GG GG TT TT GG GG TT TT TT GG GG TT TT TT GG TT TT GG GG\r\n",
      "44 108 TTA TCC TTA TCC TTA TCC TTA TCC TCC ACC TCC TCC TTA TTA TCC TTA TCC TCC TTA TCC TTA TCC TCC TTA TCC TTA TCC TTA TCC TCC TCC TCC TTA TCC TTA TTA TCC TCC TTA TTA TCC ACC TCC TCC TCC ACC TCC TCC TCC TTA TCC ACC TCC TCC TCC TTA TTC TCC TCC TCC TTA TTA TTA TCC TTA TCC TCA TCC TTA TCC TCC TCC TCC TTA ACC TTA TCC TTA ACC TCC TCC TTA TTA ACC TCC TCC TCC TTA TCC TTA TCC TTA TCC TCC TTA TCC TCC TCC TCC TCC TCC ACC TCC TCC TTA TCC TTA TCC TCC TCC TCC TTA TCC TCC TTA TTA ACC TCC ACC TCC TTA TCC TTA TCC TTA TTA TTA TTA TTA TCC ACC TCC TCC TCC TCC TTA TTA TCC TCC TTA TCA TCC TTA TCC TTA\r\n",
      "48 109 AGTC CCCC CCTC AGTC CCCC AGTC CCCC ACCC AGTC CCCC AGTC CCCC CCTC AGTC CCCC AGTC CCCC CCCC AGTC CCCC AGTC CCCC CCCC AGTC CCCC AGTC CCCC CCCC AGTC AGTC AGTC CCCC CCCT AGTC AGTC CCCC AGTC AGTC CCCC CCCC AGTC AGTC CCCC CCCT CCCC AGTC AGTC AGTC CCCC AGTC CCCC AGTC CCCC AGTC CCCC AGTC AGTC AGTC CCCC AGTC CCCC ACCC AGTC CCCC AGTC CCCC AGTC CCCC AGTC CCCC AGTC AGTC CCCC AGTC ACCC AGTC CCCC AGTC CCCC AGTC CCCC AGTC CCCC AGTC AGTC AGTC CCCC AGTC CCCC AGTC AGTC CCCC AGTC AGTC CCCC AGTC CCCC AGTC CCCC CCCC AGTC AGTC CCCC AGTC AGTC CCCC AGTC CCCC AGTC CCCC AGTC CCCC AGTC AGTC CCCC AGTC CCCC CCCT AGTC CCCC AGTC CCCC AGTC CCCC AGTC CCCC ACCC AGTC CCCC CCCC CCCC CCCC CCCC AGTC CCCC AGTC CCCC AGTC AGTC CCCC AGTC CCCC CCCC AGTC CCCC AGTC CCCC AGTC AGTC AGTC AGTC CCCC AGTC AGTC CCCC AGTC CCCC AGTC CCCC AGTC CCCC CCCC CCCC CCCC AGTC CCCC CCCC CCCC AGTC AGTC AGTC CCCC\r\n",
      "49 119 C C C G C C C G C G C G C G C G C G C G C G C G C G C G C G C C G C C G C C C C G C G C C G C C C G C C G C G C C C C G C C C G C G C C G C C G C G C C C G C G C G G C G C G C C G C C G C C G C G C C C G C C C G C C G C G C C G C C G C G C G G C G C G G C G G C G C C C G C G C G C G C C C C G C G C C C G C G C G C G G G C G C G C C C C C G G\r\n",
      "50 117 AAT CAT CAT CAT AAT CAT AAT CAT AAT CAT AAT CAT AAC CAT AAT AAT CAT AAT CAT CAT AAT CAT CAT AAT CAT CAT CAT CAT AAT CAT AAT CAT AAT AAT CAT CAT AAT CGC CAT AAT AAT CAT AAT CAT CAT CAT AAT CAT CAT CAT CAT CAT CAT AAT CAT CAT CAT CAT CAT CAT CAT CAT AAT CAT CAT CGC CAT CAT CAT CAT CAT CAT AAT CAT AAT CAT CAT CAT CAT CAT AAT CAT AAT CAT AAT CAT AAT CAT AAT CAT AAT CAT CAT CAT AAT CAT CAT CAT CAT CAT AAT CAT CAT AAT CAT CAT CAT CAT AAC AAT AGC CAT CGC AAT CAT AAT CAT CAT AAT AAT CAT CAT CAT CAT CAT CAT CAT CAT CAT AAT CAT AAT CAT AAT CAT CAT CAT CAT AAC CAT AAC AAT CAT AAT CAT AAT CAT AAT CAT CAT CAT AAT CAT AAT CAT CAT AAT CAT AAT CAT CAT CAT CAT CAT\r\n",
      "53 118 CC CC CC CC TC CC TC CC CC CC CC CC CC CC TC CA CC CC CC TC CA CC CC CC CC TC CC CC CC CC CC TC CC CC CC CC CC CC CC CA CC CA CC CC CC CC CA CC TC CC CC CC CC TC CC CC TC CA CC TC CC CC CC CC TC CC TC CC CC TC CC TC CC TC CC CC CC TC CA CC CA CC CC CC CC CA CC CC CA CC CC CC CC CC CC CC TC CC CC CC CC CC CC CC TC CA CC CC CC TC CC CC TC CA CC CA CC CA CC TC CC CC CC CC CC CA CC CA CC CC CC CA CC CC CC CC CC CC CC CC CC CC CC CC CC CC CC CC CA CC CC CC CC CC TC CC TC CC CC\r\n",
      "54 112 GAGGGC GGGGGC GGGGGC GGGGGC AGGGGC GGGGGT GGGGTC GGGGGC GAGGGC GAGGGC GGGGGC GGGGGC GGGGGC GGGGGC GGGGGC AGGGGC GGGGGC GGGGGT GGGGTC GGGGGC GGGGGC GGGGGC GGGGGT GGGGGC GGGGGT GGGGGC GGGGGT AGGGGC GAGGGC GGGGTC AGGGGC GAGGGC GGGGTC GGGGGC AGGGGC GGGGGC AGGGGC AGGGTC GGGGTC GGGGGC GGGGGC AGGGGC GGGGGC GGGGGC GGGGGC GGGGGT AGGGGC GGGGGC GGGGGT GGGGTC GGGGGC GGGGGC GGGGGT GAGGGC GGGGGC GGGGGT GGGGGC GGGGGC GAGGGC GGGGGC GGGGGC GGGGGT GGGGGC GAGGGC GGGGGC GGGGGC GGCAGC GGGGGC GGGGGC GGGGGT GGGGGC GGGGGC GAGGGC GGGGGC GGGGGC GGGGGT GGGGGC GAGGGC GGGGGC GAGGGC GGGGGC GGGGGC GGGGGT GGGGGC GGGGGT GGGGGC GAGGGC GGGGGT GGGGGC AGGGGC GGGGGC GAGGGC GGGGGC GAGGGC GGGGGC GGGGGC GGGGGT GGGGGC GGGGGT AGGGGC GAGGGC GGGGTC GGGGGC GGGGGT GAGGGC GAGGGC GGGGGC GGGGGC AGGGGC GAGGGC GGGGTC GGGGGC AGGGGC GGGGGC GGGGTC GAGGGC GGGGGC GGGGGT GGGGGC GGGGGC GGGGGC GGGGGC GAGGGC GGGGGC AGGGGC GGGGGC GAGGGC GGGGGC GAGGGC GGGGGC GAGGGC GGGGGC AGGGGC GGGGGC GGGGTC AGGGGC GGGGGC GGGGTC GGGGGC GGGGGT AGGGGC GAGGGC GGGGGC GAGGGC GGGGGC GAGGGC GGGGGC GAGGGC GGGGGC GGGGGT GGGGGC GGGGGC GGGGGC GGGGGC GAGGGC GAGGGC GGGGGC GGGGGC GGGGGT GGGGGC GGGGGC GGGGGC GGGGGC GGGGGC GGGGTC GAGGGC GGGGGC GGGGTC GGGGGC GGGGGC GGGGGC GGGGGC AGGGGC GGGGTC GAGGGC GGGGGC GGGGTC GGGGGC GGGGGT GGGGGC GGGGGT AGGGGC GAGGGC GGGGGC AGGGGC GAGGGC GGGGTC\r\n"
     ]
    }
   ],
   "source": [
    "!python preparing_file_for_correcting_genotypes.py \\\n",
    "../../L1L2stacks_m10_boundSNP/batch_3.haplotypes2.tsv \\\n",
    "../../L1L2stacks_m10_boundSNP/batch_3.biallelic_catalog.tsv \\\n",
    "../../L1L2stacks_m10_boundSNP/batch_3.catalog.snps2.tsv \\\n",
    "1"
   ]
  },
  {
   "cell_type": "code",
   "execution_count": 15,
   "metadata": {
    "collapsed": false
   },
   "outputs": [
    {
     "name": "stdout",
     "output_type": "stream",
     "text": [
      "/mnt/hgfs/Pacific cod/DataAnalysis\n"
     ]
    }
   ],
   "source": [
    "cd ../../"
   ]
  },
  {
   "cell_type": "code",
   "execution_count": 16,
   "metadata": {
    "collapsed": false
   },
   "outputs": [
    {
     "name": "stdout",
     "output_type": "stream",
     "text": [
      "#!/bin/bash\r\n",
      "\r\n",
      "### This shell script will unzip all of the individual .tags.tsv files needed for Marine Brieuc's genotypes_verif.py script, then call Marine's python script. Use this bash script AFTER running Marine's script `preparing_file_for_correcting_genotypes.py` ###\r\n",
      "\r\n",
      "## M. Fisher 12/5/2016\r\n",
      "\r\n",
      "\r\n",
      "#Ask for input from user\r\n",
      "echo \"This is your current location:\"\r\n",
      "pwd\r\n"
     ]
    }
   ],
   "source": [
    "!head gzip_MBgenotypesverif_BASHshell.sh"
   ]
  },
  {
   "cell_type": "code",
   "execution_count": null,
   "metadata": {
    "collapsed": true
   },
   "outputs": [],
   "source": [
    "#at command line\n",
    "./gzip_MBgenotypesverif_BASHshell.sh"
   ]
  },
  {
   "cell_type": "code",
   "execution_count": 1,
   "metadata": {
    "collapsed": false
   },
   "outputs": [
    {
     "data": {
      "text/plain": [
       "u'/mnt/hgfs/Pacific cod/DataAnalysis/mf-fish546-PCod/notebooks'"
      ]
     },
     "execution_count": 1,
     "metadata": {},
     "output_type": "execute_result"
    }
   ],
   "source": [
    "pwd"
   ]
  },
  {
   "cell_type": "code",
   "execution_count": 2,
   "metadata": {
    "collapsed": false
   },
   "outputs": [
    {
     "name": "stdout",
     "output_type": "stream",
     "text": [
      "/mnt/hgfs/Pacific cod/DataAnalysis/scripts/UndercallingHets_MB_CW\n"
     ]
    }
   ],
   "source": [
    "cd ../../scripts/UndercallingHets_MB_CW/"
   ]
  },
  {
   "cell_type": "code",
   "execution_count": 3,
   "metadata": {
    "collapsed": true
   },
   "outputs": [],
   "source": [
    "!python Genepop_conversion_corrected.py \\\n",
    "../../L1L2stacks_m10_boundSNP/batch_3.CorrectedGenos_2alleles.txt \\\n",
    "../../L1L2stacks_m10_boundSNP/batch_3.CorrectedGenos_biallelic.genepop"
   ]
  },
  {
   "cell_type": "code",
   "execution_count": 6,
   "metadata": {
    "collapsed": false
   },
   "outputs": [],
   "source": [
    "!python transpose.py \\\n",
    "../../L1L2stacks_m10_boundSNP/batch_3.CorrectedGenos_biallelic_TextEdit.genepop \\\n",
    "../../L1L2stacks_m10_boundSNP/batch_3.CorrectedGenos_biallelic_TRANSPOSED.genepop"
   ]
  },
  {
   "cell_type": "markdown",
   "metadata": {},
   "source": [
    "Double checked column indices for each population before running the next script. Also changed output files. "
   ]
  },
  {
   "cell_type": "code",
   "execution_count": 8,
   "metadata": {
    "collapsed": false
   },
   "outputs": [],
   "source": [
    "!python Eleni_filter_by_MinorAlleleFrequency_L1L2_boundSNP.py \\\n",
    "../../L1L2stacks_m10_boundSNP/batch_3.CorrectedGenos_biallelic_TRANSPOSED.csv"
   ]
  },
  {
   "cell_type": "code",
   "execution_count": 9,
   "metadata": {
    "collapsed": false
   },
   "outputs": [
    {
     "name": "stdout",
     "output_type": "stream",
     "text": [
      "/mnt/hgfs/Pacific cod/DataAnalysis/L1L2stacks_m10_boundSNP\n"
     ]
    }
   ],
   "source": [
    "cd ../../L1L2stacks_m10_boundSNP/"
   ]
  },
  {
   "cell_type": "code",
   "execution_count": 10,
   "metadata": {
    "collapsed": false
   },
   "outputs": [
    {
     "name": "stdout",
     "output_type": "stream",
     "text": [
      "8748\r\n"
     ]
    }
   ],
   "source": [
    "!cat batch_3.filtered_MAF.csv | wc -l"
   ]
  },
  {
   "cell_type": "markdown",
   "metadata": {},
   "source": [
    "** A total of 8,747 loci remaining **\n",
    "\n",
    "At this point, I again altered the script below so that it copies over all of the Mukho / Sokcho info, but doesn't filter the loci based on those individuals. "
   ]
  },
  {
   "cell_type": "code",
   "execution_count": 11,
   "metadata": {
    "collapsed": false
   },
   "outputs": [
    {
     "name": "stdout",
     "output_type": "stream",
     "text": [
      "/mnt/hgfs/Pacific cod/DataAnalysis/scripts/UndercallingHets_MB_CW\n"
     ]
    }
   ],
   "source": [
    "cd ../scripts/UndercallingHets_MB_CW/"
   ]
  },
  {
   "cell_type": "code",
   "execution_count": 12,
   "metadata": {
    "collapsed": false
   },
   "outputs": [
    {
     "name": "stdout",
     "output_type": "stream",
     "text": [
      "processed 8747 loci\r\n",
      "Number of loci removed: 135\r\n"
     ]
    }
   ],
   "source": [
    "!python MF_FilterLoci_by_MissingValues_L1L2_12-9.py \\\n",
    "../../L1L2stacks_m10_boundSNP/batch_3.filtered_MAF.csv \\\n",
    "../../L1L2stacks_m10_boundSNP/batch_3.filtered_MAF_GOODgenotypes.csv \\\n",
    "../../L1L2stacks_m10_boundSNP/batch_3.filtered_MAF_BADgenotypes.csv "
   ]
  },
  {
   "cell_type": "code",
   "execution_count": 13,
   "metadata": {
    "collapsed": false,
    "scrolled": true
   },
   "outputs": [
    {
     "name": "stdout",
     "output_type": "stream",
     "text": [
      "/mnt/hgfs/Pacific cod/DataAnalysis/L1L2stacks_m10_boundSNP\n"
     ]
    }
   ],
   "source": [
    "cd ../../L1L2stacks_m10_boundSNP/"
   ]
  },
  {
   "cell_type": "code",
   "execution_count": 14,
   "metadata": {
    "collapsed": true
   },
   "outputs": [],
   "source": [
    "mv batch_3.filtered_MAF_GOODgenotypes.csv batch_3.filtered_MAF_MissingLoci.csv"
   ]
  },
  {
   "cell_type": "markdown",
   "metadata": {},
   "source": [
    "#After removing any loci with missing data in populations with sample \"n\" > 10, I have **8,612 loci remaining**. \n",
    "\n",
    "\n",
    "When filtering for individuals with fewer than 50% genotypes called, I used the output file from this step, `batch_3.filtered_MAF_MissingLoci.csv`. \n",
    "\n",
    "<br>\n",
    "I generated the fully filtered file, `batch_3.filtered_MAF_MissingLoci_Individs.csv`\n",
    "\n",
    "then worked in excel to determine mismatch proportions.\n",
    "\n",
    "**See results / comparisons to the default SNP model [here](http://www.evernote.com/l/AorKnBdfi5JHNrTXpsNl2cmZjhJvcoLNTr8/)**\n",
    "\n",
    "<br>\n",
    "<br>\n"
   ]
  },
  {
   "cell_type": "markdown",
   "metadata": {},
   "source": [
    "### (4) Filter Loci with > 20% (not >50%) missing data\n",
    "\n",
    "The loci that are mismatched may be those with more missing data (somehow?). Since I'm working with a lenient filtering threshold here, I'll make it more strict by getting rid of loci with >20% missing data. \n",
    "\n",
    "\n",
    "**(1) SNP model**"
   ]
  },
  {
   "cell_type": "code",
   "execution_count": 15,
   "metadata": {
    "collapsed": false
   },
   "outputs": [
    {
     "data": {
      "text/plain": [
       "u'/mnt/hgfs/Pacific cod/DataAnalysis/L1L2stacks_m10_boundSNP'"
      ]
     },
     "execution_count": 15,
     "metadata": {},
     "output_type": "execute_result"
    }
   ],
   "source": [
    "pwd"
   ]
  },
  {
   "cell_type": "code",
   "execution_count": 16,
   "metadata": {
    "collapsed": false
   },
   "outputs": [
    {
     "name": "stdout",
     "output_type": "stream",
     "text": [
      "/mnt/hgfs/Pacific cod/DataAnalysis/scripts/UndercallingHets_MB_CW\n"
     ]
    }
   ],
   "source": [
    "cd ../scripts/UndercallingHets_MB_CW/"
   ]
  },
  {
   "cell_type": "code",
   "execution_count": 17,
   "metadata": {
    "collapsed": false
   },
   "outputs": [
    {
     "name": "stdout",
     "output_type": "stream",
     "text": [
      "processed 8654 loci\r\n",
      "Number of loci removed: 1232\r\n"
     ]
    }
   ],
   "source": [
    "!python MF_FilterLoci_by_MissingValues_L1L2_20p.py \\\n",
    "../../L1L2stacks_m10/batch_1_filteredMAF_genotypes.csv \\\n",
    "../../L1L2stacks_m10/batch_1.filtered_MAF_MissingLoci20.csv \\\n",
    "../../L1L2stacks_m10/batch_1.filtered_MAF_MissingLoci20_BADgenotypes.csv "
   ]
  },
  {
   "cell_type": "markdown",
   "metadata": {},
   "source": [
    "**7422 Loci Retained**\n",
    "\n",
    "New data in `batch_1.filtered_MAF_MissingLoci20_Individs.csv`\n",
    "\n",
    "<br>\n",
    "**(2) Bounded SNP model**"
   ]
  },
  {
   "cell_type": "code",
   "execution_count": 18,
   "metadata": {
    "collapsed": false
   },
   "outputs": [
    {
     "name": "stdout",
     "output_type": "stream",
     "text": [
      "processed 8747 loci\r\n",
      "Number of loci removed: 1239\r\n"
     ]
    }
   ],
   "source": [
    "!python MF_FilterLoci_by_MissingValues_L1L2_20p.py \\\n",
    "../../L1L2stacks_m10_boundSNP/batch_3.filtered_MAF.csv \\\n",
    "../../L1L2stacks_m10_boundSNP/batch_3.filtered_MAF_MissingLoci20.csv \\\n",
    "../../L1L2stacks_m10_boundSNP/batch_3.filtered_MAF_MissingLoci20_BADgenotypes.csv  "
   ]
  },
  {
   "cell_type": "markdown",
   "metadata": {},
   "source": [
    "**7508 Loci Retained**\n",
    "\n",
    "New data in `batch_3.filtered_MAF_MissingLoci20_Individs.csv`"
   ]
  },
  {
   "cell_type": "markdown",
   "metadata": {},
   "source": [
    "### (5) Rerun DAPCs...\n",
    "\n",
    "#### (1) after specifying 300ng as a separate population in MAF filtering. \n",
    "\n",
    "#### (2) With Bounded SNP, loci missing less than 50% data model\n",
    "\n",
    "<br>\n",
    "<br>\n",
    "\n",
    "**(1) MAF Filtering**\n",
    "One of the justifications to using both protocols despite genotype mismatches is that in the DAPC plot, when 500ng and 300ng are listed as two separate populations, they cluster on top of each other. BUT I put them through MAF filtering scripts as the same population. Will this impact the DAPC clustering to be biased toward clustering them together, when they really aren't? \n",
    "\n",
    "It shouldn't! But I'll test it! \n"
   ]
  },
  {
   "cell_type": "code",
   "execution_count": 19,
   "metadata": {
    "collapsed": false
   },
   "outputs": [
    {
     "data": {
      "text/plain": [
       "u'/mnt/hgfs/Pacific cod/DataAnalysis/scripts/UndercallingHets_MB_CW'"
      ]
     },
     "execution_count": 19,
     "metadata": {},
     "output_type": "execute_result"
    }
   ],
   "source": [
    "pwd"
   ]
  },
  {
   "cell_type": "code",
   "execution_count": 21,
   "metadata": {
    "collapsed": false
   },
   "outputs": [],
   "source": [
    "!python Eleni_filter_by_MinorAlleleFrequency_L1L2_300sep.py \\\n",
    "../../L1L2stacks_m10/batch_1.CorrectedGenos_biallelic_TRANSPOSED.csv "
   ]
  },
  {
   "cell_type": "code",
   "execution_count": 22,
   "metadata": {
    "collapsed": false
   },
   "outputs": [
    {
     "name": "stdout",
     "output_type": "stream",
     "text": [
      "processed 8770 loci\r\n",
      "Number of loci removed: 203\r\n"
     ]
    }
   ],
   "source": [
    "!python MF_FilterLoci_by_MissingValues_L1L2_12-9.py \\\n",
    "../../L1L2stacks_m10/batch_1_300.filteredMAF.csv \\\n",
    "../../L1L2stacks_m10/batch_1_300.filteredMAF_MissingLoci.csv \\\n",
    "../../L1L2stacks_m10/batch_1_300.filteredMAF_MissingLoci_BADgenotypes.csv "
   ]
  },
  {
   "cell_type": "markdown",
   "metadata": {},
   "source": [
    "Convert to genepop for input to R DAPC program"
   ]
  },
  {
   "cell_type": "code",
   "execution_count": 23,
   "metadata": {
    "collapsed": true
   },
   "outputs": [],
   "source": [
    "!python genepop_conversion_forR.py \\\n",
    "../../L1L2stacks_m10/batch_1_300.filteredMAF_MissingLoci_Individs.csv \\\n",
    "../../L1L2stacks_m10/batch_1_300.filteredMAF_MissingLoci_Individs.gen"
   ]
  },
  {
   "cell_type": "code",
   "execution_count": null,
   "metadata": {
    "collapsed": true
   },
   "outputs": [],
   "source": []
  }
 ],
 "metadata": {
  "kernelspec": {
   "display_name": "Python [default]",
   "language": "python",
   "name": "python2"
  },
  "language_info": {
   "codemirror_mode": {
    "name": "ipython",
    "version": 2
   },
   "file_extension": ".py",
   "mimetype": "text/x-python",
   "name": "python",
   "nbconvert_exporter": "python",
   "pygments_lexer": "ipython2",
   "version": "2.7.12"
  }
 },
 "nbformat": 4,
 "nbformat_minor": 1
}
