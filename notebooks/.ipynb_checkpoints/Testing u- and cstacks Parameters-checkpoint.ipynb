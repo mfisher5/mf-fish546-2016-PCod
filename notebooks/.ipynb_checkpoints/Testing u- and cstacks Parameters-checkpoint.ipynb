{
 "cells": [
  {
   "cell_type": "markdown",
   "metadata": {},
   "source": [
    "# Testing u- and cstacks Parameters in the stacks pipeline\n",
    "\n",
    "**ustacks:** align short-read seqeunces in matching stacks, compare the stacks to form a set of loci, detect SNPs at the loci for each individual\n",
    "\n",
    "**cstacks:** create a set of consensus loci and construct a catalog\n",
    "\n",
    "\n",
    "Research / notes on which parameters being tested and why [here](https://www.evernote.com/Home.action#n=122752f1-9ab7-4f9b-a9af-0c3331617436&ses=4&sh=2&sds=5&)\n",
    "<br>\n",
    "<br>\n",
    "<br>\n",
    "\n",
    "## Running ustacks\n",
    "### 10/18/2016\n",
    "The following code was run in the command line of a linux VM. \n",
    "\n",
    "**Base Script**\n",
    "\n",
    "This has already been run for the Lane 1 data analysis (see [Lane 1 full stacks pipeline nb](https://www.evernote.com/Home.action#n=781efd9e-7cc2-4a6a-b413-150e8db65544&ses=4&sh=2&sds=5&) using the parameter values: **-m 5 -M 3**\n",
    "The base ustacks script was run using ALL samples, in file `L1_mv_barcodesTOsampleTEST.txt`\n",
    "<br>\n",
    "<br>\n",
    "<br>\n",
    "<br>\n",
    "**other ustacks scripts**\n",
    "\n",
    "--> I first created a new file, `L1_mv_barcodesTOsampleTEST.txt`, that I put in the scripts folder. This has all of the samples EXCLUDING Yellow Sea samples. I excluded Yellow Sea samples because in this lane there are only 3; in most of the following runs of cstacks (all except base_batch12) I need at least 10 individuals per population. This is explained on the Evernote page above. \n",
    "<br>\n",
    "\n",
    "\n",
    "**stacks_m3**\n",
    "\n",
    "Went into radtags_ustacks_genShellPE.py and made the following parameter changes: **-m 3**"
   ]
  },
  {
   "cell_type": "code",
   "execution_count": null,
   "metadata": {
    "collapsed": true
   },
   "outputs": [],
   "source": [
    "## From within the DataAnalysis (github = mf-fish546-2016) folder ##\n",
    "cd scripts\n",
    "!python radtags_ustacks_genShellPE.py L1_mv_barcodesTOsampleTEST.txt\n",
    "mv new_ustacks_shell ustacks_m3_shell"
   ]
  },
  {
   "cell_type": "markdown",
   "metadata": {},
   "source": [
    "**stacks_m10**\n",
    "\n",
    "Went into radtags_ustacks_genShellPE.py and made the following parameter changes: **-m 10**"
   ]
  },
  {
   "cell_type": "code",
   "execution_count": null,
   "metadata": {
    "collapsed": true
   },
   "outputs": [],
   "source": [
    "## From within the DataAnalysis (github = mf-fish546-2016) folder ##\n",
    "cd scripts\n",
    "!python radtags_ustacks_genShellPE.py L1_mv_barcodesTOsampleTEST.txt\n",
    "mv new_ustacks_shell ustacks_m10_shell"
   ]
  },
  {
   "cell_type": "markdown",
   "metadata": {},
   "source": [
    "**stacks_M2**\n",
    "\n",
    "Went into radtags_ustacks_genShellPE.py and made the following parameter changes: **-m 5 -M 2**"
   ]
  },
  {
   "cell_type": "code",
   "execution_count": null,
   "metadata": {
    "collapsed": true
   },
   "outputs": [],
   "source": [
    "## From within the DataAnalysis (github = mf-fish546-2016) folder ##\n",
    "cd scripts\n",
    "!python radtags_ustacks_genShellPE.py L1_mv_barcodesTOsampleTEST.txt\n",
    "mv new_ustacks_shell ustacks_M2_shell"
   ]
  },
  {
   "cell_type": "markdown",
   "metadata": {},
   "source": [
    "Once all of the shell scripts had been generated, I moved them up one directory into DataAnalysis (github = mf-fish546-2016). \n",
    "\n",
    "I then ran the following: "
   ]
  },
  {
   "cell_type": "code",
   "execution_count": null,
   "metadata": {
    "collapsed": true
   },
   "outputs": [],
   "source": [
    "!cd ../ \n",
    "#modify shell scripts so they run as a shell in the command line\n",
    "!chmod +x ustacks_base_shell\n",
    "!chmod +x ustacks_m3_shell\n",
    "!chmod +x ustacks_m10_shell\n",
    "!chmod +x ustacks_M2_shell\n",
    "\n",
    "#Run each of the shell scripts\n",
    "!./ ustacks_m3_shell\n",
    "!./ ustacks_m10_shell\n",
    "!./ ustacks_M2_shell"
   ]
  },
  {
   "cell_type": "markdown",
   "metadata": {},
   "source": [
    "There should now be 4 files per individual in each of the 4 stacks folders (stacks_base, stacks_m3, stacks_m10, stacks_M2)"
   ]
  },
  {
   "cell_type": "markdown",
   "metadata": {},
   "source": [
    "## Running cstacks\n",
    "### 10/21/2016\n",
    "\n",
    "\n",
    "All of the batches run below used 10 individuals per population to build the catalog. I also produced a batch that used only 12 individuals per population to build the catalog (off of the **Base** script). To see this, look at the [Lane 1 full stacks pipeline nb](https://www.evernote.com/Home.action#n=781efd9e-7cc2-4a6a-b413-150e8db65544&ses=4&sh=2&sds=5&). \n",
    "\n",
    "\n",
    "The following code was run in the command line of a linux VM. See 10/21-22 notes for attempts at running the shell / cstacks code within Jupyter. \n",
    "\n",
    "\n",
    "The parameters varied in cstacks were the # of individuals to make the catalog, and **-n**.\n",
    "<br>\n",
    "<br>\n",
    "\n",
    "**stacks_base**\n",
    "\n",
    "\n",
    "*batch_12:* 12 individuals per pop for catalog, -n 3. To see this, look at the [Lane 1 full stacks pipeline nb](https://www.evernote.com/Home.action#n=781efd9e-7cc2-4a6a-b413-150e8db65544&ses=4&sh=2&sds=5&). \n",
    "\n",
    "*batch_300:* 30 individuals, -n 0\n",
    "\n",
    "*batch_303:* 30 individuals, -n 3\n",
    "\n",
    "\n",
    "**stacks_m3**\n",
    "\n",
    "*batch_330:* 30 individuals, -n 3\n",
    "\n",
    "\n",
    "**stacks_m10**\n",
    "\n",
    "*batch_1030:* 30 individuals, -n 3\n",
    "\n",
    "\n",
    "**stacks_M2**\n",
    "\n",
    "*batch_230:* 30 individuals, -n 3\n",
    "\n"
   ]
  },
  {
   "cell_type": "code",
   "execution_count": null,
   "metadata": {
    "collapsed": true
   },
   "outputs": [],
   "source": [
    "#From within the DataAnalysis (github = mf-fish546-2016) folder\n",
    "cd scripts\n",
    "!python cstacks_generateCode_10-21.py samples_for_cstacks.txt #generate shell script\n",
    "mv new_cstacks_code cstacks_Shell_10-21 #rename shell script to be more informative\n",
    "!chmod +x cstacks_Shell_10-21\n",
    "#moved shell script from scripts/ to UCstacksL1/\n",
    "cd ../UCstacksL1\n",
    "!./cstacks_Shell_10-21 #run the shell script"
   ]
  },
  {
   "cell_type": "markdown",
   "metadata": {},
   "source": [
    "Ran this code over the weekend. "
   ]
  },
  {
   "cell_type": "markdown",
   "metadata": {},
   "source": [
    "### 10/25/2016\n",
    "\n",
    "Code run over the weekend expressed one error, where it aborted the run of the 4th cstacks code (batch 330, testing ustacks **-m 3**).\n",
    "Error was due to a lack of memory in the VM. Increased memory, and re-ran batch 330"
   ]
  },
  {
   "cell_type": "code",
   "execution_count": null,
   "metadata": {
    "collapsed": true
   },
   "outputs": [],
   "source": [
    "!cstacks -b 330 \\\n",
    "-s stacks_m3/GE011215_07.1 -s stacks_m3/GE012315_06.1 -s stacks_m3/GE012315_11.1 -s stacks_m3/GE012315_03.1 -s stacks_m3/GE011215_09.1 -s stacks_m3/GE011215_16.1 -s stacks_m3/GE011215_01.1 -s stacks_m3/GE011215_30.1 -s stacks_m3/GE011215_15.1 -s stacks_m3/GE011215_14.1 -s stacks_m3/NA021015_10.1 -s stacks_m3/NA021015_17.1 -s stacks_m3/NA021015_21.1 -s stacks_m3/NA021015_02.1 -s stacks_m3/NA021015_09.1 -s stacks_m3/NA021015_22.1 -s stacks_m3/NA021015_14.1 -s stacks_m3/NA021015_06.1 -s stacks_m3/NA021015_13.1 -s stacks_m3/NA021015_16.1 -s stacks_m3/PO020515_03.1 -s stacks_m3/PO010715_10.1 -s stacks_m3/PO020515_14.1 -s stacks_m3/PO010715_11.1 -s stacks_m3/PO020515_05.1 -s stacks_m3/PO020515_17.1 -s stacks_m3/PO020515_15.1 -s stacks_m3/PO010715_17.1 -s stacks_m3/PO020515_10.1 -s stacks_m3/PO020515_08.1 -o stacks_m3 \\\n",
    "-n 3 -p 6 2> cstacks_out_b330.stderr"
   ]
  },
  {
   "cell_type": "markdown",
   "metadata": {},
   "source": [
    "**Output:**\n",
    "\n",
    "within each of the `stacks_` folders in `UCstacksL1`, I have a set of 3 files for each batch run. For example, in the `stacks_base` folder: \n",
    "\n",
    "(1) batch_12.catalog.[alleles,snps,tags].tsv.gz\n",
    "(2) batch_300.catalog.[alleles,snps,tags].tsv.gz\n",
    "(3) batch_303.catalog.[alleles,snps,tags].tsv.gz"
   ]
  },
  {
   "cell_type": "markdown",
   "metadata": {
    "collapsed": true
   },
   "source": [
    "## Running sstacks\n",
    "\n",
    "### 10/26/2016\n",
    "\n",
    "**sstacks:** sets of stacks produced for each individual using \"ustacks\" are searched against the catalogs produced above in \"cstacks\"\n",
    "\n",
    "*NOT TESTING PARAMETERS FOR SSTACKS*\n",
    "<br>\n",
    "<br>\n",
    "<br>\n",
    "**(1)** stacks_base / batch12"
   ]
  },
  {
   "cell_type": "code",
   "execution_count": 1,
   "metadata": {
    "collapsed": false
   },
   "outputs": [
    {
     "data": {
      "text/plain": [
       "u'/mnt/hgfs/Shared Drive D/Pacific cod/DataAnalysis/mf-fish546-2016/notebooks'"
      ]
     },
     "execution_count": 1,
     "metadata": {},
     "output_type": "execute_result"
    }
   ],
   "source": [
    "pwd"
   ]
  },
  {
   "cell_type": "code",
   "execution_count": 2,
   "metadata": {
    "collapsed": false
   },
   "outputs": [
    {
     "name": "stdout",
     "output_type": "stream",
     "text": [
      "/mnt/hgfs/Shared Drive D/Pacific cod/DataAnalysis\n"
     ]
    }
   ],
   "source": [
    "cd ../../"
   ]
  },
  {
   "cell_type": "code",
   "execution_count": 3,
   "metadata": {
    "collapsed": false
   },
   "outputs": [
    {
     "name": "stdout",
     "output_type": "stream",
     "text": [
      "/mnt/hgfs/Shared Drive D/Pacific cod/DataAnalysis/scripts\n"
     ]
    }
   ],
   "source": [
    "cd scripts"
   ]
  },
  {
   "cell_type": "markdown",
   "metadata": {},
   "source": [
    "*Changed the parameters in the `sstacks_generateCode.py` to: *\n",
    "<br>\n",
    "<br>\n",
    "-b 12 \n",
    "\n",
    "-c stacks_base/batch_12\n",
    "\n",
    "-o sstacks_batch12\n",
    "\n",
    "*Since batch12 has Yellow Sea samples included, use ALL L1 samples*"
   ]
  },
  {
   "cell_type": "code",
   "execution_count": 37,
   "metadata": {
    "collapsed": false
   },
   "outputs": [
    {
     "name": "stdout",
     "output_type": "stream",
     "text": [
      "import sys \r\n",
      "myfile = open(sys.argv[1], \"r\")\t#open the file with your list of samples to use in cstacks\r\n",
      "newfile = open(\"sstacks_batch12_shell\", \"w\")\t#create a new file where the ustacks code will go\r\n",
      "newfile.write(\"#/bin/bash\" + \"\\n\")\r\n",
      "filestring = \"sstacks -b 12 -c stacks_base/batch_12 \" #choose batch ID and catalog files\r\n",
      "for line in myfile: \t\t\t#for each line in the barcode file\r\n",
      "\tlinelist=line.strip().split()\t\r\n",
      "\tsamplefile = linelist[2] + \".1\"\t\t#creates name of sample input file based on sample list in myfile\r\n",
      "\tnewstring = \"-s stacks_base/\" + samplefile + \" \"\t#creates a new -s entry for that sample input file\r\n",
      "\tfilestring += newstring\t\t\t# appends new -s string to \"filestring\"\r\n",
      "filestring += \"-o sstacks_batch12 -p 6 2>> sstacks_out_b12\"   #choose output folder and processor # and std.err out file\r\n",
      "newfile.write(filestring)\t\t#write entire string to the new file\r\n",
      "myfile.close()\r\n",
      "newfile.close()\r\n"
     ]
    }
   ],
   "source": [
    "!head -n 14 sstacks_generateCode.py"
   ]
  },
  {
   "cell_type": "code",
   "execution_count": 23,
   "metadata": {
    "collapsed": false
   },
   "outputs": [],
   "source": [
    "!python sstacks_generateCode.py L1_mv_barcodesTOsample.txt"
   ]
  },
  {
   "cell_type": "code",
   "execution_count": 26,
   "metadata": {
    "collapsed": false
   },
   "outputs": [],
   "source": [
    "mv sstacks_batch12_shell ../UCstacksL1/sstacks_batch12_shell"
   ]
  },
  {
   "cell_type": "code",
   "execution_count": 39,
   "metadata": {
    "collapsed": false
   },
   "outputs": [
    {
     "name": "stdout",
     "output_type": "stream",
     "text": [
      "/mnt/hgfs/Shared Drive D/Pacific cod/DataAnalysis/UCstacksL1\n"
     ]
    }
   ],
   "source": [
    "cd ../UCstacksL1"
   ]
  },
  {
   "cell_type": "code",
   "execution_count": 29,
   "metadata": {
    "collapsed": false
   },
   "outputs": [],
   "source": [
    "!mkdir sstacks_batch12"
   ]
  },
  {
   "cell_type": "code",
   "execution_count": 31,
   "metadata": {
    "collapsed": true
   },
   "outputs": [],
   "source": [
    "!chmod +x sstacks_batch12_shell"
   ]
  },
  {
   "cell_type": "code",
   "execution_count": null,
   "metadata": {
    "collapsed": true
   },
   "outputs": [],
   "source": [
    "!./sstacks_batch12_shell #run in command line"
   ]
  },
  {
   "cell_type": "markdown",
   "metadata": {},
   "source": [
    "<br>\n",
    "<br>\n",
    "<br>\n",
    "\n",
    "**(2)** stacks_base / batch303"
   ]
  },
  {
   "cell_type": "code",
   "execution_count": 40,
   "metadata": {
    "collapsed": false
   },
   "outputs": [
    {
     "name": "stdout",
     "output_type": "stream",
     "text": [
      "/mnt/hgfs/Shared Drive D/Pacific cod/DataAnalysis/scripts\n"
     ]
    }
   ],
   "source": [
    "cd ../scripts"
   ]
  },
  {
   "cell_type": "markdown",
   "metadata": {},
   "source": [
    "*Changed the parameters in the `sstacks_generateCode.py` to: *\n",
    "<br>\n",
    "<br>\n",
    "-b 303 \n",
    "\n",
    "-c stacks_base/batch_303\n",
    "\n",
    "-o sstacks_batch303\n",
    "\n",
    "*Since batch303 doesn not have Yellow Sea samples included, use only \"test\" set of L1 samples*"
   ]
  },
  {
   "cell_type": "code",
   "execution_count": 42,
   "metadata": {
    "collapsed": true
   },
   "outputs": [],
   "source": [
    "!python sstacks_generateCode.py L1_mv_barcodesTOsampleTEST.txt"
   ]
  },
  {
   "cell_type": "code",
   "execution_count": 43,
   "metadata": {
    "collapsed": false
   },
   "outputs": [
    {
     "name": "stdout",
     "output_type": "stream",
     "text": [
      "import sys \r\n",
      "myfile = open(sys.argv[1], \"r\")\t#open the file with your list of samples to use in cstacks\r\n",
      "newfile = open(\"sstacks_batch300_shell\", \"w\")\t#create a new file where the ustacks code will go\r\n",
      "newfile.write(\"#/bin/bash\" + \"\\n\")\r\n",
      "filestring = \"sstacks -b 300 -c stacks_base/batch_300 \" #choose batch ID and catalog files\r\n",
      "for line in myfile: \t\t\t#for each line in the barcode file\r\n",
      "\tlinelist=line.strip().split()\t\r\n",
      "\tsamplefile = linelist[2] + \".1\"\t\t#creates name of sample input file based on sample list in myfile\r\n",
      "\tnewstring = \"-s stacks_base/\" + samplefile + \" \"\t#creates a new -s entry for that sample input file\r\n",
      "\tfilestring += newstring\t\t\t# appends new -s string to \"filestring\"\r\n",
      "filestring += \"-o sstacks_batch300 -p 6 2>> sstacks_out_b300\"   #choose output folder and processor # and std.err out file\r\n",
      "newfile.write(filestring)\t\t#write entire string to the new file\r\n",
      "myfile.close()\r\n",
      "newfile.close()\r\n"
     ]
    }
   ],
   "source": [
    "!head -n 14 sstacks_generateCode.py"
   ]
  },
  {
   "cell_type": "code",
   "execution_count": 45,
   "metadata": {
    "collapsed": false
   },
   "outputs": [],
   "source": [
    "mv sstacks_batch300_shell ../UCstacksL1/sstacks_batch300_shell"
   ]
  },
  {
   "cell_type": "code",
   "execution_count": 46,
   "metadata": {
    "collapsed": false
   },
   "outputs": [
    {
     "name": "stdout",
     "output_type": "stream",
     "text": [
      "/mnt/hgfs/Shared Drive D/Pacific cod/DataAnalysis/UCstacksL1\n"
     ]
    }
   ],
   "source": [
    "cd ../UCstacksL1"
   ]
  },
  {
   "cell_type": "code",
   "execution_count": 47,
   "metadata": {
    "collapsed": true
   },
   "outputs": [],
   "source": [
    "!mkdir sstacks_batch300"
   ]
  },
  {
   "cell_type": "code",
   "execution_count": 48,
   "metadata": {
    "collapsed": true
   },
   "outputs": [],
   "source": [
    "!chmod +x sstacks_batch12_shell"
   ]
  },
  {
   "cell_type": "code",
   "execution_count": null,
   "metadata": {
    "collapsed": true
   },
   "outputs": [],
   "source": [
    "!./sstacks_batch300_shell #run in command line"
   ]
  },
  {
   "cell_type": "markdown",
   "metadata": {},
   "source": [
    "<br>\n",
    "<br>\n",
    "\n",
    "**(3,4,5,6)** Shell script for remaining batches\n",
    "\n",
    "*batch_303* \n",
    "\n",
    "*batch_330* \n",
    "\n",
    "*batch_1030* \n",
    "\n",
    "*batch_230* "
   ]
  },
  {
   "cell_type": "code",
   "execution_count": 50,
   "metadata": {
    "collapsed": false
   },
   "outputs": [
    {
     "name": "stdout",
     "output_type": "stream",
     "text": [
      "/mnt/hgfs/Shared Drive D/Pacific cod/DataAnalysis/scripts\n"
     ]
    }
   ],
   "source": [
    "cd ../scripts"
   ]
  },
  {
   "cell_type": "code",
   "execution_count": 56,
   "metadata": {
    "collapsed": false
   },
   "outputs": [
    {
     "name": "stdout",
     "output_type": "stream",
     "text": [
      "import sys \r\n",
      "newfile = open(\"sstacks_shell_10-26\", \"w\")\t#create a new file where the ustacks code will go\r\n",
      "newfile.write(\"#!/bin/bash\" + \"\\n\")\r\n",
      "\r\n",
      "##first batch: 303\r\n",
      "myfile = open(sys.argv[1], \"r\")\t#open the file with your list of samples to use in cstacks\r\n",
      "filestring = \"sstacks -b 303 -c stacks_base/batch_303 \" #choose batch ID and catalog files\r\n",
      "for line in myfile: \t\t\t#for each line in the barcode file\r\n",
      "\tlinelist=line.strip().split()\t\r\n",
      "\tsamplefile = linelist[2] + \".1\"\t\t#creates name of sample input file based on sample list in myfile\r\n",
      "\tnewstring = \"-s stacks_base/\" + samplefile + \" \"\t#creates a new -s entry for that sample input file\r\n",
      "\tfilestring += newstring\t\t\t# appends new -s string to \"filestring\"\r\n",
      "myfile.close()\r\n",
      "filestring += \"-o sstacks_batch303 -p 6 2>> sstacks_out_b303\"   #choose output folder and processor # and std.err out file\r\n",
      "newfile.write(filestring + \"\\n\\n\\n\")\t\t#write entire string to the new file\r\n",
      "\r\n",
      "\r\n",
      "\r\n",
      "##next batch: 330\r\n",
      "myfile = open(sys.argv[1], \"r\")\t#open the file with your list of samples to use in cstacks\r\n"
     ]
    }
   ],
   "source": [
    "!head -n 20 sstacks_generateShell10-26.py"
   ]
  },
  {
   "cell_type": "code",
   "execution_count": 57,
   "metadata": {
    "collapsed": true
   },
   "outputs": [],
   "source": [
    "!python sstacks_generateShell10-26.py L1_mv_barcodesTOsampleTEST.txt"
   ]
  },
  {
   "cell_type": "code",
   "execution_count": 58,
   "metadata": {
    "collapsed": true
   },
   "outputs": [],
   "source": [
    "mv sstacks_shell_10-26 ../UCstacksL1/sstacks_shell_10-26"
   ]
  },
  {
   "cell_type": "code",
   "execution_count": 59,
   "metadata": {
    "collapsed": false
   },
   "outputs": [
    {
     "name": "stdout",
     "output_type": "stream",
     "text": [
      "/mnt/hgfs/Shared Drive D/Pacific cod/DataAnalysis/UCstacksL1\n"
     ]
    }
   ],
   "source": [
    "cd ../UCstacksL1"
   ]
  },
  {
   "cell_type": "code",
   "execution_count": 61,
   "metadata": {
    "collapsed": true
   },
   "outputs": [],
   "source": [
    "!mkdir sstacks_batch303\n",
    "!mkdir sstacks_batch330\n",
    "!mkdir sstacks_batch1030\n",
    "!mkdir sstacks_batch230"
   ]
  },
  {
   "cell_type": "code",
   "execution_count": 60,
   "metadata": {
    "collapsed": true
   },
   "outputs": [],
   "source": [
    "!chmod +x sstacks_shell_10-26"
   ]
  },
  {
   "cell_type": "code",
   "execution_count": null,
   "metadata": {
    "collapsed": true
   },
   "outputs": [],
   "source": [
    "./sstacks_shell_10-26 #ran in command line"
   ]
  },
  {
   "cell_type": "markdown",
   "metadata": {},
   "source": [
    "### Organize file structure\n",
    "\n",
    "Move each output (stderr) file into the appropriate directory"
   ]
  },
  {
   "cell_type": "code",
   "execution_count": 1,
   "metadata": {
    "collapsed": false
   },
   "outputs": [
    {
     "data": {
      "text/plain": [
       "u'/mnt/hgfs/Shared Drive D/Pacific cod/DataAnalysis/mf-fish546-2016/notebooks'"
      ]
     },
     "execution_count": 1,
     "metadata": {},
     "output_type": "execute_result"
    }
   ],
   "source": [
    "pwd"
   ]
  },
  {
   "cell_type": "code",
   "execution_count": 2,
   "metadata": {
    "collapsed": false
   },
   "outputs": [
    {
     "name": "stdout",
     "output_type": "stream",
     "text": [
      "/mnt/hgfs/Shared Drive D/Pacific cod/DataAnalysis\n"
     ]
    }
   ],
   "source": [
    "cd ../../"
   ]
  },
  {
   "cell_type": "code",
   "execution_count": 3,
   "metadata": {
    "collapsed": false
   },
   "outputs": [
    {
     "name": "stdout",
     "output_type": "stream",
     "text": [
      "/mnt/hgfs/Shared Drive D/Pacific cod/DataAnalysis/UCstacksL1\n"
     ]
    }
   ],
   "source": [
    "cd UCstacksL1/"
   ]
  },
  {
   "cell_type": "code",
   "execution_count": 4,
   "metadata": {
    "collapsed": false
   },
   "outputs": [
    {
     "name": "stdout",
     "output_type": "stream",
     "text": [
      "\u001b[0m\u001b[01;32mcstacks_out4.stderr\u001b[0m*       \u001b[34;42msstacks_batch12\u001b[0m/         \u001b[01;32msstacks_out_b230\u001b[0m*\r\n",
      "\u001b[01;32mcstacks_out_b1030.stderr\u001b[0m*  \u001b[01;32msstacks_batch12_shell\u001b[0m*   \u001b[01;32msstacks_out_b300\u001b[0m*\r\n",
      "\u001b[01;32mcstacks_out_b230.stderr\u001b[0m*   \u001b[34;42msstacks_batch230\u001b[0m/        \u001b[01;32msstacks_out_b303\u001b[0m*\r\n",
      "\u001b[01;32mcstacks_out_b300.stderr\u001b[0m*   \u001b[34;42msstacks_batch300\u001b[0m/        \u001b[01;32msstacks_out_b330\u001b[0m*\r\n",
      "\u001b[01;32mcstacks_out_b303.stderr\u001b[0m*   \u001b[01;32msstacks_batch300_shell\u001b[0m*  \u001b[01;32msstacks_shell_10-26\u001b[0m*\r\n",
      "\u001b[01;32mcstacks_out_b330.stderr\u001b[0m*   \u001b[34;42msstacks_batch303\u001b[0m/        \u001b[34;42mstacks_base\u001b[0m/\r\n",
      "\u001b[01;32mcstacksOut_baseBatch12\u001b[0m*    \u001b[34;42msstacks_batch330\u001b[0m/        \u001b[34;42mstacks_m10\u001b[0m/\r\n",
      "\u001b[01;32mcstacks_Shell_10-21\u001b[0m*       \u001b[01;32msstacks_out_b1030\u001b[0m*       \u001b[34;42mstacks_M2\u001b[0m/\r\n",
      "\u001b[34;42msstacks_batch1030\u001b[0m/         \u001b[01;32msstacks_out_b12\u001b[0m*         \u001b[34;42mstacks_m3\u001b[0m/\r\n"
     ]
    }
   ],
   "source": [
    "ls"
   ]
  },
  {
   "cell_type": "code",
   "execution_count": 6,
   "metadata": {
    "collapsed": false
   },
   "outputs": [],
   "source": [
    "!mv sstacks_out_b12 sstacks_batch12/sstacks_out_b12\n",
    "!mv sstacks_out_b300 sstacks_batch300/sstacks_out_b300\n",
    "!mv sstacks_out_b303 sstacks_batch303/sstacks_out_b303\n",
    "!mv sstacks_out_b330 sstacks_batch330/sstacks_out_b330\n",
    "!mv sstacks_out_b230 sstacks_batch230/sstacks_out_b230\n",
    "!mv sstacks_out_b1030 sstacks_batch1030/sstacks_out_b1030"
   ]
  },
  {
   "cell_type": "code",
   "execution_count": 8,
   "metadata": {
    "collapsed": false
   },
   "outputs": [
    {
     "name": "stdout",
     "output_type": "stream",
     "text": [
      "mv: cannot stat 'cstacks_Out_baseBatch12.stderr': No such file or directory\r\n"
     ]
    }
   ],
   "source": [
    "!mv cstacks_Out_baseBatch12.stderr stacks_base/cstacks_Out_baseBatch12.stderr\n",
    "!mv cstacks_out_b300.stderr stacks_base/cstacks_out_b300.stderr\n",
    "!mv cstacks_out_b303.stderr stacks_base/cstacks_out_b303.stderr\n",
    "!mv cstacks_out_b330.stderr stacks_m3/cstacks_out_b330.stderr\n",
    "!mv cstacks_out_b230.stderr stacks_M2/cstacks_out_b230.stderr\n",
    "!mv cstacks_out_b1030.stderr stacks_m10/cstacks_out_b1030.stderr"
   ]
  },
  {
   "cell_type": "code",
   "execution_count": 10,
   "metadata": {
    "collapsed": false
   },
   "outputs": [],
   "source": [
    "!mv cstacksOut_baseBatch12 stacks_base/cstacksOut_baseBatch12"
   ]
  },
  {
   "cell_type": "code",
   "execution_count": null,
   "metadata": {
    "collapsed": true
   },
   "outputs": [],
   "source": []
  }
 ],
 "metadata": {
  "anaconda-cloud": {},
  "kernelspec": {
   "display_name": "Python [default]",
   "language": "python",
   "name": "python2"
  },
  "language_info": {
   "codemirror_mode": {
    "name": "ipython",
    "version": 2
   },
   "file_extension": ".py",
   "mimetype": "text/x-python",
   "name": "python",
   "nbconvert_exporter": "python",
   "pygments_lexer": "ipython2",
   "version": "2.7.12"
  }
 },
 "nbformat": 4,
 "nbformat_minor": 1
}
