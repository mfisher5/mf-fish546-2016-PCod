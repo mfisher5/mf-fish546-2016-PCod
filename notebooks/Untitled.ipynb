{
 "cells": [
  {
   "cell_type": "markdown",
   "metadata": {},
   "source": [
    "## Lanes 1 and 2 combined pipeline, stack depth 5\n",
    "\n",
    "\n",
    "I previously ran the Lanes 1 and 2 data with a stack depth of 10; since this ended up filtering out all but one degraded DNA sample because of missing genotypes, I'd like to see how many MORE I would retain with a stack depth of 5. This is BATCH 2. \n",
    "\n",
    "\n",
    "### 12/15/2016\n",
    "\n",
    "I already ran `process_radtags` on the Lanes 1 and 2 data. \n",
    "<br>\n",
    "I also already know which samples I need to make a catalog in `cstacks`. \n",
    "<br>\n",
    "I have a population map for the Lane 1 and Lane 2 samples. \n",
    "\n",
    "So I made a shell to run from `ustacks` to `populations`"
   ]
  },
  {
   "cell_type": "code",
   "execution_count": 1,
   "metadata": {
    "collapsed": false
   },
   "outputs": [
    {
     "name": "stdout",
     "output_type": "stream",
     "text": [
      "/mnt/hgfs/Pacific cod/DataAnalysis/scripts\n"
     ]
    }
   ],
   "source": [
    "cd ../../scripts/"
   ]
  },
  {
   "cell_type": "code",
   "execution_count": 7,
   "metadata": {
    "collapsed": false,
    "scrolled": true
   },
   "outputs": [
    {
     "name": "stdout",
     "output_type": "stream",
     "text": [
      "###### Produce Shell script to run ustacks to populations, for Lanes 1 and 2 combined data ######\r",
      "\r\n",
      "## MF 11/15/2016\r",
      "\r\n",
      "## Edited MF 12/15/2016\r",
      "\r\n",
      "\r",
      "\r\n",
      "###############\r",
      "\r\n",
      "## At the command line: python radtags_ustacks_genShellSR.py ARG1\r",
      "\r\n",
      "#ARG 1: input file, lane 1 barcodes. line format: <barcode> \\t <sampleID>\r",
      "\r\n",
      "#ARG 2: input file, lane 2 barcodes\r",
      "\r\n",
      "#ARG 3: input file for cstacks, with list of samples to build catalog. \r",
      "\r\n",
      "\r",
      "\r\n",
      "#should be run from within the \"scripts\" folder\r",
      "\r\n",
      "\r",
      "\r\n",
      "###############\r",
      "\r\n",
      "## Each time the script is run, make sure to change:\r",
      "\r\n",
      "## (1) output shell name\r",
      "\r\n",
      "## (2) absolute path to root directory, from which all local paths will be run. \r",
      "\r\n",
      "## (3) combined sample list name (3x , one for writing in beginning, and two for reading in ustacks and sstacks)\r",
      "\r\n",
      "## (4) \"ustacks\" input and output file paths within ustacks code, input file type if necessary\r",
      "\r\n",
      "## (5) \"ustacks\" stack depth !!! AS OF 12/15, STACK DEPTH = 5\r",
      "\r\n",
      "## (6) \"cstacks\" local path direction of output\r",
      "\r\n",
      "## (7) \"cstacks\" \"sstacks\" and \"populations\" batch number\r",
      "\r\n",
      "## (8) \"sstacks\" local paths\r",
      "\r\n",
      "## (9) \"populations\" local paths, batch number and population map name\r",
      "\r\n",
      "\r",
      "\r\n",
      "\r",
      "\r\n"
     ]
    }
   ],
   "source": [
    "!head -n 25 ustacks_populations_genShell_L1L2_12-15.py"
   ]
  },
  {
   "cell_type": "markdown",
   "metadata": {},
   "source": [
    "Note - I have been having trouble with `sstacks` lately, so this script runs `sstacks` with each sample as its own line of code "
   ]
  },
  {
   "cell_type": "code",
   "execution_count": 12,
   "metadata": {
    "collapsed": false
   },
   "outputs": [],
   "source": [
    "!python ustacks_populations_genShell_L1L2_12-15.py barcodesL1.txt barcodesL2.txt samples_for_cstacks_L1L2.txt"
   ]
  },
  {
   "cell_type": "code",
   "execution_count": 15,
   "metadata": {
    "collapsed": false
   },
   "outputs": [
    {
     "name": "stdout",
     "output_type": "stream",
     "text": [
      "#!/bin/bash\r\n",
      "cd /mnt/hgfs/Shared\\ Drive\\ D/Pacific\\ cod/DataAnalysis\r\n",
      "mkdir L1L2stacks_m5\r\n",
      "\r\n",
      "#ustacks\r\n",
      "ustacks -t gzfastq -f L1L2samplesT142/PO010715_06.1.fq.gz -r -d -o L1L2stacks_m5 -i 001 -m 5 -M 3 -p 6\r\n",
      "ustacks -t gzfastq -f L1L2samplesT142/PO010715_27.1.fq.gz -r -d -o L1L2stacks_m5 -i 002 -m 5 -M 3 -p 6\r\n",
      "ustacks -t gzfastq -f L1L2samplesT142/PO010715_28.1.fq.gz -r -d -o L1L2stacks_m5 -i 003 -m 5 -M 3 -p 6\r\n",
      "ustacks -t gzfastq -f L1L2samplesT142/PO010715_29.1.fq.gz -r -d -o L1L2stacks_m5 -i 004 -m 5 -M 3 -p 6\r\n",
      "ustacks -t gzfastq -f L1L2samplesT142/GE011215_08.1.fq.gz -r -d -o L1L2stacks_m5 -i 005 -m 5 -M 3 -p 6\r\n"
     ]
    }
   ],
   "source": [
    "!head ustacks_populations_shell_12-15.sh"
   ]
  },
  {
   "cell_type": "code",
   "execution_count": 17,
   "metadata": {
    "collapsed": false
   },
   "outputs": [],
   "source": [
    "!chmod +x ustacks_populations_shell_12-15.sh"
   ]
  },
  {
   "cell_type": "code",
   "execution_count": 18,
   "metadata": {
    "collapsed": true
   },
   "outputs": [],
   "source": [
    "!mv ustacks_populations_shell_12-15.sh ../ustacks_populations_shell_12-15.sh"
   ]
  },
  {
   "cell_type": "code",
   "execution_count": 19,
   "metadata": {
    "collapsed": false
   },
   "outputs": [
    {
     "name": "stdout",
     "output_type": "stream",
     "text": [
      "/mnt/hgfs/Pacific cod/DataAnalysis\n"
     ]
    }
   ],
   "source": [
    "cd ../"
   ]
  },
  {
   "cell_type": "code",
   "execution_count": null,
   "metadata": {
    "collapsed": true
   },
   "outputs": [],
   "source": [
    "# in the terminal to avoid timeout: \n",
    "./ustacks_populations_Shell_12-15.sh"
   ]
  }
 ],
 "metadata": {
  "kernelspec": {
   "display_name": "Python [default]",
   "language": "python",
   "name": "python2"
  },
  "language_info": {
   "codemirror_mode": {
    "name": "ipython",
    "version": 2
   },
   "file_extension": ".py",
   "mimetype": "text/x-python",
   "name": "python",
   "nbconvert_exporter": "python",
   "pygments_lexer": "ipython2",
   "version": "2.7.12"
  }
 },
 "nbformat": 4,
 "nbformat_minor": 1
}
