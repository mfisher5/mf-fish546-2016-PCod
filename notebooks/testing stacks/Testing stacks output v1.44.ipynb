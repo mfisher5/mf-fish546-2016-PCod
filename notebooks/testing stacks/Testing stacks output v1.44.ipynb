{
 "cells": [
  {
   "cell_type": "markdown",
   "metadata": {},
   "source": [
    "## Stacks v1.44\n",
    "\n",
    "Given the trouble with the stacks output from `populations` and `.matches.tsv` not matching the actual sequences in the `.tags.tsv` file, I'm going to see if there is the same problem with the new version by rerunning `process_radtags`, `ustacks` and `cstacks` in v1.44\n",
    "\n",
    "\n",
    "### DOWNLOAD AND INSTALL NEW STACKS"
   ]
  },
  {
   "cell_type": "code",
   "execution_count": 1,
   "metadata": {
    "collapsed": true
   },
   "outputs": [],
   "source": [
    "#download new stacks"
   ]
  },
  {
   "cell_type": "code",
   "execution_count": 38,
   "metadata": {
    "collapsed": false
   },
   "outputs": [
    {
     "name": "stdout",
     "output_type": "stream",
     "text": [
      "/mnt\n"
     ]
    }
   ],
   "source": [
    "cd ../../../../"
   ]
  },
  {
   "cell_type": "code",
   "execution_count": 39,
   "metadata": {
    "collapsed": false
   },
   "outputs": [
    {
     "name": "stdout",
     "output_type": "stream",
     "text": [
      "/\n"
     ]
    }
   ],
   "source": [
    "cd ../"
   ]
  },
  {
   "cell_type": "code",
   "execution_count": 4,
   "metadata": {
    "collapsed": false
   },
   "outputs": [
    {
     "name": "stdout",
     "output_type": "stream",
     "text": [
      "\u001b[0m\u001b[01;34mbin\u001b[0m/    \u001b[01;34metc\u001b[0m/             \u001b[01;34mlib\u001b[0m/         \u001b[01;34mmnt\u001b[0m/   \u001b[01;34mrun\u001b[0m/   \u001b[01;34msys\u001b[0m/  \u001b[01;36mvmlinuz\u001b[0m@\r\n",
      "\u001b[01;34mboot\u001b[0m/   \u001b[01;34mhome\u001b[0m/            \u001b[01;34mlib64\u001b[0m/       \u001b[01;34mopt\u001b[0m/   \u001b[01;34msbin\u001b[0m/  \u001b[30;42mtmp\u001b[0m/  \u001b[01;36mvmlinuz.old\u001b[0m@\r\n",
      "\u001b[01;34mcdrom\u001b[0m/  \u001b[01;36minitrd.img\u001b[0m@      \u001b[01;34mlost+found\u001b[0m/  \u001b[01;34mproc\u001b[0m/  \u001b[01;34msnap\u001b[0m/  \u001b[01;34musr\u001b[0m/\r\n",
      "\u001b[01;34mdev\u001b[0m/    \u001b[01;36minitrd.img.old\u001b[0m@  \u001b[01;34mmedia\u001b[0m/       \u001b[01;34mroot\u001b[0m/  \u001b[01;34msrv\u001b[0m/   \u001b[01;34mvar\u001b[0m/\r\n"
     ]
    }
   ],
   "source": [
    "ls"
   ]
  },
  {
   "cell_type": "code",
   "execution_count": 11,
   "metadata": {
    "collapsed": false
   },
   "outputs": [
    {
     "name": "stdout",
     "output_type": "stream",
     "text": [
      "/home\n"
     ]
    }
   ],
   "source": [
    "cd home"
   ]
  },
  {
   "cell_type": "code",
   "execution_count": 12,
   "metadata": {
    "collapsed": false
   },
   "outputs": [
    {
     "name": "stdout",
     "output_type": "stream",
     "text": [
      "\u001b[0m\u001b[01;34mmfisher5\u001b[0m/\r\n"
     ]
    }
   ],
   "source": [
    "ls\n"
   ]
  },
  {
   "cell_type": "code",
   "execution_count": 13,
   "metadata": {
    "collapsed": false
   },
   "outputs": [
    {
     "name": "stdout",
     "output_type": "stream",
     "text": [
      "/home/mfisher5\n"
     ]
    }
   ],
   "source": [
    "cd mfisher5/"
   ]
  },
  {
   "cell_type": "code",
   "execution_count": 14,
   "metadata": {
    "collapsed": false
   },
   "outputs": [
    {
     "name": "stdout",
     "output_type": "stream",
     "text": [
      "\u001b[0m\u001b[01;34manaconda2\u001b[0m/     \u001b[01;34mDocuments\u001b[0m/        \u001b[01;34mPictures\u001b[0m/   \u001b[01;31mVMwareTools-10.0.6-3595377.tar\u001b[0m\r\n",
      "\u001b[01;34mblastdb\u001b[0m/       \u001b[01;34mDownloads\u001b[0m/        \u001b[01;34mPublic\u001b[0m/     \u001b[01;34mvmware-tools-distrib\u001b[0m/\r\n",
      "\u001b[01;34mbowtie-1.1.2\u001b[0m/  examples.desktop  \u001b[01;34mTemplates\u001b[0m/\r\n",
      "\u001b[01;34mDesktop\u001b[0m/       \u001b[01;34mMusic\u001b[0m/            \u001b[01;34mVideos\u001b[0m/\r\n"
     ]
    }
   ],
   "source": [
    "ls"
   ]
  },
  {
   "cell_type": "code",
   "execution_count": 15,
   "metadata": {
    "collapsed": false
   },
   "outputs": [
    {
     "name": "stdout",
     "output_type": "stream",
     "text": [
      "/home/mfisher5/Downloads\n"
     ]
    }
   ],
   "source": [
    "cd Downloads"
   ]
  },
  {
   "cell_type": "code",
   "execution_count": 16,
   "metadata": {
    "collapsed": false
   },
   "outputs": [
    {
     "name": "stdout",
     "output_type": "stream",
     "text": [
      "Anaconda2-4.2.0-Linux-x86_64.sh\r\n",
      "\u001b[0m\u001b[01;31mbowtie-1.1.2-linux-x86_64.zip\u001b[0m\r\n",
      "\u001b[01;31mGadus_morhua.gadMor1.cdna.all.fa.gz\u001b[0m\r\n",
      "\u001b[01;31mGadus_morhua.gadMor1.dna.toplevel.fa.gz\u001b[0m\r\n",
      "\u001b[01;34mncbi-blast-2.5.0+\u001b[0m/\r\n",
      "\u001b[01;31mncbi-blast-2.5.0+-x64-linux.tar\u001b[0m\r\n",
      "\u001b[01;31mR-3.3.1.tar.gz\u001b[0m\r\n",
      "\u001b[01;34mstacks-1.42\u001b[0m/\r\n",
      "\u001b[01;31mstacks-1.42.tar\u001b[0m\r\n",
      "\u001b[01;31mstacks-1.44.tar.gz\u001b[0m\r\n",
      "\u001b[01;31mvmware-tools-core_9.0.5-1.hardy_amd64.deb\u001b[0m\r\n"
     ]
    }
   ],
   "source": [
    "ls"
   ]
  },
  {
   "cell_type": "code",
   "execution_count": 18,
   "metadata": {
    "collapsed": false
   },
   "outputs": [
    {
     "name": "stdout",
     "output_type": "stream",
     "text": [
      "stacks-1.44/\r\n",
      "stacks-1.44/acinclude.m4\r\n",
      "stacks-1.44/aclocal.m4\r\n",
      "stacks-1.44/autogen.sh\r\n",
      "stacks-1.44/ChangeLog\r\n",
      "stacks-1.44/config/\r\n",
      "stacks-1.44/config.h.in\r\n",
      "stacks-1.44/configure\r\n",
      "stacks-1.44/configure.ac\r\n",
      "stacks-1.44/htslib/\r\n",
      "stacks-1.44/INSTALL\r\n",
      "stacks-1.44/LICENSE\r\n",
      "stacks-1.44/Makefile.am\r\n",
      "stacks-1.44/Makefile.in\r\n",
      "stacks-1.44/php/\r\n",
      "stacks-1.44/README\r\n",
      "stacks-1.44/scripts/\r\n",
      "stacks-1.44/sql/\r\n",
      "stacks-1.44/src/\r\n",
      "stacks-1.44/tests/\r\n",
      "stacks-1.44/tests/kmer_filter.t\r\n",
      "stacks-1.44/tests/process_radtags.t\r\n",
      "stacks-1.44/tests/pstacks.t\r\n",
      "stacks-1.44/tests/ustacks.t\r\n",
      "stacks-1.44/src/aln_utils.cc\r\n",
      "stacks-1.44/src/aln_utils.h\r\n",
      "stacks-1.44/src/BamI.h\r\n",
      "stacks-1.44/src/BamUnalignedI.h\r\n",
      "stacks-1.44/src/bootstrap.h\r\n",
      "stacks-1.44/src/BowtieI.h\r\n",
      "stacks-1.44/src/BustardI.h\r\n",
      "stacks-1.44/src/catalog_utils.cc\r\n",
      "stacks-1.44/src/catalog_utils.h\r\n",
      "stacks-1.44/src/clean.cc\r\n",
      "stacks-1.44/src/clean.h\r\n",
      "stacks-1.44/src/clone_filter.cc\r\n",
      "stacks-1.44/src/clone_filter.h\r\n",
      "stacks-1.44/src/cmb.cc\r\n",
      "stacks-1.44/src/cmb.h\r\n",
      "stacks-1.44/src/constants.h\r\n",
      "stacks-1.44/src/cstacks.cc\r\n",
      "stacks-1.44/src/cstacks.h\r\n",
      "stacks-1.44/src/DNANSeq.cc\r\n",
      "stacks-1.44/src/DNANSeq.h\r\n",
      "stacks-1.44/src/DNASeq.cc\r\n",
      "stacks-1.44/src/DNASeq.h\r\n",
      "stacks-1.44/src/estacks.cc\r\n",
      "stacks-1.44/src/estacks.h\r\n",
      "stacks-1.44/src/export_formats.cc\r\n",
      "stacks-1.44/src/export_formats.h\r\n",
      "stacks-1.44/src/FastaI.h\r\n",
      "stacks-1.44/src/FastqI.h\r\n",
      "stacks-1.44/src/file_io.cc\r\n",
      "stacks-1.44/src/file_io.h\r\n",
      "stacks-1.44/src/GappedAln.h\r\n",
      "stacks-1.44/src/genotype_dictionaries.cc\r\n",
      "stacks-1.44/src/genotype_dictionaries.h\r\n",
      "stacks-1.44/src/genotypes.cc\r\n",
      "stacks-1.44/src/genotypes.h\r\n",
      "stacks-1.44/src/gzFasta.h\r\n",
      "stacks-1.44/src/gzFastq.h\r\n",
      "stacks-1.44/src/hstacks.cc\r\n",
      "stacks-1.44/src/hstacks.h\r\n",
      "stacks-1.44/src/input.cc\r\n",
      "stacks-1.44/src/input.h\r\n",
      "stacks-1.44/src/kmer_filter.cc\r\n",
      "stacks-1.44/src/kmer_filter.h\r\n",
      "stacks-1.44/src/kmers.cc\r\n",
      "stacks-1.44/src/kmers.h\r\n",
      "stacks-1.44/src/locus.cc\r\n",
      "stacks-1.44/src/locus.h\r\n",
      "stacks-1.44/src/log_utils.cc\r\n",
      "stacks-1.44/src/log_utils.h\r\n",
      "stacks-1.44/src/MetaPopInfo.cc\r\n",
      "stacks-1.44/src/MetaPopInfo.h\r\n",
      "stacks-1.44/src/models.cc\r\n",
      "stacks-1.44/src/models.h\r\n",
      "stacks-1.44/src/mst.cc\r\n",
      "stacks-1.44/src/mst.h\r\n",
      "stacks-1.44/src/mstack.cc\r\n",
      "stacks-1.44/src/mstack.h\r\n",
      "stacks-1.44/src/ordered.h\r\n",
      "stacks-1.44/src/phasedstacks.cc\r\n",
      "stacks-1.44/src/phasedstacks.h\r\n",
      "stacks-1.44/src/PopMap.h\r\n",
      "stacks-1.44/src/PopSum.h\r\n",
      "stacks-1.44/src/populations.cc\r\n",
      "stacks-1.44/src/populations.h\r\n",
      "stacks-1.44/src/process_radtags.cc\r\n",
      "stacks-1.44/src/process_radtags.h\r\n",
      "stacks-1.44/src/process_shortreads.cc\r\n",
      "stacks-1.44/src/process_shortreads.h\r\n",
      "stacks-1.44/src/pstacks.cc\r\n",
      "stacks-1.44/src/pstacks.h\r\n",
      "stacks-1.44/src/renz.cc\r\n",
      "stacks-1.44/src/renz.h\r\n",
      "stacks-1.44/src/rxstacks.cc\r\n",
      "stacks-1.44/src/rxstacks.h\r\n",
      "stacks-1.44/src/SamI.h\r\n",
      "stacks-1.44/src/smoothing.h\r\n",
      "stacks-1.44/src/smoothing_utils.h\r\n",
      "stacks-1.44/src/sql_utilities.cc\r\n",
      "stacks-1.44/src/sql_utilities.h\r\n",
      "stacks-1.44/src/sstacks.cc\r\n",
      "stacks-1.44/src/sstacks.h\r\n",
      "stacks-1.44/src/stacks.cc\r\n",
      "stacks-1.44/src/stacks.h\r\n",
      "stacks-1.44/src/Tsv.h\r\n",
      "stacks-1.44/src/ustacks.cc\r\n",
      "stacks-1.44/src/ustacks.h\r\n",
      "stacks-1.44/src/utils.cc\r\n",
      "stacks-1.44/src/utils.h\r\n",
      "stacks-1.44/src/Vcf.cc\r\n",
      "stacks-1.44/src/Vcf.h\r\n",
      "stacks-1.44/src/write.cc\r\n",
      "stacks-1.44/src/write.h\r\n",
      "stacks-1.44/sql/catalog_index.sql\r\n",
      "stacks-1.44/sql/chr_index.sql\r\n",
      "stacks-1.44/sql/mysql.cnf.dist\r\n",
      "stacks-1.44/sql/stacks.sql\r\n",
      "stacks-1.44/sql/tag_index.sql\r\n",
      "stacks-1.44/scripts/convert_stacks.pl\r\n",
      "stacks-1.44/scripts/denovo_map.pl\r\n",
      "stacks-1.44/scripts/exec_velvet.pl\r\n",
      "stacks-1.44/scripts/export_sql.pl\r\n",
      "stacks-1.44/scripts/extract_interpop_chars.pl\r\n",
      "stacks-1.44/scripts/index_radtags.pl\r\n",
      "stacks-1.44/scripts/integrate_alignments.py\r\n",
      "stacks-1.44/scripts/load_radtags.pl\r\n",
      "stacks-1.44/scripts/load_sequences.pl\r\n",
      "stacks-1.44/scripts/ref_map.pl\r\n",
      "stacks-1.44/scripts/sort_read_pairs.pl\r\n",
      "stacks-1.44/scripts/stacks_export_notify.pl\r\n",
      "stacks-1.44/php/ajax.js\r\n",
      "stacks-1.44/php/annotate.js\r\n",
      "stacks-1.44/php/annotate_marker.php\r\n",
      "stacks-1.44/php/catalog.php\r\n",
      "stacks-1.44/php/catalog_genotypes.php\r\n",
      "stacks-1.44/php/CatalogClass.php\r\n",
      "stacks-1.44/php/constants.php.dist\r\n",
      "stacks-1.44/php/correct_genotype.php\r\n",
      "stacks-1.44/php/correct_genotypes.php\r\n",
      "stacks-1.44/php/db_functions.php\r\n",
      "stacks-1.44/php/export.js\r\n",
      "stacks-1.44/php/export_batch.php\r\n",
      "stacks-1.44/php/fst_view.php\r\n",
      "stacks-1.44/php/hapstat_view.php\r\n",
      "stacks-1.44/php/header.php\r\n",
      "stacks-1.44/php/images/\r\n",
      "stacks-1.44/php/index.php\r\n",
      "stacks-1.44/php/last_modified.php\r\n",
      "stacks-1.44/php/Locus.php\r\n",
      "stacks-1.44/php/phist_view.php\r\n",
      "stacks-1.44/php/pop_view.php\r\n",
      "stacks-1.44/php/population_view.js\r\n",
      "stacks-1.44/php/samples.php\r\n",
      "stacks-1.44/php/sequence_blast.php\r\n",
      "stacks-1.44/php/stack_view.php\r\n",
      "stacks-1.44/php/stacks.css\r\n",
      "stacks-1.44/php/stacks.js\r\n",
      "stacks-1.44/php/stacks_functions.php\r\n",
      "stacks-1.44/php/sumstat_view.php\r\n",
      "stacks-1.44/php/tag.php\r\n",
      "stacks-1.44/php/tags.php\r\n",
      "stacks-1.44/php/version.php\r\n",
      "stacks-1.44/php/view_sequence.php\r\n",
      "stacks-1.44/php/images/caret-d.png\r\n",
      "stacks-1.44/php/images/caret-u.png\r\n",
      "stacks-1.44/php/images/excel_icon.png\r\n",
      "stacks-1.44/php/images/l-arrow-disabled.png\r\n",
      "stacks-1.44/php/images/l-arrow.png\r\n",
      "stacks-1.44/php/images/r-arrow-disabled.png\r\n",
      "stacks-1.44/php/images/r-arrow.png\r\n",
      "stacks-1.44/php/images/stacks_bg.png\r\n",
      "stacks-1.44/php/images/stacks_logo_rev_small.png\r\n",
      "stacks-1.44/htslib/._bgzf.c\r\n",
      "stacks-1.44/htslib/bgzf.c\r\n",
      "stacks-1.44/htslib/._bgzip.c\r\n",
      "stacks-1.44/htslib/bgzip.c\r\n",
      "stacks-1.44/htslib/._cram\r\n",
      "stacks-1.44/htslib/cram/\r\n",
      "stacks-1.44/htslib/._faidx.c\r\n",
      "stacks-1.44/htslib/faidx.c\r\n",
      "stacks-1.44/htslib/._hfile.c\r\n",
      "stacks-1.44/htslib/hfile.c\r\n",
      "stacks-1.44/htslib/._hfile_internal.h\r\n",
      "stacks-1.44/htslib/hfile_internal.h\r\n",
      "stacks-1.44/htslib/._hfile_irods.c\r\n",
      "stacks-1.44/htslib/hfile_irods.c\r\n",
      "stacks-1.44/htslib/._hfile_libcurl.c\r\n",
      "stacks-1.44/htslib/hfile_libcurl.c\r\n",
      "stacks-1.44/htslib/._hfile_net.c\r\n",
      "stacks-1.44/htslib/hfile_net.c\r\n",
      "stacks-1.44/htslib/._hts.c\r\n",
      "stacks-1.44/htslib/hts.c\r\n",
      "stacks-1.44/htslib/._hts_internal.h\r\n",
      "stacks-1.44/htslib/hts_internal.h\r\n",
      "stacks-1.44/htslib/._htsfile.c\r\n",
      "stacks-1.44/htslib/htsfile.c\r\n",
      "stacks-1.44/htslib/._htslib\r\n",
      "stacks-1.44/htslib/htslib/\r\n",
      "stacks-1.44/htslib/._htslib.pc.in\r\n",
      "stacks-1.44/htslib/htslib.pc.in\r\n",
      "stacks-1.44/htslib/._htslib_vars.mk\r\n",
      "stacks-1.44/htslib/htslib_vars.mk\r\n",
      "stacks-1.44/htslib/._INSTALL\r\n",
      "stacks-1.44/htslib/INSTALL\r\n",
      "stacks-1.44/htslib/._kfunc.c\r\n",
      "stacks-1.44/htslib/kfunc.c\r\n",
      "stacks-1.44/htslib/._knetfile.c\r\n",
      "stacks-1.44/htslib/knetfile.c\r\n",
      "stacks-1.44/htslib/._kstring.c\r\n",
      "stacks-1.44/htslib/kstring.c\r\n",
      "stacks-1.44/htslib/._LICENSE\r\n",
      "stacks-1.44/htslib/LICENSE\r\n",
      "stacks-1.44/htslib/._Makefile\r\n",
      "stacks-1.44/htslib/Makefile\r\n",
      "stacks-1.44/htslib/._md5.c\r\n",
      "stacks-1.44/htslib/md5.c\r\n",
      "stacks-1.44/htslib/._NEWS\r\n",
      "stacks-1.44/htslib/NEWS\r\n",
      "stacks-1.44/htslib/._plugin.c\r\n",
      "stacks-1.44/htslib/plugin.c\r\n",
      "stacks-1.44/htslib/._README\r\n",
      "stacks-1.44/htslib/README\r\n",
      "stacks-1.44/htslib/._regidx.c\r\n",
      "stacks-1.44/htslib/regidx.c\r\n",
      "stacks-1.44/htslib/._sam.c\r\n",
      "stacks-1.44/htslib/sam.c\r\n",
      "stacks-1.44/htslib/._synced_bcf_reader.c\r\n",
      "stacks-1.44/htslib/synced_bcf_reader.c\r\n",
      "stacks-1.44/htslib/._tabix.c\r\n",
      "stacks-1.44/htslib/tabix.c\r\n",
      "stacks-1.44/htslib/._tbx.c\r\n",
      "stacks-1.44/htslib/tbx.c\r\n",
      "stacks-1.44/htslib/._vcf.c\r\n",
      "stacks-1.44/htslib/vcf.c\r\n",
      "stacks-1.44/htslib/._vcf_sweep.c\r\n",
      "stacks-1.44/htslib/vcf_sweep.c\r\n",
      "stacks-1.44/htslib/._vcfutils.c\r\n",
      "stacks-1.44/htslib/vcfutils.c\r\n",
      "stacks-1.44/htslib/htslib/._bgzf.h\r\n",
      "stacks-1.44/htslib/htslib/bgzf.h\r\n",
      "stacks-1.44/htslib/htslib/._cram.h\r\n",
      "stacks-1.44/htslib/htslib/cram.h\r\n",
      "stacks-1.44/htslib/htslib/._faidx.h\r\n",
      "stacks-1.44/htslib/htslib/faidx.h\r\n",
      "stacks-1.44/htslib/htslib/._hfile.h\r\n",
      "stacks-1.44/htslib/htslib/hfile.h\r\n",
      "stacks-1.44/htslib/htslib/._hts.h\r\n",
      "stacks-1.44/htslib/htslib/hts.h\r\n",
      "stacks-1.44/htslib/htslib/._hts_defs.h\r\n",
      "stacks-1.44/htslib/htslib/hts_defs.h\r\n",
      "stacks-1.44/htslib/htslib/._kbitset.h\r\n",
      "stacks-1.44/htslib/htslib/kbitset.h\r\n",
      "stacks-1.44/htslib/htslib/._kfunc.h\r\n",
      "stacks-1.44/htslib/htslib/kfunc.h\r\n",
      "stacks-1.44/htslib/htslib/._khash.h\r\n",
      "stacks-1.44/htslib/htslib/khash.h\r\n",
      "stacks-1.44/htslib/htslib/._khash_str2int.h\r\n",
      "stacks-1.44/htslib/htslib/khash_str2int.h\r\n",
      "stacks-1.44/htslib/htslib/._klist.h\r\n",
      "stacks-1.44/htslib/htslib/klist.h\r\n",
      "stacks-1.44/htslib/htslib/._knetfile.h\r\n",
      "stacks-1.44/htslib/htslib/knetfile.h\r\n",
      "stacks-1.44/htslib/htslib/._kseq.h\r\n",
      "stacks-1.44/htslib/htslib/kseq.h\r\n",
      "stacks-1.44/htslib/htslib/._ksort.h\r\n",
      "stacks-1.44/htslib/htslib/ksort.h\r\n",
      "stacks-1.44/htslib/htslib/._kstring.h\r\n",
      "stacks-1.44/htslib/htslib/kstring.h\r\n",
      "stacks-1.44/htslib/htslib/._regidx.h\r\n",
      "stacks-1.44/htslib/htslib/regidx.h\r\n",
      "stacks-1.44/htslib/htslib/._sam.h\r\n",
      "stacks-1.44/htslib/htslib/sam.h\r\n",
      "stacks-1.44/htslib/htslib/._synced_bcf_reader.h\r\n",
      "stacks-1.44/htslib/htslib/synced_bcf_reader.h\r\n",
      "stacks-1.44/htslib/htslib/._tbx.h\r\n",
      "stacks-1.44/htslib/htslib/tbx.h\r\n",
      "stacks-1.44/htslib/htslib/._vcf.h\r\n",
      "stacks-1.44/htslib/htslib/vcf.h\r\n",
      "stacks-1.44/htslib/htslib/._vcf_sweep.h\r\n",
      "stacks-1.44/htslib/htslib/vcf_sweep.h\r\n",
      "stacks-1.44/htslib/htslib/._vcfutils.h\r\n",
      "stacks-1.44/htslib/htslib/vcfutils.h\r\n",
      "stacks-1.44/htslib/cram/._cram.h\r\n",
      "stacks-1.44/htslib/cram/cram.h\r\n",
      "stacks-1.44/htslib/cram/._cram_codecs.c\r\n",
      "stacks-1.44/htslib/cram/cram_codecs.c\r\n",
      "stacks-1.44/htslib/cram/._cram_codecs.h\r\n",
      "stacks-1.44/htslib/cram/cram_codecs.h\r\n",
      "stacks-1.44/htslib/cram/._cram_decode.c\r\n",
      "stacks-1.44/htslib/cram/cram_decode.c\r\n",
      "stacks-1.44/htslib/cram/._cram_decode.h\r\n",
      "stacks-1.44/htslib/cram/cram_decode.h\r\n",
      "stacks-1.44/htslib/cram/._cram_encode.c\r\n",
      "stacks-1.44/htslib/cram/cram_encode.c\r\n",
      "stacks-1.44/htslib/cram/._cram_encode.h\r\n",
      "stacks-1.44/htslib/cram/cram_encode.h\r\n",
      "stacks-1.44/htslib/cram/._cram_external.c\r\n",
      "stacks-1.44/htslib/cram/cram_external.c\r\n",
      "stacks-1.44/htslib/cram/._cram_index.c\r\n",
      "stacks-1.44/htslib/cram/cram_index.c\r\n",
      "stacks-1.44/htslib/cram/._cram_index.h\r\n",
      "stacks-1.44/htslib/cram/cram_index.h\r\n",
      "stacks-1.44/htslib/cram/._cram_io.c\r\n",
      "stacks-1.44/htslib/cram/cram_io.c\r\n",
      "stacks-1.44/htslib/cram/._cram_io.h\r\n",
      "stacks-1.44/htslib/cram/cram_io.h\r\n",
      "stacks-1.44/htslib/cram/._cram_samtools.c\r\n",
      "stacks-1.44/htslib/cram/cram_samtools.c\r\n",
      "stacks-1.44/htslib/cram/._cram_samtools.h\r\n",
      "stacks-1.44/htslib/cram/cram_samtools.h\r\n",
      "stacks-1.44/htslib/cram/._cram_stats.c\r\n",
      "stacks-1.44/htslib/cram/cram_stats.c\r\n",
      "stacks-1.44/htslib/cram/._cram_stats.h\r\n",
      "stacks-1.44/htslib/cram/cram_stats.h\r\n",
      "stacks-1.44/htslib/cram/._cram_structs.h\r\n",
      "stacks-1.44/htslib/cram/cram_structs.h\r\n",
      "stacks-1.44/htslib/cram/._files.c\r\n",
      "stacks-1.44/htslib/cram/files.c\r\n",
      "stacks-1.44/htslib/cram/._mFILE.c\r\n",
      "stacks-1.44/htslib/cram/mFILE.c\r\n",
      "stacks-1.44/htslib/cram/._mFILE.h\r\n",
      "stacks-1.44/htslib/cram/mFILE.h\r\n",
      "stacks-1.44/htslib/cram/._misc.h\r\n",
      "stacks-1.44/htslib/cram/misc.h\r\n",
      "stacks-1.44/htslib/cram/._open_trace_file.c\r\n",
      "stacks-1.44/htslib/cram/open_trace_file.c\r\n",
      "stacks-1.44/htslib/cram/._open_trace_file.h\r\n",
      "stacks-1.44/htslib/cram/open_trace_file.h\r\n",
      "stacks-1.44/htslib/cram/._os.h\r\n",
      "stacks-1.44/htslib/cram/os.h\r\n",
      "stacks-1.44/htslib/cram/._pooled_alloc.c\r\n",
      "stacks-1.44/htslib/cram/pooled_alloc.c\r\n",
      "stacks-1.44/htslib/cram/._pooled_alloc.h\r\n",
      "stacks-1.44/htslib/cram/pooled_alloc.h\r\n",
      "stacks-1.44/htslib/cram/._rANS_byte.h\r\n",
      "stacks-1.44/htslib/cram/rANS_byte.h\r\n",
      "stacks-1.44/htslib/cram/._rANS_static.c\r\n",
      "stacks-1.44/htslib/cram/rANS_static.c\r\n",
      "stacks-1.44/htslib/cram/._rANS_static.h\r\n",
      "stacks-1.44/htslib/cram/rANS_static.h\r\n",
      "stacks-1.44/htslib/cram/._sam_header.c\r\n",
      "stacks-1.44/htslib/cram/sam_header.c\r\n",
      "stacks-1.44/htslib/cram/._sam_header.h\r\n",
      "stacks-1.44/htslib/cram/sam_header.h\r\n",
      "stacks-1.44/htslib/cram/._string_alloc.c\r\n",
      "stacks-1.44/htslib/cram/string_alloc.c\r\n",
      "stacks-1.44/htslib/cram/._string_alloc.h\r\n",
      "stacks-1.44/htslib/cram/string_alloc.h\r\n",
      "stacks-1.44/htslib/cram/._thread_pool.c\r\n",
      "stacks-1.44/htslib/cram/thread_pool.c\r\n",
      "stacks-1.44/htslib/cram/._thread_pool.h\r\n",
      "stacks-1.44/htslib/cram/thread_pool.h\r\n",
      "stacks-1.44/htslib/cram/._vlen.c\r\n",
      "stacks-1.44/htslib/cram/vlen.c\r\n",
      "stacks-1.44/htslib/cram/._vlen.h\r\n",
      "stacks-1.44/htslib/cram/vlen.h\r\n",
      "stacks-1.44/htslib/cram/._zfio.c\r\n",
      "stacks-1.44/htslib/cram/zfio.c\r\n",
      "stacks-1.44/htslib/cram/._zfio.h\r\n",
      "stacks-1.44/htslib/cram/zfio.h\r\n",
      "stacks-1.44/config/compile\r\n",
      "stacks-1.44/config/depcomp\r\n",
      "stacks-1.44/config/install-sh\r\n",
      "stacks-1.44/config/missing\r\n",
      "stacks-1.44/config/test-driver\r\n"
     ]
    }
   ],
   "source": [
    "!tar xfvz stacks-1.44.tar.gz"
   ]
  },
  {
   "cell_type": "code",
   "execution_count": 21,
   "metadata": {
    "collapsed": false
   },
   "outputs": [
    {
     "name": "stdout",
     "output_type": "stream",
     "text": [
      "/home/mfisher5/Downloads/stacks-1.44\n"
     ]
    }
   ],
   "source": [
    "cd stacks-1.44"
   ]
  },
  {
   "cell_type": "code",
   "execution_count": 23,
   "metadata": {
    "collapsed": false
   },
   "outputs": [
    {
     "name": "stdout",
     "output_type": "stream",
     "text": [
      "checking for a BSD-compatible install... /usr/bin/install -c\n",
      "checking whether build environment is sane... yes\n",
      "checking for a thread-safe mkdir -p... /bin/mkdir -p\n",
      "checking for gawk... no\n",
      "checking for mawk... mawk\n",
      "checking whether make sets $(MAKE)... yes\n",
      "checking whether make supports nested variables... yes\n",
      "checking for g++... g++\n",
      "checking whether the C++ compiler works... yes\n",
      "checking for C++ compiler default output file name... a.out\n",
      "checking for suffix of executables... \n",
      "checking whether we are cross compiling... no\n",
      "checking for suffix of object files... o\n",
      "checking whether we are using the GNU C++ compiler... yes\n",
      "checking whether g++ accepts -g... yes\n",
      "checking for style of include used by make... GNU\n",
      "checking dependency style of g++... gcc3\n",
      "checking for gcc... gcc\n",
      "checking whether we are using the GNU C compiler... yes\n",
      "checking whether gcc accepts -g... yes\n",
      "checking for gcc option to accept ISO C89... none needed\n",
      "checking whether gcc understands -c and -o together... yes\n",
      "checking dependency style of gcc... gcc3\n",
      "checking whether g++ supports C++11 features by default... no\n",
      "checking whether g++ supports C++11 features with -std=gnu++11... yes\n",
      "checking for omp_set_num_threads in -lgomp... yes\n",
      "checking for gzread in -lz... yes\n",
      "checking for dirent.h that defines DIR... yes\n",
      "checking for library containing opendir... none required\n",
      "checking how to run the C preprocessor... gcc -E\n",
      "checking for grep that handles long lines and -e... /bin/grep\n",
      "checking for egrep... /bin/grep -E\n",
      "checking for ANSI C header files... yes\n",
      "checking for sys/types.h... yes\n",
      "checking for sys/stat.h... yes\n",
      "checking for stdlib.h... yes\n",
      "checking for string.h... yes\n",
      "checking for memory.h... yes\n",
      "checking for strings.h... yes\n",
      "checking for inttypes.h... yes\n",
      "checking for stdint.h... yes\n",
      "checking for unistd.h... yes\n",
      "checking float.h usability... yes\n",
      "checking float.h presence... yes\n",
      "checking for float.h... yes\n",
      "checking limits.h usability... yes\n",
      "checking limits.h presence... yes\n",
      "checking for limits.h... yes\n",
      "checking for stdlib.h... (cached) yes\n",
      "checking for string.h... (cached) yes\n",
      "checking for gcc option to support OpenMP... -fopenmp\n",
      "checking for stdbool.h that conforms to C99... yes\n",
      "checking for _Bool... yes\n",
      "checking for an ANSI C-conforming const... yes\n",
      "checking for size_t... yes\n",
      "checking whether closedir returns void... no\n",
      "checking for stdlib.h... (cached) yes\n",
      "checking for GNU libc compatible malloc... yes\n",
      "checking for stdlib.h... (cached) yes\n",
      "checking for GNU libc compatible realloc... yes\n",
      "checking for floor... no\n",
      "checking for memset... yes\n",
      "checking for pow... no\n",
      "checking for sqrt... no\n",
      "checking for gawk... (cached) mawk\n",
      "checking that generated files are newer than configure... done\n",
      "configure: creating ./config.status\n",
      "config.status: creating Makefile\n",
      "config.status: creating config.h\n",
      "config.status: executing depfiles commands\n"
     ]
    }
   ],
   "source": [
    "!./configure"
   ]
  },
  {
   "cell_type": "code",
   "execution_count": 25,
   "metadata": {
    "collapsed": false
   },
   "outputs": [
    {
     "name": "stdout",
     "output_type": "stream",
     "text": [
      "make  all-recursive\n",
      "make[1]: Entering directory '/home/mfisher5/Downloads/stacks-1.44'\n",
      "Making all in htslib\n",
      "make[2]: Entering directory '/home/mfisher5/Downloads/stacks-1.44/htslib'\n",
      "echo '/* Empty config.h generated by Makefile */' > config.h\n",
      "gcc -g -Wall -O2 -I.  -c -o kfunc.o kfunc.c\n",
      "gcc -g -Wall -O2 -I.  -c -o knetfile.o knetfile.c\n",
      "gcc -g -Wall -O2 -I.  -c -o kstring.o kstring.c\n",
      "gcc -g -Wall -O2 -I.  -c -o bgzf.o bgzf.c\n",
      "gcc -g -Wall -O2 -I.  -c -o faidx.o faidx.c\n",
      "gcc -g -Wall -O2 -I.  -c -o hfile.o hfile.c\n",
      "gcc -g -Wall -O2 -I.  -c -o hfile_net.o hfile_net.c\n",
      "echo '#define HTS_VERSION \"1.3.1\"' > version.h\n",
      "gcc -g -Wall -O2 -I.  -c -o hts.o hts.c\n",
      "gcc -g -Wall -O2 -I.  -c -o md5.o md5.c\n",
      "gcc -g -Wall -O2 -I.  -c -o regidx.o regidx.c\n",
      "gcc -g -Wall -O2 -I.  -c -o sam.o sam.c\n",
      "gcc -g -Wall -O2 -I.  -c -o synced_bcf_reader.o synced_bcf_reader.c\n",
      "gcc -g -Wall -O2 -I.  -c -o vcf_sweep.o vcf_sweep.c\n",
      "gcc -g -Wall -O2 -I.  -c -o tbx.o tbx.c\n",
      "gcc -g -Wall -O2 -I.  -c -o vcf.o vcf.c\n",
      "gcc -g -Wall -O2 -I.  -c -o vcfutils.o vcfutils.c\n",
      "gcc -g -Wall -O2 -I.  -c -o cram/cram_codecs.o cram/cram_codecs.c\n",
      "gcc -g -Wall -O2 -I.  -c -o cram/cram_decode.o cram/cram_decode.c\n",
      "gcc -g -Wall -O2 -I.  -c -o cram/cram_encode.o cram/cram_encode.c\n",
      "gcc -g -Wall -O2 -I.  -c -o cram/cram_external.o cram/cram_external.c\n",
      "gcc -g -Wall -O2 -I.  -c -o cram/cram_index.o cram/cram_index.c\n",
      "gcc -g -Wall -O2 -I.  -c -o cram/cram_io.o cram/cram_io.c\n",
      "gcc -g -Wall -O2 -I.  -c -o cram/cram_samtools.o cram/cram_samtools.c\n",
      "gcc -g -Wall -O2 -I.  -c -o cram/cram_stats.o cram/cram_stats.c\n",
      "gcc -g -Wall -O2 -I.  -c -o cram/files.o cram/files.c\n",
      "gcc -g -Wall -O2 -I.  -c -o cram/mFILE.o cram/mFILE.c\n",
      "gcc -g -Wall -O2 -I.  -c -o cram/open_trace_file.o cram/open_trace_file.c\n",
      "gcc -g -Wall -O2 -I.  -c -o cram/pooled_alloc.o cram/pooled_alloc.c\n",
      "gcc -g -Wall -O2 -I.  -c -o cram/rANS_static.o cram/rANS_static.c\n",
      "gcc -g -Wall -O2 -I.  -c -o cram/sam_header.o cram/sam_header.c\n",
      "gcc -g -Wall -O2 -I.  -c -o cram/string_alloc.o cram/string_alloc.c\n",
      "gcc -g -Wall -O2 -I.  -c -o cram/thread_pool.o cram/thread_pool.c\n",
      "gcc -g -Wall -O2 -I.  -c -o cram/vlen.o cram/vlen.c\n",
      "gcc -g -Wall -O2 -I.  -c -o cram/zfio.o cram/zfio.c\n",
      "ar -rc libhts.a kfunc.o knetfile.o kstring.o bgzf.o faidx.o hfile.o hfile_net.o hts.o md5.o regidx.o sam.o synced_bcf_reader.o vcf_sweep.o tbx.o vcf.o vcfutils.o cram/cram_codecs.o cram/cram_decode.o cram/cram_encode.o cram/cram_external.o cram/cram_index.o cram/cram_io.o cram/cram_samtools.o cram/cram_stats.o cram/files.o cram/mFILE.o cram/open_trace_file.o cram/pooled_alloc.o cram/rANS_static.o cram/sam_header.o cram/string_alloc.o cram/thread_pool.o cram/vlen.o cram/zfio.o\n",
      "ranlib libhts.a\n",
      "make[2]: Leaving directory '/home/mfisher5/Downloads/stacks-1.44/htslib'\n",
      "Making all in .\n",
      "make[2]: Entering directory '/home/mfisher5/Downloads/stacks-1.44'\n",
      "g++ -std=gnu++11 -DHAVE_CONFIG_H -I.    -fopenmp  -g -O2 -MT src/ustacks-ustacks.o -MD -MP -MF src/.deps/ustacks-ustacks.Tpo -c -o src/ustacks-ustacks.o `test -f 'src/ustacks.cc' || echo './'`src/ustacks.cc\n",
      "mv -f src/.deps/ustacks-ustacks.Tpo src/.deps/ustacks-ustacks.Po\n",
      "g++ -std=gnu++11 -DHAVE_CONFIG_H -I.    -fopenmp  -g -O2 -MT src/ustacks-stacks.o -MD -MP -MF src/.deps/ustacks-stacks.Tpo -c -o src/ustacks-stacks.o `test -f 'src/stacks.cc' || echo './'`src/stacks.cc\n",
      "mv -f src/.deps/ustacks-stacks.Tpo src/.deps/ustacks-stacks.Po\n",
      "g++ -std=gnu++11 -DHAVE_CONFIG_H -I.    -fopenmp  -g -O2 -MT src/ustacks-mstack.o -MD -MP -MF src/.deps/ustacks-mstack.Tpo -c -o src/ustacks-mstack.o `test -f 'src/mstack.cc' || echo './'`src/mstack.cc\n",
      "mv -f src/.deps/ustacks-mstack.Tpo src/.deps/ustacks-mstack.Po\n",
      "g++ -std=gnu++11 -DHAVE_CONFIG_H -I.    -fopenmp  -g -O2 -MT src/ustacks-mst.o -MD -MP -MF src/.deps/ustacks-mst.Tpo -c -o src/ustacks-mst.o `test -f 'src/mst.cc' || echo './'`src/mst.cc\n",
      "mv -f src/.deps/ustacks-mst.Tpo src/.deps/ustacks-mst.Po\n",
      "g++ -std=gnu++11 -DHAVE_CONFIG_H -I.    -fopenmp  -g -O2 -MT src/ustacks-cmb.o -MD -MP -MF src/.deps/ustacks-cmb.Tpo -c -o src/ustacks-cmb.o `test -f 'src/cmb.cc' || echo './'`src/cmb.cc\n",
      "mv -f src/.deps/ustacks-cmb.Tpo src/.deps/ustacks-cmb.Po\n",
      "g++ -std=gnu++11 -DHAVE_CONFIG_H -I.    -fopenmp  -g -O2 -MT src/ustacks-DNASeq.o -MD -MP -MF src/.deps/ustacks-DNASeq.Tpo -c -o src/ustacks-DNASeq.o `test -f 'src/DNASeq.cc' || echo './'`src/DNASeq.cc\n",
      "mv -f src/.deps/ustacks-DNASeq.Tpo src/.deps/ustacks-DNASeq.Po\n",
      "g++ -std=gnu++11 -DHAVE_CONFIG_H -I.    -fopenmp  -g -O2 -MT src/ustacks-DNANSeq.o -MD -MP -MF src/.deps/ustacks-DNANSeq.Tpo -c -o src/ustacks-DNANSeq.o `test -f 'src/DNANSeq.cc' || echo './'`src/DNANSeq.cc\n",
      "mv -f src/.deps/ustacks-DNANSeq.Tpo src/.deps/ustacks-DNANSeq.Po\n",
      "g++ -std=gnu++11 -DHAVE_CONFIG_H -I.    -fopenmp  -g -O2 -MT src/ustacks-models.o -MD -MP -MF src/.deps/ustacks-models.Tpo -c -o src/ustacks-models.o `test -f 'src/models.cc' || echo './'`src/models.cc\n",
      "mv -f src/.deps/ustacks-models.Tpo src/.deps/ustacks-models.Po\n",
      "g++ -std=gnu++11 -DHAVE_CONFIG_H -I.    -fopenmp  -g -O2 -MT src/ustacks-utils.o -MD -MP -MF src/.deps/ustacks-utils.Tpo -c -o src/ustacks-utils.o `test -f 'src/utils.cc' || echo './'`src/utils.cc\n",
      "mv -f src/.deps/ustacks-utils.Tpo src/.deps/ustacks-utils.Po\n",
      "g++ -std=gnu++11 -DHAVE_CONFIG_H -I.    -fopenmp  -g -O2 -MT src/ustacks-kmers.o -MD -MP -MF src/.deps/ustacks-kmers.Tpo -c -o src/ustacks-kmers.o `test -f 'src/kmers.cc' || echo './'`src/kmers.cc\n",
      "mv -f src/.deps/ustacks-kmers.Tpo src/.deps/ustacks-kmers.Po\n",
      "g++ -std=gnu++11 -DHAVE_CONFIG_H -I.    -fopenmp  -g -O2 -MT src/ustacks-aln_utils.o -MD -MP -MF src/.deps/ustacks-aln_utils.Tpo -c -o src/ustacks-aln_utils.o `test -f 'src/aln_utils.cc' || echo './'`src/aln_utils.cc\n",
      "mv -f src/.deps/ustacks-aln_utils.Tpo src/.deps/ustacks-aln_utils.Po\n",
      "g++ -std=gnu++11 -DHAVE_CONFIG_H -I.    -fopenmp  -g -O2 -MT src/ustacks-input.o -MD -MP -MF src/.deps/ustacks-input.Tpo -c -o src/ustacks-input.o `test -f 'src/input.cc' || echo './'`src/input.cc\n",
      "mv -f src/.deps/ustacks-input.Tpo src/.deps/ustacks-input.Po\n",
      "g++ -std=gnu++11 -fopenmp  -g -O2 -fopenmp  -o ustacks src/ustacks-ustacks.o src/ustacks-stacks.o src/ustacks-mstack.o src/ustacks-mst.o src/ustacks-cmb.o src/ustacks-DNASeq.o src/ustacks-DNANSeq.o src/ustacks-models.o src/ustacks-utils.o src/ustacks-kmers.o src/ustacks-aln_utils.o src/ustacks-input.o  -lz -lgomp \n",
      "g++ -std=gnu++11 -DHAVE_CONFIG_H -I.    -fopenmp -I./htslib/htslib  -g -O2 -MT src/pstacks-pstacks.o -MD -MP -MF src/.deps/pstacks-pstacks.Tpo -c -o src/pstacks-pstacks.o `test -f 'src/pstacks.cc' || echo './'`src/pstacks.cc\n",
      "mv -f src/.deps/pstacks-pstacks.Tpo src/.deps/pstacks-pstacks.Po\n",
      "g++ -std=gnu++11 -DHAVE_CONFIG_H -I.    -fopenmp -I./htslib/htslib  -g -O2 -MT src/pstacks-stacks.o -MD -MP -MF src/.deps/pstacks-stacks.Tpo -c -o src/pstacks-stacks.o `test -f 'src/stacks.cc' || echo './'`src/stacks.cc\n",
      "mv -f src/.deps/pstacks-stacks.Tpo src/.deps/pstacks-stacks.Po\n",
      "g++ -std=gnu++11 -DHAVE_CONFIG_H -I.    -fopenmp -I./htslib/htslib  -g -O2 -MT src/pstacks-mstack.o -MD -MP -MF src/.deps/pstacks-mstack.Tpo -c -o src/pstacks-mstack.o `test -f 'src/mstack.cc' || echo './'`src/mstack.cc\n",
      "mv -f src/.deps/pstacks-mstack.Tpo src/.deps/pstacks-mstack.Po\n",
      "g++ -std=gnu++11 -DHAVE_CONFIG_H -I.    -fopenmp -I./htslib/htslib  -g -O2 -MT src/pstacks-DNANSeq.o -MD -MP -MF src/.deps/pstacks-DNANSeq.Tpo -c -o src/pstacks-DNANSeq.o `test -f 'src/DNANSeq.cc' || echo './'`src/DNANSeq.cc\n",
      "mv -f src/.deps/pstacks-DNANSeq.Tpo src/.deps/pstacks-DNANSeq.Po\n",
      "g++ -std=gnu++11 -DHAVE_CONFIG_H -I.    -fopenmp -I./htslib/htslib  -g -O2 -MT src/pstacks-DNASeq.o -MD -MP -MF src/.deps/pstacks-DNASeq.Tpo -c -o src/pstacks-DNASeq.o `test -f 'src/DNASeq.cc' || echo './'`src/DNASeq.cc\n",
      "mv -f src/.deps/pstacks-DNASeq.Tpo src/.deps/pstacks-DNASeq.Po\n",
      "g++ -std=gnu++11 -DHAVE_CONFIG_H -I.    -fopenmp -I./htslib/htslib  -g -O2 -MT src/pstacks-models.o -MD -MP -MF src/.deps/pstacks-models.Tpo -c -o src/pstacks-models.o `test -f 'src/models.cc' || echo './'`src/models.cc\n",
      "mv -f src/.deps/pstacks-models.Tpo src/.deps/pstacks-models.Po\n",
      "g++ -std=gnu++11 -DHAVE_CONFIG_H -I.    -fopenmp -I./htslib/htslib  -g -O2 -MT src/pstacks-utils.o -MD -MP -MF src/.deps/pstacks-utils.Tpo -c -o src/pstacks-utils.o `test -f 'src/utils.cc' || echo './'`src/utils.cc\n",
      "mv -f src/.deps/pstacks-utils.Tpo src/.deps/pstacks-utils.Po\n",
      "g++ -std=gnu++11 -DHAVE_CONFIG_H -I.    -fopenmp -I./htslib/htslib  -g -O2 -MT src/pstacks-input.o -MD -MP -MF src/.deps/pstacks-input.Tpo -c -o src/pstacks-input.o `test -f 'src/input.cc' || echo './'`src/input.cc\n",
      "mv -f src/.deps/pstacks-input.Tpo src/.deps/pstacks-input.Po\n",
      "g++ -std=gnu++11 -fopenmp -I./htslib/htslib  -g -O2 -fopenmp  -o pstacks src/pstacks-pstacks.o src/pstacks-stacks.o src/pstacks-mstack.o src/pstacks-DNANSeq.o src/pstacks-DNASeq.o src/pstacks-models.o src/pstacks-utils.o src/pstacks-input.o ./htslib/libhts.a -lz -lgomp \n",
      "g++ -std=gnu++11 -DHAVE_CONFIG_H -I.    -fopenmp  -g -O2 -MT src/estacks-estacks.o -MD -MP -MF src/.deps/estacks-estacks.Tpo -c -o src/estacks-estacks.o `test -f 'src/estacks.cc' || echo './'`src/estacks.cc\n",
      "mv -f src/.deps/estacks-estacks.Tpo src/.deps/estacks-estacks.Po\n",
      "g++ -std=gnu++11 -DHAVE_CONFIG_H -I.    -fopenmp  -g -O2 -MT src/estacks-stacks.o -MD -MP -MF src/.deps/estacks-stacks.Tpo -c -o src/estacks-stacks.o `test -f 'src/stacks.cc' || echo './'`src/stacks.cc\n",
      "mv -f src/.deps/estacks-stacks.Tpo src/.deps/estacks-stacks.Po\n",
      "g++ -std=gnu++11 -DHAVE_CONFIG_H -I.    -fopenmp  -g -O2 -MT src/estacks-mstack.o -MD -MP -MF src/.deps/estacks-mstack.Tpo -c -o src/estacks-mstack.o `test -f 'src/mstack.cc' || echo './'`src/mstack.cc\n",
      "mv -f src/.deps/estacks-mstack.Tpo src/.deps/estacks-mstack.Po\n",
      "g++ -std=gnu++11 -DHAVE_CONFIG_H -I.    -fopenmp  -g -O2 -MT src/estacks-models.o -MD -MP -MF src/.deps/estacks-models.Tpo -c -o src/estacks-models.o `test -f 'src/models.cc' || echo './'`src/models.cc\n",
      "mv -f src/.deps/estacks-models.Tpo src/.deps/estacks-models.Po\n",
      "g++ -std=gnu++11 -DHAVE_CONFIG_H -I.    -fopenmp  -g -O2 -MT src/estacks-utils.o -MD -MP -MF src/.deps/estacks-utils.Tpo -c -o src/estacks-utils.o `test -f 'src/utils.cc' || echo './'`src/utils.cc\n",
      "mv -f src/.deps/estacks-utils.Tpo src/.deps/estacks-utils.Po\n",
      "g++ -std=gnu++11 -DHAVE_CONFIG_H -I.    -fopenmp  -g -O2 -MT src/estacks-DNASeq.o -MD -MP -MF src/.deps/estacks-DNASeq.Tpo -c -o src/estacks-DNASeq.o `test -f 'src/DNASeq.cc' || echo './'`src/DNASeq.cc\n",
      "mv -f src/.deps/estacks-DNASeq.Tpo src/.deps/estacks-DNASeq.Po\n",
      "g++ -std=gnu++11 -DHAVE_CONFIG_H -I.    -fopenmp  -g -O2 -MT src/estacks-DNANSeq.o -MD -MP -MF src/.deps/estacks-DNANSeq.Tpo -c -o src/estacks-DNANSeq.o `test -f 'src/DNANSeq.cc' || echo './'`src/DNANSeq.cc\n",
      "mv -f src/.deps/estacks-DNANSeq.Tpo src/.deps/estacks-DNANSeq.Po\n",
      "g++ -std=gnu++11 -DHAVE_CONFIG_H -I.    -fopenmp  -g -O2 -MT src/estacks-input.o -MD -MP -MF src/.deps/estacks-input.Tpo -c -o src/estacks-input.o `test -f 'src/input.cc' || echo './'`src/input.cc\n",
      "mv -f src/.deps/estacks-input.Tpo src/.deps/estacks-input.Po\n",
      "g++ -std=gnu++11 -fopenmp  -g -O2 -fopenmp  -o estacks src/estacks-estacks.o src/estacks-stacks.o src/estacks-mstack.o src/estacks-models.o src/estacks-utils.o src/estacks-DNASeq.o src/estacks-DNANSeq.o src/estacks-input.o  -lz -lgomp \n",
      "g++ -std=gnu++11 -DHAVE_CONFIG_H -I.    -fopenmp  -g -O2 -MT src/cstacks-cstacks.o -MD -MP -MF src/.deps/cstacks-cstacks.Tpo -c -o src/cstacks-cstacks.o `test -f 'src/cstacks.cc' || echo './'`src/cstacks.cc\n",
      "mv -f src/.deps/cstacks-cstacks.Tpo src/.deps/cstacks-cstacks.Po\n",
      "g++ -std=gnu++11 -DHAVE_CONFIG_H -I.    -fopenmp  -g -O2 -MT src/cstacks-stacks.o -MD -MP -MF src/.deps/cstacks-stacks.Tpo -c -o src/cstacks-stacks.o `test -f 'src/stacks.cc' || echo './'`src/stacks.cc\n",
      "mv -f src/.deps/cstacks-stacks.Tpo src/.deps/cstacks-stacks.Po\n",
      "g++ -std=gnu++11 -DHAVE_CONFIG_H -I.    -fopenmp  -g -O2 -MT src/cstacks-locus.o -MD -MP -MF src/.deps/cstacks-locus.Tpo -c -o src/cstacks-locus.o `test -f 'src/locus.cc' || echo './'`src/locus.cc\n",
      "mv -f src/.deps/cstacks-locus.Tpo src/.deps/cstacks-locus.Po\n",
      "g++ -std=gnu++11 -DHAVE_CONFIG_H -I.    -fopenmp  -g -O2 -MT src/cstacks-kmers.o -MD -MP -MF src/.deps/cstacks-kmers.Tpo -c -o src/cstacks-kmers.o `test -f 'src/kmers.cc' || echo './'`src/kmers.cc\n",
      "mv -f src/.deps/cstacks-kmers.Tpo src/.deps/cstacks-kmers.Po\n",
      "g++ -std=gnu++11 -DHAVE_CONFIG_H -I.    -fopenmp  -g -O2 -MT src/cstacks-utils.o -MD -MP -MF src/.deps/cstacks-utils.Tpo -c -o src/cstacks-utils.o `test -f 'src/utils.cc' || echo './'`src/utils.cc\n",
      "mv -f src/.deps/cstacks-utils.Tpo src/.deps/cstacks-utils.Po\n",
      "g++ -std=gnu++11 -DHAVE_CONFIG_H -I.    -fopenmp  -g -O2 -MT src/cstacks-aln_utils.o -MD -MP -MF src/.deps/cstacks-aln_utils.Tpo -c -o src/cstacks-aln_utils.o `test -f 'src/aln_utils.cc' || echo './'`src/aln_utils.cc\n",
      "mv -f src/.deps/cstacks-aln_utils.Tpo src/.deps/cstacks-aln_utils.Po\n",
      "g++ -std=gnu++11 -DHAVE_CONFIG_H -I.    -fopenmp  -g -O2 -MT src/cstacks-DNASeq.o -MD -MP -MF src/.deps/cstacks-DNASeq.Tpo -c -o src/cstacks-DNASeq.o `test -f 'src/DNASeq.cc' || echo './'`src/DNASeq.cc\n",
      "mv -f src/.deps/cstacks-DNASeq.Tpo src/.deps/cstacks-DNASeq.Po\n",
      "g++ -std=gnu++11 -DHAVE_CONFIG_H -I.    -fopenmp  -g -O2 -MT src/cstacks-DNANSeq.o -MD -MP -MF src/.deps/cstacks-DNANSeq.Tpo -c -o src/cstacks-DNANSeq.o `test -f 'src/DNANSeq.cc' || echo './'`src/DNANSeq.cc\n",
      "mv -f src/.deps/cstacks-DNANSeq.Tpo src/.deps/cstacks-DNANSeq.Po\n",
      "g++ -std=gnu++11 -DHAVE_CONFIG_H -I.    -fopenmp  -g -O2 -MT src/cstacks-input.o -MD -MP -MF src/.deps/cstacks-input.Tpo -c -o src/cstacks-input.o `test -f 'src/input.cc' || echo './'`src/input.cc\n",
      "mv -f src/.deps/cstacks-input.Tpo src/.deps/cstacks-input.Po\n",
      "g++ -std=gnu++11 -DHAVE_CONFIG_H -I.    -fopenmp  -g -O2 -MT src/cstacks-sql_utilities.o -MD -MP -MF src/.deps/cstacks-sql_utilities.Tpo -c -o src/cstacks-sql_utilities.o `test -f 'src/sql_utilities.cc' || echo './'`src/sql_utilities.cc\n",
      "mv -f src/.deps/cstacks-sql_utilities.Tpo src/.deps/cstacks-sql_utilities.Po\n",
      "g++ -std=gnu++11 -fopenmp  -g -O2 -fopenmp  -o cstacks src/cstacks-cstacks.o src/cstacks-stacks.o src/cstacks-locus.o src/cstacks-kmers.o src/cstacks-utils.o src/cstacks-aln_utils.o src/cstacks-DNASeq.o src/cstacks-DNANSeq.o src/cstacks-input.o src/cstacks-sql_utilities.o  -lz -lgomp \n",
      "g++ -std=gnu++11 -DHAVE_CONFIG_H -I.    -fopenmp  -g -O2 -MT src/sstacks-sstacks.o -MD -MP -MF src/.deps/sstacks-sstacks.Tpo -c -o src/sstacks-sstacks.o `test -f 'src/sstacks.cc' || echo './'`src/sstacks.cc\n",
      "mv -f src/.deps/sstacks-sstacks.Tpo src/.deps/sstacks-sstacks.Po\n",
      "g++ -std=gnu++11 -DHAVE_CONFIG_H -I.    -fopenmp  -g -O2 -MT src/sstacks-stacks.o -MD -MP -MF src/.deps/sstacks-stacks.Tpo -c -o src/sstacks-stacks.o `test -f 'src/stacks.cc' || echo './'`src/stacks.cc\n",
      "mv -f src/.deps/sstacks-stacks.Tpo src/.deps/sstacks-stacks.Po\n",
      "g++ -std=gnu++11 -DHAVE_CONFIG_H -I.    -fopenmp  -g -O2 -MT src/sstacks-locus.o -MD -MP -MF src/.deps/sstacks-locus.Tpo -c -o src/sstacks-locus.o `test -f 'src/locus.cc' || echo './'`src/locus.cc\n",
      "mv -f src/.deps/sstacks-locus.Tpo src/.deps/sstacks-locus.Po\n",
      "g++ -std=gnu++11 -DHAVE_CONFIG_H -I.    -fopenmp  -g -O2 -MT src/sstacks-kmers.o -MD -MP -MF src/.deps/sstacks-kmers.Tpo -c -o src/sstacks-kmers.o `test -f 'src/kmers.cc' || echo './'`src/kmers.cc\n",
      "mv -f src/.deps/sstacks-kmers.Tpo src/.deps/sstacks-kmers.Po\n",
      "g++ -std=gnu++11 -DHAVE_CONFIG_H -I.    -fopenmp  -g -O2 -MT src/sstacks-aln_utils.o -MD -MP -MF src/.deps/sstacks-aln_utils.Tpo -c -o src/sstacks-aln_utils.o `test -f 'src/aln_utils.cc' || echo './'`src/aln_utils.cc\n",
      "mv -f src/.deps/sstacks-aln_utils.Tpo src/.deps/sstacks-aln_utils.Po\n",
      "g++ -std=gnu++11 -DHAVE_CONFIG_H -I.    -fopenmp  -g -O2 -MT src/sstacks-DNASeq.o -MD -MP -MF src/.deps/sstacks-DNASeq.Tpo -c -o src/sstacks-DNASeq.o `test -f 'src/DNASeq.cc' || echo './'`src/DNASeq.cc\n",
      "mv -f src/.deps/sstacks-DNASeq.Tpo src/.deps/sstacks-DNASeq.Po\n",
      "g++ -std=gnu++11 -DHAVE_CONFIG_H -I.    -fopenmp  -g -O2 -MT src/sstacks-DNANSeq.o -MD -MP -MF src/.deps/sstacks-DNANSeq.Tpo -c -o src/sstacks-DNANSeq.o `test -f 'src/DNANSeq.cc' || echo './'`src/DNANSeq.cc\n",
      "mv -f src/.deps/sstacks-DNANSeq.Tpo src/.deps/sstacks-DNANSeq.Po\n",
      "g++ -std=gnu++11 -DHAVE_CONFIG_H -I.    -fopenmp  -g -O2 -MT src/sstacks-utils.o -MD -MP -MF src/.deps/sstacks-utils.Tpo -c -o src/sstacks-utils.o `test -f 'src/utils.cc' || echo './'`src/utils.cc\n",
      "mv -f src/.deps/sstacks-utils.Tpo src/.deps/sstacks-utils.Po\n",
      "g++ -std=gnu++11 -DHAVE_CONFIG_H -I.    -fopenmp  -g -O2 -MT src/sstacks-input.o -MD -MP -MF src/.deps/sstacks-input.Tpo -c -o src/sstacks-input.o `test -f 'src/input.cc' || echo './'`src/input.cc\n",
      "mv -f src/.deps/sstacks-input.Tpo src/.deps/sstacks-input.Po\n",
      "g++ -std=gnu++11 -DHAVE_CONFIG_H -I.    -fopenmp  -g -O2 -MT src/sstacks-sql_utilities.o -MD -MP -MF src/.deps/sstacks-sql_utilities.Tpo -c -o src/sstacks-sql_utilities.o `test -f 'src/sql_utilities.cc' || echo './'`src/sql_utilities.cc\n",
      "mv -f src/.deps/sstacks-sql_utilities.Tpo src/.deps/sstacks-sql_utilities.Po\n",
      "g++ -std=gnu++11 -fopenmp  -g -O2 -fopenmp  -o sstacks src/sstacks-sstacks.o src/sstacks-stacks.o src/sstacks-locus.o src/sstacks-kmers.o src/sstacks-aln_utils.o src/sstacks-DNASeq.o src/sstacks-DNANSeq.o src/sstacks-utils.o src/sstacks-input.o src/sstacks-sql_utilities.o  -lz -lgomp \n",
      "g++ -std=gnu++11 -DHAVE_CONFIG_H -I.    -fopenmp  -g -O2 -MT src/rxstacks-rxstacks.o -MD -MP -MF src/.deps/rxstacks-rxstacks.Tpo -c -o src/rxstacks-rxstacks.o `test -f 'src/rxstacks.cc' || echo './'`src/rxstacks.cc\n",
      "mv -f src/.deps/rxstacks-rxstacks.Tpo src/.deps/rxstacks-rxstacks.Po\n",
      "g++ -std=gnu++11 -DHAVE_CONFIG_H -I.    -fopenmp  -g -O2 -MT src/rxstacks-stacks.o -MD -MP -MF src/.deps/rxstacks-stacks.Tpo -c -o src/rxstacks-stacks.o `test -f 'src/stacks.cc' || echo './'`src/stacks.cc\n",
      "mv -f src/.deps/rxstacks-stacks.Tpo src/.deps/rxstacks-stacks.Po\n",
      "g++ -std=gnu++11 -DHAVE_CONFIG_H -I.    -fopenmp  -g -O2 -MT src/rxstacks-locus.o -MD -MP -MF src/.deps/rxstacks-locus.Tpo -c -o src/rxstacks-locus.o `test -f 'src/locus.cc' || echo './'`src/locus.cc\n",
      "mv -f src/.deps/rxstacks-locus.Tpo src/.deps/rxstacks-locus.Po\n",
      "g++ -std=gnu++11 -DHAVE_CONFIG_H -I.    -fopenmp  -g -O2 -MT src/rxstacks-DNANSeq.o -MD -MP -MF src/.deps/rxstacks-DNANSeq.Tpo -c -o src/rxstacks-DNANSeq.o `test -f 'src/DNANSeq.cc' || echo './'`src/DNANSeq.cc\n",
      "mv -f src/.deps/rxstacks-DNANSeq.Tpo src/.deps/rxstacks-DNANSeq.Po\n",
      "g++ -std=gnu++11 -DHAVE_CONFIG_H -I.    -fopenmp  -g -O2 -MT src/rxstacks-DNASeq.o -MD -MP -MF src/.deps/rxstacks-DNASeq.Tpo -c -o src/rxstacks-DNASeq.o `test -f 'src/DNASeq.cc' || echo './'`src/DNASeq.cc\n",
      "mv -f src/.deps/rxstacks-DNASeq.Tpo src/.deps/rxstacks-DNASeq.Po\n",
      "g++ -std=gnu++11 -DHAVE_CONFIG_H -I.    -fopenmp  -g -O2 -MT src/rxstacks-mst.o -MD -MP -MF src/.deps/rxstacks-mst.Tpo -c -o src/rxstacks-mst.o `test -f 'src/mst.cc' || echo './'`src/mst.cc\n",
      "mv -f src/.deps/rxstacks-mst.Tpo src/.deps/rxstacks-mst.Po\n",
      "g++ -std=gnu++11 -DHAVE_CONFIG_H -I.    -fopenmp  -g -O2 -MT src/rxstacks-models.o -MD -MP -MF src/.deps/rxstacks-models.Tpo -c -o src/rxstacks-models.o `test -f 'src/models.cc' || echo './'`src/models.cc\n",
      "mv -f src/.deps/rxstacks-models.Tpo src/.deps/rxstacks-models.Po\n",
      "g++ -std=gnu++11 -DHAVE_CONFIG_H -I.    -fopenmp  -g -O2 -MT src/rxstacks-aln_utils.o -MD -MP -MF src/.deps/rxstacks-aln_utils.Tpo -c -o src/rxstacks-aln_utils.o `test -f 'src/aln_utils.cc' || echo './'`src/aln_utils.cc\n",
      "mv -f src/.deps/rxstacks-aln_utils.Tpo src/.deps/rxstacks-aln_utils.Po\n",
      "g++ -std=gnu++11 -DHAVE_CONFIG_H -I.    -fopenmp  -g -O2 -MT src/rxstacks-utils.o -MD -MP -MF src/.deps/rxstacks-utils.Tpo -c -o src/rxstacks-utils.o `test -f 'src/utils.cc' || echo './'`src/utils.cc\n",
      "mv -f src/.deps/rxstacks-utils.Tpo src/.deps/rxstacks-utils.Po\n",
      "g++ -std=gnu++11 -DHAVE_CONFIG_H -I.    -fopenmp  -g -O2 -MT src/rxstacks-input.o -MD -MP -MF src/.deps/rxstacks-input.Tpo -c -o src/rxstacks-input.o `test -f 'src/input.cc' || echo './'`src/input.cc\n",
      "mv -f src/.deps/rxstacks-input.Tpo src/.deps/rxstacks-input.Po\n",
      "g++ -std=gnu++11 -DHAVE_CONFIG_H -I.    -fopenmp  -g -O2 -MT src/rxstacks-sql_utilities.o -MD -MP -MF src/.deps/rxstacks-sql_utilities.Tpo -c -o src/rxstacks-sql_utilities.o `test -f 'src/sql_utilities.cc' || echo './'`src/sql_utilities.cc\n",
      "mv -f src/.deps/rxstacks-sql_utilities.Tpo src/.deps/rxstacks-sql_utilities.Po\n",
      "g++ -std=gnu++11 -DHAVE_CONFIG_H -I.    -fopenmp  -g -O2 -MT src/rxstacks-MetaPopInfo.o -MD -MP -MF src/.deps/rxstacks-MetaPopInfo.Tpo -c -o src/rxstacks-MetaPopInfo.o `test -f 'src/MetaPopInfo.cc' || echo './'`src/MetaPopInfo.cc\n",
      "mv -f src/.deps/rxstacks-MetaPopInfo.Tpo src/.deps/rxstacks-MetaPopInfo.Po\n",
      "g++ -std=gnu++11 -fopenmp  -g -O2 -fopenmp  -o rxstacks src/rxstacks-rxstacks.o src/rxstacks-stacks.o src/rxstacks-locus.o src/rxstacks-DNANSeq.o src/rxstacks-DNASeq.o src/rxstacks-mst.o src/rxstacks-models.o src/rxstacks-aln_utils.o src/rxstacks-utils.o src/rxstacks-input.o src/rxstacks-sql_utilities.o src/rxstacks-MetaPopInfo.o  -lz -lgomp \n",
      "g++ -std=gnu++11 -DHAVE_CONFIG_H -I.    -fopenmp  -g -O2 -MT src/hstacks-hstacks.o -MD -MP -MF src/.deps/hstacks-hstacks.Tpo -c -o src/hstacks-hstacks.o `test -f 'src/hstacks.cc' || echo './'`src/hstacks.cc\n",
      "mv -f src/.deps/hstacks-hstacks.Tpo src/.deps/hstacks-hstacks.Po\n",
      "g++ -std=gnu++11 -DHAVE_CONFIG_H -I.    -fopenmp  -g -O2 -MT src/hstacks-stacks.o -MD -MP -MF src/.deps/hstacks-stacks.Tpo -c -o src/hstacks-stacks.o `test -f 'src/stacks.cc' || echo './'`src/stacks.cc\n",
      "mv -f src/.deps/hstacks-stacks.Tpo src/.deps/hstacks-stacks.Po\n",
      "g++ -std=gnu++11 -DHAVE_CONFIG_H -I.    -fopenmp  -g -O2 -MT src/hstacks-locus.o -MD -MP -MF src/.deps/hstacks-locus.Tpo -c -o src/hstacks-locus.o `test -f 'src/locus.cc' || echo './'`src/locus.cc\n",
      "mv -f src/.deps/hstacks-locus.Tpo src/.deps/hstacks-locus.Po\n",
      "g++ -std=gnu++11 -DHAVE_CONFIG_H -I.    -fopenmp  -g -O2 -MT src/hstacks-kmers.o -MD -MP -MF src/.deps/hstacks-kmers.Tpo -c -o src/hstacks-kmers.o `test -f 'src/kmers.cc' || echo './'`src/kmers.cc\n",
      "mv -f src/.deps/hstacks-kmers.Tpo src/.deps/hstacks-kmers.Po\n",
      "g++ -std=gnu++11 -DHAVE_CONFIG_H -I.    -fopenmp  -g -O2 -MT src/hstacks-DNASeq.o -MD -MP -MF src/.deps/hstacks-DNASeq.Tpo -c -o src/hstacks-DNASeq.o `test -f 'src/DNASeq.cc' || echo './'`src/DNASeq.cc\n",
      "mv -f src/.deps/hstacks-DNASeq.Tpo src/.deps/hstacks-DNASeq.Po\n",
      "g++ -std=gnu++11 -DHAVE_CONFIG_H -I.    -fopenmp  -g -O2 -MT src/hstacks-DNANSeq.o -MD -MP -MF src/.deps/hstacks-DNANSeq.Tpo -c -o src/hstacks-DNANSeq.o `test -f 'src/DNANSeq.cc' || echo './'`src/DNANSeq.cc\n",
      "mv -f src/.deps/hstacks-DNANSeq.Tpo src/.deps/hstacks-DNANSeq.Po\n",
      "g++ -std=gnu++11 -DHAVE_CONFIG_H -I.    -fopenmp  -g -O2 -MT src/hstacks-utils.o -MD -MP -MF src/.deps/hstacks-utils.Tpo -c -o src/hstacks-utils.o `test -f 'src/utils.cc' || echo './'`src/utils.cc\n",
      "mv -f src/.deps/hstacks-utils.Tpo src/.deps/hstacks-utils.Po\n",
      "g++ -std=gnu++11 -DHAVE_CONFIG_H -I.    -fopenmp  -g -O2 -MT src/hstacks-input.o -MD -MP -MF src/.deps/hstacks-input.Tpo -c -o src/hstacks-input.o `test -f 'src/input.cc' || echo './'`src/input.cc\n",
      "mv -f src/.deps/hstacks-input.Tpo src/.deps/hstacks-input.Po\n",
      "g++ -std=gnu++11 -DHAVE_CONFIG_H -I.    -fopenmp  -g -O2 -MT src/hstacks-sql_utilities.o -MD -MP -MF src/.deps/hstacks-sql_utilities.Tpo -c -o src/hstacks-sql_utilities.o `test -f 'src/sql_utilities.cc' || echo './'`src/sql_utilities.cc\n",
      "mv -f src/.deps/hstacks-sql_utilities.Tpo src/.deps/hstacks-sql_utilities.Po\n",
      "g++ -std=gnu++11 -fopenmp  -g -O2 -fopenmp  -o hstacks src/hstacks-hstacks.o src/hstacks-stacks.o src/hstacks-locus.o src/hstacks-kmers.o src/hstacks-DNASeq.o src/hstacks-DNANSeq.o src/hstacks-utils.o src/hstacks-input.o src/hstacks-sql_utilities.o  -lz -lgomp \n",
      "g++ -std=gnu++11 -DHAVE_CONFIG_H -I.    -fopenmp  -I./htslib/htslib  -g -O2 -MT src/process_radtags-process_radtags.o -MD -MP -MF src/.deps/process_radtags-process_radtags.Tpo -c -o src/process_radtags-process_radtags.o `test -f 'src/process_radtags.cc' || echo './'`src/process_radtags.cc\n",
      "mv -f src/.deps/process_radtags-process_radtags.Tpo src/.deps/process_radtags-process_radtags.Po\n",
      "g++ -std=gnu++11 -DHAVE_CONFIG_H -I.    -fopenmp  -I./htslib/htslib  -g -O2 -MT src/process_radtags-utils.o -MD -MP -MF src/.deps/process_radtags-utils.Tpo -c -o src/process_radtags-utils.o `test -f 'src/utils.cc' || echo './'`src/utils.cc\n",
      "mv -f src/.deps/process_radtags-utils.Tpo src/.deps/process_radtags-utils.Po\n",
      "g++ -std=gnu++11 -DHAVE_CONFIG_H -I.    -fopenmp  -I./htslib/htslib  -g -O2 -MT src/process_radtags-log_utils.o -MD -MP -MF src/.deps/process_radtags-log_utils.Tpo -c -o src/process_radtags-log_utils.o `test -f 'src/log_utils.cc' || echo './'`src/log_utils.cc\n",
      "mv -f src/.deps/process_radtags-log_utils.Tpo src/.deps/process_radtags-log_utils.Po\n",
      "g++ -std=gnu++11 -DHAVE_CONFIG_H -I.    -fopenmp  -I./htslib/htslib  -g -O2 -MT src/process_radtags-write.o -MD -MP -MF src/.deps/process_radtags-write.Tpo -c -o src/process_radtags-write.o `test -f 'src/write.cc' || echo './'`src/write.cc\n",
      "mv -f src/.deps/process_radtags-write.Tpo src/.deps/process_radtags-write.Po\n",
      "g++ -std=gnu++11 -DHAVE_CONFIG_H -I.    -fopenmp  -I./htslib/htslib  -g -O2 -MT src/process_radtags-clean.o -MD -MP -MF src/.deps/process_radtags-clean.Tpo -c -o src/process_radtags-clean.o `test -f 'src/clean.cc' || echo './'`src/clean.cc\n",
      "mv -f src/.deps/process_radtags-clean.Tpo src/.deps/process_radtags-clean.Po\n",
      "g++ -std=gnu++11 -DHAVE_CONFIG_H -I.    -fopenmp  -I./htslib/htslib  -g -O2 -MT src/process_radtags-file_io.o -MD -MP -MF src/.deps/process_radtags-file_io.Tpo -c -o src/process_radtags-file_io.o `test -f 'src/file_io.cc' || echo './'`src/file_io.cc\n",
      "mv -f src/.deps/process_radtags-file_io.Tpo src/.deps/process_radtags-file_io.Po\n",
      "g++ -std=gnu++11 -DHAVE_CONFIG_H -I.    -fopenmp  -I./htslib/htslib  -g -O2 -MT src/process_radtags-input.o -MD -MP -MF src/.deps/process_radtags-input.Tpo -c -o src/process_radtags-input.o `test -f 'src/input.cc' || echo './'`src/input.cc\n",
      "mv -f src/.deps/process_radtags-input.Tpo src/.deps/process_radtags-input.Po\n",
      "g++ -std=gnu++11 -DHAVE_CONFIG_H -I.    -fopenmp  -I./htslib/htslib  -g -O2 -MT src/process_radtags-renz.o -MD -MP -MF src/.deps/process_radtags-renz.Tpo -c -o src/process_radtags-renz.o `test -f 'src/renz.cc' || echo './'`src/renz.cc\n",
      "mv -f src/.deps/process_radtags-renz.Tpo src/.deps/process_radtags-renz.Po\n",
      "g++ -std=gnu++11 -fopenmp  -I./htslib/htslib  -g -O2 -fopenmp  -o process_radtags src/process_radtags-process_radtags.o src/process_radtags-utils.o src/process_radtags-log_utils.o src/process_radtags-write.o src/process_radtags-clean.o src/process_radtags-file_io.o src/process_radtags-input.o src/process_radtags-renz.o ./htslib/libhts.a -lz -lgomp \n",
      "g++ -std=gnu++11 -DHAVE_CONFIG_H -I.    -fopenmp  -I./htslib/htslib  -g -O2 -MT src/process_shortreads-process_shortreads.o -MD -MP -MF src/.deps/process_shortreads-process_shortreads.Tpo -c -o src/process_shortreads-process_shortreads.o `test -f 'src/process_shortreads.cc' || echo './'`src/process_shortreads.cc\n",
      "mv -f src/.deps/process_shortreads-process_shortreads.Tpo src/.deps/process_shortreads-process_shortreads.Po\n",
      "g++ -std=gnu++11 -DHAVE_CONFIG_H -I.    -fopenmp  -I./htslib/htslib  -g -O2 -MT src/process_shortreads-clean.o -MD -MP -MF src/.deps/process_shortreads-clean.Tpo -c -o src/process_shortreads-clean.o `test -f 'src/clean.cc' || echo './'`src/clean.cc\n",
      "mv -f src/.deps/process_shortreads-clean.Tpo src/.deps/process_shortreads-clean.Po\n",
      "g++ -std=gnu++11 -DHAVE_CONFIG_H -I.    -fopenmp  -I./htslib/htslib  -g -O2 -MT src/process_shortreads-file_io.o -MD -MP -MF src/.deps/process_shortreads-file_io.Tpo -c -o src/process_shortreads-file_io.o `test -f 'src/file_io.cc' || echo './'`src/file_io.cc\n",
      "mv -f src/.deps/process_shortreads-file_io.Tpo src/.deps/process_shortreads-file_io.Po\n",
      "g++ -std=gnu++11 -DHAVE_CONFIG_H -I.    -fopenmp  -I./htslib/htslib  -g -O2 -MT src/process_shortreads-utils.o -MD -MP -MF src/.deps/process_shortreads-utils.Tpo -c -o src/process_shortreads-utils.o `test -f 'src/utils.cc' || echo './'`src/utils.cc\n",
      "mv -f src/.deps/process_shortreads-utils.Tpo src/.deps/process_shortreads-utils.Po\n",
      "g++ -std=gnu++11 -DHAVE_CONFIG_H -I.    -fopenmp  -I./htslib/htslib  -g -O2 -MT src/process_shortreads-log_utils.o -MD -MP -MF src/.deps/process_shortreads-log_utils.Tpo -c -o src/process_shortreads-log_utils.o `test -f 'src/log_utils.cc' || echo './'`src/log_utils.cc\n",
      "mv -f src/.deps/process_shortreads-log_utils.Tpo src/.deps/process_shortreads-log_utils.Po\n",
      "g++ -std=gnu++11 -DHAVE_CONFIG_H -I.    -fopenmp  -I./htslib/htslib  -g -O2 -MT src/process_shortreads-write.o -MD -MP -MF src/.deps/process_shortreads-write.Tpo -c -o src/process_shortreads-write.o `test -f 'src/write.cc' || echo './'`src/write.cc\n",
      "mv -f src/.deps/process_shortreads-write.Tpo src/.deps/process_shortreads-write.Po\n",
      "g++ -std=gnu++11 -DHAVE_CONFIG_H -I.    -fopenmp  -I./htslib/htslib  -g -O2 -MT src/process_shortreads-kmers.o -MD -MP -MF src/.deps/process_shortreads-kmers.Tpo -c -o src/process_shortreads-kmers.o `test -f 'src/kmers.cc' || echo './'`src/kmers.cc\n",
      "mv -f src/.deps/process_shortreads-kmers.Tpo src/.deps/process_shortreads-kmers.Po\n",
      "g++ -std=gnu++11 -DHAVE_CONFIG_H -I.    -fopenmp  -I./htslib/htslib  -g -O2 -MT src/process_shortreads-input.o -MD -MP -MF src/.deps/process_shortreads-input.Tpo -c -o src/process_shortreads-input.o `test -f 'src/input.cc' || echo './'`src/input.cc\n",
      "mv -f src/.deps/process_shortreads-input.Tpo src/.deps/process_shortreads-input.Po\n",
      "g++ -std=gnu++11 -fopenmp  -I./htslib/htslib  -g -O2 -fopenmp  -o process_shortreads src/process_shortreads-process_shortreads.o src/process_shortreads-clean.o src/process_shortreads-file_io.o src/process_shortreads-utils.o src/process_shortreads-log_utils.o src/process_shortreads-write.o src/process_shortreads-kmers.o src/process_shortreads-input.o ./htslib/libhts.a -lz -lgomp \n",
      "g++ -std=gnu++11 -DHAVE_CONFIG_H -I.    -fopenmp  -g -O2 -MT src/kmer_filter-kmer_filter.o -MD -MP -MF src/.deps/kmer_filter-kmer_filter.Tpo -c -o src/kmer_filter-kmer_filter.o `test -f 'src/kmer_filter.cc' || echo './'`src/kmer_filter.cc\n",
      "mv -f src/.deps/kmer_filter-kmer_filter.Tpo src/.deps/kmer_filter-kmer_filter.Po\n",
      "g++ -std=gnu++11 -DHAVE_CONFIG_H -I.    -fopenmp  -g -O2 -MT src/kmer_filter-utils.o -MD -MP -MF src/.deps/kmer_filter-utils.Tpo -c -o src/kmer_filter-utils.o `test -f 'src/utils.cc' || echo './'`src/utils.cc\n",
      "mv -f src/.deps/kmer_filter-utils.Tpo src/.deps/kmer_filter-utils.Po\n",
      "g++ -std=gnu++11 -DHAVE_CONFIG_H -I.    -fopenmp  -g -O2 -MT src/kmer_filter-write.o -MD -MP -MF src/.deps/kmer_filter-write.Tpo -c -o src/kmer_filter-write.o `test -f 'src/write.cc' || echo './'`src/write.cc\n",
      "mv -f src/.deps/kmer_filter-write.Tpo src/.deps/kmer_filter-write.Po\n",
      "g++ -std=gnu++11 -DHAVE_CONFIG_H -I.    -fopenmp  -g -O2 -MT src/kmer_filter-kmers.o -MD -MP -MF src/.deps/kmer_filter-kmers.Tpo -c -o src/kmer_filter-kmers.o `test -f 'src/kmers.cc' || echo './'`src/kmers.cc\n",
      "mv -f src/.deps/kmer_filter-kmers.Tpo src/.deps/kmer_filter-kmers.Po\n",
      "g++ -std=gnu++11 -DHAVE_CONFIG_H -I.    -fopenmp  -g -O2 -MT src/kmer_filter-input.o -MD -MP -MF src/.deps/kmer_filter-input.Tpo -c -o src/kmer_filter-input.o `test -f 'src/input.cc' || echo './'`src/input.cc\n",
      "mv -f src/.deps/kmer_filter-input.Tpo src/.deps/kmer_filter-input.Po\n",
      "g++ -std=gnu++11 -fopenmp  -g -O2 -fopenmp  -o kmer_filter src/kmer_filter-kmer_filter.o src/kmer_filter-utils.o src/kmer_filter-write.o src/kmer_filter-kmers.o src/kmer_filter-input.o  -lz -lgomp \n",
      "g++ -std=gnu++11 -DHAVE_CONFIG_H -I.    -fopenmp  -I./htslib/htslib -g -O2 -MT src/clone_filter-clone_filter.o -MD -MP -MF src/.deps/clone_filter-clone_filter.Tpo -c -o src/clone_filter-clone_filter.o `test -f 'src/clone_filter.cc' || echo './'`src/clone_filter.cc\n",
      "mv -f src/.deps/clone_filter-clone_filter.Tpo src/.deps/clone_filter-clone_filter.Po\n",
      "g++ -std=gnu++11 -DHAVE_CONFIG_H -I.    -fopenmp  -I./htslib/htslib -g -O2 -MT src/clone_filter-kmers.o -MD -MP -MF src/.deps/clone_filter-kmers.Tpo -c -o src/clone_filter-kmers.o `test -f 'src/kmers.cc' || echo './'`src/kmers.cc\n",
      "mv -f src/.deps/clone_filter-kmers.Tpo src/.deps/clone_filter-kmers.Po\n",
      "g++ -std=gnu++11 -DHAVE_CONFIG_H -I.    -fopenmp  -I./htslib/htslib -g -O2 -MT src/clone_filter-utils.o -MD -MP -MF src/.deps/clone_filter-utils.Tpo -c -o src/clone_filter-utils.o `test -f 'src/utils.cc' || echo './'`src/utils.cc\n",
      "mv -f src/.deps/clone_filter-utils.Tpo src/.deps/clone_filter-utils.Po\n",
      "g++ -std=gnu++11 -DHAVE_CONFIG_H -I.    -fopenmp  -I./htslib/htslib -g -O2 -MT src/clone_filter-write.o -MD -MP -MF src/.deps/clone_filter-write.Tpo -c -o src/clone_filter-write.o `test -f 'src/write.cc' || echo './'`src/write.cc\n",
      "mv -f src/.deps/clone_filter-write.Tpo src/.deps/clone_filter-write.Po\n",
      "g++ -std=gnu++11 -DHAVE_CONFIG_H -I.    -fopenmp  -I./htslib/htslib -g -O2 -MT src/clone_filter-clean.o -MD -MP -MF src/.deps/clone_filter-clean.Tpo -c -o src/clone_filter-clean.o `test -f 'src/clean.cc' || echo './'`src/clean.cc\n",
      "mv -f src/.deps/clone_filter-clean.Tpo src/.deps/clone_filter-clean.Po\n",
      "g++ -std=gnu++11 -DHAVE_CONFIG_H -I.    -fopenmp  -I./htslib/htslib -g -O2 -MT src/clone_filter-file_io.o -MD -MP -MF src/.deps/clone_filter-file_io.Tpo -c -o src/clone_filter-file_io.o `test -f 'src/file_io.cc' || echo './'`src/file_io.cc\n",
      "mv -f src/.deps/clone_filter-file_io.Tpo src/.deps/clone_filter-file_io.Po\n",
      "g++ -std=gnu++11 -DHAVE_CONFIG_H -I.    -fopenmp  -I./htslib/htslib -g -O2 -MT src/clone_filter-input.o -MD -MP -MF src/.deps/clone_filter-input.Tpo -c -o src/clone_filter-input.o `test -f 'src/input.cc' || echo './'`src/input.cc\n",
      "mv -f src/.deps/clone_filter-input.Tpo src/.deps/clone_filter-input.Po\n",
      "g++ -std=gnu++11 -fopenmp  -I./htslib/htslib -g -O2 -fopenmp  -o clone_filter src/clone_filter-clone_filter.o src/clone_filter-kmers.o src/clone_filter-utils.o src/clone_filter-write.o src/clone_filter-clean.o src/clone_filter-file_io.o src/clone_filter-input.o ./htslib/libhts.a -lz -lgomp \n",
      "g++ -std=gnu++11 -DHAVE_CONFIG_H -I.    -fopenmp  -g -O2 -MT src/genotypes-genotypes.o -MD -MP -MF src/.deps/genotypes-genotypes.Tpo -c -o src/genotypes-genotypes.o `test -f 'src/genotypes.cc' || echo './'`src/genotypes.cc\n",
      "mv -f src/.deps/genotypes-genotypes.Tpo src/.deps/genotypes-genotypes.Po\n",
      "g++ -std=gnu++11 -DHAVE_CONFIG_H -I.    -fopenmp  -g -O2 -MT src/genotypes-utils.o -MD -MP -MF src/.deps/genotypes-utils.Tpo -c -o src/genotypes-utils.o `test -f 'src/utils.cc' || echo './'`src/utils.cc\n",
      "mv -f src/.deps/genotypes-utils.Tpo src/.deps/genotypes-utils.Po\n",
      "g++ -std=gnu++11 -DHAVE_CONFIG_H -I.    -fopenmp  -g -O2 -MT src/genotypes-catalog_utils.o -MD -MP -MF src/.deps/genotypes-catalog_utils.Tpo -c -o src/genotypes-catalog_utils.o `test -f 'src/catalog_utils.cc' || echo './'`src/catalog_utils.cc\n",
      "mv -f src/.deps/genotypes-catalog_utils.Tpo src/.deps/genotypes-catalog_utils.Po\n",
      "g++ -std=gnu++11 -DHAVE_CONFIG_H -I.    -fopenmp  -g -O2 -MT src/genotypes-log_utils.o -MD -MP -MF src/.deps/genotypes-log_utils.Tpo -c -o src/genotypes-log_utils.o `test -f 'src/log_utils.cc' || echo './'`src/log_utils.cc\n",
      "mv -f src/.deps/genotypes-log_utils.Tpo src/.deps/genotypes-log_utils.Po\n",
      "g++ -std=gnu++11 -DHAVE_CONFIG_H -I.    -fopenmp  -g -O2 -MT src/genotypes-stacks.o -MD -MP -MF src/.deps/genotypes-stacks.Tpo -c -o src/genotypes-stacks.o `test -f 'src/stacks.cc' || echo './'`src/stacks.cc\n",
      "mv -f src/.deps/genotypes-stacks.Tpo src/.deps/genotypes-stacks.Po\n",
      "g++ -std=gnu++11 -DHAVE_CONFIG_H -I.    -fopenmp  -g -O2 -MT src/genotypes-locus.o -MD -MP -MF src/.deps/genotypes-locus.Tpo -c -o src/genotypes-locus.o `test -f 'src/locus.cc' || echo './'`src/locus.cc\n",
      "mv -f src/.deps/genotypes-locus.Tpo src/.deps/genotypes-locus.Po\n",
      "g++ -std=gnu++11 -DHAVE_CONFIG_H -I.    -fopenmp  -g -O2 -MT src/genotypes-DNASeq.o -MD -MP -MF src/.deps/genotypes-DNASeq.Tpo -c -o src/genotypes-DNASeq.o `test -f 'src/DNASeq.cc' || echo './'`src/DNASeq.cc\n",
      "mv -f src/.deps/genotypes-DNASeq.Tpo src/.deps/genotypes-DNASeq.Po\n",
      "g++ -std=gnu++11 -DHAVE_CONFIG_H -I.    -fopenmp  -g -O2 -MT src/genotypes-DNANSeq.o -MD -MP -MF src/.deps/genotypes-DNANSeq.Tpo -c -o src/genotypes-DNANSeq.o `test -f 'src/DNANSeq.cc' || echo './'`src/DNANSeq.cc\n",
      "mv -f src/.deps/genotypes-DNANSeq.Tpo src/.deps/genotypes-DNANSeq.Po\n",
      "g++ -std=gnu++11 -DHAVE_CONFIG_H -I.    -fopenmp  -g -O2 -MT src/genotypes-aln_utils.o -MD -MP -MF src/.deps/genotypes-aln_utils.Tpo -c -o src/genotypes-aln_utils.o `test -f 'src/aln_utils.cc' || echo './'`src/aln_utils.cc\n",
      "mv -f src/.deps/genotypes-aln_utils.Tpo src/.deps/genotypes-aln_utils.Po\n",
      "g++ -std=gnu++11 -DHAVE_CONFIG_H -I.    -fopenmp  -g -O2 -MT src/genotypes-genotype_dictionaries.o -MD -MP -MF src/.deps/genotypes-genotype_dictionaries.Tpo -c -o src/genotypes-genotype_dictionaries.o `test -f 'src/genotype_dictionaries.cc' || echo './'`src/genotype_dictionaries.cc\n",
      "mv -f src/.deps/genotypes-genotype_dictionaries.Tpo src/.deps/genotypes-genotype_dictionaries.Po\n",
      "g++ -std=gnu++11 -DHAVE_CONFIG_H -I.    -fopenmp  -g -O2 -MT src/genotypes-input.o -MD -MP -MF src/.deps/genotypes-input.Tpo -c -o src/genotypes-input.o `test -f 'src/input.cc' || echo './'`src/input.cc\n",
      "mv -f src/.deps/genotypes-input.Tpo src/.deps/genotypes-input.Po\n",
      "g++ -std=gnu++11 -DHAVE_CONFIG_H -I.    -fopenmp  -g -O2 -MT src/genotypes-sql_utilities.o -MD -MP -MF src/.deps/genotypes-sql_utilities.Tpo -c -o src/genotypes-sql_utilities.o `test -f 'src/sql_utilities.cc' || echo './'`src/sql_utilities.cc\n",
      "mv -f src/.deps/genotypes-sql_utilities.Tpo src/.deps/genotypes-sql_utilities.Po\n",
      "g++ -std=gnu++11 -DHAVE_CONFIG_H -I.    -fopenmp  -g -O2 -MT src/genotypes-renz.o -MD -MP -MF src/.deps/genotypes-renz.Tpo -c -o src/genotypes-renz.o `test -f 'src/renz.cc' || echo './'`src/renz.cc\n",
      "mv -f src/.deps/genotypes-renz.Tpo src/.deps/genotypes-renz.Po\n",
      "g++ -std=gnu++11 -DHAVE_CONFIG_H -I.    -fopenmp  -g -O2 -MT src/genotypes-MetaPopInfo.o -MD -MP -MF src/.deps/genotypes-MetaPopInfo.Tpo -c -o src/genotypes-MetaPopInfo.o `test -f 'src/MetaPopInfo.cc' || echo './'`src/MetaPopInfo.cc\n",
      "mv -f src/.deps/genotypes-MetaPopInfo.Tpo src/.deps/genotypes-MetaPopInfo.Po\n",
      "g++ -std=gnu++11 -fopenmp  -g -O2 -fopenmp  -o genotypes src/genotypes-genotypes.o src/genotypes-utils.o src/genotypes-catalog_utils.o src/genotypes-log_utils.o src/genotypes-stacks.o src/genotypes-locus.o src/genotypes-DNASeq.o src/genotypes-DNANSeq.o src/genotypes-aln_utils.o src/genotypes-genotype_dictionaries.o src/genotypes-input.o src/genotypes-sql_utilities.o src/genotypes-renz.o src/genotypes-MetaPopInfo.o  -lz -lgomp \n",
      "g++ -std=gnu++11 -DHAVE_CONFIG_H -I.    -fopenmp  -g -O2 -MT src/populations-populations.o -MD -MP -MF src/.deps/populations-populations.Tpo -c -o src/populations-populations.o `test -f 'src/populations.cc' || echo './'`src/populations.cc\n",
      "mv -f src/.deps/populations-populations.Tpo src/.deps/populations-populations.Po\n",
      "g++ -std=gnu++11 -DHAVE_CONFIG_H -I.    -fopenmp  -g -O2 -MT src/populations-utils.o -MD -MP -MF src/.deps/populations-utils.Tpo -c -o src/populations-utils.o `test -f 'src/utils.cc' || echo './'`src/utils.cc\n",
      "mv -f src/.deps/populations-utils.Tpo src/.deps/populations-utils.Po\n",
      "g++ -std=gnu++11 -DHAVE_CONFIG_H -I.    -fopenmp  -g -O2 -MT src/populations-catalog_utils.o -MD -MP -MF src/.deps/populations-catalog_utils.Tpo -c -o src/populations-catalog_utils.o `test -f 'src/catalog_utils.cc' || echo './'`src/catalog_utils.cc\n",
      "mv -f src/.deps/populations-catalog_utils.Tpo src/.deps/populations-catalog_utils.Po\n",
      "g++ -std=gnu++11 -DHAVE_CONFIG_H -I.    -fopenmp  -g -O2 -MT src/populations-log_utils.o -MD -MP -MF src/.deps/populations-log_utils.Tpo -c -o src/populations-log_utils.o `test -f 'src/log_utils.cc' || echo './'`src/log_utils.cc\n",
      "mv -f src/.deps/populations-log_utils.Tpo src/.deps/populations-log_utils.Po\n",
      "g++ -std=gnu++11 -DHAVE_CONFIG_H -I.    -fopenmp  -g -O2 -MT src/populations-stacks.o -MD -MP -MF src/.deps/populations-stacks.Tpo -c -o src/populations-stacks.o `test -f 'src/stacks.cc' || echo './'`src/stacks.cc\n",
      "mv -f src/.deps/populations-stacks.Tpo src/.deps/populations-stacks.Po\n",
      "g++ -std=gnu++11 -DHAVE_CONFIG_H -I.    -fopenmp  -g -O2 -MT src/populations-locus.o -MD -MP -MF src/.deps/populations-locus.Tpo -c -o src/populations-locus.o `test -f 'src/locus.cc' || echo './'`src/locus.cc\n",
      "mv -f src/.deps/populations-locus.Tpo src/.deps/populations-locus.Po\n",
      "g++ -std=gnu++11 -DHAVE_CONFIG_H -I.    -fopenmp  -g -O2 -MT src/populations-DNASeq.o -MD -MP -MF src/.deps/populations-DNASeq.Tpo -c -o src/populations-DNASeq.o `test -f 'src/DNASeq.cc' || echo './'`src/DNASeq.cc\n",
      "mv -f src/.deps/populations-DNASeq.Tpo src/.deps/populations-DNASeq.Po\n",
      "g++ -std=gnu++11 -DHAVE_CONFIG_H -I.    -fopenmp  -g -O2 -MT src/populations-DNANSeq.o -MD -MP -MF src/.deps/populations-DNANSeq.Tpo -c -o src/populations-DNANSeq.o `test -f 'src/DNANSeq.cc' || echo './'`src/DNANSeq.cc\n",
      "mv -f src/.deps/populations-DNANSeq.Tpo src/.deps/populations-DNANSeq.Po\n",
      "g++ -std=gnu++11 -DHAVE_CONFIG_H -I.    -fopenmp  -g -O2 -MT src/populations-aln_utils.o -MD -MP -MF src/.deps/populations-aln_utils.Tpo -c -o src/populations-aln_utils.o `test -f 'src/aln_utils.cc' || echo './'`src/aln_utils.cc\n",
      "mv -f src/.deps/populations-aln_utils.Tpo src/.deps/populations-aln_utils.Po\n",
      "g++ -std=gnu++11 -DHAVE_CONFIG_H -I.    -fopenmp  -g -O2 -MT src/populations-genotype_dictionaries.o -MD -MP -MF src/.deps/populations-genotype_dictionaries.Tpo -c -o src/populations-genotype_dictionaries.o `test -f 'src/genotype_dictionaries.cc' || echo './'`src/genotype_dictionaries.cc\n",
      "mv -f src/.deps/populations-genotype_dictionaries.Tpo src/.deps/populations-genotype_dictionaries.Po\n",
      "g++ -std=gnu++11 -DHAVE_CONFIG_H -I.    -fopenmp  -g -O2 -MT src/populations-input.o -MD -MP -MF src/.deps/populations-input.Tpo -c -o src/populations-input.o `test -f 'src/input.cc' || echo './'`src/input.cc\n",
      "mv -f src/.deps/populations-input.Tpo src/.deps/populations-input.Po\n",
      "g++ -std=gnu++11 -DHAVE_CONFIG_H -I.    -fopenmp  -g -O2 -MT src/populations-sql_utilities.o -MD -MP -MF src/.deps/populations-sql_utilities.Tpo -c -o src/populations-sql_utilities.o `test -f 'src/sql_utilities.cc' || echo './'`src/sql_utilities.cc\n",
      "mv -f src/.deps/populations-sql_utilities.Tpo src/.deps/populations-sql_utilities.Po\n",
      "g++ -std=gnu++11 -DHAVE_CONFIG_H -I.    -fopenmp  -g -O2 -MT src/populations-renz.o -MD -MP -MF src/.deps/populations-renz.Tpo -c -o src/populations-renz.o `test -f 'src/renz.cc' || echo './'`src/renz.cc\n",
      "mv -f src/.deps/populations-renz.Tpo src/.deps/populations-renz.Po\n",
      "g++ -std=gnu++11 -DHAVE_CONFIG_H -I.    -fopenmp  -g -O2 -MT src/populations-export_formats.o -MD -MP -MF src/.deps/populations-export_formats.Tpo -c -o src/populations-export_formats.o `test -f 'src/export_formats.cc' || echo './'`src/export_formats.cc\n",
      "mv -f src/.deps/populations-export_formats.Tpo src/.deps/populations-export_formats.Po\n",
      "g++ -std=gnu++11 -DHAVE_CONFIG_H -I.    -fopenmp  -g -O2 -MT src/populations-MetaPopInfo.o -MD -MP -MF src/.deps/populations-MetaPopInfo.Tpo -c -o src/populations-MetaPopInfo.o `test -f 'src/MetaPopInfo.cc' || echo './'`src/MetaPopInfo.cc\n",
      "mv -f src/.deps/populations-MetaPopInfo.Tpo src/.deps/populations-MetaPopInfo.Po\n",
      "g++ -std=gnu++11 -DHAVE_CONFIG_H -I.    -fopenmp  -g -O2 -MT src/populations-Vcf.o -MD -MP -MF src/.deps/populations-Vcf.Tpo -c -o src/populations-Vcf.o `test -f 'src/Vcf.cc' || echo './'`src/Vcf.cc\n",
      "mv -f src/.deps/populations-Vcf.Tpo src/.deps/populations-Vcf.Po\n",
      "g++ -std=gnu++11 -fopenmp  -g -O2 -fopenmp  -o populations src/populations-populations.o src/populations-utils.o src/populations-catalog_utils.o src/populations-log_utils.o src/populations-stacks.o src/populations-locus.o src/populations-DNASeq.o src/populations-DNANSeq.o src/populations-aln_utils.o src/populations-genotype_dictionaries.o src/populations-input.o src/populations-sql_utilities.o src/populations-renz.o src/populations-export_formats.o src/populations-MetaPopInfo.o src/populations-Vcf.o  -lz -lgomp \n",
      "g++ -std=gnu++11 -DHAVE_CONFIG_H -I.    -fopenmp  -g -O2 -MT src/phasedstacks-phasedstacks.o -MD -MP -MF src/.deps/phasedstacks-phasedstacks.Tpo -c -o src/phasedstacks-phasedstacks.o `test -f 'src/phasedstacks.cc' || echo './'`src/phasedstacks.cc\n",
      "mv -f src/.deps/phasedstacks-phasedstacks.Tpo src/.deps/phasedstacks-phasedstacks.Po\n",
      "g++ -std=gnu++11 -DHAVE_CONFIG_H -I.    -fopenmp  -g -O2 -MT src/phasedstacks-locus.o -MD -MP -MF src/.deps/phasedstacks-locus.Tpo -c -o src/phasedstacks-locus.o `test -f 'src/locus.cc' || echo './'`src/locus.cc\n",
      "mv -f src/.deps/phasedstacks-locus.Tpo src/.deps/phasedstacks-locus.Po\n",
      "g++ -std=gnu++11 -DHAVE_CONFIG_H -I.    -fopenmp  -g -O2 -MT src/phasedstacks-input.o -MD -MP -MF src/.deps/phasedstacks-input.Tpo -c -o src/phasedstacks-input.o `test -f 'src/input.cc' || echo './'`src/input.cc\n",
      "mv -f src/.deps/phasedstacks-input.Tpo src/.deps/phasedstacks-input.Po\n",
      "g++ -std=gnu++11 -DHAVE_CONFIG_H -I.    -fopenmp  -g -O2 -MT src/phasedstacks-sql_utilities.o -MD -MP -MF src/.deps/phasedstacks-sql_utilities.Tpo -c -o src/phasedstacks-sql_utilities.o `test -f 'src/sql_utilities.cc' || echo './'`src/sql_utilities.cc\n",
      "mv -f src/.deps/phasedstacks-sql_utilities.Tpo src/.deps/phasedstacks-sql_utilities.Po\n",
      "g++ -std=gnu++11 -DHAVE_CONFIG_H -I.    -fopenmp  -g -O2 -MT src/phasedstacks-log_utils.o -MD -MP -MF src/.deps/phasedstacks-log_utils.Tpo -c -o src/phasedstacks-log_utils.o `test -f 'src/log_utils.cc' || echo './'`src/log_utils.cc\n",
      "mv -f src/.deps/phasedstacks-log_utils.Tpo src/.deps/phasedstacks-log_utils.Po\n",
      "g++ -std=gnu++11 -DHAVE_CONFIG_H -I.    -fopenmp  -g -O2 -MT src/phasedstacks-utils.o -MD -MP -MF src/.deps/phasedstacks-utils.Tpo -c -o src/phasedstacks-utils.o `test -f 'src/utils.cc' || echo './'`src/utils.cc\n",
      "mv -f src/.deps/phasedstacks-utils.Tpo src/.deps/phasedstacks-utils.Po\n",
      "g++ -std=gnu++11 -DHAVE_CONFIG_H -I.    -fopenmp  -g -O2 -MT src/phasedstacks-catalog_utils.o -MD -MP -MF src/.deps/phasedstacks-catalog_utils.Tpo -c -o src/phasedstacks-catalog_utils.o `test -f 'src/catalog_utils.cc' || echo './'`src/catalog_utils.cc\n",
      "mv -f src/.deps/phasedstacks-catalog_utils.Tpo src/.deps/phasedstacks-catalog_utils.Po\n",
      "g++ -std=gnu++11 -fopenmp  -g -O2 -fopenmp  -o phasedstacks src/phasedstacks-phasedstacks.o src/phasedstacks-locus.o src/phasedstacks-input.o src/phasedstacks-sql_utilities.o src/phasedstacks-log_utils.o src/phasedstacks-utils.o src/phasedstacks-catalog_utils.o  -lz -lgomp \n",
      "make[2]: Leaving directory '/home/mfisher5/Downloads/stacks-1.44'\n",
      "make[1]: Leaving directory '/home/mfisher5/Downloads/stacks-1.44'\n"
     ]
    }
   ],
   "source": [
    "!make"
   ]
  },
  {
   "cell_type": "code",
   "execution_count": 26,
   "metadata": {
    "collapsed": false
   },
   "outputs": [
    {
     "name": "stdout",
     "output_type": "stream",
     "text": [
      "/home/mfisher5\n"
     ]
    }
   ],
   "source": [
    "cd ../../"
   ]
  },
  {
   "cell_type": "code",
   "execution_count": 27,
   "metadata": {
    "collapsed": false
   },
   "outputs": [
    {
     "name": "stdout",
     "output_type": "stream",
     "text": [
      "/\n"
     ]
    }
   ],
   "source": [
    "cd ../../"
   ]
  },
  {
   "cell_type": "code",
   "execution_count": 28,
   "metadata": {
    "collapsed": false
   },
   "outputs": [
    {
     "name": "stdout",
     "output_type": "stream",
     "text": [
      "/mnt/hgfs/Pacific cod\n"
     ]
    }
   ],
   "source": [
    "cd /mnt/hgfs/Pacific\\ cod"
   ]
  },
  {
   "cell_type": "code",
   "execution_count": 29,
   "metadata": {
    "collapsed": false
   },
   "outputs": [
    {
     "name": "stdout",
     "output_type": "stream",
     "text": [
      "/usr/local/bin/cstacks\r\n"
     ]
    }
   ],
   "source": [
    "!which cstacks"
   ]
  },
  {
   "cell_type": "markdown",
   "metadata": {},
   "source": [
    "### RUN STACKS TO POPULATIONS\n",
    "\n",
    "\n",
    "### process_radtags"
   ]
  },
  {
   "cell_type": "code",
   "execution_count": 30,
   "metadata": {
    "collapsed": false
   },
   "outputs": [
    {
     "name": "stdout",
     "output_type": "stream",
     "text": [
      "/mnt/hgfs/Pacific cod/DataAnalysis\n"
     ]
    }
   ],
   "source": [
    "cd DataAnalysis/"
   ]
  },
  {
   "cell_type": "code",
   "execution_count": 31,
   "metadata": {
    "collapsed": false,
    "scrolled": true
   },
   "outputs": [
    {
     "name": "stdout",
     "output_type": "stream",
     "text": [
      "\u001b[0m\u001b[34;42mAnalyses\u001b[0m/                        \u001b[34;42mraw_data\u001b[0m/\r\n",
      "\u001b[01;32mchoose_cstacks_samples.R\u001b[0m*        \u001b[01;32mRtest.R\u001b[0m*\r\n",
      "\u001b[01;32mcstacks_b303\u001b[0m*                    \u001b[34;42msamplesT142\u001b[0m/\r\n",
      "\u001b[01;32mcstacks_sstacks_shell_11-16.sh\u001b[0m*  \u001b[34;42msamplesT146\u001b[0m/\r\n",
      "\u001b[34;42mDiagrams\u001b[0m/                        \u001b[34;42mscripts\u001b[0m/\r\n",
      "\u001b[34;42mfastqc_v0.11.5\u001b[0m/                  \u001b[34;42mshell_testing\u001b[0m/\r\n",
      "\u001b[01;32mgen_sstacks_byline.py\u001b[0m*           \u001b[01;32msstacks_11-16.sh\u001b[0m*\r\n",
      "\u001b[34;42mL2samplesT110\u001b[0m/                   \u001b[01;32msstacks_byline_shell_11-17.sh\u001b[0m*\r\n",
      "\u001b[34;42mL2samplesT142\u001b[0m/                   \u001b[34;42mstacksCombo_m10\u001b[0m/\r\n",
      "\u001b[34;42mmf-fish546-2016\u001b[0m/                 \u001b[34;42mUCstacksL1\u001b[0m/\r\n",
      "\u001b[01;32mpcod_stackstest_shell11-18.sh\u001b[0m*   \u001b[01;32mustacks_shell_11-16.sh\u001b[0m*\r\n",
      "\u001b[01;32mPopulations_11.15.2016.xlsx\u001b[0m*\r\n"
     ]
    }
   ],
   "source": [
    "ls"
   ]
  },
  {
   "cell_type": "code",
   "execution_count": 32,
   "metadata": {
    "collapsed": true
   },
   "outputs": [],
   "source": [
    "!mkdir stacksv1.44"
   ]
  },
  {
   "cell_type": "code",
   "execution_count": 33,
   "metadata": {
    "collapsed": false
   },
   "outputs": [
    {
     "name": "stdout",
     "output_type": "stream",
     "text": [
      "/mnt/hgfs/Pacific cod/DataAnalysis/stacksv1.44\n"
     ]
    }
   ],
   "source": [
    "cd stacksv1.44"
   ]
  },
  {
   "cell_type": "code",
   "execution_count": 37,
   "metadata": {
    "collapsed": false
   },
   "outputs": [
    {
     "name": "stdout",
     "output_type": "stream",
     "text": [
      "cstacks 1.42\r\n",
      "\r\n"
     ]
    }
   ],
   "source": [
    "!stacks -version"
   ]
  },
  {
   "cell_type": "code",
   "execution_count": 40,
   "metadata": {
    "collapsed": false
   },
   "outputs": [
    {
     "data": {
      "text/plain": [
       "u'/'"
      ]
     },
     "execution_count": 40,
     "metadata": {},
     "output_type": "execute_result"
    }
   ],
   "source": [
    "pwd"
   ]
  },
  {
   "cell_type": "code",
   "execution_count": 41,
   "metadata": {
    "collapsed": false
   },
   "outputs": [
    {
     "name": "stdout",
     "output_type": "stream",
     "text": [
      "/home/mfisher5/Downloads\n"
     ]
    }
   ],
   "source": [
    "cd home/mfisher5/Downloads/"
   ]
  },
  {
   "cell_type": "code",
   "execution_count": 42,
   "metadata": {
    "collapsed": false
   },
   "outputs": [
    {
     "name": "stdout",
     "output_type": "stream",
     "text": [
      "[sudo] password for mfisher5: \n",
      "\n"
     ]
    }
   ],
   "source": [
    "!sudo apt-get install zlib1g-dev"
   ]
  },
  {
   "cell_type": "code",
   "execution_count": 44,
   "metadata": {
    "collapsed": false
   },
   "outputs": [
    {
     "name": "stdout",
     "output_type": "stream",
     "text": [
      "/home/mfisher5/Downloads/stacks-1.44\n"
     ]
    }
   ],
   "source": [
    "cd stacks-1.44/"
   ]
  },
  {
   "cell_type": "code",
   "execution_count": 45,
   "metadata": {
    "collapsed": false
   },
   "outputs": [
    {
     "name": "stdout",
     "output_type": "stream",
     "text": [
      "checking for a BSD-compatible install... /usr/bin/install -c\n",
      "checking whether build environment is sane... yes\n",
      "checking for a thread-safe mkdir -p... /bin/mkdir -p\n",
      "checking for gawk... no\n",
      "checking for mawk... mawk\n",
      "checking whether make sets $(MAKE)... yes\n",
      "checking whether make supports nested variables... yes\n",
      "checking for g++... g++\n",
      "checking whether the C++ compiler works... yes\n",
      "checking for C++ compiler default output file name... a.out\n",
      "checking for suffix of executables... \n",
      "checking whether we are cross compiling... no\n",
      "checking for suffix of object files... o\n",
      "checking whether we are using the GNU C++ compiler... yes\n",
      "checking whether g++ accepts -g... yes\n",
      "checking for style of include used by make... GNU\n",
      "checking dependency style of g++... gcc3\n",
      "checking for gcc... gcc\n",
      "checking whether we are using the GNU C compiler... yes\n",
      "checking whether gcc accepts -g... yes\n",
      "checking for gcc option to accept ISO C89... none needed\n",
      "checking whether gcc understands -c and -o together... yes\n",
      "checking dependency style of gcc... gcc3\n",
      "checking whether g++ supports C++11 features by default... no\n",
      "checking whether g++ supports C++11 features with -std=gnu++11... yes\n",
      "checking for omp_set_num_threads in -lgomp... yes\n",
      "checking for gzread in -lz... yes\n",
      "checking for dirent.h that defines DIR... yes\n",
      "checking for library containing opendir... none required\n",
      "checking how to run the C preprocessor... gcc -E\n",
      "checking for grep that handles long lines and -e... /bin/grep\n",
      "checking for egrep... /bin/grep -E\n",
      "checking for ANSI C header files... yes\n",
      "checking for sys/types.h... yes\n",
      "checking for sys/stat.h... yes\n",
      "checking for stdlib.h... yes\n",
      "checking for string.h... yes\n",
      "checking for memory.h... yes\n",
      "checking for strings.h... yes\n",
      "checking for inttypes.h... yes\n",
      "checking for stdint.h... yes\n",
      "checking for unistd.h... yes\n",
      "checking float.h usability... yes\n",
      "checking float.h presence... yes\n",
      "checking for float.h... yes\n",
      "checking limits.h usability... yes\n",
      "checking limits.h presence... yes\n",
      "checking for limits.h... yes\n",
      "checking for stdlib.h... (cached) yes\n",
      "checking for string.h... (cached) yes\n",
      "checking for gcc option to support OpenMP... -fopenmp\n",
      "checking for stdbool.h that conforms to C99... yes\n",
      "checking for _Bool... yes\n",
      "checking for an ANSI C-conforming const... yes\n",
      "checking for size_t... yes\n",
      "checking whether closedir returns void... no\n",
      "checking for stdlib.h... (cached) yes\n",
      "checking for GNU libc compatible malloc... yes\n",
      "checking for stdlib.h... (cached) yes\n",
      "checking for GNU libc compatible realloc... yes\n",
      "checking for floor... no\n",
      "checking for memset... yes\n",
      "checking for pow... no\n",
      "checking for sqrt... no\n",
      "checking for gawk... (cached) mawk\n",
      "checking that generated files are newer than configure... done\n",
      "configure: creating ./config.status\n",
      "config.status: creating Makefile\n",
      "config.status: creating config.h\n",
      "config.status: config.h is unchanged\n",
      "config.status: executing depfiles commands\n"
     ]
    }
   ],
   "source": [
    "!./configure"
   ]
  },
  {
   "cell_type": "code",
   "execution_count": 47,
   "metadata": {
    "collapsed": false
   },
   "outputs": [
    {
     "name": "stdout",
     "output_type": "stream",
     "text": [
      "make  all-recursive\n",
      "make[1]: Entering directory '/home/mfisher5/Downloads/stacks-1.44'\n",
      "Making all in htslib\n",
      "make[2]: Entering directory '/home/mfisher5/Downloads/stacks-1.44/htslib'\n",
      "make[2]: Nothing to be done for 'all'.\n",
      "make[2]: Leaving directory '/home/mfisher5/Downloads/stacks-1.44/htslib'\n",
      "Making all in .\n",
      "make[2]: Entering directory '/home/mfisher5/Downloads/stacks-1.44'\n",
      "make[2]: Leaving directory '/home/mfisher5/Downloads/stacks-1.44'\n",
      "make[1]: Leaving directory '/home/mfisher5/Downloads/stacks-1.44'\n"
     ]
    }
   ],
   "source": [
    "!make"
   ]
  },
  {
   "cell_type": "code",
   "execution_count": 48,
   "metadata": {
    "collapsed": false
   },
   "outputs": [
    {
     "name": "stdout",
     "output_type": "stream",
     "text": [
      "cstacks 1.42\r\n",
      "\r\n"
     ]
    }
   ],
   "source": [
    "!cstacks -version"
   ]
  },
  {
   "cell_type": "code",
   "execution_count": 50,
   "metadata": {
    "collapsed": false
   },
   "outputs": [],
   "source": [
    "!export LD_LIBRARY_PATH=/home/mfisher5/Downloads/stacks-1.44"
   ]
  },
  {
   "cell_type": "code",
   "execution_count": 51,
   "metadata": {
    "collapsed": false
   },
   "outputs": [
    {
     "name": "stdout",
     "output_type": "stream",
     "text": [
      "cstacks 1.42\r\n",
      "\r\n"
     ]
    }
   ],
   "source": [
    "!cstacks -version"
   ]
  },
  {
   "cell_type": "code",
   "execution_count": null,
   "metadata": {
    "collapsed": true
   },
   "outputs": [],
   "source": [
    "sudo apt-get install libdbd-mysql-perl\n",
    "sudo apt-get install libsparsehash-dev   \n",
    "tar xfvz stacks-1.44.tar.gz\n",
    "cd stacks-1.44\n",
    "./configure\n",
    "sudo make install"
   ]
  },
  {
   "cell_type": "code",
   "execution_count": 52,
   "metadata": {
    "collapsed": false
   },
   "outputs": [
    {
     "name": "stdout",
     "output_type": "stream",
     "text": [
      "cstacks 1.44\r\n",
      "\r\n"
     ]
    }
   ],
   "source": [
    "!cstacks -version"
   ]
  },
  {
   "cell_type": "code",
   "execution_count": 53,
   "metadata": {
    "collapsed": false
   },
   "outputs": [
    {
     "name": "stdout",
     "output_type": "stream",
     "text": [
      "process_radtags 1.44\r\n",
      "\r\n"
     ]
    }
   ],
   "source": [
    "!process_radtags -version"
   ]
  },
  {
   "cell_type": "code",
   "execution_count": 54,
   "metadata": {
    "collapsed": false
   },
   "outputs": [
    {
     "data": {
      "text/plain": [
       "u'/home/mfisher5/Downloads/stacks-1.44'"
      ]
     },
     "execution_count": 54,
     "metadata": {},
     "output_type": "execute_result"
    }
   ],
   "source": [
    "pwd"
   ]
  },
  {
   "cell_type": "code",
   "execution_count": 55,
   "metadata": {
    "collapsed": false
   },
   "outputs": [
    {
     "name": "stdout",
     "output_type": "stream",
     "text": [
      "/\n"
     ]
    }
   ],
   "source": [
    "cd ../../../../"
   ]
  },
  {
   "cell_type": "code",
   "execution_count": 56,
   "metadata": {
    "collapsed": false
   },
   "outputs": [
    {
     "name": "stdout",
     "output_type": "stream",
     "text": [
      "/mnt/hgfs/Pacific cod\n"
     ]
    }
   ],
   "source": [
    "cd /mnt/hgfs/Pacific\\ cod"
   ]
  },
  {
   "cell_type": "code",
   "execution_count": 57,
   "metadata": {
    "collapsed": false
   },
   "outputs": [
    {
     "name": "stdout",
     "output_type": "stream",
     "text": [
      "/mnt/hgfs/Pacific cod/DataAnalysis/stacksv1.44\n"
     ]
    }
   ],
   "source": [
    "cd DataAnalysis/stacksv1.44"
   ]
  },
  {
   "cell_type": "code",
   "execution_count": 58,
   "metadata": {
    "collapsed": true
   },
   "outputs": [],
   "source": [
    "!mkdir L2samplesT142"
   ]
  },
  {
   "cell_type": "code",
   "execution_count": 59,
   "metadata": {
    "collapsed": false
   },
   "outputs": [
    {
     "name": "stdout",
     "output_type": "stream",
     "text": [
      "/mnt/hgfs/Pacific cod/DataAnalysis\n"
     ]
    }
   ],
   "source": [
    "cd ../"
   ]
  },
  {
   "cell_type": "code",
   "execution_count": null,
   "metadata": {
    "collapsed": true
   },
   "outputs": [],
   "source": [
    "!process_radtags -p raw_data/L2_SR150/ \\\n",
    "-i gzfastq -y gzfastq \\\n",
    "-o stacksv1.44/L2samplesT142 \\\n",
    "-b scripts/barcodesL2.txt \\\n",
    "-e sbfI -E phred33 -r -c -q -t 142"
   ]
  },
  {
   "cell_type": "markdown",
   "metadata": {},
   "source": [
    "`377851294 total sequences\n",
    "\n",
    " 50386443 ambiguous barcode drops (13.3%)\n",
    " \n",
    "  2840924 low quality read drops (0.8%)\n",
    "  \n",
    " 65025476 ambiguous RAD-Tag drops (17.2%)\n",
    " \n",
    "259598451 retained reads (68.7%)`"
   ]
  },
  {
   "cell_type": "code",
   "execution_count": 1,
   "metadata": {
    "collapsed": true
   },
   "outputs": [],
   "source": [
    "#run ustacks using ustacks shell from 11/15"
   ]
  },
  {
   "cell_type": "code",
   "execution_count": 2,
   "metadata": {
    "collapsed": false
   },
   "outputs": [
    {
     "data": {
      "text/plain": [
       "u'/mnt/hgfs/Pacific cod/DataAnalysis/mf-fish546-2016/notebooks'"
      ]
     },
     "execution_count": 2,
     "metadata": {},
     "output_type": "execute_result"
    }
   ],
   "source": [
    "pwd"
   ]
  },
  {
   "cell_type": "code",
   "execution_count": 3,
   "metadata": {
    "collapsed": false
   },
   "outputs": [
    {
     "name": "stdout",
     "output_type": "stream",
     "text": [
      "/mnt/hgfs/Pacific cod/DataAnalysis/stacksv1.44\n"
     ]
    }
   ],
   "source": [
    "cd ../../stacksv1.44/"
   ]
  },
  {
   "cell_type": "code",
   "execution_count": 5,
   "metadata": {
    "collapsed": false,
    "scrolled": true
   },
   "outputs": [
    {
     "name": "stdout",
     "output_type": "stream",
     "text": [
      "#!/bin/bash\r\n",
      "\r\n",
      "#ustacks\r\n",
      "cd L2samplesT142\r\n",
      "ustacks -t gzfastq -f L2samplesT142/SO022216_01.fq.gz -r -d -o stacks -i 001 -m 10 -M 3 -p 6\r\n",
      "ustacks -t gzfastq -f L2samplesT142/MU011816_01.fq.gz -r -d -o stacks_v44 -i 002 -m 10 -M 3 -p 6\r\n",
      "ustacks -t gzfastq -f L2samplesT142/MU012816_05.fq.gz -r -d -o stacks_v44 -i 003 -m 10 -M 3 -p 6\r\n",
      "ustacks -t gzfastq -f L2samplesT142/MU012816_06.fq.gz -r -d -o stacks_v44 -i 004 -m 10 -M 3 -p 6\r\n",
      "ustacks -t gzfastq -f L2samplesT142/MU012816_07.fq.gz -r -d -o stacks_v44 -i 005 -m 10 -M 3 -p 6\r\n",
      "ustacks -t gzfastq -f L2samplesT142/MU012816_08.fq.gz -r -d -o stacks_v44 -i 006 -m 10 -M 3 -p 6\r\n"
     ]
    }
   ],
   "source": [
    "!head ustacks_shell_11-15_mod22.sh"
   ]
  },
  {
   "cell_type": "markdown",
   "metadata": {},
   "source": [
    "## 11/23/2016"
   ]
  },
  {
   "cell_type": "markdown",
   "metadata": {},
   "source": [
    "oops! wrong shell - these ID numbers are incorrect (need to be 61 +)"
   ]
  },
  {
   "cell_type": "code",
   "execution_count": 7,
   "metadata": {
    "collapsed": true
   },
   "outputs": [],
   "source": [
    "!mkdir stacks_v44"
   ]
  },
  {
   "cell_type": "code",
   "execution_count": 3,
   "metadata": {
    "collapsed": false
   },
   "outputs": [
    {
     "name": "stdout",
     "output_type": "stream",
     "text": [
      "#!/bin/bash\r\n",
      "\r\n",
      "#ustacks\r\n",
      "ustacks -t gzfastq -f L2samples/SO022216_01.fq.gz -r -d -o stacks_v44 -i 061 -m 10 -M 3 -p 6\r\n",
      "ustacks -t gzfastq -f L2samples/MU011816_01.fq.gz -r -d -o stacks_v44 -i 062 -m 10 -M 3 -p 6\r\n",
      "ustacks -t gzfastq -f L2samples/MU012816_05.fq.gz -r -d -o stacks_v44 -i 063 -m 10 -M 3 -p 6\r\n",
      "ustacks -t gzfastq -f L2samples/MU012816_06.fq.gz -r -d -o stacks_v44 -i 064 -m 10 -M 3 -p 6\r\n",
      "ustacks -t gzfastq -f L2samples/MU012816_07.fq.gz -r -d -o stacks_v44 -i 065 -m 10 -M 3 -p 6\r\n",
      "ustacks -t gzfastq -f L2samples/MU012816_08.fq.gz -r -d -o stacks_v44 -i 066 -m 10 -M 3 -p 6\r\n",
      "ustacks -t gzfastq -f L2samples/MU012816_09.fq.gz -r -d -o stacks_v44 -i 067 -m 10 -M 3 -p 6\r\n"
     ]
    }
   ],
   "source": [
    "!head ustacks_shell_11-15_modID23.sh"
   ]
  },
  {
   "cell_type": "code",
   "execution_count": null,
   "metadata": {
    "collapsed": true
   },
   "outputs": [],
   "source": [
    "!./ustacks_shell_11-15_modID23.sh"
   ]
  },
  {
   "cell_type": "markdown",
   "metadata": {},
   "source": [
    "## 11/30/2016\n",
    "\n",
    "\n",
    "Done running ustacks on the Lane 2 samples. Now I need to run cstacks, sstacks, populations, and the first two of Marine's scripts to test the output of stacks v1.44 to see if the SNPs are being called correctly. \n",
    "\n",
    "\n",
    "I can use the same sequence counts as before for cstacks, since the `process_radtags` output file sizes appear to be the same. However, since in the other Lane 2 pipeline I had combined lane 1 and lane 2 data, I'll create a new file with cstacks samples only from Lane 2, and then adjust the `cstacks_sstacks_shell_11-16.sh`\n",
    "\n",
    "\n",
    "**cstacks**: samples chosen from `Samples_SortedByTotalSeqs.ods`, Lane 2 spreadsheet. "
   ]
  },
  {
   "cell_type": "code",
   "execution_count": 4,
   "metadata": {
    "collapsed": false
   },
   "outputs": [
    {
     "data": {
      "text/plain": [
       "u'/mnt/hgfs/Pacific cod/DataAnalysis/stacksv44'"
      ]
     },
     "execution_count": 4,
     "metadata": {},
     "output_type": "execute_result"
    }
   ],
   "source": [
    "pwd"
   ]
  },
  {
   "cell_type": "code",
   "execution_count": 5,
   "metadata": {
    "collapsed": false
   },
   "outputs": [
    {
     "name": "stdout",
     "output_type": "stream",
     "text": [
      "/mnt/hgfs/Pacific cod/DataAnalysis/scripts\n"
     ]
    }
   ],
   "source": [
    "cd ../scripts"
   ]
  },
  {
   "cell_type": "code",
   "execution_count": 6,
   "metadata": {
    "collapsed": false,
    "scrolled": false
   },
   "outputs": [
    {
     "name": "stdout",
     "output_type": "stream",
     "text": [
      "### batch 2 : 10 individuals per pop when possible, for testing stacks v 1.44\r\n",
      "GE011215_18\r\n",
      "GE011215_19\r\n",
      "GE011215_22\r\n",
      "GE011215_28\r\n",
      "GEO012315_02\r\n",
      "GEO012315_12\r\n",
      "GEO012315_18\r\n",
      "GEO012315_21\r\n",
      "GEO020414_11_300\r\n"
     ]
    }
   ],
   "source": [
    "!head samples_for_cstacks_L2_v44.txt"
   ]
  },
  {
   "cell_type": "code",
   "execution_count": 11,
   "metadata": {
    "collapsed": false
   },
   "outputs": [],
   "source": [
    "!python cstacks_sstacks_genShellSR_1lane.py samples_for_cstacks_L2_v44.txt barcodesL2.txt"
   ]
  },
  {
   "cell_type": "code",
   "execution_count": 12,
   "metadata": {
    "collapsed": false
   },
   "outputs": [
    {
     "name": "stdout",
     "output_type": "stream",
     "text": [
      "cstacks -b 2 -s stacks_v44/GE011215_18 -s stacks_v44/GE011215_19 -s stacks_v44/GE011215_22 -s stacks_v44/GE011215_28 -s stacks_v44/GEO012315_02 -s stacks_v44/GEO012315_12 -s stacks_v44/GEO012315_18 -s stacks_v44/GEO012315_21 -s stacks_v44/GEO020414_11_300 -s stacks_v44/GEO020414_27 -s stacks_v44/GEO020414_3 -s stacks_v44/GEO020414_5 -s stacks_v44/GEO020414_8_300 -s stacks_v44/GEO020414_4 -s stacks_v44/GEO020414_11 -s stacks_v44/GEO020414_8 -s stacks_v44/GEO020414_23_300 -s stacks_v44/GEO020414_23 -s stacks_v44/MU012816_10 -s stacks_v44/MU012816_07 -s stacks_v44/MU033015_02 -s stacks_v44/MU012816_09 -s stacks_v44/MU012816_05 -s stacks_v44/MU032315_01 -s stacks_v44/SO022216_01 -s stacks_v44/MU011816_01 -s stacks_v44/MU012816_06 -s stacks_v44/MU012816_08 -s stacks_v44/NA021015_23 -s stacks_v44/NA021015_25 -s stacks_v44/NA021015_26 -s stacks_v44/NA021015_30 -s stacks_v44/YS121315_12_300 -s stacks_v44/YS121315_12 -s stacks_v44/YS121315_15 -s stacks_v44/YS121315_16 -s stacks_v44/PO010715_04 -s stacks_v44/PO010715_12 -s stacks_v44/PO020515_01 -s stacks_v44/PO020515_06 -s stacks_v44/PO031715_03 -s stacks_v44/PO031715_04 -s stacks_v44/PO031715_23 -s stacks_v44/PO031715_24 -o stacks_v44 -n 3 -p 6\r\n",
      "\r\n",
      "sstacks -b 2 -c stacks_v44/batch_2 -s stacks_v44/SO022216_01 -s stacks_v44/MU011816_01 -s stacks_v44/MU012816_05 -s stacks_v44/MU012816_06 -s stacks_v44/MU012816_07 -s stacks_v44/MU012816_08 -s stacks_v44/MU012816_09 -s stacks_v44/MU012816_10 -s stacks_v44/MU032315_01 -s stacks_v44/MU032315_02 -s stacks_v44/MU033015_02 -s stacks_v44/MU033015_03 -s stacks_v44/GEO020414_8 -s stacks_v44/GEO020414_9 -s stacks_v44/GEO020414_11 -s stacks_v44/GEO020414_13 -s stacks_v44/GEO020414_14 -s stacks_v44/GEO020414_15 -s stacks_v44/GEO020414_16 -s stacks_v44/GEO020414_17 -s stacks_v44/GEO020414_23 -s stacks_v44/GEO020414_24 -s stacks_v44/GEO020414_25 -s stacks_v44/YS121315_12 -s stacks_v44/GEO020414_3 -s stacks_v44/GEO020414_4 -s stacks_v44/GEO020414_5 -s stacks_v44/GEO020414_6 -s stacks_v44/GEO020414_27 -s stacks_v44/GEO020414_29 -s stacks_v44/GEO012315_02 -s stacks_v44/GEO012315_12 -s stacks_v44/GEO012315_18 -s stacks_v44/GEO012315_21 -s stacks_v44/GEO020414_2 -s stacks_v44/GEO020414_26 -s stacks_v44/PO020515_06 -s stacks_v44/PO031715_23 -s stacks_v44/GE011215_18 -s stacks_v44/GE011215_22 -s stacks_v44/BOR07_01 -s stacks_v44/BOR07_03 -s stacks_v44/BOR07_09 -s stacks_v44/GEO020414_7 -s stacks_v44/GEO020414_10 -s stacks_v44/GEO020414_30 -s stacks_v44/YS121315_15 -s stacks_v44/YS121315_16 -s stacks_v44/PO031715_03 -s stacks_v44/NA021015_23 -s stacks_v44/PO010715_04 -s stacks_v44/PO020515_01 -s stacks_v44/PO031715_04 -s stacks_v44/NA021015_25 -s stacks_v44/NA021015_26 -s stacks_v44/NA021015_30 -s stacks_v44/PO031715_24 -s stacks_v44/GE011215_19 -s stacks_v44/PO010715_12 -s stacks_v44/GE011215_28 -s stacks_v44/GEO020414_8_300 -s stacks_v44/GEO020414_9_300 -s stacks_v44/GEO020414_11_300 -s stacks_v44/GEO020414_13_300 -s stacks_v44/GEO020414_14_300 -s stacks_v44/GEO020414_15_300 -s stacks_v44/GEO020414_16_300 -s stacks_v44/GEO020414_17_300 -s stacks_v44/GEO020414_23_300 -s stacks_v44/GEO020414_24_300 -s stacks_v44/GEO020414_25_300 -s stacks_v44/YS121315_12_300 -o stacks_v44 -p 6 2>> sstacks_out_b2 \r\n",
      "\r\n",
      "\r\n"
     ]
    }
   ],
   "source": [
    "!head cstacks_sstacks_shell_11-30.sh"
   ]
  },
  {
   "cell_type": "code",
   "execution_count": 13,
   "metadata": {
    "collapsed": true
   },
   "outputs": [],
   "source": [
    "!mv cstacks_sstacks_shell_11-30.sh ../stacksv44/cstacks_sstacks_shell_11-30.sh"
   ]
  },
  {
   "cell_type": "code",
   "execution_count": 15,
   "metadata": {
    "collapsed": false
   },
   "outputs": [
    {
     "name": "stdout",
     "output_type": "stream",
     "text": [
      "/mnt/hgfs/Pacific cod/DataAnalysis/stacksv44\n"
     ]
    }
   ],
   "source": [
    "cd ../stacksv44"
   ]
  },
  {
   "cell_type": "code",
   "execution_count": 17,
   "metadata": {
    "collapsed": false
   },
   "outputs": [],
   "source": [
    "!chmod +x cstacks_sstacks_shell_11-30.sh"
   ]
  },
  {
   "cell_type": "code",
   "execution_count": null,
   "metadata": {
    "collapsed": true
   },
   "outputs": [],
   "source": [
    "!./cstacks_sstacks_shell_11-30.sh"
   ]
  },
  {
   "cell_type": "markdown",
   "metadata": {},
   "source": [
    "When I came back from class, VMWare had shut down. But it looks like sstacks ran all the way through, so I'll run populations next. \n",
    "\n",
    "First, I made a population map of only the Lane 2 samples. \n"
   ]
  },
  {
   "cell_type": "code",
   "execution_count": 3,
   "metadata": {
    "collapsed": false
   },
   "outputs": [
    {
     "name": "stdout",
     "output_type": "stream",
     "text": [
      "/mnt/hgfs/Pacific cod/DataAnalysis\n"
     ]
    }
   ],
   "source": [
    "cd ../../"
   ]
  },
  {
   "cell_type": "code",
   "execution_count": null,
   "metadata": {
    "collapsed": true
   },
   "outputs": [],
   "source": [
    "!populations -b 2 \\\n",
    "-P stacksv44/stacks_v44 \\\n",
    "-M scripts/PopMap_L2.txt \\\n",
    "-t 36 \\\n",
    "-r 0.50 \\\n",
    "-p 2 \\\n",
    "-m 5 \\\n",
    "--genepop"
   ]
  },
  {
   "cell_type": "markdown",
   "metadata": {},
   "source": [
    "## 11/30/2016\n",
    "\n",
    "## MANUALLY CHECK STACKS OUTPUT"
   ]
  },
  {
   "cell_type": "code",
   "execution_count": 1,
   "metadata": {
    "collapsed": false
   },
   "outputs": [
    {
     "data": {
      "text/plain": [
       "u'/mnt/hgfs/Pacific cod/DataAnalysis/mf-fish546-2016/notebooks'"
      ]
     },
     "execution_count": 1,
     "metadata": {},
     "output_type": "execute_result"
    }
   ],
   "source": [
    "pwd"
   ]
  },
  {
   "cell_type": "code",
   "execution_count": 2,
   "metadata": {
    "collapsed": false
   },
   "outputs": [
    {
     "name": "stdout",
     "output_type": "stream",
     "text": [
      "/mnt/hgfs/Pacific cod/DataAnalysis/stacksv44/stacks_v44\n"
     ]
    }
   ],
   "source": [
    "cd ../../stacksv44/stacks_v44"
   ]
  },
  {
   "cell_type": "markdown",
   "metadata": {},
   "source": [
    "**(1) Unzip a .tags.tsv file for an individual IN the cstacks catalog**"
   ]
  },
  {
   "cell_type": "code",
   "execution_count": 3,
   "metadata": {
    "collapsed": true
   },
   "outputs": [],
   "source": [
    "!gzip -d GE011215_18.tags.tsv.gz"
   ]
  },
  {
   "cell_type": "markdown",
   "metadata": {},
   "source": [
    "**(2) Unzip and look at the corresponding .matches file**"
   ]
  },
  {
   "cell_type": "code",
   "execution_count": 5,
   "metadata": {
    "collapsed": false
   },
   "outputs": [],
   "source": [
    "!gzip -d GE011215_18.matches.tsv.gz"
   ]
  },
  {
   "cell_type": "markdown",
   "metadata": {},
   "source": [
    "**(3) Unzip catalog.snp.tsv file and remove the heading**"
   ]
  },
  {
   "cell_type": "code",
   "execution_count": 6,
   "metadata": {
    "collapsed": true
   },
   "outputs": [],
   "source": [
    "!gzip -d batch_2.catalog.snps.tsv.gz"
   ]
  },
  {
   "cell_type": "markdown",
   "metadata": {},
   "source": [
    "**(4) add a \"_\" between Catalog and ID in the .haplotypes file, save as .haplotypes2 **"
   ]
  },
  {
   "cell_type": "markdown",
   "metadata": {},
   "source": [
    "**(5) Run Marine's script to make biallelic catalog, reference **"
   ]
  },
  {
   "cell_type": "code",
   "execution_count": 7,
   "metadata": {
    "collapsed": false
   },
   "outputs": [
    {
     "name": "stdout",
     "output_type": "stream",
     "text": [
      "/mnt/hgfs/Pacific cod/DataAnalysis/scripts\n"
     ]
    }
   ],
   "source": [
    "cd ../../scripts"
   ]
  },
  {
   "cell_type": "code",
   "execution_count": 8,
   "metadata": {
    "collapsed": false
   },
   "outputs": [
    {
     "name": "stdout",
     "output_type": "stream",
     "text": [
      "/mnt/hgfs/Pacific cod/DataAnalysis/scripts/UndercallingHets_MB_CW\n"
     ]
    }
   ],
   "source": [
    "cd UndercallingHets_MB_CW/"
   ]
  },
  {
   "cell_type": "code",
   "execution_count": 11,
   "metadata": {
    "collapsed": false,
    "scrolled": false
   },
   "outputs": [
    {
     "name": "stdout",
     "output_type": "stream",
     "text": [
      "1 56 AGC GGC GGC GGC GGC ATC GGC GGC GGC AGC GGC GGC AGC GGC GGC GGC GGC GGC GGC GGC GGC ATC GGC ATC GGC GGC GGC AGC ATC GGC GGC GGC GGC AGC GGC GGC GGC GGC AGC GGC AGC GGC AGC GGC AGC GGC GGC GGC GGC GGC GGC ATC GGC GGC AGC GGC ATC GGC GGC AGC GGC GGC GGC GGC GGC ATA GGC GGC GGC GGC ATC GGC\r\n",
      "2 52 C C C C C C C C C C C C C C C C C C C C C C C C C C C C C A C C C C C C C C C C C C C C C C C C C C C C C\r\n",
      "3 58 CCTCGGG CCTGTCT CCCCGGG CCTCGGG CCCCGGG CCTCGGG CCCCGGG CCTCGGG CCCCGGG CCCCGGG CCTCGGG CCTCGGG CCCCGGG CCTCGGG CCCCGGG CCTCGGG CCCCGGG CCTCGGG CCTCGGG CCCCGGG CCCCGGG CCTCGGG CCCCGGG CCTCGGG CCCCGGG CCTCGGG CCTCGGG CCTCGGG CCCCGGG CCTCGGG CCTCGGG CCTCGGG CCTCGGG CCTCGGG CCTCGGG CCCCGGG CCTCGGG CCCCGGG CCTCGGG CCTCGGG ACTCGGG CCTCGGG CCTCGGG CCTCGGG CCTCGGG CCCCGGG CCTCGGG CCCCGGG CATCGGG CCCCGGG CCTCGGG CCCCGGG CCTCGGG CCCCGGG CCTCGGG CCTCGGG CCTCGGG CCCCGGG CCTCGGG CCTCGGG CCTCGGG CCTCGGG CCCCGGG CCTCGGG CCCCGGG CCCCGGG CCTCGGG CCTCGGG CCCCGGG CCTCGGG CCTCGGG CCTCGGG CCCCGGG CCTCGGG CCTCGGG CCTCGGG CCTCGGG CCCCGGG CCTCGGG CCTCGGG CCTCGGG\r\n",
      "4 59 CG CG CG CG CG CG CG CG CG CT CG CG CG CG CG CG CG CG CG CG CG CG CG CG CG CG CG CG CG CG CG CG CG CG CG CG CG CG CG CG CG CG CG CG CG CG CG CG CG CG CG CG CG AG CG CG CG CG CG CG CG\r\n",
      "6 57 CC CC CC CC CC CC CC CC CC CC CC CC TC CC TC CC CC TC CC TC CC TC CC TC CC CC CC CC CC CC CC CA CC CC CC CC CC CC CC CC CC CC CC CC CC CC CC CC CC CC CC CC CC CC CC CC TC CC CC CC TC CC CC CC CC TC CC\r\n",
      "8 46 A A A A A A A A A G A A A A A A A A A A A A A A A A G G A G A A A A A A A A A A A A A A A A\r\n",
      "9 55 GAAAAA GAATAA GAATTA TAAAAA TAAATA TAATAA TAATTA TAAAAA TAAAAG TAAATA TAAATG TAATAA TAATAG TAATTA TAATTG GAAAAA GAAATA TAAAAA TAAATA GAAAAA GAAATA GAATAA GAATTA TAAAAA TAAATA TAATAA TAATTA GAAAAA GAAAAA GAAAAA GAAAAA TAAAAA GAAAAA TAAAAA GAAAAA TAAAAA GAAAAA GAAAAA GAAAAA GAAAAA GAAAAA GAAAAA GAAAAA GAAAAA GAAAAA GAAAAA GAAAAA GAAAAA GAAAAA GAAAAA GAAAAA GAAAAA GAAAAA TAAAAA GAAAAA GATAAA GTAAAA GTTAAA TAAAAA TATAAA TTAAAA TTTAAA GAAAAA GATAAA TAAAAA TATAAA GAAAAA GAAAAA GATAAA GTAAAA GTTAAA TAAAAA TATAAA TTAAAA TTTAAA GAAAAA GAAAAA TAAAAA GAAAAA GAAAAA GAAAAA GAAAAA GAAAAA GAAAAA TAAAAA GAAAAA GAAAAA GAAAAA GAAAAA TAAAAA GAAAAA GAAAAA GAAAAA TAAAAA GAAAAA GAAAAA GAAAAA GAAAAA TAAAAA GAAAAA GAAAAA TAAAAA GAAAAA TAAAAA GAAAAA GAAAAA\r\n",
      "12 57 T T T T T T T T T T T T T T T T T T T T T T T T T T T T T T T T T T T T T T T T T C T C T T T T T T T T T T T T T T T\r\n",
      "14 55 CCC CCC CCC CCC CCC CCC CCC CCC CCC ACC CCC CCC CCC CCC CCC CCC CCC CCC CCC CCC CCC CCC CCC CCC CCC CCC CCC CCC CCC CCC CCC CCC CCC CCC CCC CCC CCC CCC CCC CCC CCC CCC CCC CCC CCC CCC CCC CCC CCC CAA CAC CCC CCC CCC CCC CCC CCC CCC\r\n",
      "16 60 C T C C C C C C C C C C C C C C C C C C C C C C C C C C C C C C C C C C C C C C C C C C C C C C C C T C C C C C C C C C C C\r\n",
      "18 57 C C C C C C C C C C C C C C T C C C C C C T C T C C C C C C T C C C C C C C T T C C C C C T C C C C C C C C C C T C C T C C C C C T\r\n",
      "19 58 GCC GCC GCC GCC GCC GCC GCC TCC GCC GCC GCC GCC GCC GCC GCC GCC GCC GCC GCC GCC GCC GCC GCC GCC GCC GCC GCC GCC GAC GCC GCC GCC GCC GCC GCC GCC GCC GCC GCC GCC GCC GCC GCC GCC GCC GCC TCC GCC GCC GCC GCC GCC GCC GCA GCC GCC GCC GCC GCC GCC\r\n",
      "21 55 C C C C C C C C C C C C C C C C C C C C C C C C C C C A C C C C C C C C C C C C C C C C C C C C C C C C C C C C\r\n",
      "22 56 AC AT AC AT AC AT AC AT AC AC AT AT AT AT AC AT AC AT AT AT AT AC AT AC AT AT AT AT AT AC AT AC AT AT AT AT AT AT AT AT AT AT AT AT AT AT AT TT AT AC AT AC AT AT AT AC AT AT AT AC AT AT AT AT AT AC AT AT AC AT AC AT\r\n",
      "25 57 G G G A G G A G A G G A G A G G G G G A G A G A A G A G A G G G A G A G G G A G G G A G A G G A G A G A G A G A G A G G A G G A G G A G A G A G A G A A G A G G A G A G A G\r\n",
      "27 56 CG CG CG CG CG CG CT CG CG CG CG CG CG CG CG CG CG CG CG CG CT CT CG CG CG CG CT CG CG CG CG CG CT CG CT CG CG CG CT CG CT CG CT CG CG CG CG CG AG CG CG CG CG CG CT CG CG CG CG CG CG CG CT CG CG\r\n",
      "28 55 A C A C C A C A A C C A C C A C C A C A C C C C C C A C C C C C A C C C C C C A C C C C C A C A A C A C A C A C A C A C C C A C C A C A C C A C C A C\r\n",
      "29 56 CGTC CGTC CGTC CGTC CGTC CGTC CGTC CGTC CGTC CATC CGTC CGTC CGTC CATC CGTC CGTC CGTC CGTC CATC CGTC CATC CGTC CGTC CGTC CGTC CGTC CGTC CGTC CGTC AGTC CGTC CGTC CGTC CGTC CGTC CATC CGTC CATC CGTC CGTC CGTC CGTC CGTC CGTC CGTC CATC CGTC CGTC CGTC CGTC CGTC CGTC CGTC CATC CATC CGAT CGTC CGTT CATC CGTC CGTC CGTC CGTC CGTC CGTC\r\n",
      "30 59 C A C C C C C C C C C C C C C C C C C C C C C C C C C C C C C C C C C C C C C C C C C C C C C C C C C C C C C C C C C C\r\n"
     ]
    }
   ],
   "source": [
    "!python preparing_file_for_correcting_genotypes.py \\\n",
    "../../stacksv44/stacks_v44/batch_2.haplotypes2.tsv \\\n",
    "../../stacksv44/stacks_v44/batch_2_biallelic.catalog.tsv \\\n",
    "../../stacksv44/stacks_v44/batch_2.catalog.snps2.tsv \\\n",
    "1"
   ]
  },
  {
   "cell_type": "code",
   "execution_count": 13,
   "metadata": {
    "collapsed": false,
    "scrolled": false
   },
   "outputs": [
    {
     "name": "stdout",
     "output_type": "stream",
     "text": [
      "############## Marine Brieuc   mbrieuc <a> uw.edu\r\n",
      "### NEED: file with list of individuals (1 individual per line) check end of line and change line 38 if necessary                            - line 38 + check line 43\r\n",
      "###       catalog file: name of locus in first columns, haplotype1 and haplotype2 in second column, SNP positions in the following columns    - line 16\r\n",
      "###       name of output file                                                                                                                - line 12\r\n",
      "###       location of the indiv.tags.tsv files                                                                                               - line 58\r\n",
      "###       can change the min depth if wanted                                                                                                 - lines 60 62 64 108 110 112\r\n",
      "##########################################################################################\r\n",
      "#python genotypes_verif_v2_no_ref.py\r\n",
      "\r\n",
      "\r\n",
      "\t\t\t\t\t\t\t\t\t\t\t\t## Open the output genotype file for writing\r\n",
      "genotype_file=open('../../stacksv44/stacks_v44/GE011215_18_CorrectedGenos.txt' ,'w')\r\n",
      "\r\n",
      "\r\n",
      "\t\t\t\t\t\t\t\t\t\t\t\t## Catalog file with name of locus in first columns, haplotype1 and haplotype2 in second column, SNP positions in the following columns\r\n",
      "Catalog_file=open('../../stacksv44/stacks_v44/batch_2_biallelic.catalog.tsv','r')\r\n",
      "\r\n",
      "\t\t\t\t\t\t\t\t\t\t\t\t## Initiate dictionary: locus :: haplotype1,haplotype2\r\n",
      "loci={}\r\n",
      "for line in Catalog_file:\t\t\t\t\t\t\r\n"
     ]
    }
   ],
   "source": [
    "!head -n 20 genotypes_verif_v2_no_ref.py"
   ]
  },
  {
   "cell_type": "code",
   "execution_count": 15,
   "metadata": {
    "collapsed": false,
    "scrolled": false
   },
   "outputs": [
    {
     "name": "stdout",
     "output_type": "stream",
     "text": [
      "GE011215_18\r\n"
     ]
    }
   ],
   "source": [
    "!python genotypes_verif_v2_no_ref.py"
   ]
  },
  {
   "cell_type": "markdown",
   "metadata": {},
   "source": [
    "**(6) Choose loci / SNPs to look at **\n",
    "\n",
    "** This involves looking at the biallelic catalog and the individual .matches file. **\n",
    "\n",
    "**1. Open the biallelic catalog and the individual .matches / .snps files in excel**\n",
    "\n",
    "**2. Find a catalog locus in the biallelic catalog that IS PRESENT in the .matches file (catalog loci #s are column 3 of the .matches file)**\n",
    "\n",
    "**3. Write down (a) the catalog locus number, (b) the corresponding sample locus ID (column 5 in the .matches file), (c) the haplotype according to the .matches file (column 6; if the individual is heterzygous, there should be two entries for the same sample locus ID)**\n",
    "\n",
    "**4. Go into the SNPs file and find the sample locus ID. the location of the SNP will be listed in the 4th column. Note that stacks uses a 0 based offset, just like python. **\n",
    "\n",
    "8 : Sample Locus 8, (A)\n",
    "- position 27\n",
    "\n",
    "92 : Sample Locus 92, (A) (G)\n",
    "- position 30\n",
    "\n",
    "51 : Sample Locus 51\n",
    "- position 125: (C), (T)\n",
    "- position 141: (G), (C)\n",
    "\n",
    "\n"
   ]
  },
  {
   "cell_type": "code",
   "execution_count": 18,
   "metadata": {
    "collapsed": false,
    "scrolled": true
   },
   "outputs": [
    {
     "name": "stdout",
     "output_type": "stream",
     "text": [
      "/mnt/hgfs/Pacific cod/DataAnalysis/scripts\n"
     ]
    }
   ],
   "source": [
    "cd ../"
   ]
  },
  {
   "cell_type": "code",
   "execution_count": 21,
   "metadata": {
    "collapsed": false,
    "scrolled": true
   },
   "outputs": [
    {
     "name": "stdout",
     "output_type": "stream",
     "text": [
      "#### To find the SNPs in ALL reads for that locus ####\r\n",
      "## input file: individual .tags file\r\n",
      "## CHANGE WITHIN THE SCRIPT: the list of loci and their related SNP locations\r\n",
      "# 11/11/2016\r\n",
      "#########################################################\r\n",
      "\r\n",
      "#for GE011215_18 (12/1/2016)\r\n",
      "\r\n",
      "loci = [\"8\", \"92\", \"51\", \"51\"] #list of loci that you want to check\r\n",
      "#corresponds to catalog loci 8, 92, 51\r\n",
      "SNPloc = [27, 30, 125, 141] #SNP locations at those loci, according to biallelic catalog\r\n",
      "\r\n",
      "\r\n"
     ]
    }
   ],
   "source": [
    "!head -n 13 find_SNPs_inCatalogFile.py"
   ]
  },
  {
   "cell_type": "markdown",
   "metadata": {},
   "source": [
    "**5. Edit the Locus and SNP location data in the `find_SNPs_inCatalogFile.py` script**"
   ]
  },
  {
   "cell_type": "code",
   "execution_count": 23,
   "metadata": {
    "collapsed": false
   },
   "outputs": [
    {
     "name": "stdout",
     "output_type": "stream",
     "text": [
      "# ustacks version 1.44; generated on 2016-11-23 12:26:44\n",
      "\n",
      "Locus:  8\n",
      "['A', 'A', 'A', 'A', 'A', 'A', 'A', 'A', 'A', 'A', 'A', 'A', 'A', 'A', 'A', 'A', 'A', 'A', 'A', 'A', 'A', 'A', 'A', 'A', 'A', 'A', 'A', 'A', 'A', 'A', 'A', 'A', 'A', 'A', 'A', 'A', 'A', 'A', 'A', 'A', 'A', 'A', 'A', 'A', 'A', 'A', 'A', 'A', 'A', 'A', 'A', 'A', 'A', 'A', 'A', 'A', 'A', 'A', 'A', 'A', 'A', 'A', 'A', 'A', 'A', 'A', 'A', 'A', 'A', 'A', 'A', 'A', 'A', 'A', 'A', 'A', 'A', 'A', 'A', 'A', 'A', 'A', 'A', 'A', 'A', 'A', 'A', 'A', 'A', 'A', 'A', 'A', 'A', 'A', 'A', 'A', 'A', 'A', 'A', 'A', 'A', 'A', 'A', 'A', 'A', 'A', 'A', 'A', 'A', 'A', 'A', 'A']\n",
      "SNPs:  ['A']\n",
      "112  reads\n",
      "Locus:  92\n",
      "['G', 'G', 'G', 'G', 'G', 'G', 'G', 'G', 'G', 'G', 'G', 'G', 'G', 'G', 'G', 'G', 'G', 'G', 'G', 'G', 'G', 'G', 'G', 'G', 'G', 'G', 'G', 'G', 'G', 'G', 'G', 'G', 'G', 'G', 'G', 'G', 'G', 'G', 'G', 'G', 'G', 'G', 'A', 'A', 'A', 'A', 'A', 'A', 'A', 'A', 'A', 'A', 'A', 'A', 'A', 'A', 'A', 'A', 'A', 'A', 'A', 'A', 'A', 'A', 'A', 'A', 'A', 'A', 'A', 'A', 'A', 'A', 'A', 'A', 'A', 'A', 'A', 'A', 'A', 'A', 'A', 'A', 'A', 'A', 'A', 'A', 'A', 'A', 'A', 'A', 'A', 'A', 'A', 'A', 'A', 'A', 'A', 'A', 'A', 'A', 'A', 'A', 'A', 'A', 'A', 'A', 'A', 'A', 'A', 'A', 'A', 'A', 'A', 'A', 'A', 'A', 'A', 'A', 'A', 'A', 'A', 'A', 'A', 'A', 'A', 'A', 'A', 'A', 'A', 'A', 'A', 'A', 'A', 'A', 'A', 'A', 'A', 'A', 'A', 'A', 'A', 'A', 'A', 'A', 'A', 'A', 'A', 'A', 'A', 'A', 'A', 'A', 'A', 'A', 'A', 'A', 'A', 'A', 'A', 'A', 'A', 'A', 'A', 'A', 'A', 'A', 'A', 'A', 'A', 'A', 'A', 'A', 'A', 'A', 'A', 'A', 'A', 'A', 'A', 'A', 'A', 'A', 'A', 'A', 'A', 'A', 'A', 'A', 'A', 'A', 'A', 'A', 'A', 'A', 'A', 'A', 'A', 'A']\n",
      "SNPs:  ['G', 'A']\n",
      "198  reads\n",
      "Locus:  51\n",
      "['C', 'C', 'C', 'C', 'C', 'C', 'C', 'C', 'C', 'C', 'C', 'C', 'C', 'C', 'C', 'C', 'C', 'C', 'C', 'C', 'C', 'C', 'T', 'T', 'T', 'T', 'T', 'T', 'T', 'T', 'T', 'T', 'T', 'T', 'T', 'T', 'T', 'T', 'T', 'T', 'T', 'T', 'T', 'T', 'T', 'T', 'T', 'T', 'T', 'T', 'T']\n",
      "SNPs:  ['C', 'T']\n",
      "51  reads\n",
      "Locus:  51\n",
      "['C', 'C', 'C', 'C', 'C', 'C', 'C', 'C', 'C', 'C', 'C', 'C', 'C', 'C', 'C', 'C', 'C', 'C', 'C', 'C', 'C', 'C', 'T', 'T', 'T', 'T', 'T', 'T', 'T', 'T', 'T', 'T', 'T', 'T', 'T', 'T', 'T', 'T', 'T', 'T', 'T', 'T', 'T', 'T', 'T', 'T', 'T', 'T', 'T', 'T', 'T']\n",
      "SNPs:  ['C', 'T']\n",
      "51  reads\n"
     ]
    }
   ],
   "source": [
    "!python find_SNPs_inCatalogFile.py ../stacksv44/stacks_v44/GE011215_18.tags.tsv"
   ]
  },
  {
   "cell_type": "markdown",
   "metadata": {
    "collapsed": true
   },
   "source": [
    "So now everything appears to be working correctly! Except that last SNP at position 141, locus 51. I want to check this one manually, so I created a python script that takes a .txt file of the reads at this locus (each on its own line) and explodes the string out into a list (each base in the sequence is tab-delimited). I copied the output into excel, and checked the bases at position 141. bases found = \"g\" and \"c\"!!! \n",
    "\n",
    "\n",
    "The new stacks version is working fine calling the SNPs, so I'll be able to continue with my analyses. "
   ]
  },
  {
   "cell_type": "code",
   "execution_count": null,
   "metadata": {
    "collapsed": true
   },
   "outputs": [],
   "source": []
  }
 ],
 "metadata": {
  "anaconda-cloud": {},
  "kernelspec": {
   "display_name": "Python [default]",
   "language": "python",
   "name": "python2"
  },
  "language_info": {
   "codemirror_mode": {
    "name": "ipython",
    "version": 2
   },
   "file_extension": ".py",
   "mimetype": "text/x-python",
   "name": "python",
   "nbconvert_exporter": "python",
   "pygments_lexer": "ipython2",
   "version": "2.7.12"
  }
 },
 "nbformat": 4,
 "nbformat_minor": 1
}
