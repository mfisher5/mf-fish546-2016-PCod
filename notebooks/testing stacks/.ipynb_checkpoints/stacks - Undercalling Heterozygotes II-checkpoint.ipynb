{
 "cells": [
  {
   "cell_type": "markdown",
   "metadata": {},
   "source": [
    "## Alternate to stacks `populations` with no reference genome: undercalling heterozygotes in stacks\n",
    "\n",
    "Because of the maximum likelihood method used to call genotypes, old versions of stacks tended to undercall heterozygotes. This could be a particular problem if using a lower **-m** (stack depth) value during ustacks. Does the new version undercall heterozygotes? \n",
    "\n",
    "In the first notebook, I was have trouble with Marine's scripts calling incorrect genotypes. The problem with the other scripts may be that they are built for data output by pstacks (with reference genome) rather than ustacks (without reference genome). \n",
    "\n",
    "In this notebook, I'm trying Eleni's script that was built for ustacks output, no reference genome. \n",
    "\n",
    "*However, this script was still written for an earlier version of stacks, so I may still encounter some issues*"
   ]
  },
  {
   "cell_type": "code",
   "execution_count": 1,
   "metadata": {
    "collapsed": false
   },
   "outputs": [
    {
     "data": {
      "text/plain": [
       "u'/mnt/hgfs/Shared Drive D/Pacific cod/DataAnalysis/mf-fish546-2016/notebooks'"
      ]
     },
     "execution_count": 1,
     "metadata": {},
     "output_type": "execute_result"
    }
   ],
   "source": [
    "pwd"
   ]
  },
  {
   "cell_type": "code",
   "execution_count": 2,
   "metadata": {
    "collapsed": false
   },
   "outputs": [
    {
     "name": "stdout",
     "output_type": "stream",
     "text": [
      "/mnt/hgfs/Shared Drive D/Pacific cod/DataAnalysis/UCstacksL1/stacks_base\n"
     ]
    }
   ],
   "source": [
    "cd ../../UCstacksL1/stacks_base/"
   ]
  },
  {
   "cell_type": "code",
   "execution_count": 3,
   "metadata": {
    "collapsed": true
   },
   "outputs": [],
   "source": [
    "!gzip batch_303.catalog.tags.tsv"
   ]
  },
  {
   "cell_type": "code",
   "execution_count": 19,
   "metadata": {
    "collapsed": true
   },
   "outputs": [],
   "source": [
    "!gzip -d GE011215_01.1.tags.tsv.gz"
   ]
  },
  {
   "cell_type": "code",
   "execution_count": 9,
   "metadata": {
    "collapsed": false
   },
   "outputs": [
    {
     "name": "stdout",
     "output_type": "stream",
     "text": [
      "/mnt/hgfs/Shared Drive D/Pacific cod/DataAnalysis/UCstacksL1/sstacks_batch303\n"
     ]
    }
   ],
   "source": [
    "cd ../sstacks_batch303"
   ]
  },
  {
   "cell_type": "code",
   "execution_count": 10,
   "metadata": {
    "collapsed": false
   },
   "outputs": [],
   "source": [
    "!gzip -d GE011215_01.1.matches.tsv.gz"
   ]
  },
  {
   "cell_type": "code",
   "execution_count": 22,
   "metadata": {
    "collapsed": false
   },
   "outputs": [
    {
     "name": "stdout",
     "output_type": "stream",
     "text": [
      "/mnt/hgfs/Shared Drive D/Pacific cod/DataAnalysis/UCstacksL1/populations\n"
     ]
    }
   ],
   "source": [
    "cd ../populations/"
   ]
  },
  {
   "cell_type": "code",
   "execution_count": 13,
   "metadata": {
    "collapsed": false,
    "scrolled": true
   },
   "outputs": [
    {
     "name": "stdout",
     "output_type": "stream",
     "text": [
      "############## Marine Brieuc   mbrieuc <a> uw.edu\r\n",
      "### NEED: file with list of individuals (1 individual per line) check end of line and change line 38 if necessary                            - line 38 + check line 43\r\n",
      "###       catalog file: name of locus in first columns, haplotype1 and haplotype2 in second column, SNP positions in the following columns    - line 16\r\n",
      "###       name of output file                                                                                                                - line 12\r\n",
      "###       location of the indiv.tags.tsv files                                                                                               - line 58\r\n",
      "###       can change the min depth if wanted                                                                                                 - lines 60 62 64 108 110 112\r\n",
      "##########################################################################################\r\n",
      "##### MF: altered 11/10/2016 (file paths + stack depth of 5)\r\n",
      "\r\n",
      "\r\n"
     ]
    }
   ],
   "source": [
    "!head -n 10 genotypes_verif_v2_no_ref.py"
   ]
  },
  {
   "cell_type": "code",
   "execution_count": 23,
   "metadata": {
    "collapsed": false
   },
   "outputs": [
    {
     "name": "stdout",
     "output_type": "stream",
     "text": [
      "GE011215_01.1\r\n"
     ]
    }
   ],
   "source": [
    "!python genotypes_verif_v2_no_ref.py"
   ]
  },
  {
   "cell_type": "code",
   "execution_count": 26,
   "metadata": {
    "collapsed": false
   },
   "outputs": [
    {
     "name": "stdout",
     "output_type": "stream",
     "text": [
      "Proportion of Missing Loci per sample\r\n",
      "GE011215_01.1\r\n",
      "0.0548440979955\r\n"
     ]
    }
   ],
   "source": [
    "!python count_missing_genotypes.py corrected_genotypes_test_NoRef.txt"
   ]
  },
  {
   "cell_type": "markdown",
   "metadata": {},
   "source": [
    "Just like before, I'm going to groundtruth the haplotypes listed in the \"corrected_genotypes\" file. \n",
    "\n",
    "Locus\n",
    "- 127: a (C), **T**\n",
    "- 191: b (G), **A**\n",
    "- 1006: a (A), **T**\n",
    "- 4891: ab (CT) **C**"
   ]
  },
  {
   "cell_type": "code",
   "execution_count": 27,
   "metadata": {
    "collapsed": false
   },
   "outputs": [
    {
     "name": "stdout",
     "output_type": "stream",
     "text": [
      "Locus:  1006 SNP location:  50 SNP:  T\r\n",
      "Locus:  1006 SNP location:  50 SNP:  T\r\n",
      "Locus:  1006 SNP location:  50 SNP:  T\r\n",
      "Locus:  1006 SNP location:  50 SNP:  T\r\n",
      "Locus:  127 SNP location:  65 SNP:  T\r\n",
      "Locus:  127 SNP location:  65 SNP:  T\r\n",
      "Locus:  127 SNP location:  65 SNP:  T\r\n",
      "Locus:  127 SNP location:  65 SNP:  T\r\n",
      "Locus:  191 SNP location:  55 SNP:  A\r\n",
      "Locus:  191 SNP location:  55 SNP:  A\r\n",
      "Locus:  191 SNP location:  55 SNP:  A\r\n",
      "Locus:  191 SNP location:  55 SNP:  A\r\n",
      "Locus:  4891 SNP location:  112 SNP:  C\r\n",
      "Locus:  4891 SNP location:  112 SNP:  C\r\n",
      "Locus:  4891 SNP location:  112 SNP:  C\r\n",
      "Locus:  4891 SNP location:  112 SNP:  C\r\n",
      "Locus:  4891 SNP location:  112 SNP:  C\r\n"
     ]
    }
   ],
   "source": [
    "!python findSNPs.py find_SNPseqs.txt"
   ]
  },
  {
   "cell_type": "markdown",
   "metadata": {
    "collapsed": true
   },
   "source": [
    "Based on the checks above, the script may not be reading the file correctly. I want to be able to scan over more sequences in the original .catalog file instead of making a new file of sequences, so I'm working on python code to do that.\n",
    "\n",
    "\n",
    "### 11/11/2016\n",
    "\n",
    "\n",
    "I created a script that takes an entire .tags.tsv file as input, and requires overwrite of a list of loci / their respective SNP locations. It then writes out the locus and the alleles at that locus. "
   ]
  },
  {
   "cell_type": "code",
   "execution_count": 22,
   "metadata": {
    "collapsed": false
   },
   "outputs": [
    {
     "data": {
      "text/plain": [
       "u'/mnt/hgfs/Shared Drive D/Pacific cod/DataAnalysis/scripts'"
      ]
     },
     "execution_count": 22,
     "metadata": {},
     "output_type": "execute_result"
    }
   ],
   "source": [
    "pwd"
   ]
  },
  {
   "cell_type": "code",
   "execution_count": 2,
   "metadata": {
    "collapsed": false
   },
   "outputs": [
    {
     "name": "stdout",
     "output_type": "stream",
     "text": [
      "/mnt/hgfs/Shared Drive D/Pacific cod/DataAnalysis/scripts\n"
     ]
    }
   ],
   "source": []
  },
  {
   "cell_type": "code",
   "execution_count": 5,
   "metadata": {
    "collapsed": false
   },
   "outputs": [
    {
     "name": "stdout",
     "output_type": "stream",
     "text": [
      "#### To find the SNPs in ALL reads for that locus ####\r\n",
      "## input file: individual .tags file\r\n",
      "## CHANGE WITHIN THE SCRIPT: the list of loci and their related SNP locations\r\n",
      "# 11/11/2016\r\n",
      "#########################################################\r\n",
      "\r\n",
      "\r\n",
      "loci = [\"8\", \"11\", \"12\"] #list of loci that you want to check\r\n",
      "#haplotypes at each locus: 8 - ab, 11 - a, 12 - b\r\n",
      "\r\n",
      "SNPloc = [65, 87, 96] #SNP locations at those loci, according to biallelic catalog\r\n"
     ]
    }
   ],
   "source": [
    "!head -n 11 find_SNPs_inCatalogFile.py "
   ]
  },
  {
   "cell_type": "code",
   "execution_count": 6,
   "metadata": {
    "collapsed": false
   },
   "outputs": [
    {
     "name": "stdout",
     "output_type": "stream",
     "text": [
      "# ustacks version 1.42; generated on 2016-10-11 14:10:45\n",
      "\n",
      "Locus:  8\n",
      "SNPs:  ['G']\n",
      "Locus:  11\n",
      "SNPs:  ['C']\n",
      "Locus:  12\n",
      "SNPs:  ['A']\n"
     ]
    }
   ],
   "source": [
    "!python find_SNPs_inCatalogFile.py ../UCstacksL1/stacks_base/GE011215_01.1.tags.tsv"
   ]
  },
  {
   "cell_type": "markdown",
   "metadata": {},
   "source": [
    "If I compare this to the expected output according to the genotypes file from the script `genotypes_verif_v2_no_ref.py`: Locus 8 ('A','G'), Locus 11 ('A'), Locus 12 ('C'), ...\n",
    "\n",
    "I can see that the `genotypes_verif_v2_no_ref.py` is not outputting the correct genotypes for an individual that WAS used to make the catalog. What about an individual that was NOT used to make the catalog? "
   ]
  },
  {
   "cell_type": "code",
   "execution_count": 7,
   "metadata": {
    "collapsed": false
   },
   "outputs": [
    {
     "name": "stdout",
     "output_type": "stream",
     "text": [
      "/mnt/hgfs/Shared Drive D/Pacific cod/DataAnalysis/UCstacksL1/stacks_base\n"
     ]
    }
   ],
   "source": [
    "cd ../UCstacksL1/stacks_base"
   ]
  },
  {
   "cell_type": "code",
   "execution_count": 8,
   "metadata": {
    "collapsed": true
   },
   "outputs": [],
   "source": [
    "!gzip GE011215_01.1.tags.tsv"
   ]
  },
  {
   "cell_type": "code",
   "execution_count": 9,
   "metadata": {
    "collapsed": true
   },
   "outputs": [],
   "source": [
    "!gzip -d GE011215_21.1.tags.tsv.gz"
   ]
  },
  {
   "cell_type": "code",
   "execution_count": 10,
   "metadata": {
    "collapsed": false
   },
   "outputs": [
    {
     "name": "stdout",
     "output_type": "stream",
     "text": [
      "/mnt/hgfs/Shared Drive D/Pacific cod/DataAnalysis/UCstacksL1/populations\n"
     ]
    }
   ],
   "source": [
    "cd ../populations/"
   ]
  },
  {
   "cell_type": "code",
   "execution_count": 11,
   "metadata": {
    "collapsed": false
   },
   "outputs": [
    {
     "name": "stdout",
     "output_type": "stream",
     "text": [
      "GE011215_21.1\r\n"
     ]
    }
   ],
   "source": [
    "#changed the SampleNames_CorrectGenos file\n",
    "!head SampleNames_CorrectGenos"
   ]
  },
  {
   "cell_type": "code",
   "execution_count": 12,
   "metadata": {
    "collapsed": true
   },
   "outputs": [],
   "source": [
    "#need to unzip the matches file (sstacks_303)"
   ]
  },
  {
   "cell_type": "code",
   "execution_count": 13,
   "metadata": {
    "collapsed": false
   },
   "outputs": [
    {
     "name": "stdout",
     "output_type": "stream",
     "text": [
      "/mnt/hgfs/Shared Drive D/Pacific cod/DataAnalysis/UCstacksL1/sstacks_batch303\n"
     ]
    }
   ],
   "source": [
    "cd ../sstacks_batch303"
   ]
  },
  {
   "cell_type": "code",
   "execution_count": 15,
   "metadata": {
    "collapsed": false
   },
   "outputs": [],
   "source": [
    "!gzip GE011215_01.1.matches.tsv"
   ]
  },
  {
   "cell_type": "code",
   "execution_count": 16,
   "metadata": {
    "collapsed": true
   },
   "outputs": [],
   "source": [
    "!gzip -d GE011215_21.1.matches.tsv.gz"
   ]
  },
  {
   "cell_type": "code",
   "execution_count": 17,
   "metadata": {
    "collapsed": false
   },
   "outputs": [
    {
     "name": "stdout",
     "output_type": "stream",
     "text": [
      "/mnt/hgfs/Shared Drive D/Pacific cod/DataAnalysis/UCstacksL1/populations\n"
     ]
    }
   ],
   "source": [
    "cd ../populations/"
   ]
  },
  {
   "cell_type": "code",
   "execution_count": 18,
   "metadata": {
    "collapsed": false
   },
   "outputs": [
    {
     "name": "stdout",
     "output_type": "stream",
     "text": [
      "GE011215_21.1\r\n"
     ]
    }
   ],
   "source": [
    "!python genotypes_verif_v2_no_ref.py"
   ]
  },
  {
   "cell_type": "code",
   "execution_count": 19,
   "metadata": {
    "collapsed": false
   },
   "outputs": [
    {
     "name": "stdout",
     "output_type": "stream",
     "text": [
      "/mnt/hgfs/Shared Drive D/Pacific cod/DataAnalysis/scripts\n"
     ]
    }
   ],
   "source": [
    "cd ../../scripts"
   ]
  },
  {
   "cell_type": "code",
   "execution_count": 20,
   "metadata": {
    "collapsed": false
   },
   "outputs": [
    {
     "name": "stdout",
     "output_type": "stream",
     "text": [
      "#### To find the SNPs in ALL reads for that locus ####\r\n",
      "## input file: individual .tags file\r\n",
      "## CHANGE WITHIN THE SCRIPT: the list of loci and their related SNP locations\r\n",
      "# 11/11/2016\r\n",
      "#########################################################\r\n",
      "\r\n",
      "#for GE011215_21\r\n",
      "\r\n",
      "loci = [\"8\", \"11\", \"12\"] #list of loci that you want to check\r\n",
      "#haplotypes at each locus: 8 - b, 11 - ab, 12 - b\r\n"
     ]
    }
   ],
   "source": [
    "#looked up the haplotypes at each of the loci in the corrected genotypes _noRef file\n",
    "!head find_SNPs_inCatalogFile.py"
   ]
  },
  {
   "cell_type": "code",
   "execution_count": 21,
   "metadata": {
    "collapsed": false
   },
   "outputs": [
    {
     "name": "stdout",
     "output_type": "stream",
     "text": [
      "# ustacks version 1.42; generated on 2016-10-11 13:33:41\n",
      "\n",
      "Locus:  8\n",
      "SNPs:  ['T']\n",
      "Locus:  11\n",
      "SNPs:  ['G']\n",
      "Locus:  12\n",
      "SNPs:  ['C']\n"
     ]
    }
   ],
   "source": [
    "!python find_SNPs_inCatalogFile.py ../UCstacksL1/stacks_base/GE011215_21.1.tags.tsv"
   ]
  },
  {
   "cell_type": "markdown",
   "metadata": {},
   "source": [
    "If I compare this to the expected output according to the genotypes file from the script `genotypes_verif_v2_no_ref.py`: Locus 8 ('G'), Locus 11 ('A', 'G'), Locus 12 ('C'), ...\n",
    "\n",
    "So it detected locus 12 correctly, but there is an allele in locus 8 NOT registered in the catalog (T), and Locus 11 should have only one allele, instead of two. "
   ]
  },
  {
   "cell_type": "markdown",
   "metadata": {},
   "source": [
    "### !!! The difference between the pstacks and the ustacks output in terms of the verif_genotypes script is that with no reference genome, the Locus ID in a single sample doesn't necessarily correlate to the same locus ID in the catalog !!!**\n",
    "\n",
    "For example: \n"
   ]
  },
  {
   "cell_type": "code",
   "execution_count": 23,
   "metadata": {
    "collapsed": false
   },
   "outputs": [
    {
     "data": {
      "text/plain": [
       "u'/mnt/hgfs/Shared Drive D/Pacific cod/DataAnalysis/scripts'"
      ]
     },
     "execution_count": 23,
     "metadata": {},
     "output_type": "execute_result"
    }
   ],
   "source": [
    "pwd"
   ]
  },
  {
   "cell_type": "code",
   "execution_count": 24,
   "metadata": {
    "collapsed": false
   },
   "outputs": [
    {
     "name": "stdout",
     "output_type": "stream",
     "text": [
      "/mnt/hgfs/Shared Drive D/Pacific cod/DataAnalysis/UCstacksL1/sstacks_batch303\n"
     ]
    }
   ],
   "source": [
    "cd ../UCstacksL1/sstacks_batch303"
   ]
  },
  {
   "cell_type": "code",
   "execution_count": 31,
   "metadata": {
    "collapsed": false
   },
   "outputs": [
    {
     "name": "stdout",
     "output_type": "stream",
     "text": [
      "\tBatch_ID\tCatLocus\tSampleID\tSampleLocus\tHaplotype\tStack Depth\tLog likelihood\r",
      "\r\n",
      "0\t303\t25508\t38\t146\tconsensus\t111\t-42.62\r",
      "\r\n",
      "0\t303\t33314\t38\t147\tC\t161\t-21.89\r",
      "\r\n",
      "0\t303\t94087\t38\t148\tA\t6\t-4.02\r",
      "\r\n",
      "0\t303\t14617\t38\t150\tconsensus\t87\t-24.85\r",
      "\r\n",
      "0\t303\t28674\t38\t151\tconsensus\t66\t-33.68\r",
      "\r\n",
      "0\t303\t19645\t38\t152\tGAA\t51\t-36.21\r",
      "\r\n",
      "0\t303\t52451\t38\t153\tAT\t14\t-37.96\r",
      "\r\n",
      "0\t303\t52451\t38\t153\tGT\t10\t-37.96\r",
      "\r\n",
      "0\t303\t34894\t38\t154\tG\t128\t-40.07\r",
      "\r\n"
     ]
    }
   ],
   "source": [
    "!head GE011215_21.matches.explained.txt*"
   ]
  },
  {
   "cell_type": "markdown",
   "metadata": {},
   "source": [
    "So this individual's locus 146 aligns to catalog locus 25508. \n",
    "\n",
    "Which means that if I want to check the haplotypes of biallelic catalog Loci 8,11, and 12, in my script I have to look up different loci. According to the .matches file, catalog loci 8,11,12 were not found in this sample. So I'll instead look up biallelic catalog loci and compare to stacks' .matches file ...\n",
    "\n",
    "27: Sample Locus 5088 (C,T) -- verif_genotypes haplotype = ab (CORRECT!)\n",
    "\n",
    "116: Sample Locus 4139 (A, G) -- verif_genotypes haplotype = ab (CORRECT!)\n",
    "\n",
    "78: Sample Locus 5026 (G) -- verif_genotypes haplotype = b (CORRECT!)\n",
    "\n",
    "61: Sample Locus 8073 (G) -- verif_genotypes haplotype = b (CORRECT!)\n",
    "\n",
    "Now to groundtruth the .matches file..."
   ]
  },
  {
   "cell_type": "code",
   "execution_count": 49,
   "metadata": {
    "collapsed": false
   },
   "outputs": [
    {
     "name": "stdout",
     "output_type": "stream",
     "text": [
      "/mnt/hgfs/Shared Drive D/Pacific cod/DataAnalysis/scripts\n"
     ]
    }
   ],
   "source": [
    "cd ../../scripts"
   ]
  },
  {
   "cell_type": "code",
   "execution_count": 50,
   "metadata": {
    "collapsed": false,
    "scrolled": true
   },
   "outputs": [
    {
     "name": "stdout",
     "output_type": "stream",
     "text": [
      "# ustacks version 1.42; generated on 2016-10-11 13:33:41\n",
      "\n",
      "Locus:  5088\n",
      "['T', 'T', 'T', 'T', 'T', 'T', 'T', 'T', 'T', 'T', 'T', 'T', 'T', 'T', 'T', 'T', 'T', 'T', 'T', 'T', 'T', 'T', 'T', 'T', 'T', 'T', 'T', 'T', 'T', 'T', 'T', 'T', 'T', 'T', 'T', 'T', 'T', 'T', 'T', 'T', 'T', 'T', 'T', 'T', 'T', 'T', 'T', 'T', 'T', 'T', 'T', 'T', 'T', 'T', 'T', 'T', 'T', 'T', 'T', 'T', 'T', 'T', 'T', 'T', 'T', 'T', 'T', 'T', 'T', 'T', 'T', 'T', 'T', 'T', 'T', 'T', 'T', 'T', 'T', 'T', 'T', 'T', 'T', 'T', 'T', 'T', 'T', 'T', 'T', 'T', 'T']\n",
      "SNPs:  ['T']\n",
      "91  reads\n",
      "Locus:  4139\n",
      "['C', 'C', 'C', 'C', 'C', 'C', 'C', 'C', 'C', 'C', 'C', 'C', 'C', 'C', 'C', 'C', 'C', 'C', 'C', 'C', 'C', 'C', 'C', 'C', 'C', 'C', 'C', 'C', 'C', 'C', 'C', 'C', 'C', 'C', 'C', 'C', 'C', 'C', 'C', 'C', 'C', 'C', 'C', 'C', 'C', 'C', 'C', 'C', 'C', 'C', 'C', 'C', 'C', 'C', 'C', 'C', 'C', 'C', 'C', 'C', 'C', 'C', 'C', 'C', 'C', 'C', 'C', 'C', 'C', 'C', 'C', 'C', 'C', 'C', 'C', 'C', 'C', 'C', 'C', 'C', 'C', 'C', 'C', 'C', 'C', 'C']\n",
      "SNPs:  ['C']\n",
      "86  reads\n",
      "Locus:  5026\n",
      "['A', 'A', 'A', 'A', 'A', 'A', 'A', 'A', 'A', 'A', 'A', 'A', 'A', 'A', 'A', 'A', 'A', 'A', 'A', 'A', 'A', 'A', 'A', 'A', 'A', 'A', 'A', 'A', 'A', 'A', 'A', 'A', 'A', 'A', 'A', 'A', 'A', 'A', 'A', 'A', 'A', 'A', 'A', 'A', 'A', 'A', 'A', 'A', 'A', 'A', 'A', 'A', 'A', 'A', 'A', 'A', 'A', 'A', 'A', 'A', 'A', 'A', 'A', 'A', 'A', 'A', 'A', 'A', 'A', 'A', 'A', 'A', 'A', 'A', 'A', 'A', 'A', 'A', 'A', 'A', 'A', 'A', 'A', 'A', 'A', 'A', 'A', 'A', 'A', 'A', 'A', 'A', 'A', 'A']\n",
      "SNPs:  ['A']\n",
      "94  reads\n",
      "Locus:  8073\n",
      "['G', 'G', 'G', 'G', 'G', 'G', 'G', 'G', 'G', 'G', 'G', 'G', 'G', 'G', 'G', 'G', 'G', 'G', 'G', 'G', 'G', 'G', 'G', 'G', 'G', 'G', 'G', 'G', 'G', 'G', 'G', 'G', 'G', 'G', 'G', 'G', 'G', 'G', 'G', 'G', 'G', 'G', 'G', 'G', 'G', 'G', 'G', 'G', 'G', 'G', 'G', 'G', 'G', 'G', 'G', 'G', 'G', 'C', 'C', 'G', 'G', 'G']\n",
      "SNPs:  ['G', 'C']\n",
      "62  reads\n"
     ]
    }
   ],
   "source": [
    "!python find_SNPs_inCatalogFile.py ../UCstacksL1/stacks_base/GE011215_21.1.tags.tsv"
   ]
  },
  {
   "cell_type": "markdown",
   "metadata": {},
   "source": [
    "These results don't match what is expected using the .matches file. Could there be something wrong with the script? Will go back and check using manual script where I isolate specific loci instead of using script on entire .tags file. "
   ]
  },
  {
   "cell_type": "code",
   "execution_count": 47,
   "metadata": {
    "collapsed": false
   },
   "outputs": [
    {
     "name": "stdout",
     "output_type": "stream",
     "text": [
      "/mnt/hgfs/Shared Drive D/Pacific cod/DataAnalysis/UCstacksL1/populations\n"
     ]
    }
   ],
   "source": [
    "cd ../UCstacksL1/populations/"
   ]
  },
  {
   "cell_type": "code",
   "execution_count": 48,
   "metadata": {
    "collapsed": false
   },
   "outputs": [
    {
     "name": "stdout",
     "output_type": "stream",
     "text": [
      "Locus:  5088 SNP location:  78 SNP:  T\r\n",
      "Locus:  5088 SNP location:  78 SNP:  T\r\n",
      "Locus:  5088 SNP location:  78 SNP:  T\r\n",
      "Locus:  5088 SNP location:  78 SNP:  T\r\n",
      "Locus:  5088 SNP location:  78 SNP:  T\r\n",
      "Locus:  5088 SNP location:  78 SNP:  T\r\n",
      "Locus:  5088 SNP location:  78 SNP:  T\r\n",
      "Locus:  5088 SNP location:  78 SNP:  T\r\n",
      "Locus:  5088 SNP location:  78 SNP:  T\r\n",
      "Locus:  5088 SNP location:  78 SNP:  T\r\n",
      "Locus:  5088 SNP location:  78 SNP:  T\r\n",
      "Locus:  5088 SNP location:  78 SNP:  T\r\n",
      "Locus:  5088 SNP location:  78 SNP:  T\r\n",
      "Locus:  5088 SNP location:  78 SNP:  T\r\n",
      "Locus:  5088 SNP location:  78 SNP:  T\r\n",
      "Locus:  5088 SNP location:  78 SNP:  T\r\n",
      "Locus:  5088 SNP location:  78 SNP:  T\r\n",
      "Locus:  5088 SNP location:  78 SNP:  T\r\n",
      "Locus:  5088 SNP location:  78 SNP:  T\r\n",
      "Locus:  5088 SNP location:  78 SNP:  T\r\n",
      "Locus:  5088 SNP location:  78 SNP:  T\r\n",
      "Locus:  5088 SNP location:  78 SNP:  T\r\n",
      "Locus:  5088 SNP location:  78 SNP:  T\r\n",
      "Locus:  5088 SNP location:  78 SNP:  T\r\n",
      "Locus:  5088 SNP location:  78 SNP:  T\r\n",
      "Locus:  5088 SNP location:  78 SNP:  T\r\n",
      "Locus:  5088 SNP location:  78 SNP:  T\r\n",
      "Locus:  5088 SNP location:  78 SNP:  T\r\n",
      "Locus:  5088 SNP location:  78 SNP:  T\r\n",
      "Locus:  5088 SNP location:  78 SNP:  T\r\n",
      "Locus:  5088 SNP location:  78 SNP:  T\r\n",
      "Locus:  5088 SNP location:  78 SNP:  T\r\n",
      "Locus:  5088 SNP location:  78 SNP:  T\r\n",
      "Locus:  5088 SNP location:  78 SNP:  T\r\n",
      "Locus:  5088 SNP location:  78 SNP:  T\r\n",
      "Locus:  5088 SNP location:  78 SNP:  T\r\n",
      "Locus:  5088 SNP location:  78 SNP:  T\r\n",
      "Locus:  5088 SNP location:  78 SNP:  T\r\n",
      "Locus:  5088 SNP location:  78 SNP:  T\r\n",
      "Locus:  5088 SNP location:  78 SNP:  T\r\n",
      "Locus:  5088 SNP location:  78 SNP:  T\r\n",
      "Locus:  5088 SNP location:  78 SNP:  T\r\n",
      "Locus:  5088 SNP location:  78 SNP:  T\r\n",
      "Locus:  5088 SNP location:  78 SNP:  T\r\n",
      "Locus:  5088 SNP location:  78 SNP:  T\r\n",
      "Locus:  5088 SNP location:  78 SNP:  T\r\n",
      "Locus:  5088 SNP location:  78 SNP:  T\r\n",
      "Locus:  5088 SNP location:  78 SNP:  T\r\n",
      "Locus:  5088 SNP location:  78 SNP:  T\r\n",
      "Locus:  5088 SNP location:  78 SNP:  T\r\n",
      "Locus:  5088 SNP location:  78 SNP:  T\r\n",
      "Locus:  5088 SNP location:  78 SNP:  T\r\n",
      "Locus:  5088 SNP location:  78 SNP:  T\r\n",
      "Locus:  5088 SNP location:  78 SNP:  T\r\n",
      "Locus:  5088 SNP location:  78 SNP:  T\r\n",
      "Locus:  5088 SNP location:  78 SNP:  T\r\n",
      "Locus:  5088 SNP location:  78 SNP:  T\r\n",
      "Locus:  5088 SNP location:  78 SNP:  T\r\n",
      "Locus:  5088 SNP location:  78 SNP:  T\r\n",
      "Locus:  5088 SNP location:  78 SNP:  T\r\n",
      "Locus:  5088 SNP location:  78 SNP:  T\r\n",
      "Locus:  5088 SNP location:  78 SNP:  T\r\n",
      "Locus:  5088 SNP location:  78 SNP:  T\r\n",
      "Locus:  5088 SNP location:  78 SNP:  T\r\n",
      "Locus:  5088 SNP location:  78 SNP:  T\r\n",
      "Locus:  5088 SNP location:  78 SNP:  T\r\n",
      "Locus:  5088 SNP location:  78 SNP:  T\r\n",
      "Locus:  5088 SNP location:  78 SNP:  T\r\n",
      "Locus:  5088 SNP location:  78 SNP:  T\r\n",
      "Locus:  5088 SNP location:  78 SNP:  T\r\n",
      "Locus:  5088 SNP location:  78 SNP:  T\r\n",
      "Locus:  5088 SNP location:  78 SNP:  T\r\n",
      "Locus:  5088 SNP location:  78 SNP:  T\r\n",
      "Locus:  5088 SNP location:  78 SNP:  T\r\n",
      "Locus:  5088 SNP location:  78 SNP:  T\r\n",
      "Locus:  5088 SNP location:  78 SNP:  T\r\n",
      "Locus:  5088 SNP location:  78 SNP:  T\r\n",
      "Locus:  5088 SNP location:  78 SNP:  T\r\n",
      "Locus:  5088 SNP location:  78 SNP:  T\r\n",
      "Locus:  5088 SNP location:  78 SNP:  T\r\n",
      "Locus:  5088 SNP location:  78 SNP:  T\r\n",
      "Locus:  5088 SNP location:  78 SNP:  T\r\n",
      "Locus:  5088 SNP location:  78 SNP:  T\r\n",
      "Locus:  5088 SNP location:  78 SNP:  T\r\n",
      "Locus:  5088 SNP location:  78 SNP:  T\r\n",
      "Locus:  5088 SNP location:  78 SNP:  T\r\n",
      "Locus:  5088 SNP location:  78 SNP:  T\r\n",
      "Locus:  5088 SNP location:  78 SNP:  T\r\n",
      "Locus:  5088 SNP location:  78 SNP:  T\r\n",
      "Locus:  5088 SNP location:  78 SNP:  T\r\n",
      "Locus:  5088 SNP location:  78 SNP:  T\r\n",
      "Locus:  8073 SNP location:  102 SNP:  G\r\n",
      "Locus:  8073 SNP location:  102 SNP:  G\r\n",
      "Locus:  8073 SNP location:  102 SNP:  G\r\n",
      "Locus:  8073 SNP location:  102 SNP:  G\r\n",
      "Locus:  8073 SNP location:  102 SNP:  G\r\n",
      "Locus:  8073 SNP location:  102 SNP:  G\r\n",
      "Locus:  8073 SNP location:  102 SNP:  G\r\n",
      "Locus:  8073 SNP location:  102 SNP:  G\r\n",
      "Locus:  8073 SNP location:  102 SNP:  G\r\n",
      "Locus:  8073 SNP location:  102 SNP:  G\r\n",
      "Locus:  8073 SNP location:  102 SNP:  G\r\n",
      "Locus:  8073 SNP location:  102 SNP:  G\r\n",
      "Locus:  8073 SNP location:  102 SNP:  G\r\n",
      "Locus:  8073 SNP location:  102 SNP:  G\r\n",
      "Locus:  8073 SNP location:  102 SNP:  G\r\n",
      "Locus:  8073 SNP location:  102 SNP:  G\r\n",
      "Locus:  8073 SNP location:  102 SNP:  G\r\n",
      "Locus:  8073 SNP location:  102 SNP:  G\r\n",
      "Locus:  8073 SNP location:  102 SNP:  G\r\n",
      "Locus:  8073 SNP location:  102 SNP:  G\r\n",
      "Locus:  8073 SNP location:  102 SNP:  G\r\n",
      "Locus:  8073 SNP location:  102 SNP:  G\r\n",
      "Locus:  8073 SNP location:  102 SNP:  G\r\n",
      "Locus:  8073 SNP location:  102 SNP:  G\r\n",
      "Locus:  8073 SNP location:  102 SNP:  G\r\n",
      "Locus:  8073 SNP location:  102 SNP:  G\r\n",
      "Locus:  8073 SNP location:  102 SNP:  G\r\n",
      "Locus:  8073 SNP location:  102 SNP:  G\r\n",
      "Locus:  8073 SNP location:  102 SNP:  G\r\n",
      "Locus:  8073 SNP location:  102 SNP:  G\r\n",
      "Locus:  8073 SNP location:  102 SNP:  G\r\n",
      "Locus:  8073 SNP location:  102 SNP:  G\r\n",
      "Locus:  8073 SNP location:  102 SNP:  G\r\n",
      "Locus:  8073 SNP location:  102 SNP:  G\r\n",
      "Locus:  8073 SNP location:  102 SNP:  G\r\n",
      "Locus:  8073 SNP location:  102 SNP:  G\r\n",
      "Locus:  8073 SNP location:  102 SNP:  G\r\n",
      "Locus:  8073 SNP location:  102 SNP:  G\r\n",
      "Locus:  8073 SNP location:  102 SNP:  G\r\n",
      "Locus:  8073 SNP location:  102 SNP:  G\r\n",
      "Locus:  8073 SNP location:  102 SNP:  G\r\n",
      "Locus:  8073 SNP location:  102 SNP:  G\r\n",
      "Locus:  8073 SNP location:  102 SNP:  G\r\n",
      "Locus:  8073 SNP location:  102 SNP:  G\r\n",
      "Locus:  8073 SNP location:  102 SNP:  G\r\n",
      "Locus:  8073 SNP location:  102 SNP:  G\r\n",
      "Locus:  8073 SNP location:  102 SNP:  G\r\n",
      "Locus:  8073 SNP location:  102 SNP:  G\r\n",
      "Locus:  8073 SNP location:  102 SNP:  G\r\n",
      "Locus:  8073 SNP location:  102 SNP:  G\r\n",
      "Locus:  8073 SNP location:  102 SNP:  G\r\n",
      "Locus:  8073 SNP location:  102 SNP:  G\r\n",
      "143 reads\r\n"
     ]
    }
   ],
   "source": [
    "!python findSNPs.py find_SNPseqs.txt"
   ]
  },
  {
   "cell_type": "markdown",
   "metadata": {},
   "source": [
    "Now 8073 is working, but 5088 is still homozygous for A rather than heterozygous like the .matches file suggests"
   ]
  },
  {
   "cell_type": "code",
   "execution_count": 58,
   "metadata": {
    "collapsed": false
   },
   "outputs": [
    {
     "name": "stdout",
     "output_type": "stream",
     "text": [
      "T\r\n",
      "T\r\n",
      "T\r\n",
      "T\r\n",
      "T\r\n",
      "T\r\n",
      "T\r\n",
      "T\r\n",
      "T\r\n",
      "T\r\n",
      "T\r\n",
      "T\r\n",
      "T\r\n",
      "T\r\n",
      "T\r\n",
      "T\r\n",
      "T\r\n",
      "T\r\n",
      "T\r\n",
      "T\r\n",
      "T\r\n",
      "T\r\n",
      "T\r\n",
      "T\r\n",
      "T\r\n",
      "T\r\n",
      "T\r\n",
      "T\r\n",
      "T\r\n",
      "T\r\n",
      "T\r\n",
      "T\r\n",
      "T\r\n",
      "T\r\n",
      "T\r\n",
      "T\r\n",
      "T\r\n",
      "T\r\n",
      "T\r\n",
      "T\r\n",
      "T\r\n",
      "T\r\n",
      "T\r\n",
      "T\r\n",
      "T\r\n",
      "T\r\n",
      "T\r\n",
      "T\r\n",
      "T\r\n",
      "T\r\n",
      "T\r\n",
      "T\r\n",
      "T\r\n",
      "T\r\n",
      "T\r\n",
      "T\r\n",
      "T\r\n",
      "T\r\n",
      "T\r\n",
      "T\r\n",
      "T\r\n",
      "T\r\n",
      "T\r\n",
      "T\r\n",
      "T\r\n",
      "T\r\n",
      "T\r\n",
      "T\r\n",
      "T\r\n",
      "T\r\n",
      "T\r\n",
      "T\r\n",
      "T\r\n",
      "T\r\n",
      "T\r\n",
      "T\r\n",
      "T\r\n",
      "T\r\n",
      "T\r\n",
      "T\r\n",
      "T\r\n",
      "T\r\n",
      "T\r\n",
      "T\r\n",
      "T\r\n",
      "T\r\n",
      "T\r\n",
      "T\r\n",
      "T\r\n",
      "T\r\n",
      "T\r\n",
      "91\r\n"
     ]
    }
   ],
   "source": [
    "!python findSNPs2.py find_SNPseqs.txt"
   ]
  },
  {
   "cell_type": "code",
   "execution_count": 52,
   "metadata": {
    "collapsed": false
   },
   "outputs": [
    {
     "data": {
      "text/plain": [
       "u'/mnt/hgfs/Shared Drive D/Pacific cod/DataAnalysis/scripts'"
      ]
     },
     "execution_count": 52,
     "metadata": {},
     "output_type": "execute_result"
    }
   ],
   "source": [
    "pwd"
   ]
  },
  {
   "cell_type": "code",
   "execution_count": 53,
   "metadata": {
    "collapsed": false
   },
   "outputs": [
    {
     "name": "stdout",
     "output_type": "stream",
     "text": [
      "/mnt/hgfs/Shared Drive D/Pacific cod/DataAnalysis/UCstacksL1/populations\n"
     ]
    }
   ],
   "source": [
    "cd ../UCstacksL1/populations/"
   ]
  },
  {
   "cell_type": "markdown",
   "metadata": {},
   "source": [
    "### Starting from the beginning ... generating a new biallelic loci catalog"
   ]
  },
  {
   "cell_type": "code",
   "execution_count": 62,
   "metadata": {
    "collapsed": false
   },
   "outputs": [
    {
     "name": "stdout",
     "output_type": "stream",
     "text": [
      "/mnt/hgfs/Shared Drive D/Pacific cod/DataAnalysis/UCstacksL1/stacks_base\n"
     ]
    }
   ],
   "source": [
    "cd ../stacks_base"
   ]
  },
  {
   "cell_type": "code",
   "execution_count": 64,
   "metadata": {
    "collapsed": false
   },
   "outputs": [],
   "source": [
    "!gzip batch_303.catalog.snps.tsv\n",
    "\n",
    "#BATCH_303.CATALOG.SNPS2 IS already unzipped"
   ]
  },
  {
   "cell_type": "code",
   "execution_count": 65,
   "metadata": {
    "collapsed": false
   },
   "outputs": [
    {
     "name": "stdout",
     "output_type": "stream",
     "text": [
      "/mnt/hgfs/Shared Drive D/Pacific cod/DataAnalysis/UCstacksL1/populations\n"
     ]
    }
   ],
   "source": [
    "cd ../populations"
   ]
  },
  {
   "cell_type": "code",
   "execution_count": 67,
   "metadata": {
    "collapsed": false
   },
   "outputs": [],
   "source": [
    "!python preparing_file_for_correcting_genotypes_v2.py batch_303.haplotypes2.tsv.csv batch_303_biallelicLoci_v2.tsv ../stacks_base/batch_303.catalog.snps2.tsv 1 "
   ]
  },
  {
   "cell_type": "markdown",
   "metadata": {},
   "source": [
    "There don't seem to be any differences between this catalog and the original (v1) catalog. \n",
    "\n",
    "I'm modifying the `verif_genotypes_v2_no_ref` script to open gzipped files, and I'll run it on all of my samples\n"
   ]
  },
  {
   "cell_type": "code",
   "execution_count": 68,
   "metadata": {
    "collapsed": true
   },
   "outputs": [],
   "source": [
    "#make sure that all of the .tags files are zipped"
   ]
  },
  {
   "cell_type": "code",
   "execution_count": 69,
   "metadata": {
    "collapsed": false
   },
   "outputs": [
    {
     "name": "stdout",
     "output_type": "stream",
     "text": [
      "/mnt/hgfs/Shared Drive D/Pacific cod/DataAnalysis/UCstacksL1/stacks_base\n"
     ]
    }
   ],
   "source": [
    "cd ../stacks_base"
   ]
  },
  {
   "cell_type": "code",
   "execution_count": 70,
   "metadata": {
    "collapsed": true
   },
   "outputs": [],
   "source": [
    "!gzip GE011215_21.1.tags.tsv"
   ]
  },
  {
   "cell_type": "code",
   "execution_count": 76,
   "metadata": {
    "collapsed": false
   },
   "outputs": [],
   "source": [
    "#make sure all of the .matches files are zipped"
   ]
  },
  {
   "cell_type": "code",
   "execution_count": 74,
   "metadata": {
    "collapsed": false
   },
   "outputs": [
    {
     "name": "stdout",
     "output_type": "stream",
     "text": [
      "/mnt/hgfs/Shared Drive D/Pacific cod/DataAnalysis/UCstacksL1/sstacks_batch303\n"
     ]
    }
   ],
   "source": [
    "cd ../sstacks_batch303"
   ]
  },
  {
   "cell_type": "code",
   "execution_count": 75,
   "metadata": {
    "collapsed": true
   },
   "outputs": [],
   "source": [
    "!gzip GE011215_21.1.matches.tsv"
   ]
  },
  {
   "cell_type": "code",
   "execution_count": 77,
   "metadata": {
    "collapsed": false
   },
   "outputs": [
    {
     "name": "stdout",
     "output_type": "stream",
     "text": [
      "/mnt/hgfs/Shared Drive D/Pacific cod/DataAnalysis/UCstacksL1/populations\n"
     ]
    }
   ],
   "source": [
    "cd ../populations/"
   ]
  },
  {
   "cell_type": "code",
   "execution_count": 78,
   "metadata": {
    "collapsed": true
   },
   "outputs": [],
   "source": [
    "# add all samples to SampleNames text file"
   ]
  },
  {
   "cell_type": "code",
   "execution_count": 80,
   "metadata": {
    "collapsed": false
   },
   "outputs": [
    {
     "name": "stdout",
     "output_type": "stream",
     "text": [
      "PO010715_06.1\n",
      "Traceback (most recent call last):\n",
      "  File \"genotypes_verif_v2_no_ref_gz.py\", line 51, in <module>\n",
      "    next(matches_file)\n",
      "TypeError: list object is not an iterator\n"
     ]
    }
   ],
   "source": [
    "!python genotypes_verif_v2_no_ref.py"
   ]
  },
  {
   "cell_type": "markdown",
   "metadata": {},
   "source": [
    "So I'll have to unzip all of my .tags in the /stacks_base/ and all of my .matches files in the /stacks_batch303/"
   ]
  },
  {
   "cell_type": "code",
   "execution_count": 81,
   "metadata": {
    "collapsed": false
   },
   "outputs": [
    {
     "name": "stdout",
     "output_type": "stream",
     "text": [
      "PO010715_06.1\n",
      "PO010715_27.1\n",
      "PO010715_28.1\n",
      "PO010715_29.1\n",
      "GE011215_08.1\n",
      "GE011215_09.1\n",
      "GE011215_14.1\n",
      "GE011215_15.1\n",
      "NA021015_16.1\n",
      "NA021015_21.1\n",
      "GE011215_10.1\n",
      "GE012315_01.1\n",
      "PO020515_05.1\n",
      "PO020515_09.1\n",
      "PO020515_10.1\n",
      "GE011215_07.1\n",
      "GE011215_16.1\n",
      "GE011215_29.1\n",
      "NA021015_02.1\n",
      "NA021015_03.1\n",
      "NA021015_08.1\n",
      "NA021015_13.1\n",
      "GE012315_03.1\n",
      "GE012315_22.1\n",
      "GE012315_04.1\n",
      "GE012315_05.1\n",
      "GE012315_06.1\n",
      "PO010715_19.1\n",
      "PO031715_20.1\n",
      "NA021015_10.1\n",
      "GE011215_20.1\n",
      "PO020515_03.1\n",
      "PO020515_08.1\n",
      "NA021015_17.1\n",
      "NA021015_22.1\n",
      "PO010715_11.1\n",
      "PO020515_16.1\n",
      "GE011215_21.1\n",
      "GE011215_30.1\n",
      "NA021015_14.1\n",
      "NA021015_06.1\n",
      "NA021015_09.1\n",
      "PO020515_17.1\n",
      "PO010715_17.1\n",
      "PO020515_15.1\n",
      "PO010715_10.1\n",
      "GE011215_01.1\n",
      "GE011215_24.1\n",
      "PO031715_13.1\n",
      "PO010715_08.1\n",
      "PO020515_14.1\n",
      "GE012315_08.1\n",
      "GE012315_09.1\n",
      "GE012315_10.1\n",
      "GE012315_11.1\n",
      "GE012315_17.1\n",
      "GE012315_20.1\n"
     ]
    }
   ],
   "source": [
    "!python genotypes_verif_v2_no_ref.py"
   ]
  },
  {
   "cell_type": "markdown",
   "metadata": {
    "collapsed": true
   },
   "source": [
    "## 11/18/2016\n",
    "\n",
    "I also ran Lane 2 through cstacks and sstacks, using the same version of stacks. I want to see if the .matches files for these samples also don't match their respective catalog.tags files. "
   ]
  },
  {
   "cell_type": "code",
   "execution_count": 1,
   "metadata": {
    "collapsed": false
   },
   "outputs": [
    {
     "data": {
      "text/plain": [
       "u'/mnt/hgfs/Pacific cod/DataAnalysis/mf-fish546-2016/notebooks'"
      ]
     },
     "execution_count": 1,
     "metadata": {},
     "output_type": "execute_result"
    }
   ],
   "source": [
    "pwd"
   ]
  },
  {
   "cell_type": "code",
   "execution_count": 2,
   "metadata": {
    "collapsed": false
   },
   "outputs": [
    {
     "name": "stdout",
     "output_type": "stream",
     "text": [
      "/mnt/hgfs/Pacific cod/DataAnalysis\n"
     ]
    }
   ],
   "source": [
    "cd ../../"
   ]
  },
  {
   "cell_type": "code",
   "execution_count": 3,
   "metadata": {
    "collapsed": false
   },
   "outputs": [
    {
     "name": "stdout",
     "output_type": "stream",
     "text": [
      "/mnt/hgfs/Pacific cod/DataAnalysis/stacksCombo_m10\n"
     ]
    }
   ],
   "source": [
    "cd stacksCombo_m10/"
   ]
  },
  {
   "cell_type": "code",
   "execution_count": 5,
   "metadata": {
    "collapsed": false
   },
   "outputs": [],
   "source": [
    "!gzip -d YS121315_16.tags.tsv.gz"
   ]
  },
  {
   "cell_type": "code",
   "execution_count": 6,
   "metadata": {
    "collapsed": true
   },
   "outputs": [],
   "source": [
    "!gzip -d YS121315_16.matches.tsv.gz"
   ]
  },
  {
   "cell_type": "markdown",
   "metadata": {},
   "source": [
    "Before creating the biallelic catalog, I had to remove change `Catalog ID` to `Catalog_ID` in the header of the batch_1 haplotypes file (output from populations) and remove the heading form the batch_1 catalog.snps file (output from cstacks)"
   ]
  },
  {
   "cell_type": "code",
   "execution_count": 12,
   "metadata": {
    "collapsed": false
   },
   "outputs": [],
   "source": [
    "!gzip -d batch_1.catalog.snps.tsv.gz"
   ]
  },
  {
   "cell_type": "code",
   "execution_count": 15,
   "metadata": {
    "collapsed": false
   },
   "outputs": [],
   "source": [
    "!gzip batch_1.catalog.snps.tsv"
   ]
  },
  {
   "cell_type": "code",
   "execution_count": 16,
   "metadata": {
    "collapsed": false
   },
   "outputs": [
    {
     "name": "stdout",
     "output_type": "stream",
     "text": [
      "/mnt/hgfs/Pacific cod/DataAnalysis/scripts/UndercallingHets_MB_CW\n"
     ]
    }
   ],
   "source": [
    "cd ../scripts/UndercallingHets_MB_CW"
   ]
  },
  {
   "cell_type": "code",
   "execution_count": 19,
   "metadata": {
    "collapsed": false
   },
   "outputs": [
    {
     "name": "stdout",
     "output_type": "stream",
     "text": [
      "Traceback (most recent call last):\r\n",
      "  File \"preparing_file_for_correcting_genotypes.py\", line 36, in <module>\r\n",
      "    locus_name=split_line[2]\r\n",
      "IndexError: list index out of range\r\n"
     ]
    }
   ],
   "source": [
    "#create biallelic loci catalog\n",
    "!python preparing_file_for_correcting_genotypes.py \\\n",
    "../../stacksCombo_m10/batch_1.haplotypes2.tsv \\\n",
    "../../stacksCombo_m10/batch_1.biallelicLoci.tsv \\\n",
    "../../stacksCombo_m10/batch_1.catalog.snps2.tsv 1"
   ]
  },
  {
   "cell_type": "code",
   "execution_count": 20,
   "metadata": {
    "collapsed": false
   },
   "outputs": [
    {
     "name": "stdout",
     "output_type": "stream",
     "text": [
      "/mnt/hgfs/Pacific cod/DataAnalysis/stacksCombo_m10\n"
     ]
    }
   ],
   "source": [
    "cd ../../stacksCombo_m10/"
   ]
  },
  {
   "cell_type": "code",
   "execution_count": 21,
   "metadata": {
    "collapsed": true
   },
   "outputs": [],
   "source": [
    "!gzip -d batch_1.catalog.snps.tsv.gz"
   ]
  },
  {
   "cell_type": "code",
   "execution_count": 22,
   "metadata": {
    "collapsed": true
   },
   "outputs": [],
   "source": [
    "#used notepad++ instead of excel to remove the header and save as a .tsv file"
   ]
  },
  {
   "cell_type": "code",
   "execution_count": 24,
   "metadata": {
    "collapsed": false
   },
   "outputs": [],
   "source": [
    "!gzip batch_1.catalog.snps.tsv"
   ]
  },
  {
   "cell_type": "code",
   "execution_count": 25,
   "metadata": {
    "collapsed": false
   },
   "outputs": [
    {
     "name": "stdout",
     "output_type": "stream",
     "text": [
      "/mnt/hgfs/Pacific cod/DataAnalysis/scripts/UndercallingHets_MB_CW\n"
     ]
    }
   ],
   "source": [
    "cd ../scripts/UndercallingHets_MB_CW/"
   ]
  },
  {
   "cell_type": "code",
   "execution_count": 26,
   "metadata": {
    "collapsed": false,
    "scrolled": true
   },
   "outputs": [
    {
     "name": "stdout",
     "output_type": "stream",
     "text": [
      "3 113 CCG CCG CGC AGC CCG CGC CCC CCG CCG CCG CCG CCC CCG CCG CCC CCG CCC CCG CCC CCG CCG CCC CCG CCG CCG CGC CCG CGC CCG CCC CGC CCG CCC CCG CCG CCC CCG CCC CCG CCC CCG CCC CCG CCC CCG CCG CCG CCC CCG CCC CCG CCC CCG CCC CCG CCG CGC CCC CGC CCC CCG CCG CCG CGC CCG CGC CCG CGC CCC CCG CCG CCG CGC CCG CCC CCG CCC CGC CCG CCG CCG CCC CCG CCC CCG CCG CGC CCG CCG CCG CCG CCC CCG CCC CCG CCG CCG CCG CCG CCG CCG CCC CCC CCC CCG CCC CCG CCG CCG CCC CCG CCC CCG CCC CCG CCG CCC CCC CCC CCG CCG CCG CCG CCG CCG CCG CCC CCG CCG CCG CCC CCG CCG CCG CCC CCG CCC CCG CCC CCG CCG CCC CCC CCG CCG CCC CCG CCC CCG CCG CCC CCG CCC CGC CCC CCG CCG CCC CCG CCC CCG CCG CCG CCG CGC\r\n",
      "5 113 G G G G G A A G A G A A G A G G A G A G A G A G A G G A A G G A G A G G G G G G A G A G G G A G G G A G A A G A A G A A G A G A G A G G A G G G A G A G A G A A G G A G A G A G A G A G A G G G A G A G A G G A G A G A G A A G A G A A G A G G A G A G A G A A A G A G A G G A G A G G A G A G G A A G G A G G G A G A G A A G G G A G G A G A G A A G\r\n",
      "14 112 C T C T T C T T T T C T T C T C T T T T T C T T T C T T C T T T T C T C T C C T T T T T T T T T T C T T C T T T T T C T C T C T T T T C T T T T T T C T T T C T T T C T C T T T T T T T T T T T T C T T C T C T C C T T T T C T T T T T C T T T T T T T T T T T T T T T T T T T T\r\n",
      "16 111 AC GC AC GC AC GC AC GC GA GC AC GC AC GC AC AC GC AC GC GC AC GC AC GC AC AC GC AC GC AC GC GC AC GC AC AC AC GC GC GC AC GC AC GC AC AC GC GC GC AC GC AC GC AC GC AC AC AC AC GC AC GC AC AC AC GC AC AC GC AC GC AC GC GC AC GC AC GC GC AC GC GC GC AC GC AC AC AC GC AC GC GC GC AC AC AC AC AC AC AC GC AC GC AC GC AC AC GC AC AC GC AC GC AC AC AC AC AC GC AC AC AC AC GC AC GC AC GC AC GC AC GC GC AC GC GC AC GC AC GC AC GC AC GC GC AC GC AC GC AC AC GC AC GC GC GC\r\n",
      "17 116 C C C C C C C T C T C C C C T C C C C C C C T C T C C C C C C C C C C T C C C C C C C T C C C C C T C C C C C C C C C C C C C C C C C C C C C C C C C C T C C C C C C C C C C C T C C C C C C C C C C C T C C C C C C C C C C C C C C C C C C C C C C C C C\r\n",
      "18 115 A G A G A G G G G A G A G G A G A G A G A G A G A G G A G A G A G A G A G A G A G A G A G G A G A G A G A G G A G A G A G A G G A G A G A G A G A G A G A G G A G A G G G A G A G A G A G G A G A G A G A G A G A G A G A G A G A G A G A G A G A G A G A G A G G A G A G G G G A G A G A G A G G A G A G A G A G A G A G A G A G A G A G A G A G G A G G A G A G A G A G G A G A G G G A G A G A G A G A G A G A G A G A G A G\r\n",
      "22 111 AAGA AGAA AAAA AAAA AAAA AGAA AAAA AGAA AAGA AAAA AAAT TAAA AAAA AAGA AGAA AAAA TAAA AAAA AAGA AAGA TAAA AAAA AAAT TAAA TAAA AGAA AAAA AAAA TAAA AAAA AAGA AAAA AAGA TAAA AAAA AAAT AAAA AAGA AAAA AAGA AGAA AAAA TAAA AAGA AGAA AGAA AGAA AAAA AAGA AGAA AAAA AGAA AGAA AAAA AAGA TAAA AAAA AGAA TAAA AAAA AAGA TAAA AAAA AAAT AGAA AAGA AAAA AAGA TAAA AAAA AAAT AAGA AAAA AAGA AGAA AAGA AAAA AAGA AAAA AAAT AGAA AAAA AAGA AGAA AGAA AAAA TAAA AAAA AAAT TAAA AAAA AAAT AAGA AAAA AAAT TAAA AAGA AAAA AAGA TAAA AAAA AGAA TAAA AGAA TAAA AAGA AGAA AAGA AAAA AAGA AAAA AAGA AAAA AGAA AAAA AAAT AAGA AAAT AAAA AAGA AGAA AAAA AAAT AGAA AAAA AGAA TAAA AGAA AGAA TAAA TAAA AAGA AGAA TAAA AAAA TAAA AAAA TAAA TAAA AGAA TAAA AGAA AAGA TAAA AAAA AAAT AGAA AAAA AAGA AGAA AAGA AAAA AAAT AAGA AAAA AAAT AAGA AAAA AAGA AAAA AAGA AAAA AAGA AGAA AAAA AAGA AGAA AGAA AAAA TAAA AAAA AAAT TAAA AAAA AAAT AGAA AAGA AGAA AAAA AAAT TAAA AAAA AAGA TAAA AGAA TAAA AAAA AAGA AAAA AAGA AGAA AGGA AAAA AAAT TAAA AGAA AAAA AGAA AAAA AAGA AAAA TAAA AAAA AGAA TAAA AGAA AAAA AAGA TAAA AAAA AAGA AAAA AAAT AAGA AAAA AAGA AAAA AAGA AGAA AAGA AGAA\r\n",
      "31 111 CAA CAC CAC CAA CCA CAA CCA CAA AAA ACA CAA CAA CAC CAA CAA CAA CAA CAA CAA CAA CAA CAA CAA CAA CAC CAA CCA CCA CAA CAA CCA CAA CAA CAA CAC CAC CAA CAC CAA CAC AAA CAA CAA CAA CAA CAA CCA CAA CAA CAA CCA CAA CAA CAA CCA AAA CAA CAA CAA CAA CAC CAA CAC CAA CAA CAA CAA CAA CAA CAA CCA CAA CAC CAA CAA CAA CCA CCA CAA CAA CAA CAA CAA CAA CAA CCA CAA CAC CAA CAC CAA CAA CAA CAA CAA CAA CAA CAA CAA CAA CAA CAA CAA CAA CAA CAA CAA CCA CAA CAA CAA CAA CAA CAA CAA CCA CAA CAA CAA CAA CAA CAA CAA CAA CAA CAC CAA CAC CAA CAA CCA CAA CAA CAA CAA\r\n",
      "32 115 A A A A A A A T A A A T A A A A T A A A A A A T A A A A A A A A A A A A A T A A A A T A A A A A A T A A A A A A A A A A A A A A A T A T A A T A T A T A A A A A A A A A A T A T A A A A A A A A A A A A A A A A T A A T A T A T A A A A A T A A A T A A A A A A T A T A A A A A\r\n",
      "34 102 A A G A A A G A A A A A A G A A G A G A G A A G A A A G A G A A A A A A G A G G A G A G A G A A G A A G A A G A A A A G A G A G A A A A G A A A A A A A A A A A A A A G A A A G A A A A A G A A A A G A G A G A A G A A G A A A A A G A G A A G A A A G A G A A A G A\r\n",
      "39 112 G G A G A G G G A A G A G G G A G A G A G G A G G G G G G G A G G A A G G G G A G A G A G A G G G A G A G A G G G G A G G G A G A G A G A G A G A G G G A G A G A G G G G G G A G A G G G G G A G A G G G G A G G G A G A G G G A A A G A G G G G G G G A G A G A G A G G G G G G G G G A G G A G A G G G\r\n",
      "40 112 T C T C T C T T T T T C T T T T T C T T T T T C T T T C T C T C T T C T T T C C T T T C T T T C T T C T C T C T C T T T T C T T T C T T T T T T T T T T T T C C T T T T T C T C T T T T T C T T C T C T T T T C T C C C T C T C T C T T T C T T C T T T T T T C T T T T C T T C T T T T T T\r\n",
      "43 30 AGCGCA AGCGCA ACCGCA AGCGCA ACCGCA AGCGCA AGCGCA AGCGCA AGCGGT AGCGCA AGCGGA AGCGGT TGCGGT AGCGCA AGCGGA AGCGGT AGTGGT AGCGCA AGCAGT AGCGGT AGCGGA AGCGGT AGCGCA AGCGGT AGCGCA AGCGGA AGCGGT ACCGCA AGCGCA AGCGCA ACCGCA AGCGCA AGCGCA ACCGCA AGCGCA AGCGCA AGCGCA AGCGGA AGCGGT ACCGCA AGCGCA ACCGCA AGCGCA ACCGCA AGCGCA AGCGCA AGCGGA AGCGGT AGCGCA AGCGCA AGCGCA AGCGCA AGCGGA AGCGGT AGCGCA AGCGCA AGCGGA AGCGGT\r\n",
      "50 104 AA TA TA TG TA TG TA TA TA AA TA TA TG TA TG AA AA TA AA TG AA TA AA TA AA TA AA TA TA TG AA TA TA TG TA TA TA TA TA AA TA TA TA TA AA TA TA TG TA TG AA TA AA TA TA AA TA TG AA TA AA AA TG TA TA TG AA TA AA TA TA TG TA AA TG AA AA TG TA TG TA TG TA TG AA TA AA TA AA AA TG AA AA AA AA AA AA AA AA TA TA AA TG AA TG AA TA TG TA AA TG AA AA TA AA TA TA AA AA TA TA TA AA TA AA TG AA TA AA TG TA AA TA AA AA TA TA TA AA TA TG AA AA TA AA TG\r\n",
      "56 114 T A T T T T T A T A T T T T A T A T A T A T T T T T A T T T A T A T T T T T T T A T A T A T A T A T T A T A T T T T T T T A T A T T T A T T T T T T A A T A T A T T T A T T A T A T A T A T A T A T A T T T A T T T A T A A T T T A T A T A T T T A T T A T A T T A T T A T A T T A T T T T A T T T A T T T T A T A T\r\n",
      "57 100 C T C T C C C T T C T T C T C T C T T C T C T C T C T T T T T C T C T C C T C T C T C T T C T C T T C T T C T T C T C T T C T T T T C T C T T C T C T C T C T C T T T T T T T T T T C T C T T T T T T T T T T T T T T T C T T C T C T T C T C T C C T T C T C T C T T C T T C T T C\r\n",
      "59 106 C T C T C T T T C C C T T C T C T T C T T C T C T T C C T C T C T T C C T C C T C T C T C T C C T C T C T C T C T C T C C T C C T T C C T C T C T C T C T C C T C T T C T C C T C T C T C T C T C T C C C T C T C T C T C T T T C T T C C C T C T C C C C T C T C T C T C T C C C C C T C T C T C T C T C T C C T C T T C T C C T T\r\n",
      "63 105 G G T T G T G G G T G T T T G T G T G T T G T G G T G T T G T G G T G T G T G T G T T T G T T G T T T T T T G G G T T T T T T T T T T T G T T G T G T T G T G T T G T G T T T T T G G T G G G T T T T T T G T G G T G T T T G T T G T G T T T G T T T G T T G G T G T T G T\r\n",
      "65 81 CA CA AG CA AG CA AG AG AG AG CA CA AG AG CA AG CA AG AG AG AG AG CA AG CA AG CA AG AG AG AG AG CA AG CA CA AG AG AG CA AG CA CA AG CA AG AG CA AG CA AG CA AG CA CA AG CA AG CA CA CA CA CA CA CA AG CA AG CA AG AG CA CA CA AG CA CA AG CA AG CA CA AG AG CA AG AG AG AG CA AG AG AG AG AG CA AG CA AG AG CA CA\r\n"
     ]
    }
   ],
   "source": [
    "!python preparing_file_for_correcting_genotypes.py \\\n",
    "../../stacksCombo_m10/batch_1.haplotypes2.tsv \\\n",
    "../../stacksCombo_m10/batch_1.biallelicLoci.tsv \\\n",
    "../../stacksCombo_m10/batch_1.catalog.snps2.tsv 1"
   ]
  },
  {
   "cell_type": "markdown",
   "metadata": {},
   "source": [
    "Ok, now to check the stacks output and Marine's script output. \n",
    "\n",
    "\n",
    "(1) opened up the batch_1.biallelicLoci.tsv file and the YS121315_16.matches.tsv in excel. \n",
    "\n",
    "I chose to look at Catalog Loci 5, 52, 68, 107, which are all biallelic. \n",
    "\n",
    "5 : Sample Locus 9789, (A) (G)\n",
    "- position 25\n",
    "\n",
    "68 : Sample Locus 4308, (C)\n",
    "- position 73\n",
    "\n",
    "107 : Sample Locus 1968, (T)\n",
    "- position 119\n",
    "\n",
    "\n",
    "\n",
    "(2) With the unzipped .tags file for this individual, I'll use my python script to check base pairs at these loci / positions"
   ]
  },
  {
   "cell_type": "code",
   "execution_count": 28,
   "metadata": {
    "collapsed": false
   },
   "outputs": [
    {
     "name": "stdout",
     "output_type": "stream",
     "text": [
      "/mnt/hgfs/Pacific cod/DataAnalysis/scripts\n"
     ]
    }
   ],
   "source": [
    "cd ../"
   ]
  },
  {
   "cell_type": "code",
   "execution_count": 30,
   "metadata": {
    "collapsed": false
   },
   "outputs": [
    {
     "name": "stdout",
     "output_type": "stream",
     "text": [
      "#### To find the SNPs in ALL reads for that locus ####\r\n",
      "## input file: individual .tags file\r\n",
      "## CHANGE WITHIN THE SCRIPT: the list of loci and their related SNP locations\r\n",
      "# 11/11/2016\r\n",
      "#########################################################\r\n",
      "\r\n",
      "#for YS121315_16 (11/18/2016)\r\n",
      "\r\n",
      "loci = [\"9789\", \"4308\", \"1968\"] #list of loci that you want to check\r\n",
      "#corresponds to catalog loci 5, 68, 107\r\n"
     ]
    }
   ],
   "source": [
    "!head find_SNPs_inCatalogFile.py"
   ]
  },
  {
   "cell_type": "code",
   "execution_count": 31,
   "metadata": {
    "collapsed": false
   },
   "outputs": [
    {
     "name": "stdout",
     "output_type": "stream",
     "text": [
      "# ustacks version 1.42; generated on 2016-11-16 19:10:16\n",
      "\n",
      "Locus:  9789\n",
      "['A', 'A', 'A', 'A', 'A', 'A', 'A', 'A', 'A', 'A', 'A', 'A', 'A', 'A', 'A', 'A', 'A', 'A', 'A', 'A', 'A', 'A', 'A', 'A', 'A', 'A', 'A', 'A', 'A', 'A', 'A', 'A', 'A', 'A', 'A', 'A', 'A', 'A', 'A', 'A', 'A', 'A', 'A', 'A', 'A', 'A', 'A', 'A', 'A', 'A', 'A', 'A', 'A', 'A', 'A', 'A', 'A', 'A', 'A', 'A', 'A', 'A', 'A', 'A', 'A', 'A', 'A', 'A', 'A', 'A', 'A', 'A', 'A', 'A', 'A', 'A', 'A', 'A', 'A', 'A', 'A', 'A', 'A', 'A', 'A', 'A', 'A', 'A', 'A', 'A', 'A', 'A', 'A', 'A', 'A', 'A', 'A', 'A', 'A', 'A', 'A', 'A', 'A', 'A', 'A', 'A', 'A', 'A', 'A', 'A', 'A', 'A', 'A', 'A', 'A', 'A', 'A', 'A', 'A', 'A', 'A', 'A', 'A', 'A', 'A', 'A', 'A', 'A', 'A', 'A', 'A', 'A', 'A', 'A', 'A', 'A', 'A', 'A', 'A', 'A', 'A', 'A', 'A', 'A', 'A', 'A', 'A', 'A', 'A', 'A', 'A', 'A', 'A', 'A', 'A', 'A', 'A', 'A', 'A', 'A', 'A', 'A', 'A', 'A', 'A', 'A', 'A', 'A', 'A', 'A', 'A', 'A', 'A', 'A', 'A', 'A', 'A', 'A', 'A', 'A', 'A', 'A', 'A']\n",
      "SNPs:  ['A']\n",
      "183  reads\n",
      "Locus:  4308\n",
      "['C', 'C', 'C', 'C', 'C', 'C', 'C', 'C', 'C', 'C', 'C', 'C', 'C', 'C', 'C', 'C', 'C', 'C', 'C', 'C', 'C', 'C', 'C', 'C', 'C', 'C', 'C', 'C', 'C', 'C', 'C', 'C', 'C', 'C', 'C', 'C', 'C', 'C', 'C', 'C', 'C', 'C', 'C', 'C', 'C', 'C', 'C', 'C', 'C', 'C', 'C', 'C', 'C', 'C', 'C', 'C', 'C', 'C', 'C', 'C', 'C', 'C', 'C', 'C', 'C', 'C', 'C', 'C', 'C', 'C', 'C', 'C', 'C', 'C', 'C', 'C', 'C', 'C', 'C', 'C', 'C', 'C', 'C', 'C', 'C', 'C', 'C', 'C', 'C', 'C', 'C', 'C', 'C', 'C', 'C', 'C', 'C', 'C', 'C', 'C', 'C', 'C', 'C', 'C', 'C', 'C', 'C', 'C', 'C', 'C', 'C', 'C', 'C', 'C', 'C', 'C', 'C', 'C', 'C', 'C', 'C', 'C', 'C', 'C', 'C', 'C', 'C', 'C', 'C', 'C', 'C', 'C', 'C', 'C', 'C', 'C', 'C', 'C', 'C', 'C', 'C', 'C', 'C', 'C', 'C', 'C', 'C', 'C', 'C', 'C', 'C', 'C', 'C', 'C', 'C', 'C', 'C', 'C', 'C', 'C', 'C', 'C', 'C', 'C', 'C', 'C', 'C', 'C', 'C', 'C', 'C', 'C', 'C', 'C', 'C', 'C', 'C', 'C', 'C', 'C', 'C', 'C', 'C', 'C', 'C', 'C', 'C', 'C', 'C', 'C', 'C', 'C', 'C', 'C', 'C', 'C', 'C', 'C', 'C', 'T', 'C', 'C', 'C', 'C', 'C', 'C', 'C']\n",
      "SNPs:  ['C', 'T']\n",
      "207  reads\n",
      "Locus:  1968\n",
      "['C', 'C', 'C', 'C', 'C', 'C', 'C', 'C', 'C', 'C', 'C', 'C', 'C', 'C', 'C', 'C', 'C', 'C', 'C', 'C', 'C', 'C', 'C', 'C', 'C', 'C', 'C', 'C', 'C', 'C', 'C', 'C', 'C', 'C', 'C', 'C', 'C', 'C', 'C', 'C', 'C', 'C', 'C', 'C', 'C', 'C', 'C', 'C', 'C', 'C', 'C', 'C', 'C', 'C', 'C', 'C', 'C', 'C', 'C', 'C', 'C', 'C', 'C', 'C', 'C', 'C', 'C', 'C', 'C', 'C', 'C', 'C', 'C', 'C', 'C', 'C', 'C', 'C', 'C', 'C', 'C', 'C', 'C', 'C', 'C', 'C', 'C', 'C', 'C', 'C', 'C', 'C', 'C', 'C', 'C', 'C', 'C', 'C', 'C', 'C', 'C', 'C', 'C', 'C', 'C', 'C', 'C', 'C', 'C', 'C', 'C', 'C', 'C', 'C', 'C', 'C', 'C', 'C', 'C', 'C', 'C', 'C', 'C', 'C', 'C', 'C', 'C', 'C', 'C', 'C', 'C', 'C', 'C', 'C', 'C', 'C', 'C', 'C', 'C', 'C', 'C', 'C', 'C', 'C', 'C', 'C', 'C', 'C', 'C', 'C', 'C', 'C', 'C', 'C', 'C', 'C', 'C', 'C', 'C', 'C', 'C', 'C', 'C', 'C', 'C', 'C', 'C', 'C', 'C', 'C', 'C', 'C', 'C', 'C']\n",
      "SNPs:  ['C']\n",
      "174  reads\n"
     ]
    }
   ],
   "source": [
    "!python find_SNPs_inCatalogFile.py ../stacksCombo_m10/YS121315_16.tags.tsv"
   ]
  },
  {
   "cell_type": "markdown",
   "metadata": {},
   "source": [
    "## WHAT IS HAPPENING"
   ]
  },
  {
   "cell_type": "code",
   "execution_count": null,
   "metadata": {
    "collapsed": true
   },
   "outputs": [],
   "source": []
  }
 ],
 "metadata": {
  "anaconda-cloud": {},
  "kernelspec": {
   "display_name": "Python [default]",
   "language": "python",
   "name": "python2"
  },
  "language_info": {
   "codemirror_mode": {
    "name": "ipython",
    "version": 2
   },
   "file_extension": ".py",
   "mimetype": "text/x-python",
   "name": "python",
   "nbconvert_exporter": "python",
   "pygments_lexer": "ipython2",
   "version": "2.7.12"
  }
 },
 "nbformat": 4,
 "nbformat_minor": 1
}
