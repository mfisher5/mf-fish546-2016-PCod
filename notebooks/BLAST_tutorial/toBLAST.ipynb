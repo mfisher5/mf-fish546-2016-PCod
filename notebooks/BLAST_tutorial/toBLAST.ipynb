{
 "cells": [
  {
   "cell_type": "markdown",
   "metadata": {},
   "source": [
    "## NCBI BLAST\n",
    "\n",
    "**Step One: Download BLAST and run the executable:**\n",
    "[BLAST](ftp://ftp.ncbi.nlm.nih.gov/blast/executables/blast+/LATEST/)\n",
    "\n",
    "**Step Two: Make sure BLAST is on the computer**"
   ]
  },
  {
   "cell_type": "code",
   "execution_count": 1,
   "metadata": {
    "collapsed": false
   },
   "outputs": [
    {
     "name": "stderr",
     "output_type": "stream",
     "text": [
      "BLAST query/options error: Either a BLAST database or subject sequence(s) must be specified\n",
      "Please refer to the BLAST+ user manual.\n"
     ]
    }
   ],
   "source": [
    "!blastn"
   ]
  },
  {
   "cell_type": "code",
   "execution_count": 3,
   "metadata": {
    "collapsed": false
   },
   "outputs": [
    {
     "name": "stdout",
     "output_type": "stream",
     "text": [
      "/c/Program Files/NCBI/blast-2.5.0+/bin/blastp\n"
     ]
    }
   ],
   "source": [
    "#Where is BLAST stored?\n",
    "!which blastp"
   ]
  },
  {
   "cell_type": "markdown",
   "metadata": {},
   "source": [
    "*Note: since BLAST is working on Windows, I don't have to specify the path each time I want to use a BLAST command (have to do this on MacOS*"
   ]
  },
  {
   "cell_type": "markdown",
   "metadata": {},
   "source": [
    "**Step Three: Unzip the uniprot data**"
   ]
  },
  {
   "cell_type": "code",
   "execution_count": 6,
   "metadata": {
    "collapsed": false
   },
   "outputs": [
    {
     "name": "stdout",
     "output_type": "stream",
     "text": [
      "/c/Users/mcfish/Documents/GitHub/mf-fish546-2016/notebooks/BLAST_tutorial\n"
     ]
    }
   ],
   "source": [
    "!pwd"
   ]
  },
  {
   "cell_type": "code",
   "execution_count": null,
   "metadata": {
    "collapsed": true
   },
   "outputs": [],
   "source": [
    "cd ../../data\n",
    "!gzip -d uniprot_data.fasta.gz"
   ]
  },
  {
   "cell_type": "markdown",
   "metadata": {},
   "source": [
    "**Step Four: Make a new BLAST database that includes the uniprot data**"
   ]
  },
  {
   "cell_type": "code",
   "execution_count": null,
   "metadata": {
    "collapsed": true
   },
   "outputs": [],
   "source": [
    "!makeblastdb \\\n",
    "-in ../../data/uniprot_data.fasta \\\n",
    "-dbtype prot \\\n",
    "-out ../../data/uniprot_data\n",
    "# can also \"-outfmt 6\" to print to the terminal"
   ]
  }
 ],
 "metadata": {
  "kernelspec": {
   "display_name": "Python [default]",
   "language": "python",
   "name": "python2"
  },
  "language_info": {
   "codemirror_mode": {
    "name": "ipython",
    "version": 2
   },
   "file_extension": ".py",
   "mimetype": "text/x-python",
   "name": "python",
   "nbconvert_exporter": "python",
   "pygments_lexer": "ipython2",
   "version": "2.7.12"
  }
 },
 "nbformat": 4,
 "nbformat_minor": 1
}
