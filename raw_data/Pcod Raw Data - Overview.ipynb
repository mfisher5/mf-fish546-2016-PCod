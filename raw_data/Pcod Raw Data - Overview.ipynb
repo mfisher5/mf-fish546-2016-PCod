{
 "cells": [
  {
   "cell_type": "markdown",
   "metadata": {},
   "source": [
    "## Project Data\n",
    "\n",
    "**File Type:** fastq\n",
    "\n",
    "**RADseq run:** Illumina HiSeq4000, Paired end reads, 150bp"
   ]
  },
  {
   "cell_type": "code",
   "execution_count": 1,
   "metadata": {
    "collapsed": false
   },
   "outputs": [
    {
     "data": {
      "text/plain": [
       "u'C:\\\\Users\\\\Mary Fisher\\\\Documents\\\\Github'"
      ]
     },
     "execution_count": 1,
     "metadata": {},
     "output_type": "execute_result"
    }
   ],
   "source": [
    "pwd"
   ]
  },
  {
   "cell_type": "code",
   "execution_count": 2,
   "metadata": {
    "collapsed": false
   },
   "outputs": [
    {
     "name": "stdout",
     "output_type": "stream",
     "text": [
      "/usr/bin/bash\n"
     ]
    }
   ],
   "source": [
    "!which bash"
   ]
  },
  {
   "cell_type": "code",
   "execution_count": 3,
   "metadata": {
    "collapsed": false
   },
   "outputs": [
    {
     "name": "stdout",
     "output_type": "stream",
     "text": [
      "C:\\\n"
     ]
    }
   ],
   "source": [
    "cd ../../../../"
   ]
  },
  {
   "cell_type": "code",
   "execution_count": 4,
   "metadata": {
    "collapsed": false
   },
   "outputs": [
    {
     "name": "stdout",
     "output_type": "stream",
     "text": [
      "C:\\\n"
     ]
    }
   ],
   "source": [
    "cd ../"
   ]
  },
  {
   "cell_type": "code",
   "execution_count": 5,
   "metadata": {
    "collapsed": false
   },
   "outputs": [
    {
     "name": "stdout",
     "output_type": "stream",
     "text": [
      "D:\\\n"
     ]
    }
   ],
   "source": [
    "cd D:/"
   ]
  },
  {
   "cell_type": "code",
   "execution_count": 6,
   "metadata": {
    "collapsed": false
   },
   "outputs": [
    {
     "name": "stdout",
     "output_type": "stream",
     "text": [
      "D:\\Pacific cod\n"
     ]
    }
   ],
   "source": [
    "cd Pacific cod"
   ]
  },
  {
   "cell_type": "code",
   "execution_count": 7,
   "metadata": {
    "collapsed": false,
    "scrolled": true
   },
   "outputs": [
    {
     "name": "stdout",
     "output_type": "stream",
     "text": [
      "D:\\Pacific cod\\DataAnalysis\\raw_data\\L1_PE150\n"
     ]
    }
   ],
   "source": [
    "cd DataAnalysis/raw_data/L1_PE150"
   ]
  },
  {
   "cell_type": "markdown",
   "metadata": {},
   "source": [
    "#### Raw Data Files from Lane 1 RADseq"
   ]
  },
  {
   "cell_type": "code",
   "execution_count": 9,
   "metadata": {
    "collapsed": false,
    "scrolled": false
   },
   "outputs": [
    {
     "name": "stdout",
     "output_type": "stream",
     "text": [
      " Volume in drive D is MARY\n",
      " Volume Serial Number is 58D4-FF55\n",
      "\n",
      " Directory of D:\\Pacific cod\\DataAnalysis\\raw_data\\L1_PE150\n",
      "\n",
      "10/17/2016  01:17 PM    <DIR>          .\n",
      "10/17/2016  01:17 PM    <DIR>          ..\n",
      "10/14/2016  04:30 PM    <DIR>          .ipynb_checkpoints\n",
      "10/07/2016  03:19 PM    23,541,160,542 643_S1_L001_R1_001.fastq.gz\n",
      "10/17/2016  10:52 AM    90,192,439,385 643_S1_L001_R2_001.fastq\n",
      "10/07/2016  03:23 PM    27,857,684,012 643_S1_L001_R2_001.fastq.gz\n",
      "10/10/2016  08:55 AM    <DIR>          FastQC\n",
      "10/17/2016  09:40 AM    <DIR>          test\n",
      "10/17/2016  09:41 AM    <DIR>          test2\n",
      "               3 File(s) 141,591,283,939 bytes\n",
      "               6 Dir(s)  1,775,118,778,368 bytes free\n"
     ]
    }
   ],
   "source": [
    "ls"
   ]
  },
  {
   "cell_type": "markdown",
   "metadata": {},
   "source": [
    "*The two fastq.gz files are the original, zipped raw data downloaded from OSU's website*"
   ]
  },
  {
   "cell_type": "code",
   "execution_count": 10,
   "metadata": {
    "collapsed": false
   },
   "outputs": [
    {
     "name": "stdout",
     "output_type": "stream",
     "text": [
      "/usr/bin/bash\n"
     ]
    }
   ],
   "source": [
    "!which bash #have been having some trouble executing code; want to make sure 'bash' is on the machine"
   ]
  },
  {
   "cell_type": "markdown",
   "metadata": {},
   "source": [
    "### Taking a look at the raw data...\n",
    "\n",
    "\n",
    "(1) Forward Sequences"
   ]
  },
  {
   "cell_type": "code",
   "execution_count": 11,
   "metadata": {
    "collapsed": false,
    "scrolled": true
   },
   "outputs": [
    {
     "name": "stdout",
     "output_type": "stream",
     "text": [
      "@K00337:24:HCJGYBBXX:1:1101:1641:1173 1:N:0:1\n",
      "NCAGCGTGCAGGAGGACACCCAGTACATGGCCATGAGGCAGCAGCCCGTCCACCAGAAGCAGAGGTCAGTGTGCTCTCTCCCCCCCCAAAGGCGTTCCCCCCTGTGCGGCCGCGCAGCTGACACAATCTCATCCAGGTTGTATTCCGTTCA\n",
      "+\n",
      "#AAFFJ-777-77FAJJFJJJJJJJJJJJJJJJJJFJJJJFJJFJJJJJJJFJJJJJJFJJJJJF-FFJAFJJFJAFJFJ---7---777--A--7---7-7---7--7-A))))-))-A7)-------77----7))7---7------)-\n",
      "@K00337:24:HCJGYBBXX:1:1101:1722:1173 1:N:0:1\n",
      "NATCGCAGTTCGCTACACGCAGGACGCTTTTTCACGTTCTGGTTGGTTGTGGCCTGTTGATGCTAAAGGTGAGCCGCTTAAAGCTACCAGTTATATGGCTGTTGGTTTCTATGTGGCTAAATACGTTAACAAAAAGTCAGATATGGACCTT\n",
      "+\n",
      "#AAF<FJ-7FJ-AFJJJJJJJAJJFJ<<JJFJJJJJF<JJFJJAFAAF<AJ7JJ<<AAAJJJJFFFJFJJAFFJJJJ<JJJJJJJJJFAFFAFJJJA7FF7FJJFJJFFF7--7F-F<AJJJFA-<FAFFF<FAJ<<A-<FFJ<FAAAJAF\n",
      "@K00337:24:HCJGYBBXX:1:1101:2067:1173 1:N:0:1\n",
      "NTTCCGTCACACACACACACACACACACACACACACACACACACACACACACATACACACACACACACACACACACACACACACACACACACACACACACACACACACACACACACACACACACACACACACACCCACACACACACACAAA\n",
      "+\n",
      "#AAFFJ<7-AJJJJJJJJJJJJJJJJJJJJJJJJJJJJJJJJ-7FFJJ<JFJJ-FJJJJJJJJJJJJJJJJJJJ<JJJJFJJAJJ7AJJFJ7FAFFFAF<J777FFJA<FJ-F-<-<-<<JAAFF-<7F7FF7-)7))7)A-7-7<F----\n",
      "@K00337:24:HCJGYBBXX:1:1101:2189:1173 1:N:0:1\n",
      "NAAGTCAGATATGGACCTTGCTGCTAAAGGTCTAGGAGCTAAAGAATGGAACAACTCACTAAAAACCAAGCTGTCGCTACTTCCCAAGAAGCTGTTCAGAATCAGAATGAGCCGCAACTTCGGGATGAAAATGCTCACAATGACAAATCTG\n",
      "+\n",
      "#AAAFFJ7FAJJFFJJJJJJJJJJJJJJJJJJJJJJJJJFJJJ<J<FJAJJJJFJJFJJJ<JFFJJAFJAAA<AF-7FFJJJJFJFJJJJJJ7<F7AAJJFJJJJJAJJJJJFA<F<FJFAJ<JJJJJ<F-A-7-7F7<FF-FFJJF<FF-\n",
      "@K00337:24:HCJGYBBXX:1:1101:2229:1173 1:N:0:1\n",
      "NCATTTTGCAGGTGACTTATCACCTTTTTTCCATGACATCACGCACAAGAAGAGCTTACTTATAAACCAATTTTAAACCAAGCATGTGAAGAGCTGAAGTCTCTCATGGACTTTTTTTCCTAATGTTTGTGTTAGTGTTTGTGTGTGTTTT\n",
      "+\n",
      "#AA<FF-7-7<77A-FAFJF7JAJJFFFJF7F-F-<FAF--<-7F-7FFFJJF--<-<<AJFF-AAA-<A7AFFFJ<AJF77F<FFAJ<J-FF<AF7AAFJJ--AJ<7<-----A<----<FFA<7-F-F<FA----7<--77-7AA--7-\n"
     ]
    }
   ],
   "source": [
    "%%bash \n",
    "gunzip -c 643_S1_L001_R1_001.fastq.gz | head -n 20"
   ]
  },
  {
   "cell_type": "markdown",
   "metadata": {},
   "source": [
    "(2) Reverse Sequences"
   ]
  },
  {
   "cell_type": "code",
   "execution_count": 12,
   "metadata": {
    "collapsed": false,
    "scrolled": true
   },
   "outputs": [
    {
     "name": "stdout",
     "output_type": "stream",
     "text": [
      "@K00337:24:HCJGYBBXX:1:1101:1641:1173 2:N:0:1\n",
      "CCTAGTGTGAACCACCGACACAACAGCAGCACTCCCAGTGAAGTGCAAGGCATAACAATTCTTGAACCCAGAACTAAAATAACAAAAAAAGATAACAAAATCAACCGGAATGCCGATACAAGACCCAGTCTCACCCCGTCGCCAGAACCCC\n",
      "+\n",
      "A-7<<-F-<-<A--A-7-F-7--FF-AJ----F-----7AF-7--7<A-7--<A-AA-7-<-------7A-7--7<A7--7-77--7---7A-7-----7----7-)))7----)7)-----777)))))-7<-)7A))))-))-)-F<)-\n",
      "@K00337:24:HCJGYBBXX:1:1101:1722:1173 2:N:0:1\n",
      "AATTTCATCCTGAAGTTGCGGCTCATTATGATTCAGAACATTGTCGTGGGAAGTAGCGACAGCTTGGCATTTAGTGTGATGGTCCAATCTCTAGCTCCTATACCTCTAGCAGCAAGTTCCATATCTTACTTTTTGATGAATGAGTAACCCA\n",
      "+\n",
      "A-A<7FFJ-F------<----7F<7---F7--<7<-7AAJ----<---7-7---<--7--7--7-<77---7-A-7--7AAJAJ777----77--77F)7---<---AA-<7AA----7------------------7<---------<--\n",
      "@K00337:24:HCJGYBBXX:1:1101:2067:1173 2:N:0:1\n",
      "GGCATATTTTTTTGTTGTTGTTTTAGCAGCGAATTGCACCGTGTGCGTGTGTGTGTGTGTGTGTGTGTGCGTGTGTGTGTGTGTGTGTGTGTGTGTGTGTGTGGGTGTGTGTGAGTGGTTGTGCGCGTGTGTGATGTGGGGGAGGGGAGGG\n",
      "+\n",
      "AAAFAJFJJ<FA-<FJA---<AFJF<JF-7-AA-A7AAJJF<-77<7--7FAJF<---7-<<7777AFF-<<J<<F--7AFFF<--7A-7A-----<7---7-)7)77A<<<F--7<)--7-7-))))))7-7------))-)))))))))\n",
      "@K00337:24:HCJGYBBXX:1:1101:2189:1173 2:N:0:1\n",
      "TAATTTTTCTACTCATCAGAAAGATCCGAAAGTGTTAACTTTTTCGTCATGGAAGCGATAAAACTTTGCAGGTTGGATACGTCAAGCATTTTTATCGAAGCGCTCATAAATTTCAGTAGATTTGTCGATACACGTTCTACCGCCAAAACTT\n",
      "+\n",
      "<A-<-FFJ<-<--<-F-A--7F<<-<-7<---7<--7-<FF-A7---7-7F--7-7---7--A---777A--7-<-77-A-7----7--7----------7-<)-)-<-7<A-77--7-<-7---77-------------7)))-)--7--\n",
      "@K00337:24:HCJGYBBXX:1:1101:2229:1173 2:N:0:1\n",
      "CAGTGTATCTGTCCGGTCCTAATCTCGGTTTTGGAGACATTAGCTACGTCACAAAACTCCAGTCAGAGCTTGTATAGTGAGTCACGTAAAAAGTCACTAATAGTATACTCTTTACGGAGCACACACAAATAGAGTTCCATATACATAGATA\n",
      "+\n",
      "-<A<AFFF-<------7-7----<--7-----7--<F-<FFA--77-77F-7-7--7---7-----<777-<--A--7-7-7---77----77-----------7---------7-<-)-7)-7F7-7<A-------7-7----F--7---\n"
     ]
    }
   ],
   "source": [
    "%%bash \n",
    "gunzip -c 643_S1_L001_R2_001.fastq.gz | head -n 20"
   ]
  },
  {
   "cell_type": "markdown",
   "metadata": {},
   "source": [
    "**Format of the Fastq Files:**\n",
    "\n",
    "*Line 1* = header (\"@\")\n",
    "\n",
    "*Line 2* = sequences\n",
    "\n",
    "*Line 3* = notes (+) - there are not additional notes / repeated header lines in these fastq files\n",
    "\n",
    "*Line 4* = quality scores (#). HiSeq4000 uses phred 33 scoring\n",
    "\n",
    "The way the data is structured, all of the forward sequences and all of the reverse sequences are put into a file each. I'll have to run a program in the stacks pipeline process_radtags to demultiplex all of the data into individuals"
   ]
  },
  {
   "cell_type": "markdown",
   "metadata": {},
   "source": [
    "### How many sequences per file?\n",
    "\n",
    "Since each sequence has a header that starts with \"@\", I can count the number of sequences in the file by extracting only the lines that being with \"@\", and then piping the output to the line count command. \n",
    "\n",
    "**!!** As noted in the textbook (p. 342-343), quality scores (Line 4) can sometimes be coded using \"@\" in fastq files. This means that the sequence counts from the following commands may be an overestimate. A more robust way to count sequences is using `bioawk`. However, I will start with `zgrep` for now. An easier way would also be to wait until the data has been through process_radtags, which puts out a Fasta file for each individual in the data set. I could then get individual-specific sequence counts. "
   ]
  },
  {
   "cell_type": "code",
   "execution_count": 13,
   "metadata": {
    "collapsed": true
   },
   "outputs": [],
   "source": [
    "%%bash\n",
    "zgrep -c \"^@\" *.fastq.gz | wc -l >> seq_counts.txt"
   ]
  },
  {
   "cell_type": "markdown",
   "metadata": {},
   "source": [
    "*This ended up taking a very long time to run...and still had no output after 30 min.*\n",
    "\n",
    "So I downloaded [gawk](https://sourceforge.net/projects/gnuwin32/files/gawk/3.1.6-1/) (gawk-3.1.6-1-setup.exe) and used the following pipeline from [StephenTurnerGithub](https://github.com/stephenturner/oneliners/blob/40943e6cd4695f3c4d8a1b8d5e940b957e060c26/README.md#awk--sed-for-bioinformatics).\n",
    "But I entered `zcat` instead of `cat` so that I don't have to unzip my data files. \n",
    "\n",
    "According to his **awk & sed for bioinformatics** section on Github, This prints out basic sequence statistics including total number of reads, total number of unique reads, percentage of unique reads, most abundant sequence, its frequency, and percentage of total in file.fq"
   ]
  },
  {
   "cell_type": "code",
   "execution_count": 16,
   "metadata": {
    "collapsed": false
   },
   "outputs": [
    {
     "name": "stdout",
     "output_type": "stream",
     "text": [
      "/usr/bin/awk\n"
     ]
    }
   ],
   "source": [
    "%%bash\n",
    "which awk"
   ]
  },
  {
   "cell_type": "code",
   "execution_count": 17,
   "metadata": {
    "collapsed": false
   },
   "outputs": [
    {
     "name": "stdout",
     "output_type": "stream",
     "text": [
      "/usr/bin/zcat\n"
     ]
    }
   ],
   "source": [
    "%%bash\n",
    "which zcat"
   ]
  },
  {
   "cell_type": "code",
   "execution_count": 19,
   "metadata": {
    "collapsed": false
   },
   "outputs": [
    {
     "name": "stdout",
     "output_type": "stream",
     "text": [
      "266452801 53968105 20.2543 CCCCCCCCCCCCCCCCCCCCCCCCCCCCCCCCCCCCCCCCCCCCCCCCCCCCCCCCCCCCCCCCCCCCCCCCCCCCCCCCCCCCCCCCCCCCCCCCCCCCCCCCCCCCCCCCCCCCCCCCCCCCCCCCCCCCCCCCCCCCCCCCCCCCCCC 82415 0.0309304\n"
     ]
    }
   ],
   "source": [
    "%%bash\n",
    "zcat 643_S1_L001_R1_001.fastq.gz | awk '((NR-2)%4==0){read=$1;total++;count[read]++}END{for(read in count){if(!max||count[read]>max) {max=count[read];maxRead=read};if(count[read]==1){unique++}};print total,unique,unique*100/total,maxRead,count[maxRead],count[maxRead]*100/total}'"
   ]
  },
  {
   "cell_type": "markdown",
   "metadata": {},
   "source": [
    "*Total number of reads:* 266,452,801\n",
    "\n",
    "*Total number of unique reads:* 53,968,105"
   ]
  },
  {
   "cell_type": "code",
   "execution_count": 8,
   "metadata": {
    "collapsed": false
   },
   "outputs": [
    {
     "name": "stderr",
     "output_type": "stream",
     "text": [
      "\n",
      "gzip: stdout: File too large\n",
      "awk: cmd. line:1: (FILENAME=- FNR=1021079364) fatal: str_array.c:387:str_list: list: can't allocate 1091045232 bytes of memory (Cannot allocate memory)\n"
     ]
    }
   ],
   "source": [
    "%%bash\n",
    "zcat 643_S1_L001_R2_001.fastq.gz | awk '((NR-2)%4==0){read=$1;total++;count[read]++}END{for(read in count){if(!max||count[read]>max) {max=count[read];maxRead=read};if(count[read]==1){unique++}};print total,unique,unique*100/total,maxRead,count[maxRead],count[maxRead]*100/total}'"
   ]
  },
  {
   "cell_type": "markdown",
   "metadata": {},
   "source": [
    "### What is the sequence quality like? \n",
    "\n",
    "I used the FastQC program from the command line to get an idea of what my sequences look like. This isn't incredibly informative because the forward / reverse raw data files are a combination of all reads across all individuals, but it is good to know what, on average, the per base sequence quality looks like. \n",
    "\n",
    "FastQC also visualizes: per sequence quality scores, per base sequence content, per base GC content, sequence length distribution, among others. "
   ]
  },
  {
   "cell_type": "markdown",
   "metadata": {},
   "source": [
    "[Forward Sequences](file:///D:/Pacific%20cod/DataAnalysis/raw_data/L1_PE150/FastQC/643_S1_L001_R1_001_fastqc.html)\n",
    "\n",
    "[Reverse Sequences](file:///D:/Pacific%20cod/DataAnalysis/raw_data/L1_PE150/FastQC/643_S1_L001_R2_001_fastqc.html)\n",
    "\n",
    "**Trends in per-base sequence quality**\n",
    "\n",
    "1. Forward Sequence, decrease in quality from 7-15bp: This is the restriction site. Low quality likely a result of low diversity of nucleotide bases in this region\n",
    "2. Forward Sequence, decrease in quality toward end of sequence: quality tends to decrease further along the sequence (mentioned in book). \n",
    "3. Reverse Sequence, overall low quality: In my lab's paired-end RADseq data, it tends to be a trend that the reverse reads are lower quality overall than the forward reads. Not sure about the source of this, but I may have to do another lane of paired-end sequencing to get better reverse reads; I want higher quality since I'll need to align them to the Atlantic cod genome"
   ]
  },
  {
   "cell_type": "code",
   "execution_count": null,
   "metadata": {
    "collapsed": true
   },
   "outputs": [],
   "source": []
  }
 ],
 "metadata": {
  "anaconda-cloud": {},
  "kernelspec": {
   "display_name": "Python [default]",
   "language": "python",
   "name": "python2"
  },
  "language_info": {
   "codemirror_mode": {
    "name": "ipython",
    "version": 2
   },
   "file_extension": ".py",
   "mimetype": "text/x-python",
   "name": "python",
   "nbconvert_exporter": "python",
   "pygments_lexer": "ipython2",
   "version": "2.7.12"
  }
 },
 "nbformat": 4,
 "nbformat_minor": 1
}
